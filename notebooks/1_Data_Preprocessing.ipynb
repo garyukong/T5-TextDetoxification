{
 "cells": [
  {
   "cell_type": "code",
   "execution_count": 9,
   "metadata": {},
   "outputs": [],
   "source": [
    "from transformers import RobertaTokenizer, RobertaForSequenceClassification, pipeline\n",
    "from datasets import DatasetDict, Dataset\n",
    "import pandas as pd\n",
    "import torch\n",
    "import tensorflow as tf\n",
    "import numpy as np\n",
    "import re\n",
    "import tqdm\n",
    "import sys\n",
    "import matplotlib.pyplot as plt\n",
    "import seaborn as sns\n",
    "from sklearn.model_selection import train_test_split"
   ]
  },
  {
   "cell_type": "code",
   "execution_count": 10,
   "metadata": {},
   "outputs": [
    {
     "name": "stdout",
     "output_type": "stream",
     "text": [
      "False\n",
      "False\n"
     ]
    }
   ],
   "source": [
    "# Check that pytorch has access to GPU\n",
    "print(torch.backends.mps.is_available())\n",
    "print(torch.backends.mps.is_built())"
   ]
  },
  {
   "cell_type": "code",
   "execution_count": 11,
   "metadata": {},
   "outputs": [],
   "source": [
    "# Set global parameters\n",
    "RANDOM_SEED = 42\n",
    "TRAIN_IN_PATH = \"../data/raw/train.tsv\"\n",
    "TEST_X_IN_PATH = \"../data/raw/test_toxic_parallel.txt\"\n",
    "TEST_Y_IN_PATH = \"../data/raw/test_toxic_parallel_refs.txt\""
   ]
  },
  {
   "cell_type": "code",
   "execution_count": 12,
   "metadata": {},
   "outputs": [],
   "source": [
    "# Parameters for toxicity classification\n",
    "BATCH_SIZE = 32\n",
    "\n",
    "# Setting the DEVICE to CUDA if available\n",
    "DEVICE = torch.device('cuda' if torch.cuda.is_available() else 'cpu')"
   ]
  },
  {
   "cell_type": "markdown",
   "metadata": {},
   "source": [
    "# 1. Data preprocessing"
   ]
  },
  {
   "cell_type": "markdown",
   "metadata": {},
   "source": [
    "# Functions"
   ]
  },
  {
   "cell_type": "code",
   "execution_count": 19,
   "metadata": {},
   "outputs": [
    {
     "name": "stderr",
     "output_type": "stream",
     "text": [
      "Some weights of the model checkpoint at SkolkovoInstitute/roberta_toxicity_classifier were not used when initializing RobertaForSequenceClassification: ['roberta.pooler.dense.bias', 'roberta.pooler.dense.weight']\n",
      "- This IS expected if you are initializing RobertaForSequenceClassification from the checkpoint of a model trained on another task or with another architecture (e.g. initializing a BertForSequenceClassification model from a BertForPreTraining model).\n",
      "- This IS NOT expected if you are initializing RobertaForSequenceClassification from the checkpoint of a model that you expect to be exactly identical (initializing a BertForSequenceClassification model from a BertForSequenceClassification model).\n"
     ]
    }
   ],
   "source": [
    "# Load tokenizer and model for toxicity classification\n",
    "tokenizer_toxicity = RobertaTokenizer.from_pretrained(\"SkolkovoInstitute/roberta_toxicity_classifier\")\n",
    "model_toxicity = RobertaForSequenceClassification.from_pretrained(\n",
    "    \"SkolkovoInstitute/roberta_toxicity_classifier\"\n",
    ")\n",
    "\n",
    "def classify_toxicity_binary(\n",
    "    data,\n",
    "    tokenizer=tokenizer_toxicity,\n",
    "    model=model_toxicity,\n",
    "    batch_size=BATCH_SIZE,\n",
    "    include_tqdm=False,\n",
    "    output_type=\"numpy\",\n",
    "    flatten_output=True,\n",
    "):\n",
    "    \"\"\"\n",
    "    Classifies text as toxic or neutral.\n",
    "\n",
    "    Args:\n",
    "        data (list): The list of text to classify.\n",
    "        tokenizer (transformers.PreTrainedTokenizer): The tokenizer to use.\n",
    "        model (transformers.PreTrainedModel): The model to use.\n",
    "        batch_size (int): The batch size to use.\n",
    "        include_tqdm (bool): Whether to include tqdm progress bar output.\n",
    "        output_type (str): The type of output to return. 'numpy', 'list', 'int'\n",
    "\n",
    "    Returns:\n",
    "        results of the classification (nparray, list or int) where 0 is neutral and 1 is toxic.\n",
    "    \"\"\"\n",
    "    if isinstance(data, (np.ndarray, str)):\n",
    "        data = data.tolist() if isinstance(data, np.ndarray) else [data]\n",
    "\n",
    "    model = model.to(DEVICE)\n",
    "\n",
    "    results = np.empty(len(data), dtype=int) if output_type == \"numpy\" else []\n",
    "\n",
    "    for i in tqdm.tqdm(range(0, len(data), batch_size), disable=not include_tqdm):\n",
    "        batch = tokenizer(data[i : i + batch_size], return_tensors=\"pt\", padding=True).to(DEVICE)\n",
    "        with torch.no_grad():\n",
    "            result = model(**batch)[\"logits\"].argmax(1).data\n",
    "            result = result.cpu()\n",
    "        if output_type == \"numpy\":\n",
    "            results[i : i + batch_size] = result\n",
    "        else:\n",
    "            results.extend(result.tolist())\n",
    "\n",
    "    if flatten_output and len(results) == 1:\n",
    "        return results[0]\n",
    "\n",
    "    return results\n",
    "\n",
    "\n",
    "def calc_toxicity_cols(df, toxic_col=\"en_toxic_comment\", neutral_col=\"en_neutral_comment\"):\n",
    "    \"\"\"\n",
    "    Classifies comments as toxic or neutral\n",
    "\n",
    "    Args:\n",
    "        df (pandas.DataFrame): The dataframe with two columns of comments to classify.\n",
    "\n",
    "    Returns:\n",
    "        pandas.DataFrame: The dataframe with two new columns of toxicity classifications.\n",
    "    \"\"\"\n",
    "\n",
    "    df_toxiclabels = df.copy()\n",
    "\n",
    "    df_toxiclabels[\"en_toxic_label\"] = df_toxiclabels[toxic_col].apply(\n",
    "        lambda x: classify_toxicity_binary(x, flatten_output=True)\n",
    "    )\n",
    "    df_toxiclabels[\"en_neutral_label\"] = df_toxiclabels[neutral_col].apply(\n",
    "        lambda x: classify_toxicity_binary(x, flatten_output=True)\n",
    "    )\n",
    "\n",
    "    return df_toxiclabels\n",
    "\n",
    "\n",
    "def calc_toxicity_metrics(df):\n",
    "    \"\"\"Calculates the number of comments classified as toxic or neutral\"\"\"\n",
    "    length = len(df)\n",
    "    toxic_correct = df[\"en_toxic_label\"].sum()\n",
    "    toxic_incorrect = length - toxic_correct\n",
    "    neutral_incorrect = df[\"en_neutral_label\"].sum()\n",
    "    neutral_correct = length - neutral_incorrect\n",
    "\n",
    "    print(f\"Total number of comments: {length}\")\n",
    "    print(f\"Toxic comments classified as toxic: {toxic_correct}\")\n",
    "    print(f\"Toxic comments classified as neutral: {toxic_incorrect}\")\n",
    "    print(f\"Neutral comments classified as neutral: {neutral_correct}\")\n",
    "    print(f\"Neutral comments classified as toxic: {neutral_incorrect}\")\n",
    "\n",
    "    # return length, toxic_correct, toxic_incorrect, neutral_correct, neutral_incorrect\n",
    "\n",
    "\n",
    "def get_unique_rows(df):\n",
    "    \"\"\"\n",
    "    Returns a DataFrame with unique rows based on en_toxic_comment\n",
    "\n",
    "    Args:\n",
    "        df (pandas.DataFrame): The DataFrame to filter.\n",
    "                               Should contain a column named en_toxic_comment, and a column named en_neutral_label.\n",
    "\n",
    "    Returns:\n",
    "        pandas.DataFrame: The filtered DataFrame.\n",
    "    \"\"\"\n",
    "    # Only keep the first row for each unique en_toxic_comment, selecting the row with the lowest en_neutral_label (ideally 0)\n",
    "    df_unique = df.sort_values(by=\"en_neutral_label\").drop_duplicates(subset=\"en_toxic_comment\", keep=\"first\")\n",
    "\n",
    "    # Reset index of the df_unique DataFrame\n",
    "    df_unique.reset_index(drop=True, inplace=True)\n",
    "\n",
    "    return df_unique\n",
    "\n",
    "\n",
    "def clean_text(text):\n",
    "    \"\"\"\n",
    "    Clean the text\n",
    "\n",
    "    Args:\n",
    "        text (str): The text to clean.\n",
    "\n",
    "    Returns:\n",
    "        str: The cleaned text.\n",
    "    \"\"\"\n",
    "    # Convert first character to uppercase\n",
    "    text = text[0].upper() + text[1:]\n",
    "\n",
    "    # # Remove newline characters\n",
    "    text = re.sub(r\"\\n\", \" \", text)\n",
    "\n",
    "    # Remove white space after $\n",
    "    text = re.sub(r\"([$])\\s+\", r\"\\1\", text)\n",
    "\n",
    "    # Remove white space trailing punctuation end of sentence\n",
    "    text = re.sub(r\"\\s+([.,!?%])\", r\"\\1\", text)\n",
    "\n",
    "    # Remove white space before contractions (e.g., \"I 'm John\" becomes \"I'm John\")\n",
    "    text = re.sub(r\"\\s\\'(s|t|ve|ll|d|re|m)\\b\", r\"'\\1\", text)\n",
    "\n",
    "    # Remove white space around text within double quotes\n",
    "    text = re.sub(r'\"(\\s*.*?\\s*)\"', r'\"\\1\"', text)\n",
    "\n",
    "    # Remove white space around text within single quotes\n",
    "    text = re.sub(r\"'(\\s*.*?\\s*)'\", r\"'\\1'\", text)\n",
    "\n",
    "    # Remove white space around text within parentheses\n",
    "    text = re.sub(r\"\\((\\s*.*?\\s*)\\)\", r\"(\\1)\", text)\n",
    "\n",
    "    # Remove white space around text within square brackets\n",
    "    text = re.sub(r\"\\[(\\s*.*?\\s*)\\]\", r\"[\\1]\", text)\n",
    "\n",
    "    # Remove white space around text within curly brackets\n",
    "    text = re.sub(r\"\\{(\\s*.*?\\s*)\\}\", r\"{\\1}\", text)\n",
    "\n",
    "    # Remove extra whitespace\n",
    "    text = re.sub(r\"\\s+\", \" \", text).strip()\n",
    "\n",
    "    return text\n",
    "\n",
    "\n",
    "def clean_dataset(df):\n",
    "    \"\"\"\n",
    "    Clean the dataset by converting the text to lowercase, removing extra whitespace,\n",
    "    and removing non-alphanumeric characters except for some punctuation.\n",
    "\n",
    "    Args:\n",
    "        df (pandas.DataFrame): The DataFrame to clean. Should contain a column named en_toxic_comment.\n",
    "\n",
    "    Returns:\n",
    "        pandas.DataFrame: The cleaned DataFrame.\n",
    "    \"\"\"\n",
    "    # Create a copy of the dataframe to avoid modifying the original dataframe\n",
    "    df_clean = df.copy()\n",
    "\n",
    "    # Clean the text in the en_toxic_comment column\n",
    "    df_clean[\"en_toxic_comment\"] = df_clean[\"en_toxic_comment\"].apply(lambda x: clean_text(x))\n",
    "\n",
    "    # Clean the text in the en_neutral_comment column\n",
    "    df_clean[\"en_neutral_comment\"] = df_clean[\"en_neutral_comment\"].apply(lambda x: clean_text(x))\n",
    "\n",
    "    return df_clean\n",
    "\n",
    "\n",
    "def prepare_and_save_data(df, x_col_name, y_col_name, random_seed, x_output_path, y_output_path):\n",
    "    \"\"\"\n",
    "    Shuffle and split the dataframe into X and y based on the given column names,\n",
    "    and then save them to CSV files.\n",
    "\n",
    "    Parameters:\n",
    "    - df: The dataframe to be processed\n",
    "    - x_col_name: The name of the column containing the features\n",
    "    - y_col_name: The name of the column containing the labels\n",
    "    - random_seed: The random seed for shuffling\n",
    "    - x_output_path: The path to save the features CSV\n",
    "    - y_output_path: The path to save the labels CSV\n",
    "    \"\"\"\n",
    "\n",
    "    # Print the number of rows in the dataframe\n",
    "    print(f\"Number of rows in the dataframe: {len(df)}\")\n",
    "\n",
    "    # Shuffle the data\n",
    "    df_shuffled = df.sample(frac=1, random_state=random_seed)\n",
    "\n",
    "    # Split the data into X and y\n",
    "    X = df_shuffled[x_col_name].tolist()\n",
    "    y = df_shuffled[y_col_name].tolist()\n",
    "\n",
    "    # Save as CSV files\n",
    "    pd.DataFrame(X).to_csv(x_output_path, index=False, header=False)\n",
    "    pd.DataFrame(y).to_csv(y_output_path, index=False, header=False)\n",
    "\n",
    "def create_raw_dataset(df_train_clean, df_val_clean, df_test_clean, source_col='en_toxic_comment', target_col='en_neutral_comment'):\n",
    "    \"\"\"\n",
    "    Creates a DatasetDict from the given DataFrames\n",
    "\n",
    "    Args:\n",
    "        df_train_clean (pandas.DataFrame): The training DataFrame.\n",
    "        df_val_clean (pandas.DataFrame): The validation DataFrame.\n",
    "        df_test_clean (pandas.DataFrame): The test DataFrame.\n",
    "        source_col (str): The name of the column containing the source text.\n",
    "        target_col (str): The name of the column containing the target text.\n",
    "\n",
    "    Returns:\n",
    "        datasets.DatasetDict: The DatasetDict containing the train, validation and test Datasets.\n",
    "    \"\"\"\n",
    "\n",
    "    # Shuffle all the DataFrames\n",
    "    df_train_clean = df_train_clean.sample(frac=1, random_state=RANDOM_SEED)\n",
    "    df_val_clean = df_val_clean.sample(frac=1, random_state=RANDOM_SEED)\n",
    "    df_test_clean = df_test_clean.sample(frac=1, random_state=RANDOM_SEED)\n",
    "    \n",
    "    # Create dictionaries from your data\n",
    "    train_dict = {'source': df_train_clean[source_col], 'target': df_train_clean[target_col]}\n",
    "    val_dict = {'source': df_val_clean[source_col], 'target': df_val_clean[target_col]}\n",
    "    test_dict = {'source': df_test_clean[source_col], 'target': df_test_clean[target_col]}\n",
    "\n",
    "    # Convert dictionaries to Dataset objects\n",
    "    train_dataset = Dataset.from_dict(train_dict)\n",
    "    val_dataset = Dataset.from_dict(val_dict)\n",
    "    test_dataset = Dataset.from_dict(test_dict)\n",
    "\n",
    "    # Now create a DatasetDict\n",
    "    raw_dataset = DatasetDict({\n",
    "        'train': train_dataset,\n",
    "        'validation': val_dataset,\n",
    "        'test': test_dataset    })\n",
    "    \n",
    "    return raw_dataset"
   ]
  },
  {
   "cell_type": "markdown",
   "metadata": {},
   "source": [
    "# Experiments to test which toxicity classifier to use"
   ]
  },
  {
   "cell_type": "code",
   "execution_count": 5,
   "metadata": {},
   "outputs": [],
   "source": [
    "# Load training data\n",
    "df_train = pd.read_csv(\"../data/raw/train.tsv\", sep=\"\\t\")\n",
    "\n",
    "# Randomly sample 500 rows from the training data\n",
    "df_train_sample = df_train.sample(n=500, random_state=RANDOM_SEED)\n",
    "\n",
    "# Construct two lists, one for each column\n",
    "toxic_comments = df_train_sample[\"en_toxic_comment\"].tolist()\n",
    "neutral_comments = df_train_sample[\"en_neutral_comment\"].tolist()"
   ]
  },
  {
   "cell_type": "markdown",
   "metadata": {},
   "source": [
    "### Experiment A: Roberta toxicity classifier"
   ]
  },
  {
   "cell_type": "code",
   "execution_count": 6,
   "metadata": {},
   "outputs": [
    {
     "name": "stderr",
     "output_type": "stream",
     "text": [
      "Some weights of the model checkpoint at s-nlp/roberta_toxicity_classifier were not used when initializing RobertaForSequenceClassification: ['roberta.pooler.dense.weight', 'roberta.pooler.dense.bias']\n",
      "- This IS expected if you are initializing RobertaForSequenceClassification from the checkpoint of a model trained on another task or with another architecture (e.g. initializing a BertForSequenceClassification model from a BertForPreTraining model).\n",
      "- This IS NOT expected if you are initializing RobertaForSequenceClassification from the checkpoint of a model that you expect to be exactly identical (initializing a BertForSequenceClassification model from a BertForSequenceClassification model).\n"
     ]
    },
    {
     "name": "stdout",
     "output_type": "stream",
     "text": [
      "Total number of comments: 500\n",
      "Toxic comments classified as toxic: 500\n",
      "Toxic comments classified as neutral: 0\n",
      "Neutral comments classified as neutral: 475\n",
      "Neutral comments classified as toxic: 25\n"
     ]
    }
   ],
   "source": [
    "# Classify the comments as toxic or neutral using roberta_toxicity_classifier\n",
    "pipe_roberta = pipeline(\"text-classification\", model=\"s-nlp/roberta_toxicity_classifier\")\n",
    "toxic_labels_roberta = pipe_roberta(toxic_comments)\n",
    "neutral_labels_roberta = pipe_roberta(neutral_comments)\n",
    "\n",
    "# Calculate number of comments classified as toxic or neutral\n",
    "length = len(df_train_sample)\n",
    "toxic_correct = sum([1 for label in toxic_labels_roberta if label[\"label\"] == \"toxic\"])\n",
    "toxic_incorrect = length - toxic_correct\n",
    "neutral_incorrect = sum([1 for label in neutral_labels_roberta if label[\"label\"] == \"toxic\"])\n",
    "neutral_correct = length - neutral_incorrect\n",
    "\n",
    "# Print results\n",
    "print(f\"Total number of comments: {length}\")\n",
    "print(f\"Toxic comments classified as toxic: {toxic_correct}\")\n",
    "print(f\"Toxic comments classified as neutral: {toxic_incorrect}\")\n",
    "print(f\"Neutral comments classified as neutral: {neutral_correct}\")\n",
    "print(f\"Neutral comments classified as toxic: {neutral_incorrect}\")"
   ]
  },
  {
   "cell_type": "markdown",
   "metadata": {},
   "source": [
    "### Experiment B: Unitary toxicity classifier"
   ]
  },
  {
   "cell_type": "code",
   "execution_count": 7,
   "metadata": {},
   "outputs": [
    {
     "name": "stdout",
     "output_type": "stream",
     "text": [
      "Total number of comments: 500\n",
      "Toxic comments classified as toxic: 475\n",
      "Toxic comments classified as neutral: 25\n",
      "Neutral comments classified as neutral: 474\n",
      "Neutral comments classified as toxic: 26\n"
     ]
    }
   ],
   "source": [
    "# Classify the comments as toxic or neutral using toxicbert\n",
    "pipe_toxicbert = pipeline(\"text-classification\", model=\"unitary/toxic-bert\")\n",
    "toxic_labels_toxicbert = pipe_toxicbert(toxic_comments)\n",
    "neutral_labels_toxicbert = pipe_toxicbert(neutral_comments)\n",
    "\n",
    "# Calculate number of comments classified as toxic or neutral\n",
    "length = len(df_train_sample)\n",
    "toxic_correct_toxicbert = sum([1 for label in toxic_labels_toxicbert if label[\"score\"] > 0.5])\n",
    "toxic_incorrect_toxicbert = length - toxic_correct_toxicbert\n",
    "neutral_incorrect_toxicbert = sum([1 for label in neutral_labels_toxicbert if label[\"score\"] > 0.5])\n",
    "neutral_correct_toxicbert = length - neutral_incorrect_toxicbert\n",
    "\n",
    "# Print results\n",
    "print(f\"Total number of comments: {length}\")\n",
    "print(f\"Toxic comments classified as toxic: {toxic_correct_toxicbert}\")\n",
    "print(f\"Toxic comments classified as neutral: {toxic_incorrect_toxicbert}\")\n",
    "print(f\"Neutral comments classified as neutral: {neutral_correct_toxicbert}\")\n",
    "print(f\"Neutral comments classified as toxic: {neutral_incorrect_toxicbert}\")"
   ]
  },
  {
   "cell_type": "markdown",
   "metadata": {},
   "source": [
    "The code below shows that 0.5 is the best treshold to separate toxic and neutral"
   ]
  },
  {
   "cell_type": "code",
   "execution_count": 8,
   "metadata": {},
   "outputs": [
    {
     "name": "stderr",
     "output_type": "stream",
     "text": [
      "/var/folders/v5/yt7ng4cx6bg_z_j227f15vsw0000gn/T/ipykernel_86385/2812041744.py:16: FutureWarning: \n",
      "\n",
      "`shade` is now deprecated in favor of `fill`; setting `fill=True`.\n",
      "This will become an error in seaborn v0.14.0; please update your code.\n",
      "\n",
      "  sns.kdeplot(toxic_scores, shade=True)\n",
      "/var/folders/v5/yt7ng4cx6bg_z_j227f15vsw0000gn/T/ipykernel_86385/2812041744.py:17: FutureWarning: \n",
      "\n",
      "`shade` is now deprecated in favor of `fill`; setting `fill=True`.\n",
      "This will become an error in seaborn v0.14.0; please update your code.\n",
      "\n",
      "  sns.kdeplot(neutral_scores, shade=True)\n"
     ]
    },
    {
     "data": {
      "image/png": "[encoded data removed]",
      "text/plain": [
       "<Figure size 640x480 with 1 Axes>"
      ]
     },
     "metadata": {},
     "output_type": "display_data"
    }
   ],
   "source": [
    "def plot_toxicbert_scores(toxic_labels_toxicbert, neutral_labels_toxicbert):\n",
    "    \"\"\"\n",
    "    Plots density plots of toxic_scores and neutral_scores from toxicbert outputs\n",
    "    \"\"\"\n",
    "    # Create a list containing all the 'score' values for toxic comments\n",
    "    toxic_scores = []\n",
    "    for label in toxic_labels_toxicbert:\n",
    "        toxic_scores.append(label[\"score\"])\n",
    "\n",
    "    # Create a list containing all the 'score' values for neutral comments\n",
    "    neutral_scores = []\n",
    "    for label in neutral_labels_toxicbert:\n",
    "        neutral_scores.append(label[\"score\"])\n",
    "\n",
    "    # Plot density plots of toxic_scores and neutral_scores\n",
    "    sns.kdeplot(toxic_scores, shade=True)\n",
    "    sns.kdeplot(neutral_scores, shade=True)\n",
    "    plt.legend([\"Toxic\", \"Neutral\"])\n",
    "    plt.xlabel(\"Toxicity Score\")\n",
    "    plt.ylabel(\"Density\")\n",
    "\n",
    "\n",
    "plot_toxicbert_scores(toxic_labels_toxicbert, neutral_labels_toxicbert)"
   ]
  },
  {
   "cell_type": "markdown",
   "metadata": {},
   "source": [
    "The above shows that the RobertA toxicity classifier performs better than the unitary toxicity classifier"
   ]
  },
  {
   "cell_type": "markdown",
   "metadata": {},
   "source": [
    "# Training Data"
   ]
  },
  {
   "cell_type": "markdown",
   "metadata": {},
   "source": [
    "### Data Acquisition"
   ]
  },
  {
   "cell_type": "markdown",
   "metadata": {},
   "source": [
    "Note that the original training data is found is the huggingface data: https://huggingface.co/datasets/s-nlp/paradetox"
   ]
  },
  {
   "cell_type": "code",
   "execution_count": 7,
   "metadata": {},
   "outputs": [
    {
     "data": {
      "text/html": [
       "<div>\n",
       "<style scoped>\n",
       "    .dataframe tbody tr th:only-of-type {\n",
       "        vertical-align: middle;\n",
       "    }\n",
       "\n",
       "    .dataframe tbody tr th {\n",
       "        vertical-align: top;\n",
       "    }\n",
       "\n",
       "    .dataframe thead th {\n",
       "        text-align: right;\n",
       "    }\n",
       "</style>\n",
       "<table border=\"1\" class=\"dataframe\">\n",
       "  <thead>\n",
       "    <tr style=\"text-align: right;\">\n",
       "      <th></th>\n",
       "      <th>en_toxic_comment</th>\n",
       "      <th>en_neutral_comment</th>\n",
       "    </tr>\n",
       "  </thead>\n",
       "  <tbody>\n",
       "    <tr>\n",
       "      <th>0</th>\n",
       "      <td>he had steel balls too !</td>\n",
       "      <td>he was brave too!</td>\n",
       "    </tr>\n",
       "    <tr>\n",
       "      <th>1</th>\n",
       "      <td>dude should have been taken to api , he would ...</td>\n",
       "      <td>It would have been good if he went to api. He ...</td>\n",
       "    </tr>\n",
       "    <tr>\n",
       "      <th>2</th>\n",
       "      <td>im not gonna sell the fucking picture , i just...</td>\n",
       "      <td>I'm not gonna sell the picture, i just want to...</td>\n",
       "    </tr>\n",
       "    <tr>\n",
       "      <th>3</th>\n",
       "      <td>the garbage that is being created by cnn and o...</td>\n",
       "      <td>the news that is being created by cnn and othe...</td>\n",
       "    </tr>\n",
       "    <tr>\n",
       "      <th>4</th>\n",
       "      <td>the reason they dont exist is because neither ...</td>\n",
       "      <td>The reason they don't exist is because neither...</td>\n",
       "    </tr>\n",
       "    <tr>\n",
       "      <th>...</th>\n",
       "      <td>...</td>\n",
       "      <td>...</td>\n",
       "    </tr>\n",
       "    <tr>\n",
       "      <th>19739</th>\n",
       "      <td>when they do shit like this .</td>\n",
       "      <td>when they do stuff like this</td>\n",
       "    </tr>\n",
       "    <tr>\n",
       "      <th>19740</th>\n",
       "      <td>but if saying \" fuck that group \" is much more...</td>\n",
       "      <td>but if saying\" that group is bad\" is much more...</td>\n",
       "    </tr>\n",
       "    <tr>\n",
       "      <th>19741</th>\n",
       "      <td>it hurts how judgemental assholes view them , ...</td>\n",
       "      <td>It hurts how judgemental that people view them...</td>\n",
       "    </tr>\n",
       "    <tr>\n",
       "      <th>19742</th>\n",
       "      <td>shit we probably literally blow that up in a w...</td>\n",
       "      <td>We probably litteralky blow that up in a week.</td>\n",
       "    </tr>\n",
       "    <tr>\n",
       "      <th>19743</th>\n",
       "      <td>if anyone deserved it , it was this shit bag .</td>\n",
       "      <td>if anyone deserved it , it was this bad bag .</td>\n",
       "    </tr>\n",
       "  </tbody>\n",
       "</table>\n",
       "<p>19744 rows × 2 columns</p>\n",
       "</div>"
      ],
      "text/plain": [
       "                                        en_toxic_comment  \\\n",
       "0                               he had steel balls too !   \n",
       "1      dude should have been taken to api , he would ...   \n",
       "2      im not gonna sell the fucking picture , i just...   \n",
       "3      the garbage that is being created by cnn and o...   \n",
       "4      the reason they dont exist is because neither ...   \n",
       "...                                                  ...   \n",
       "19739                      when they do shit like this .   \n",
       "19740  but if saying \" fuck that group \" is much more...   \n",
       "19741  it hurts how judgemental assholes view them , ...   \n",
       "19742  shit we probably literally blow that up in a w...   \n",
       "19743     if anyone deserved it , it was this shit bag .   \n",
       "\n",
       "                                      en_neutral_comment  \n",
       "0                                      he was brave too!  \n",
       "1      It would have been good if he went to api. He ...  \n",
       "2      I'm not gonna sell the picture, i just want to...  \n",
       "3      the news that is being created by cnn and othe...  \n",
       "4      The reason they don't exist is because neither...  \n",
       "...                                                  ...  \n",
       "19739                       when they do stuff like this  \n",
       "19740  but if saying\" that group is bad\" is much more...  \n",
       "19741  It hurts how judgemental that people view them...  \n",
       "19742     We probably litteralky blow that up in a week.  \n",
       "19743      if anyone deserved it , it was this bad bag .  \n",
       "\n",
       "[19744 rows x 2 columns]"
      ]
     },
     "execution_count": 7,
     "metadata": {},
     "output_type": "execute_result"
    }
   ],
   "source": [
    "df_train = pd.read_csv(TRAIN_IN_PATH, sep=\"\\t\")\n",
    "df_train"
   ]
  },
  {
   "cell_type": "markdown",
   "metadata": {},
   "source": [
    "### Check distribution of toxicity classification in columns"
   ]
  },
  {
   "cell_type": "code",
   "execution_count": 8,
   "metadata": {},
   "outputs": [],
   "source": [
    "# Add new columns to the dataframe based on toxicity classifier\n",
    "df_train_toxiclabels = calc_toxicity_cols(df_train)"
   ]
  },
  {
   "cell_type": "code",
   "execution_count": 9,
   "metadata": {},
   "outputs": [],
   "source": [
    "# Save the dataframe as a pickle file\n",
    "df_train_toxiclabels.to_pickle(\"../data/interim/df_train_1_toxiclabels.pkl\")"
   ]
  },
  {
   "cell_type": "code",
   "execution_count": 10,
   "metadata": {},
   "outputs": [
    {
     "name": "stdout",
     "output_type": "stream",
     "text": [
      "Total number of comments: 19744\n",
      "Toxic comments classified as toxic: 19741\n",
      "Toxic comments classified as neutral: 3\n",
      "Neutral comments classified as neutral: 18881\n",
      "Neutral comments classified as toxic: 863\n"
     ]
    }
   ],
   "source": [
    "# Calculate number of comments classified as toxic or neutral\n",
    "calc_toxicity_metrics(df_train_toxiclabels)"
   ]
  },
  {
   "cell_type": "code",
   "execution_count": 11,
   "metadata": {},
   "outputs": [
    {
     "name": "stdout",
     "output_type": "stream",
     "text": [
      "Toxic comments classified as neutral:\n",
      "but some shit happened last night kinda hurt but god will heal me < 57\n",
      "#ERROR!\n",
      "#ERROR!\n",
      "\n",
      "Neutral comments classified as toxic:\n",
      "If any of the cry babies who dont respect democracy come , it will be the bad drain.\n",
      "immoral people who should be driven out of office asap .\n",
      "Oh , one more thing, when it comes to prehistoric life, you guys are not so smart.\n",
      "This is a free country that protects amendments rights from communists like you.\n",
      "Your remark is ignorant.\n",
      "You don't have to hurt their families further by commenting on ignorant decisions.\n",
      "the free world doesnt need your ignorance .\n",
      "damn , he was back home and should have stayed there .\n",
      "talk about an ignorant comment\n",
      "Sadly, the gay community, and it's companions, refuses to accept the evidence.\n",
      "as useless as a human rights and social justice lawyer masquerading as our minister of environment and climate change .\n",
      "were tired of your lies\n",
      "a shining beacon of ignorance .\n",
      "Gay, Muslim,no anglophone,white males might be able to arrange something under the right circumstance.\n",
      "Killing an innocent person about to be born should be the last resort.\n",
      "Human beings are basically not smart enough.\n",
      "i think you are as bad as a box of hammers and not much useful.\n",
      "were tired of your lies\n",
      "Outsider, you should not make such an ignorant remark.\n",
      "these four lane county commissioners are dishonest\n"
     ]
    }
   ],
   "source": [
    "# Print rows where toxic_label is 0 (incorrectly classified)\n",
    "print(\"Toxic comments classified as neutral:\")\n",
    "for sentence in df_train_toxiclabels[df_train_toxiclabels[\"en_toxic_label\"] == 0][\"en_toxic_comment\"].head(\n",
    "    20\n",
    "):\n",
    "    print(sentence)\n",
    "\n",
    "# Print rows where en_neutral_label is 1 (incorrectly classified)\n",
    "print()\n",
    "print(\"Neutral comments classified as toxic:\")\n",
    "for sentence in df_train_toxiclabels[df_train_toxiclabels[\"en_neutral_label\"] == 1][\n",
    "    \"en_neutral_comment\"\n",
    "].head(20):\n",
    "    print(sentence)"
   ]
  },
  {
   "cell_type": "markdown",
   "metadata": {},
   "source": [
    "To avoid bias in evaluation, I opt not to remove false positives and false negatives based on the pre-trained roberta toxicity classifier. However we will remove rows with #ERROR! in the en_toxic_comment field"
   ]
  },
  {
   "cell_type": "code",
   "execution_count": 12,
   "metadata": {},
   "outputs": [
    {
     "data": {
      "text/html": [
       "<div>\n",
       "<style scoped>\n",
       "    .dataframe tbody tr th:only-of-type {\n",
       "        vertical-align: middle;\n",
       "    }\n",
       "\n",
       "    .dataframe tbody tr th {\n",
       "        vertical-align: top;\n",
       "    }\n",
       "\n",
       "    .dataframe thead th {\n",
       "        text-align: right;\n",
       "    }\n",
       "</style>\n",
       "<table border=\"1\" class=\"dataframe\">\n",
       "  <thead>\n",
       "    <tr style=\"text-align: right;\">\n",
       "      <th></th>\n",
       "      <th>en_toxic_comment</th>\n",
       "      <th>en_neutral_comment</th>\n",
       "      <th>en_toxic_label</th>\n",
       "      <th>en_neutral_label</th>\n",
       "    </tr>\n",
       "  </thead>\n",
       "  <tbody>\n",
       "    <tr>\n",
       "      <th>4228</th>\n",
       "      <td>but some shit happened last night kinda hurt b...</td>\n",
       "      <td>but some happened last night hurt but God will...</td>\n",
       "      <td>0</td>\n",
       "      <td>0</td>\n",
       "    </tr>\n",
       "    <tr>\n",
       "      <th>10046</th>\n",
       "      <td>#ERROR!</td>\n",
       "      <td>that black person knows he is going in to trouble</td>\n",
       "      <td>0</td>\n",
       "      <td>1</td>\n",
       "    </tr>\n",
       "    <tr>\n",
       "      <th>10383</th>\n",
       "      <td>#ERROR!</td>\n",
       "      <td>#ERROR!</td>\n",
       "      <td>0</td>\n",
       "      <td>0</td>\n",
       "    </tr>\n",
       "  </tbody>\n",
       "</table>\n",
       "</div>"
      ],
      "text/plain": [
       "                                        en_toxic_comment  \\\n",
       "4228   but some shit happened last night kinda hurt b...   \n",
       "10046                                            #ERROR!   \n",
       "10383                                            #ERROR!   \n",
       "\n",
       "                                      en_neutral_comment  en_toxic_label  \\\n",
       "4228   but some happened last night hurt but God will...               0   \n",
       "10046  that black person knows he is going in to trouble               0   \n",
       "10383                                            #ERROR!               0   \n",
       "\n",
       "       en_neutral_label  \n",
       "4228                  0  \n",
       "10046                 1  \n",
       "10383                 0  "
      ]
     },
     "execution_count": 12,
     "metadata": {},
     "output_type": "execute_result"
    }
   ],
   "source": [
    "df_train_toxiclabels[df_train_toxiclabels[\"en_toxic_label\"] == 0]"
   ]
  },
  {
   "cell_type": "code",
   "execution_count": 13,
   "metadata": {},
   "outputs": [
    {
     "name": "stdout",
     "output_type": "stream",
     "text": [
      "Number of rows before filtering for error in toxic comment: 19744\n",
      "Number of rows after filtering for error in toxic comment: 19742\n"
     ]
    }
   ],
   "source": [
    "# Filter out rows where en_toxic_comment is \"#ERROR!\"\n",
    "df_train_filtered = df_train_toxiclabels[df_train_toxiclabels[\"en_toxic_comment\"] != \"#ERROR!\"]\n",
    "print(f\"Number of rows before filtering for error in toxic comment: {len(df_train_toxiclabels)}\")\n",
    "print(f\"Number of rows after filtering for error in toxic comment: {len(df_train_filtered)}\")\n",
    "\n",
    "# Save the dataframe as a pickle file\n",
    "df_train_filtered.to_pickle(\"../data/interim/df_train_2_filtered.pkl\")"
   ]
  },
  {
   "cell_type": "markdown",
   "metadata": {},
   "source": [
    "### Remove duplicate rows"
   ]
  },
  {
   "cell_type": "markdown",
   "metadata": {},
   "source": [
    "In the ParaDetox paper, BART does not perform better on multiple detoxifications per sentence than if only one detoxification is used. So, we will limit to just one row per toxic comment"
   ]
  },
  {
   "cell_type": "code",
   "execution_count": 14,
   "metadata": {},
   "outputs": [],
   "source": [
    "df_train_filtered = pd.read_pickle(\"../data/interim/df_train_2_filtered.pkl\")"
   ]
  },
  {
   "cell_type": "code",
   "execution_count": 15,
   "metadata": {},
   "outputs": [
    {
     "name": "stdout",
     "output_type": "stream",
     "text": [
      "Number of rows before removing duplicates: 19742\n",
      "Number of rows after removing duplicates: 11926\n"
     ]
    }
   ],
   "source": [
    "print(f\"Number of rows before removing duplicates: {len(df_train_filtered)}\")\n",
    "df_train_unique = get_unique_rows(df_train_filtered)\n",
    "print(f\"Number of rows after removing duplicates: {len(df_train_unique)}\")"
   ]
  },
  {
   "cell_type": "code",
   "execution_count": 16,
   "metadata": {},
   "outputs": [
    {
     "name": "stdout",
     "output_type": "stream",
     "text": [
      "Total number of comments: 11926\n",
      "Toxic comments classified as toxic: 11925\n",
      "Toxic comments classified as neutral: 1\n",
      "Neutral comments classified as neutral: 11357\n",
      "Neutral comments classified as toxic: 569\n"
     ]
    }
   ],
   "source": [
    "calc_toxicity_metrics(df_train_unique)"
   ]
  },
  {
   "cell_type": "code",
   "execution_count": 17,
   "metadata": {},
   "outputs": [],
   "source": [
    "df_train_unique.to_pickle(\"../data/interim/df_train_3_unique.pkl\")"
   ]
  },
  {
   "cell_type": "markdown",
   "metadata": {},
   "source": [
    "### Clean text"
   ]
  },
  {
   "cell_type": "markdown",
   "metadata": {},
   "source": [
    "Transformer-based models are generally robust to text inconsistencies and aspects such as case sensitivity, punctuation, contractions, and newline contractions may convey important information. However to ensure consistency between training and test data we apply basic cleaning. This is also to ensure consistency between the source and target data:"
   ]
  },
  {
   "cell_type": "code",
   "execution_count": 18,
   "metadata": {},
   "outputs": [],
   "source": [
    "df_train_unique = pd.read_pickle(\"../data/interim/df_train_3_unique.pkl\")\n",
    "df_train_clean = clean_dataset(df_train_unique)\n",
    "df_train_clean.to_pickle(\"../data/interim/df_train_4_clean.pkl\")"
   ]
  },
  {
   "cell_type": "code",
   "execution_count": 19,
   "metadata": {},
   "outputs": [
    {
     "name": "stdout",
     "output_type": "stream",
     "text": [
      "he had steel balls too !\n",
      "He had steel balls too!\n",
      "\n",
      "he was brave too!\n",
      "He was brave too!\n",
      "this bigoted control freak shit is getting tiresome .\n",
      "This bigoted control freak shit is getting tiresome.\n",
      "\n",
      "This bigoted control is getting bored.\n",
      "This bigoted control is getting bored.\n",
      "well when you treat your employees like shit and you don 't pay them well .\n",
      "Well when you treat your employees like shit and you don't pay them well.\n",
      "\n",
      "When you do not treat and pay your employees well.\n",
      "When you do not treat and pay your employees well.\n",
      "netanyahu might be a bigger ass than cheney\n",
      "Netanyahu might be a bigger ass than cheney\n",
      "\n",
      "Netanyahu might be a bigger bad person than Cheney.\n",
      "Netanyahu might be a bigger bad person than Cheney.\n",
      "i doubt people in china , india , russia etc gave two fucks about him edit blimey , lol\n",
      "I doubt people in china, india, russia etc gave two fucks about him edit blimey, lol\n",
      "\n",
      "doubt people in china , india , russia etc gave a second thought about him edit blimey\n",
      "Doubt people in china, india, russia etc gave a second thought about him edit blimey\n",
      "nah you know those lines are gonna be chill as fuck\n",
      "Nah you know those lines are gonna be chill as fuck\n",
      "\n",
      "nah you know those lines are gonna be good\n",
      "Nah you know those lines are gonna be good\n",
      "who gives a flying fuck what ron paul says ?\n",
      "Who gives a flying fuck what ron paul says?\n",
      "\n",
      "Who cares what Ron Paul says?\n",
      "Who cares what Ron Paul says?\n",
      "fuck yes google and facebook track you when you are not using their websites .\n",
      "Fuck yes google and facebook track you when you are not using their websites.\n",
      "\n",
      "Yes Google and Facebook track you when you are not using their websites.\n",
      "Yes Google and Facebook track you when you are not using their websites.\n",
      "both sides make it really fucking hard to support them .\n",
      "Both sides make it really fucking hard to support them.\n",
      "\n",
      "both sides make it really hard to support them .\n",
      "Both sides make it really hard to support them.\n",
      "omg why even comment if you don 't know shit about fuck .\n",
      "Omg why even comment if you don't know shit about fuck.\n",
      "\n",
      "Why do you comment if you don't know anything about it\n",
      "Why do you comment if you don't know anything about it\n"
     ]
    }
   ],
   "source": [
    "for i in range(10):\n",
    "    print(df_train_unique[\"en_toxic_comment\"][i])\n",
    "    print(df_train_clean[\"en_toxic_comment\"][i])\n",
    "    print()\n",
    "    print(df_train_unique[\"en_neutral_comment\"][i])\n",
    "    print(df_train_clean[\"en_neutral_comment\"][i])"
   ]
  },
  {
   "cell_type": "markdown",
   "metadata": {},
   "source": [
    "### Split data to X and y, and train and val"
   ]
  },
  {
   "cell_type": "code",
   "execution_count": 15,
   "metadata": {},
   "outputs": [
    {
     "name": "stdout",
     "output_type": "stream",
     "text": [
      "Number of rows in the dataframe: 10733\n",
      "Number of rows in the dataframe: 1193\n"
     ]
    }
   ],
   "source": [
    "df_train_clean = pd.read_pickle(\"../data/interim/df_train_4_clean.pkl\")\n",
    "\n",
    "# Split df_train_clean into train and validation sets\n",
    "df_train_clean, df_val_clean = train_test_split(df_train_clean, test_size=0.1, random_state=RANDOM_SEED)"
   ]
  },
  {
   "cell_type": "markdown",
   "metadata": {},
   "source": [
    "# Test data"
   ]
  },
  {
   "cell_type": "markdown",
   "metadata": {},
   "source": [
    "### Data Acquisition"
   ]
  },
  {
   "cell_type": "code",
   "execution_count": 21,
   "metadata": {},
   "outputs": [
    {
     "data": {
      "text/html": [
       "<div>\n",
       "<style scoped>\n",
       "    .dataframe tbody tr th:only-of-type {\n",
       "        vertical-align: middle;\n",
       "    }\n",
       "\n",
       "    .dataframe tbody tr th {\n",
       "        vertical-align: top;\n",
       "    }\n",
       "\n",
       "    .dataframe thead th {\n",
       "        text-align: right;\n",
       "    }\n",
       "</style>\n",
       "<table border=\"1\" class=\"dataframe\">\n",
       "  <thead>\n",
       "    <tr style=\"text-align: right;\">\n",
       "      <th></th>\n",
       "      <th>en_toxic_comment</th>\n",
       "      <th>en_neutral_comment</th>\n",
       "    </tr>\n",
       "  </thead>\n",
       "  <tbody>\n",
       "    <tr>\n",
       "      <th>0</th>\n",
       "      <td>. or the loud ass one - thousand ton beast roa...</td>\n",
       "      <td>or the loud  one - thousand ton beast roaring ...</td>\n",
       "    </tr>\n",
       "    <tr>\n",
       "      <th>1</th>\n",
       "      <td>mandated  and \" right fucking now \" would be ...</td>\n",
       "      <td>Mandated' and right now\" would be good.</td>\n",
       "    </tr>\n",
       "    <tr>\n",
       "      <th>2</th>\n",
       "      <td>* neither * of my coworkers gave a shit when i...</td>\n",
       "      <td>Neither of my co-workers cared when it came to...</td>\n",
       "    </tr>\n",
       "    <tr>\n",
       "      <th>3</th>\n",
       "      <td>* well shit , cunt shot himself .</td>\n",
       "      <td>*well, he shot himself.</td>\n",
       "    </tr>\n",
       "    <tr>\n",
       "      <th>4</th>\n",
       "      <td>&amp;gt i wouldn 't care how ignorant you are in y...</td>\n",
       "      <td>i wouldn 't care how ignorant you are in you w...</td>\n",
       "    </tr>\n",
       "  </tbody>\n",
       "</table>\n",
       "</div>"
      ],
      "text/plain": [
       "                                    en_toxic_comment  \\\n",
       "0  . or the loud ass one - thousand ton beast roa...   \n",
       "1   mandated  and \" right fucking now \" would be ...   \n",
       "2  * neither * of my coworkers gave a shit when i...   \n",
       "3                  * well shit , cunt shot himself .   \n",
       "4  &gt i wouldn 't care how ignorant you are in y...   \n",
       "\n",
       "                                  en_neutral_comment  \n",
       "0  or the loud  one - thousand ton beast roaring ...  \n",
       "1            Mandated' and right now\" would be good.  \n",
       "2  Neither of my co-workers cared when it came to...  \n",
       "3                            *well, he shot himself.  \n",
       "4  i wouldn 't care how ignorant you are in you w...  "
      ]
     },
     "execution_count": 21,
     "metadata": {},
     "output_type": "execute_result"
    }
   ],
   "source": [
    "def load_test(toxic_comments_path, neutral_comments_path):\n",
    "    \"\"\"Loads the test data from the given paths and returns a DataFrame with two columns of comments\"\"\"\n",
    "    with open(toxic_comments_path, \"r\") as file:\n",
    "        toxic_comments = file.readlines()\n",
    "\n",
    "    with open(neutral_comments_path, \"r\") as file:\n",
    "        neutral_comments = file.readlines()\n",
    "\n",
    "    df = pd.DataFrame({\"en_toxic_comment\": toxic_comments, \"en_neutral_comment\": neutral_comments})\n",
    "\n",
    "    # Remove newline character at the end of each comment (as this is not part of the comment)\n",
    "    df[\"en_toxic_comment\"] = df[\"en_toxic_comment\"].apply(lambda x: x[:-1])\n",
    "    df[\"en_neutral_comment\"] = df[\"en_neutral_comment\"].apply(lambda x: x[:-1])\n",
    "\n",
    "    return df\n",
    "\n",
    "df_test = load_test(toxic_comments_path=TEST_X_IN_PATH, neutral_comments_path=TEST_Y_IN_PATH)\n",
    "df_test.head()"
   ]
  },
  {
   "cell_type": "code",
   "execution_count": 22,
   "metadata": {},
   "outputs": [
    {
     "name": "stdout",
     "output_type": "stream",
     "text": [
      ". or the loud ass one - thousand ton beast roaring towards you howling its horn .\n",
      "or the loud  one - thousand ton beast roaring towards you howling its horn .\n",
      "\n",
      " mandated  and \" right fucking now \" would be good .\n",
      "Mandated' and right now\" would be good.\n",
      "\n",
      "* neither * of my coworkers gave a shit when it came time to ditch mitch . ugh .\n",
      "Neither of my co-workers cared when it came to ditching Mitch.\n",
      "\n",
      "* well shit , cunt shot himself .\n",
      "*well, he shot himself.\n",
      "\n",
      "&gt i wouldn 't care how ignorant you are in you weren 't pretending to know shit .\n",
      "i wouldn 't care how ignorant you are in you weren 't pretending to know things\n",
      "\n",
      "&gt today was one of the most fucked up days of my life .\n",
      "& today was one of the worst days of my life\n",
      "\n",
      "<number> , people will freak the fuck out .\n",
      "<number> people will freak out\n",
      "\n",
      "3 . you don 't fuck with a mommas boy\n",
      "you don 't joke with a mommas boy\n",
      "\n",
      "6. are you fucking insane ?\n",
      "Are you insane?\n",
      "\n",
      "abortion is not a fundamental right it is a proceedure , nothing more idiot\n",
      "Abortion is not a fundamental right it is a procedure\n",
      "\n"
     ]
    }
   ],
   "source": [
    "# Check that the rows map to each other\n",
    "for i in range(10):\n",
    "    print(df_test[\"en_toxic_comment\"][i])\n",
    "    print(df_test[\"en_neutral_comment\"][i])\n",
    "    print()"
   ]
  },
  {
   "cell_type": "markdown",
   "metadata": {},
   "source": [
    "### Check distribution of toxicity classification"
   ]
  },
  {
   "cell_type": "code",
   "execution_count": 23,
   "metadata": {},
   "outputs": [],
   "source": [
    "# Add new columns to the dataframe based on toxicity classifier\n",
    "df_test_toxiclabels = calc_toxicity_cols(df_test)\n",
    "df_test_toxiclabels.to_pickle(\"../data/interim/df_test_1_toxiclabels.pkl\")"
   ]
  },
  {
   "cell_type": "code",
   "execution_count": 24,
   "metadata": {},
   "outputs": [
    {
     "name": "stdout",
     "output_type": "stream",
     "text": [
      "Total number of comments: 671\n",
      "Toxic comments classified as toxic: 665\n",
      "Toxic comments classified as neutral: 6\n",
      "Neutral comments classified as neutral: 641\n",
      "Neutral comments classified as toxic: 30\n"
     ]
    }
   ],
   "source": [
    "# Calculate number of comments classified as toxic or neutral\n",
    "calc_toxicity_metrics(df_test_toxiclabels)"
   ]
  },
  {
   "cell_type": "code",
   "execution_count": 25,
   "metadata": {},
   "outputs": [
    {
     "name": "stdout",
     "output_type": "stream",
     "text": [
      "Toxic comments classified as neutral:\n",
      "<number> , people will freak the fuck out .\n",
      "i could understand how many people would shit their pants seeing a title like this\n",
      "i don 't think it 's fucked up since it 's not like she had to accept .\n",
      "i mean it 's killed a shit ton of people and now they 're gonna give it an established base of operations ?\n",
      "this is scaring the shit out of me .\n",
      "we rely on our government to protect us the military yet conservatives aren 't bitching about that .\n",
      "\n",
      "Neutral comments classified as toxic:\n",
      "i wouldn 't care how ignorant you are in you weren 't pretending to know things\n",
      "Are you insane?\n",
      "Another person who is racist.\n",
      "all you trump supporters are seriously messed up .\n",
      "amy , your lack of understanding is showing again\n",
      "Are they liars or unaware?\n",
      "Bloated nonsense that comes out of these other\n",
      "All governments are corrupt\n",
      "DIGIT are you suggesting that should be enough to keep black people satisfied?\n",
      "barbarian gooks got a lot of nerve to mess with us.\n"
     ]
    }
   ],
   "source": [
    "# Print rows where toxic_label is 0 (incorrectly classified)\n",
    "print(\"Toxic comments classified as neutral:\")\n",
    "for sentence in df_test_toxiclabels[df_test_toxiclabels[\"en_toxic_label\"] == 0][\"en_toxic_comment\"].head(10):\n",
    "    print(sentence)\n",
    "\n",
    "print()\n",
    "# Print rows where en_neutral_label is 1 (incorrectly classified)\n",
    "print(\"Neutral comments classified as toxic:\")\n",
    "for sentence in df_test_toxiclabels[df_test_toxiclabels[\"en_neutral_label\"] == 1][\"en_neutral_comment\"].head(\n",
    "    10\n",
    "):\n",
    "    print(sentence)"
   ]
  },
  {
   "cell_type": "markdown",
   "metadata": {},
   "source": [
    "### Remove duplicate rows"
   ]
  },
  {
   "cell_type": "markdown",
   "metadata": {},
   "source": [
    "This is less applicable due to the underlying structure, but let's quickly check if there are duplicate rows"
   ]
  },
  {
   "cell_type": "code",
   "execution_count": 26,
   "metadata": {},
   "outputs": [
    {
     "name": "stdout",
     "output_type": "stream",
     "text": [
      "Number of rows where en_toxic_comment is not unique: 0\n",
      "Number of rows where en_neutral_comment is not unique: 0\n"
     ]
    }
   ],
   "source": [
    "# Count the number of rows where en_toxic_comment is not unique\n",
    "print(\n",
    "    f\"Number of rows where en_toxic_comment is not unique: {len(df_test_toxiclabels[df_test_toxiclabels.duplicated(subset=['en_toxic_comment'])])}\"\n",
    ")\n",
    "\n",
    "# Count the number of rows where en_neutral_comment is not unique\n",
    "print(\n",
    "    f\"Number of rows where en_neutral_comment is not unique: {len(df_test_toxiclabels[df_test_toxiclabels.duplicated(subset=['en_neutral_comment'])])}\"\n",
    ")"
   ]
  },
  {
   "cell_type": "markdown",
   "metadata": {},
   "source": [
    "### Clean text"
   ]
  },
  {
   "cell_type": "code",
   "execution_count": 27,
   "metadata": {},
   "outputs": [],
   "source": [
    "df_test_toxiclabels = pd.read_pickle(\"../data/interim/df_test_1_toxiclabels.pkl\")\n",
    "df_test_clean = clean_dataset(df_test_toxiclabels)\n",
    "df_test_clean.to_pickle(\"../data/interim/df_test_2_clean.pkl\")"
   ]
  },
  {
   "cell_type": "code",
   "execution_count": 28,
   "metadata": {},
   "outputs": [
    {
     "name": "stdout",
     "output_type": "stream",
     "text": [
      ". or the loud ass one - thousand ton beast roaring towards you howling its horn .\n",
      ". or the loud ass one - thousand ton beast roaring towards you howling its horn.\n",
      "or the loud  one - thousand ton beast roaring towards you howling its horn .\n",
      "Or the loud one - thousand ton beast roaring towards you howling its horn.\n",
      "\n",
      " mandated  and \" right fucking now \" would be good .\n",
      "mandated and \" right fucking now \" would be good.\n",
      "Mandated' and right now\" would be good.\n",
      "Mandated' and right now\" would be good.\n",
      "\n",
      "* neither * of my coworkers gave a shit when it came time to ditch mitch . ugh .\n",
      "* neither * of my coworkers gave a shit when it came time to ditch mitch. ugh.\n",
      "Neither of my co-workers cared when it came to ditching Mitch.\n",
      "Neither of my co-workers cared when it came to ditching Mitch.\n",
      "\n",
      "* well shit , cunt shot himself .\n",
      "* well shit, cunt shot himself.\n",
      "*well, he shot himself.\n",
      "*well, he shot himself.\n",
      "\n",
      "&gt i wouldn 't care how ignorant you are in you weren 't pretending to know shit .\n",
      "&gt i wouldn't care how ignorant you are in you weren't pretending to know shit.\n",
      "i wouldn 't care how ignorant you are in you weren 't pretending to know things\n",
      "I wouldn't care how ignorant you are in you weren't pretending to know things\n",
      "\n",
      "&gt today was one of the most fucked up days of my life .\n",
      "&gt today was one of the most fucked up days of my life.\n",
      "& today was one of the worst days of my life\n",
      "& today was one of the worst days of my life\n",
      "\n",
      "<number> , people will freak the fuck out .\n",
      "<number>, people will freak the fuck out.\n",
      "<number> people will freak out\n",
      "<number> people will freak out\n",
      "\n",
      "3 . you don 't fuck with a mommas boy\n",
      "3. you don't fuck with a mommas boy\n",
      "you don 't joke with a mommas boy\n",
      "You don't joke with a mommas boy\n",
      "\n",
      "6. are you fucking insane ?\n",
      "6. are you fucking insane?\n",
      "Are you insane?\n",
      "Are you insane?\n",
      "\n",
      "abortion is not a fundamental right it is a proceedure , nothing more idiot\n",
      "Abortion is not a fundamental right it is a proceedure, nothing more idiot\n",
      "Abortion is not a fundamental right it is a procedure\n",
      "Abortion is not a fundamental right it is a procedure\n",
      "\n"
     ]
    }
   ],
   "source": [
    "for i in range(10):\n",
    "    print(df_test_toxiclabels[\"en_toxic_comment\"][i])\n",
    "    print(df_test_clean[\"en_toxic_comment\"][i])\n",
    "    print(df_test_toxiclabels[\"en_neutral_comment\"][i])\n",
    "    print(df_test_clean[\"en_neutral_comment\"][i])\n",
    "    print()"
   ]
  },
  {
   "cell_type": "markdown",
   "metadata": {},
   "source": [
    "# Combine to DatasetDict"
   ]
  },
  {
   "cell_type": "code",
   "execution_count": 21,
   "metadata": {},
   "outputs": [
    {
     "data": {
      "application/vnd.jupyter.widget-view+json": {
       "model_id": "9a5e84102f5a495eb77b5d4dcd88e2a4",
       "version_major": 2,
       "version_minor": 0
      },
      "text/plain": [
       "Saving the dataset (0/1 shards):   0%|          | 0/10733 [00:00<?, ? examples/s]"
      ]
     },
     "metadata": {},
     "output_type": "display_data"
    },
    {
     "data": {
      "application/vnd.jupyter.widget-view+json": {
       "model_id": "141a5f46ec8f4bd4806c5c7ebecb0f9d",
       "version_major": 2,
       "version_minor": 0
      },
      "text/plain": [
       "Saving the dataset (0/1 shards):   0%|          | 0/1193 [00:00<?, ? examples/s]"
      ]
     },
     "metadata": {},
     "output_type": "display_data"
    },
    {
     "data": {
      "application/vnd.jupyter.widget-view+json": {
       "model_id": "285967f53eac47d0b7f0a05d469f1119",
       "version_major": 2,
       "version_minor": 0
      },
      "text/plain": [
       "Saving the dataset (0/1 shards):   0%|          | 0/671 [00:00<?, ? examples/s]"
      ]
     },
     "metadata": {},
     "output_type": "display_data"
    }
   ],
   "source": [
    "raw_dataset = create_raw_dataset(\n",
    "    df_train_clean,\n",
    "    df_val_clean,\n",
    "    df_test_clean,\n",
    "    source_col=\"en_toxic_comment\",\n",
    "    target_col=\"en_neutral_comment\"\n",
    ")\n",
    "raw_dataset.save_to_disk(\"../data/processed/raw_datasets\")"
   ]
  }
 ],
 "metadata": {
  "kernelspec": {
   "display_name": "w266_final_project-tXrABu_v-py3.11",
   "language": "python",
   "name": "python3"
  },
  "language_info": {
   "codemirror_mode": {
    "name": "ipython",
    "version": 3
   },
   "file_extension": ".py",
   "mimetype": "text/x-python",
   "name": "python",
   "nbconvert_exporter": "python",
   "pygments_lexer": "ipython3",
   "version": "3.10.12"
  },
  "orig_nbformat": 4
 },
 "nbformat": 4,
 "nbformat_minor": 2
}
