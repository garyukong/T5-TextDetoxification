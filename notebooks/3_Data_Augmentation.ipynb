{
 "cells": [
  {
   "cell_type": "code",
   "execution_count": 1,
   "metadata": {},
   "outputs": [
    {
     "name": "stderr",
     "output_type": "stream",
     "text": [
      "2023-11-09 11:11:50.188005: E tensorflow/compiler/xla/stream_executor/cuda/cuda_dnn.cc:9342] Unable to register cuDNN factory: Attempting to register factory for plugin cuDNN when one has already been registered\n",
      "2023-11-09 11:11:50.188065: E tensorflow/compiler/xla/stream_executor/cuda/cuda_fft.cc:609] Unable to register cuFFT factory: Attempting to register factory for plugin cuFFT when one has already been registered\n",
      "2023-11-09 11:11:50.188108: E tensorflow/compiler/xla/stream_executor/cuda/cuda_blas.cc:1518] Unable to register cuBLAS factory: Attempting to register factory for plugin cuBLAS when one has already been registered\n"
     ]
    }
   ],
   "source": [
    "from datasets import DatasetDict, Dataset\n",
    "from transformers import (\n",
    "    RobertaTokenizer,\n",
    "    RobertaForSequenceClassification,\n",
    "    AutoTokenizer,\n",
    "    AutoModelForSequenceClassification,\n",
    "    MarianMTModel,\n",
    "    MarianTokenizer,\n",
    ")\n",
    "import evaluate\n",
    "import torch\n",
    "import numpy as np\n",
    "import pandas as pd\n",
    "import matplotlib.pyplot as plt\n",
    "from functools import partial\n",
    "import pandas as pd\n",
    "from tqdm import tqdm\n",
    "import gc\n",
    "import GPUtil"
   ]
  },
  {
   "cell_type": "code",
   "execution_count": 2,
   "metadata": {},
   "outputs": [
    {
     "name": "stderr",
     "output_type": "stream",
     "text": [
      "Some weights of the model checkpoint at SkolkovoInstitute/roberta_toxicity_classifier were not used when initializing RobertaForSequenceClassification: ['roberta.pooler.dense.bias', 'roberta.pooler.dense.weight']\n",
      "- This IS expected if you are initializing RobertaForSequenceClassification from the checkpoint of a model trained on another task or with another architecture (e.g. initializing a BertForSequenceClassification model from a BertForPreTraining model).\n",
      "- This IS NOT expected if you are initializing RobertaForSequenceClassification from the checkpoint of a model that you expect to be exactly identical (initializing a BertForSequenceClassification model from a BertForSequenceClassification model).\n"
     ]
    }
   ],
   "source": [
    "# Setting the DEVICE to cuda\n",
    "DEVICE = torch.device(\"cuda\" if torch.cuda.is_available() else \"cpu\")\n",
    "\n",
    "# Set path for raw dataset dictionary\n",
    "RAW_DATASET_PATH = \"../data/processed/raw_dataset.pkl\"\n",
    "\n",
    "# Load tokenizers and models\n",
    "tokenizer_toxicity = RobertaTokenizer.from_pretrained(\"SkolkovoInstitute/roberta_toxicity_classifier\")\n",
    "model_toxicity = RobertaForSequenceClassification.from_pretrained(\"SkolkovoInstitute/roberta_toxicity_classifier\").to(DEVICE)\n",
    "tokenizer_acceptability = AutoTokenizer.from_pretrained(\"iproskurina/tda-bert-en-cola\")\n",
    "model_acceptability = AutoModelForSequenceClassification.from_pretrained(\"iproskurina/tda-bert-en-cola\").to(DEVICE)\n",
    "\n",
    "# Load dataset\n",
    "raw_datasets = DatasetDict.load_from_disk(RAW_DATASET_PATH)\n",
    "\n",
    "# Set batch size\n",
    "BATCH_SIZE = 64"
   ]
  },
  {
   "cell_type": "code",
   "execution_count": 3,
   "metadata": {},
   "outputs": [],
   "source": [
    "def get_gpu_memory():\n",
    "    \"\"\"\n",
    "    Gets the GPU memory information.\n",
    "    \"\"\"\n",
    "    gpus = GPUtil.getGPUs()\n",
    "    gpu = gpus[0]\n",
    "    print(f\"Total GPU memory: {gpu.memoryTotal}MB\")\n",
    "    print(f\"Free GPU memory: {gpu.memoryFree}MB\")\n",
    "    print(f\"Used GPU memory: {gpu.memoryUsed}MB\")\n",
    "\n",
    "def cleanup():\n",
    "    \"\"\"\n",
    "    Cleans up the GPU memory.\n",
    "    \"\"\"\n",
    "    gc.collect()\n",
    "    torch.cuda.empty_cache()"
   ]
  },
  {
   "cell_type": "code",
   "execution_count": 4,
   "metadata": {},
   "outputs": [
    {
     "name": "stdout",
     "output_type": "stream",
     "text": [
      "Total GPU memory: 23034.0MB\n",
      "Free GPU memory: 20429.0MB\n",
      "Used GPU memory: 2088.0MB\n"
     ]
    }
   ],
   "source": [
    "get_gpu_memory()"
   ]
  },
  {
   "cell_type": "markdown",
   "metadata": {},
   "source": [
    "# Evaluation Functions"
   ]
  },
  {
   "cell_type": "code",
   "execution_count": 5,
   "metadata": {},
   "outputs": [],
   "source": [
    "# Initialize model variables\n",
    "model_bleurt = None\n",
    "model_bertscore = None\n",
    "model_sacrebleu = None\n",
    "\n",
    "def calc_sacrebleu(refs, preds):\n",
    "    \"\"\"\n",
    "    Calculates the SacreBLEU score.\n",
    "\n",
    "    Args:\n",
    "        refs (list): List of reference sentences\n",
    "        preds (list): List of predicted sentences\n",
    "    \n",
    "    Returns:\n",
    "        results (float): SacreBLEU score\n",
    "    \"\"\"\n",
    "    global model_sacrebleu\n",
    "\n",
    "    if model_sacrebleu is None:\n",
    "        model_sacrebleu = evaluate.load(\"sacrebleu\")\n",
    "\n",
    "    results = model_sacrebleu.compute(predictions=preds, references=refs)[\"score\"]\n",
    "    results = results/100\n",
    "\n",
    "    return results\n",
    "\n",
    "def calc_bert_score(\n",
    "    refs, preds, model_type=\"microsoft/deberta-large-mnli\", output_mean=True\n",
    "    ):\n",
    "    \"\"\"\n",
    "    Calculates BERT score per line. Note: https://docs.google.com/spreadsheets/d/1RKOVpselB98Nnh_EOC4A2BYn8_201tmPODpNWu4w7xI/edit#gid=0 lists the best performing models\n",
    "    Args:\n",
    "        refs (list): List of reference sentences.\n",
    "        y_pred (list): List of predicted sentences.\n",
    "        model_type (str): Type of BERT model to use.\n",
    "        output_mean (bool): Whether to output the mean of the scores.\n",
    "\n",
    "    Returns:\n",
    "        list of precision, recall, f1 scores.\n",
    "\n",
    "    \"\"\"\n",
    "    global model_bertscore\n",
    "\n",
    "    if model_bertscore is None:\n",
    "        model_bertscore = evaluate.load(\"bertscore\")\n",
    "        \n",
    "    results = model_bertscore.compute(predictions=preds, references=refs, model_type=model_type)\n",
    "    precision = np.array(results[\"precision\"])\n",
    "    recall = np.array(results[\"recall\"])\n",
    "    f1 = np.array(results[\"f1\"])\n",
    "    \n",
    "    if output_mean:\n",
    "        precision = precision.mean()\n",
    "        recall = recall.mean()\n",
    "        f1 = f1.mean()\n",
    "\n",
    "    return precision, recall, f1\n",
    "\n",
    "def calc_bleurt(refs, preds, checkpoint=\"BLEURT-20_D12\", output_mean = True):\n",
    "    \"\"\"\n",
    "    Calculates BLEURT score per line.\n",
    "\n",
    "    Args:\n",
    "        refs (list): List of reference sentences.\n",
    "        preds (list): List of predicted sentences.\n",
    "        output_type (str): Type of output to return. Either 'numpy' or 'list'.\n",
    "\n",
    "    Returns:\n",
    "        list/array of BLEURT scores.\n",
    "    \"\"\"\n",
    "    global model_bleurt\n",
    "\n",
    "    if model_bleurt is None:\n",
    "        model_bleurt = evaluate.load(\"bleurt\", module_type=\"metric\", checkpoint=checkpoint)\n",
    "\n",
    "    results = np.array(model_bleurt.compute(predictions=preds, references=refs)[\"scores\"])\n",
    "\n",
    "    if output_mean:\n",
    "        results = results.mean()\n",
    "\n",
    "    return results\n",
    "\n",
    "def calc_tox_acceptability(\n",
    "    data,\n",
    "    tokenizer,\n",
    "    model,\n",
    "    output_score=True,\n",
    "    output_mean=True):\n",
    "    \"\"\"\n",
    "    Calculates toxicity and acceptability scores for a given dataset.\n",
    "\n",
    "    Args:\n",
    "        data = list of strings to be evaluated\n",
    "        tokenizer = tokenizer for the model\n",
    "        model = model to be used for evaluation\n",
    "        output_score = whether to output the score or the label\n",
    "        output_mean = whether to output the mean of the scores or the scores for each sentence\n",
    "    \n",
    "    Returns:\n",
    "        array of toxicity and acceptability scores.\n",
    "    \"\"\"  \n",
    "    inputs = tokenizer(data, return_tensors=\"pt\", padding=True).to(DEVICE)\n",
    "    with torch.no_grad():\n",
    "        logits = model(**inputs)[\"logits\"]\n",
    "        if output_score:\n",
    "            result = torch.nn.functional.softmax(logits, dim=1)[:, 1]\n",
    "        else:\n",
    "            result = logits.argmax(1).data\n",
    "        result = result.cpu().numpy()\n",
    "\n",
    "    if output_mean:\n",
    "        result = result.mean()\n",
    "        \n",
    "    return result\n",
    "\n",
    "def evaluate_metrics(\n",
    "    refs,\n",
    "    preds,\n",
    "    tokenizer_toxicity=tokenizer_toxicity,\n",
    "    model_toxicity=model_toxicity,\n",
    "    tokenizer_acceptability=tokenizer_acceptability,\n",
    "    model_acceptability=model_acceptability,\n",
    "    to_neutral=True,\n",
    "    weights={\n",
    "        \"BLEU\": 0.2,\n",
    "        \"STA\": 0.4,\n",
    "        \"Acceptability\": 0.2,\n",
    "        \"BERT_Score\": 0.2\n",
    "    },\n",
    "    include_bleurt=False\n",
    "):\n",
    "    \"\"\"\n",
    "    Calculates and returns a dictionary of evaluation metrics\n",
    "\n",
    "    Args:\n",
    "        refs (list): list of strings (reference)\n",
    "        preds (list): list of strings (predictions)\n",
    "        tokenizer_toxicity (tokenizer): tokenizer for toxicity model\n",
    "        model_toxicity (model): toxicity model\n",
    "        tokenizer_acceptability (tokenizer): tokenizer for acceptability model\n",
    "        model_acceptability (model): acceptability model\n",
    "        to_neutral (bool): whether the goal is to transfer to neutral (True) or to toxic (False)\n",
    "        weights (dict): dictionary of weights for each metric\n",
    "        include_bleurt (bool): whether to include BLEURT score in the output\n",
    "\n",
    "    Returns:\n",
    "        results (dict): dictionary of evaluation metrics\n",
    "    \"\"\"\n",
    "\n",
    "    # Calculate BLEU score\n",
    "    bleu = calc_sacrebleu(refs, preds)\n",
    "\n",
    "    # Calculate toxicity classification\n",
    "    # tox_ref = calc_tox_acceptability(refs, tokenizer_toxicity, model_toxicity, output_score=False, output_mean=False)\n",
    "    tox_pred = calc_tox_acceptability(preds, tokenizer_toxicity, model_toxicity, output_score=False, output_mean=False)\n",
    "\n",
    "    # Calculate style transfer accuracy as proportion of sentences that were correctly classified (as non-toxic / toxic)\n",
    "    if to_neutral:\n",
    "        sta_correct_label = 0\n",
    "    else:\n",
    "        sta_correct_label = 1\n",
    "\n",
    "    # sta_ref = (tox_ref == sta_correct_label).sum() / len(tox_ref)\n",
    "    sta_pred = (tox_pred == sta_correct_label).sum() / len(tox_pred)\n",
    "    # sta_pct = sta_pred / sta_ref\n",
    "\n",
    "    # Calculate acceptability scores\n",
    "    # acc_ref = calc_tox_acceptability(refs, tokenizer_acceptability, model_acceptability)\n",
    "    acc_pred = calc_tox_acceptability(preds, tokenizer_acceptability, model_acceptability)\n",
    "    # acc_pct = acc_pred / acc_ref\n",
    "\n",
    "    # Calculate similarity score\n",
    "    bert_score_f1 = calc_bert_score(refs, preds, model_type=\"distilbert-base-uncased\")[2]\n",
    "\n",
    "    # Calculate BLEURT score if include_bleurt is True\n",
    "    bleurt = None\n",
    "    if include_bleurt:\n",
    "        bleurt = calc_bleurt(refs, preds)\n",
    "\n",
    "    # Calculate composite score\n",
    "    composite_score = weights[\"BLEU\"] * bleu + weights[\"STA\"] * sta_pred + weights[\"Acceptability\"] * acc_pred + weights[\"BERT_Score\"] * bert_score_f1\n",
    "\n",
    "    # Return a dictionary of metrics\n",
    "    results = {\n",
    "        \"BLEU\": bleu,\n",
    "        \"STA\": sta_pred,\n",
    "        # \"STA_pct\": sta_pct,\n",
    "        \"FLU\": acc_pred,\n",
    "        # \"Acceptability_pct\": acc_pct,\n",
    "        \"SEM\": bert_score_f1,\n",
    "        \"Overall\": composite_score,\n",
    "    }\n",
    "    if include_bleurt:\n",
    "        results[\"BLEURT\"] = bleurt\n",
    "        \n",
    "    return results\n"
   ]
  },
  {
   "cell_type": "markdown",
   "metadata": {},
   "source": [
    "# Back-Translation Functions"
   ]
  },
  {
   "cell_type": "code",
   "execution_count": 6,
   "metadata": {},
   "outputs": [],
   "source": [
    "from tqdm import tqdm\n",
    "\n",
    "# Helper function to download data for a language\n",
    "def download(model_name):\n",
    "  tokenizer = MarianTokenizer.from_pretrained(model_name)\n",
    "  model = MarianMTModel.from_pretrained(model_name)\n",
    "  return tokenizer, model\n",
    "\n",
    "# download model for English -> Romance\n",
    "tmp_lang_tokenizer, tmp_lang_model = download('Helsinki-NLP/opus-mt-en-ROMANCE')\n",
    "\n",
    "# download model for Romance -> English\n",
    "src_lang_tokenizer, src_lang_model = download('Helsinki-NLP/opus-mt-ROMANCE-en')\n",
    "\n",
    "# Move models to GPU\n",
    "src_lang_model.to(DEVICE)\n",
    "tmp_lang_model.to(DEVICE)\n",
    "\n",
    "def translate(batch_texts, model, tokenizer, language):\n",
    "    \"\"\"\n",
    "    Translate texts into a target language\n",
    "    \n",
    "    Args:\n",
    "        batch_texts (list): list of texts to be translated\n",
    "        model (model): MarianMTModel\n",
    "        tokenizer (tokenizer): MarianTokenizer\n",
    "        language (str): target language\n",
    "\n",
    "    Returns:\n",
    "        list of translated texts\n",
    "    \"\"\"\n",
    "    formatter_fn = lambda txt: f\">>{language}<<\" + txt if language != \"en\" else txt\n",
    "    formatted_texts = [formatter_fn(txt) for txt in batch_texts]\n",
    "\n",
    "    tokens = tokenizer(formatted_texts, return_tensors=\"pt\", padding=True, truncation=True).to(DEVICE)\n",
    "\n",
    "    with torch.no_grad():\n",
    "        translated = model.generate(**tokens)\n",
    "\n",
    "    translated_texts = tokenizer.batch_decode(translated, skip_special_tokens=True)\n",
    "\n",
    "    # Delete unnecessary variables and clear GPU memory\n",
    "    del tokens\n",
    "    del translated\n",
    "    cleanup()\n",
    "\n",
    "    return translated_texts\n",
    "\n",
    "def back_translate(texts, language_src, language_dst, batch_size=BATCH_SIZE):\n",
    "    \"\"\"\n",
    "    Implements back translation using batch processing\n",
    "    \n",
    "    Args:\n",
    "        texts (list): list of texts to be back translated\n",
    "        language_src (str): source language\n",
    "        language_dst (list): list of target languages\n",
    "        batch_size (int): batch size\n",
    "\n",
    "    Returns:\n",
    "        list of back translated texts    \n",
    "    \"\"\"\n",
    "    all_back_translated_texts = []\n",
    "\n",
    "    for i in tqdm(range(0, len(texts), batch_size)):\n",
    "        batch = texts[i:i + batch_size]\n",
    "        for lang in language_dst:\n",
    "            translated_batch = translate(batch, tmp_lang_model, tmp_lang_tokenizer, lang)\n",
    "            back_translated_batch = translate(translated_batch, src_lang_model, src_lang_tokenizer, language_src)\n",
    "            all_back_translated_texts.extend(back_translated_batch)\n",
    "\n",
    "    return all_back_translated_texts"
   ]
  },
  {
   "cell_type": "markdown",
   "metadata": {},
   "source": [
    "# EDA to set tresholds for filters"
   ]
  },
  {
   "cell_type": "markdown",
   "metadata": {},
   "source": [
    "Acceptability"
   ]
  },
  {
   "cell_type": "code",
   "execution_count": 7,
   "metadata": {},
   "outputs": [
    {
     "data": {
      "image/png": "[encoded data removed]",
      "text/plain": [
       "<Figure size 1000x500 with 1 Axes>"
      ]
     },
     "metadata": {},
     "output_type": "display_data"
    },
    {
     "name": "stdout",
     "output_type": "stream",
     "text": [
      "acceptability_threshold_source: 0.6541633009910583\n",
      "acceptability_threshold_target: 0.7226778864860535\n"
     ]
    }
   ],
   "source": [
    "# Get acceptability scores for raw source and target sentences\n",
    "raw_src_acceptability = calc_tox_acceptability(raw_datasets[\"train\"][\"source\"], tokenizer_acceptability, model_acceptability, output_score=True, output_mean=False)\n",
    "raw_tgt_acceptability = calc_tox_acceptability(raw_datasets[\"train\"][\"target\"], tokenizer_acceptability, model_acceptability, output_score=True, output_mean=False)\n",
    "\n",
    "# Plot in density plots\n",
    "plt.figure(figsize=(10, 5))\n",
    "plt.title(\"Acceptability scores for raw source and target sentences\")\n",
    "plt.xlabel(\"Acceptability score\")\n",
    "plt.ylabel(\"Density\")\n",
    "plt.hist(raw_src_acceptability, bins=20, alpha=0.5, label=\"Source\")\n",
    "plt.hist(raw_tgt_acceptability, bins=20, alpha=0.5, label=\"Target\")\n",
    "plt.legend()\n",
    "plt.show()\n",
    "\n",
    "# Calculate acceptability thresholds\n",
    "ACCEPTABILITY_THRESHOLD_SOURCE = np.mean(raw_src_acceptability)\n",
    "ACCEPTABILITY_THRESHOLD_TARGET = np.mean(raw_tgt_acceptability)\n",
    "\n",
    "print(f\"acceptability_threshold_source: {ACCEPTABILITY_THRESHOLD_SOURCE}\")\n",
    "print(f\"acceptability_threshold_target: {ACCEPTABILITY_THRESHOLD_TARGET}\")"
   ]
  },
  {
   "cell_type": "markdown",
   "metadata": {},
   "source": [
    "Semantic similarity"
   ]
  },
  {
   "cell_type": "code",
   "execution_count": 8,
   "metadata": {},
   "outputs": [
    {
     "data": {
      "image/png": "[encoded data removed]",
      "text/plain": [
       "<Figure size 1000x500 with 1 Axes>"
      ]
     },
     "metadata": {},
     "output_type": "display_data"
    },
    {
     "name": "stdout",
     "output_type": "stream",
     "text": [
      "similarity_threshold: 0.9040371657450779\n"
     ]
    }
   ],
   "source": [
    "# Calculate semantic similarity scores for raw source and target sentences\n",
    "raw_similarity = calc_bert_score(raw_datasets[\"train\"][\"source\"], raw_datasets[\"train\"][\"target\"], model_type=\"distilbert-base-uncased\", output_mean=False)[2]\n",
    "\n",
    "# Plot in density plots\n",
    "plt.figure(figsize=(10, 5))\n",
    "plt.title(\"Semantic similarity scores for raw source and target sentences\")\n",
    "plt.xlabel(\"Semantic similarity score\")\n",
    "plt.ylabel(\"Density\")\n",
    "plt.hist(raw_similarity, bins=20, alpha=0.5)\n",
    "plt.show()\n",
    "\n",
    "# Calculate semantic similarity threshold\n",
    "SIMILARITY_THRESHOLD = np.mean(raw_similarity)\n",
    "print(f\"similarity_threshold: {SIMILARITY_THRESHOLD}\")"
   ]
  },
  {
   "cell_type": "markdown",
   "metadata": {},
   "source": [
    "# Back-Translation Implementation"
   ]
  },
  {
   "cell_type": "code",
   "execution_count": 9,
   "metadata": {},
   "outputs": [
    {
     "name": "stdout",
     "output_type": "stream",
     "text": [
      "Length of raw_train_dataset: 256\n"
     ]
    }
   ],
   "source": [
    "# For testing, create raw_train_dataset with 256 samples\n",
    "raw_train_dataset = raw_datasets[\"train\"].shuffle().select(range(256))\n",
    "print(f\"Length of raw_train_dataset: {len(raw_train_dataset)}\")"
   ]
  },
  {
   "cell_type": "markdown",
   "metadata": {},
   "source": [
    "## 1. Make back-translated dataframe"
   ]
  },
  {
   "cell_type": "code",
   "execution_count": 10,
   "metadata": {},
   "outputs": [
    {
     "name": "stderr",
     "output_type": "stream",
     "text": [
      "  0%|          | 0/4 [00:00<?, ?it/s]"
     ]
    },
    {
     "name": "stderr",
     "output_type": "stream",
     "text": [
      "100%|██████████| 4/4 [02:42<00:00, 40.67s/it]\n",
      "100%|██████████| 4/4 [01:26<00:00, 21.51s/it]\n"
     ]
    }
   ],
   "source": [
    "def make_back_translate_df(raw_train_dataset=raw_train_dataset,\n",
    "                           language_src = \"en\",\n",
    "                           language_dst = ['fr', 'es', 'it', 'pt']):\n",
    "    \n",
    "    # Create a pandas dataframe\n",
    "    df = pd.DataFrame()\n",
    "\n",
    "    # Back translate the sentences and add to pandas dataframe\n",
    "    df['source_bt'] = back_translate(raw_train_dataset['source'], language_src, language_dst)\n",
    "    df['target_bt'] = back_translate(raw_train_dataset['target'], language_src, language_dst)\n",
    "\n",
    "    # Delete rows with duplicate 'source_bt' or 'target_bt'\n",
    "    df = df.drop_duplicates(subset=['source_bt'])\n",
    "    df = df.drop_duplicates(subset=['target_bt'])\n",
    "    \n",
    "    return df\n",
    "\n",
    "# Create a dataframe for back translated sentences\n",
    "df_backtranslated = make_back_translate_df()"
   ]
  },
  {
   "cell_type": "code",
   "execution_count": 11,
   "metadata": {},
   "outputs": [
    {
     "name": "stdout",
     "output_type": "stream",
     "text": [
      "Total GPU memory: 23034.0MB\n",
      "Free GPU memory: 18751.0MB\n",
      "Used GPU memory: 3766.0MB\n",
      "Total GPU memory: 23034.0MB\n",
      "Free GPU memory: 19335.0MB\n",
      "Used GPU memory: 3182.0MB\n"
     ]
    }
   ],
   "source": [
    "get_gpu_memory()\n",
    "\n",
    "# Delete models and clear GPU memory\n",
    "del tmp_lang_model\n",
    "del tmp_lang_tokenizer\n",
    "del src_lang_model\n",
    "del src_lang_tokenizer\n",
    "cleanup()\n",
    "\n",
    "get_gpu_memory()"
   ]
  },
  {
   "cell_type": "markdown",
   "metadata": {},
   "source": [
    "## 2. Add filters to the back-translated dataframe"
   ]
  },
  {
   "cell_type": "code",
   "execution_count": 12,
   "metadata": {},
   "outputs": [],
   "source": [
    "def calc_filters(df, acceptability_threshold_source=ACCEPTABILITY_THRESHOLD_SOURCE, acceptability_threshold_target=ACCEPTABILITY_THRESHOLD_TARGET, similarity_threshold=SIMILARITY_THRESHOLD):\n",
    "    # Calculate toxicity scores for the candidate sentence pairs\n",
    "    df['source_bt_toxicity'] = calc_tox_acceptability(df['source_bt'].tolist(), tokenizer_toxicity, model_toxicity, output_score=False, output_mean=False)\n",
    "    df['target_bt_toxicity'] = calc_tox_acceptability(df['target_bt'].tolist(), tokenizer_toxicity, model_toxicity, output_score=False, output_mean=False)\n",
    "\n",
    "    # Calculate acceptability scores for the candidate sentence pairs\n",
    "    df['source_bt_acceptability'] = calc_tox_acceptability(df['source_bt'].tolist(), tokenizer_acceptability, model_acceptability, output_score=True, output_mean=False)\n",
    "    df['target_bt_acceptability'] = calc_tox_acceptability(df['target_bt'].tolist(), tokenizer_acceptability, model_acceptability, output_score=True, output_mean=False)\n",
    "\n",
    "    # Calculate similarity scores for the candidate sentence pairs - return the F1 score\n",
    "    df['bt_similarity'] = calc_bert_score(df['source_bt'], df['target_bt'], model_type=\"distilbert-base-uncased\", output_mean=False)[2]\n",
    "\n",
    "    # Create filters for the candidate sentence pairs\n",
    "    ## Filter 1: Toxicity\n",
    "    df['f_toxicity'] = (df['source_bt_toxicity'] == 1) & (df['target_bt_toxicity'] == 0)\n",
    "\n",
    "    ## Filter 2: Acceptability\n",
    "    df['f_acceptability'] = (df['source_bt_acceptability'] >= acceptability_threshold_source) & (df['target_bt_acceptability'] >= acceptability_threshold_target)\n",
    "\n",
    "    ## Filter 3: Similarity\n",
    "    df['f_similarity'] = (df['bt_similarity'] >= similarity_threshold)\n",
    "  \n",
    "    # Delete redundant columns\n",
    "    df = df.drop(columns=['source_bt_toxicity', 'target_bt_toxicity', 'source_bt_acceptability', 'target_bt_acceptability', 'bt_similarity'])\n",
    "\n",
    "    return df\n",
    "\n",
    "df_backtranslated_with_filters = calc_filters(df_backtranslated)"
   ]
  },
  {
   "cell_type": "code",
   "execution_count": 13,
   "metadata": {},
   "outputs": [
    {
     "name": "stdout",
     "output_type": "stream",
     "text": [
      "Total GPU memory: 23034.0MB\n",
      "Free GPU memory: 6733.0MB\n",
      "Used GPU memory: 15784.0MB\n",
      "Total GPU memory: 23034.0MB\n",
      "Free GPU memory: 19335.0MB\n",
      "Used GPU memory: 3182.0MB\n"
     ]
    }
   ],
   "source": [
    "get_gpu_memory()\n",
    "\n",
    "# Delete models and clear GPU memory\n",
    "del tokenizer_toxicity\n",
    "del model_toxicity\n",
    "del tokenizer_acceptability\n",
    "del model_acceptability\n",
    "cleanup()\n",
    "\n",
    "get_gpu_memory()"
   ]
  },
  {
   "cell_type": "markdown",
   "metadata": {},
   "source": [
    "## 3. Create different dataframes applying different filters"
   ]
  },
  {
   "cell_type": "code",
   "execution_count": 41,
   "metadata": {},
   "outputs": [
    {
     "name": "stdout",
     "output_type": "stream",
     "text": [
      "Number of rows in dataframe with all filters: 387\n",
      "Number of rows in dataframe with no toxicity filter:  463\n",
      "Number of rows in dataframe with no acceptability filter:  448\n",
      "Number of rows in dataframe with no similarity filter:  549\n"
     ]
    }
   ],
   "source": [
    "def create_filtered_df(df, f_toxicity, f_acceptability, f_similarity, raw_train_dataset=raw_train_dataset):\n",
    "    \"\"\"\n",
    "    Creates a filtered dataframe based on the filters provided, adds the original source and target sentences, removes duplicates, and returns the dataframe.\n",
    "\n",
    "    Args:\n",
    "        df (dataframe): dataframe to be filtered\n",
    "        f_toxicity (bool): whether to filter based on toxicity\n",
    "        f_acceptability (bool): whether to filter based on acceptability\n",
    "        f_similarity (bool): whether to filter based on similarity\n",
    "\n",
    "    Returns:\n",
    "        filtered dataframe\n",
    "    \"\"\"\n",
    "    # Create a copy of the dataframe\n",
    "    df = df.copy()\n",
    "\n",
    "    # Apply filters\n",
    "    if f_toxicity:\n",
    "        df = df[df['f_toxicity'] == True]\n",
    "    if f_acceptability:\n",
    "        df = df[df['f_acceptability'] == True]\n",
    "    if f_similarity:\n",
    "        df = df[df['f_similarity'] == True]\n",
    "\n",
    "    # Drop filter columns\n",
    "    df = df.drop(columns=['f_toxicity', 'f_acceptability', 'f_similarity'])\n",
    "\n",
    "    # Concatenate the original source and target sentences into source_bt and target_bt\n",
    "    df = pd.concat([df, pd.DataFrame({'source_bt': raw_train_dataset['source'], 'target_bt': raw_train_dataset['target']})], axis=0)\n",
    "          \n",
    "    # Delete rows with duplicate 'source_bt' or 'target_bt'\n",
    "    df = df.drop_duplicates(subset=['source_bt'])\n",
    "    df = df.drop_duplicates(subset=['target_bt'])\n",
    "\n",
    "    # Rename columns\n",
    "    df = df.rename(columns={'source_bt': 'source', 'target_bt': 'target'})\n",
    "    \n",
    "    # Reset index\n",
    "    df = df.reset_index(drop=True)\n",
    "\n",
    "    return df\n",
    "\n",
    "# Create a dataframe applying all filters\n",
    "df_all_filters = create_filtered_df(df=df_backtranslated_with_filters, f_toxicity=True, f_acceptability=True, f_similarity=True)\n",
    "print(f\"Number of rows in dataframe with all filters: {len(df_all_filters)}\")\n",
    "\n",
    "# Create a dataframe without toxicity filter\n",
    "df_no_toxicity_filter = create_filtered_df(df=df_backtranslated_with_filters, f_toxicity=False, f_acceptability=True, f_similarity=True)\n",
    "print(\"Number of rows in dataframe with no toxicity filter: \", len(df_no_toxicity_filter))\n",
    "\n",
    "# Create a dataframe without acceptability filter\n",
    "df_no_acceptability_filter = create_filtered_df(df=df_backtranslated_with_filters, f_toxicity=True, f_acceptability=False, f_similarity=True)\n",
    "print(\"Number of rows in dataframe with no acceptability filter: \", len(df_no_acceptability_filter))\n",
    "\n",
    "# Create a dataframe without similarity filter\n",
    "df_no_similarity_filter = create_filtered_df(df=df_backtranslated_with_filters, f_toxicity=True, f_acceptability=True, f_similarity=False)\n",
    "print(\"Number of rows in dataframe with no similarity filter: \", len(df_no_similarity_filter))"
   ]
  },
  {
   "cell_type": "code",
   "execution_count": 45,
   "metadata": {},
   "outputs": [],
   "source": [
    "# Set maximum number of rows to be saved for each dataset dictionary\n",
    "MAX_ROWS = len(df_all_filters)\n",
    "\n",
    "# Create dataset dictionaries based on filtered dataframes. Note: the validation and test sets are the same for all datasets.\n",
    "aug_datasets_all_filters = DatasetDict({\n",
    "    \"train\": Dataset.from_pandas(df_all_filters).shuffle().select(range(MAX_ROWS)),\n",
    "    \"validation\": raw_datasets[\"validation\"],\n",
    "    \"test\": raw_datasets[\"test\"]\n",
    "})\n",
    "\n",
    "# Randomly sample MAX_ROWS from df_no_toxicity_filter, df_no_acceptability_filter, and df_no_similarity_filter\n",
    "aug_datasets_no_tox_filter = DatasetDict({\n",
    "    \"train\": Dataset.from_pandas(df_no_toxicity_filter).shuffle().select(range(MAX_ROWS)),\n",
    "    \"validation\": raw_datasets[\"validation\"],\n",
    "    \"test\": raw_datasets[\"test\"]\n",
    "})\n",
    "\n",
    "aug_datasets_no_acc_filter = DatasetDict({\n",
    "    \"train\": Dataset.from_pandas(df_no_acceptability_filter).shuffle().select(range(MAX_ROWS)),\n",
    "    \"validation\": raw_datasets[\"validation\"],\n",
    "    \"test\": raw_datasets[\"test\"]\n",
    "})\n",
    "\n",
    "aug_datasets_no_sim_filter = DatasetDict({\n",
    "    \"train\": Dataset.from_pandas(df_no_similarity_filter).shuffle().select(range(MAX_ROWS)),\n",
    "    \"validation\": raw_datasets[\"validation\"],\n",
    "    \"test\": raw_datasets[\"test\"]\n",
    "})"
   ]
  }
 ],
 "metadata": {
  "kernelspec": {
   "display_name": "base",
   "language": "python",
   "name": "python3"
  },
  "language_info": {
   "codemirror_mode": {
    "name": "ipython",
    "version": 3
   },
   "file_extension": ".py",
   "mimetype": "text/x-python",
   "name": "python",
   "nbconvert_exporter": "python",
   "pygments_lexer": "ipython3",
   "version": "3.10.12"
  }
 },
 "nbformat": 4,
 "nbformat_minor": 2
}
