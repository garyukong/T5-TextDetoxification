{
 "cells": [
  {
   "cell_type": "code",
   "execution_count": 1,
   "metadata": {},
   "outputs": [
    {
     "name": "stderr",
     "output_type": "stream",
     "text": [
      "2023-10-24 19:59:43.028485: E tensorflow/compiler/xla/stream_executor/cuda/cuda_dnn.cc:9342] Unable to register cuDNN factory: Attempting to register factory for plugin cuDNN when one has already been registered\n",
      "2023-10-24 19:59:43.028540: E tensorflow/compiler/xla/stream_executor/cuda/cuda_fft.cc:609] Unable to register cuFFT factory: Attempting to register factory for plugin cuFFT when one has already been registered\n",
      "2023-10-24 19:59:43.029945: E tensorflow/compiler/xla/stream_executor/cuda/cuda_blas.cc:1518] Unable to register cuBLAS factory: Attempting to register factory for plugin cuBLAS when one has already been registered\n"
     ]
    }
   ],
   "source": [
    "from datasets import DatasetDict, Dataset\n",
    "from transformers import (\n",
    "    RobertaTokenizer,\n",
    "    RobertaForSequenceClassification,\n",
    "    T5Tokenizer,\n",
    "    T5ForConditionalGeneration,\n",
    "    T5Config,\n",
    "    AutoTokenizer,\n",
    "    AutoModelForSequenceClassification,\n",
    "    Seq2SeqTrainer,\n",
    "    DataCollatorForSeq2Seq,\n",
    "    GenerationConfig,\n",
    "    Seq2SeqTrainer,\n",
    "    Seq2SeqTrainingArguments,\n",
    "    EarlyStoppingCallback,\n",
    ")\n",
    "from sentence_transformers import SentenceTransformer\n",
    "import torch\n",
    "import numpy as np\n",
    "import tqdm\n",
    "import nltk\n",
    "import csv\n",
    "import time\n",
    "import gc\n",
    "import GPUtil\n",
    "import evaluate\n",
    "import pprint\n",
    "from numba import cuda\n",
    "import optuna\n",
    "import wandb\n",
    "import pandas as pd\n",
    "import seaborn as sns\n",
    "import matplotlib.pyplot as plt\n",
    "from functools import partial"
   ]
  },
  {
   "cell_type": "code",
   "execution_count": 2,
   "metadata": {},
   "outputs": [
    {
     "name": "stderr",
     "output_type": "stream",
     "text": [
      "ERROR:wandb.jupyter:Failed to detect the name of this notebook, you can set it manually with the WANDB_NOTEBOOK_NAME environment variable to enable code saving.\n",
      "\u001b[34m\u001b[1mwandb\u001b[0m: Currently logged in as: \u001b[33mgarykong\u001b[0m. Use \u001b[1m`wandb login --relogin`\u001b[0m to force relogin\n"
     ]
    },
    {
     "data": {
      "text/plain": [
       "True"
      ]
     },
     "execution_count": 2,
     "metadata": {},
     "output_type": "execute_result"
    }
   ],
   "source": [
    "import wandb\n",
    "wandb.login()"
   ]
  },
  {
   "cell_type": "code",
   "execution_count": 3,
   "metadata": {},
   "outputs": [],
   "source": [
    "import os\n",
    "os.environ[\"WANDB_PROJECT\"] = \"w266_final_project\""
   ]
  },
  {
   "cell_type": "code",
   "execution_count": 4,
   "metadata": {},
   "outputs": [
    {
     "name": "stdout",
     "output_type": "stream",
     "text": [
      "DEVICE: cuda\n"
     ]
    }
   ],
   "source": [
    "# Random seed for reproducibility\n",
    "RANDOM_SEED = 42\n",
    "\n",
    "# Parameters for classification\n",
    "BATCH_SIZE_EVAL = 32\n",
    "BATCH_SIZE_TRAIN = 32\n",
    "\n",
    "# Setting the DEVICE to cuda\n",
    "DEVICE = torch.device(\"cuda\" if torch.cuda.is_available() else \"cpu\")\n",
    "print(f\"DEVICE: {DEVICE}\")\n",
    "\n",
    "# Set path for profane word list\n",
    "PROFANE_WORD_PATH = \"../data/raw/en.txt\"\n",
    "\n",
    "# Set paths for X_train, X_test, y_train, y_test\n",
    "X_TRAIN_PATH = \"../data/processed/X_train.csv\"\n",
    "X_VAL_PATH = \"../data/processed/X_val.csv\"\n",
    "X_TEST_PATH = \"../data/processed/X_test.csv\"\n",
    "Y_TRAIN_PATH = \"../data/processed/y_train.csv\"\n",
    "Y_VAL_PATH = \"../data/processed/y_val.csv\"\n",
    "Y_TEST_PATH = \"../data/processed/y_test.csv\"\n",
    "\n",
    "# Set path for raw dataset dictionary\n",
    "RAW_DATASET_PATH = \"../data/processed/raw_dataset.pkl\""
   ]
  },
  {
   "cell_type": "markdown",
   "metadata": {},
   "source": [
    "## Debugging Functions"
   ]
  },
  {
   "cell_type": "code",
   "execution_count": 5,
   "metadata": {},
   "outputs": [],
   "source": [
    "def measure_time(func, *args, **kwargs):\n",
    "    start_time = time.time()\n",
    "    result = func(*args, **kwargs)\n",
    "    end_time = time.time()\n",
    "    elapsed_time = end_time - start_time\n",
    "    print(f\"Function {func.__name__} took {elapsed_time:.2f} seconds to run.\")\n",
    "    return result\n",
    "\n",
    "def get_gpu_memory():\n",
    "    \"\"\"\n",
    "    Gets the GPU memory information.\n",
    "    \"\"\"\n",
    "    gpus = GPUtil.getGPUs()\n",
    "    gpu = gpus[0]\n",
    "    print(f\"Total GPU memory: {gpu.memoryTotal}MB\")\n",
    "    print(f\"Free GPU memory: {gpu.memoryFree}MB\")\n",
    "    print(f\"Used GPU memory: {gpu.memoryUsed}MB\")\n",
    "\n",
    "def force_clear_GPU_memory():\n",
    "    \"\"\"\n",
    "    Force clears the GPU memory.\n",
    "    \"\"\"\n",
    "    cuda.select_device(0)\n",
    "    cuda.close()\n",
    "\n",
    "def cleanup():\n",
    "    \"\"\"\n",
    "    Cleans up the GPU memory.\n",
    "    \"\"\"\n",
    "    gc.collect()\n",
    "    torch.cuda.empty_cache()"
   ]
  },
  {
   "cell_type": "markdown",
   "metadata": {},
   "source": [
    "## Evaluation Metrics"
   ]
  },
  {
   "cell_type": "code",
   "execution_count": 6,
   "metadata": {},
   "outputs": [
    {
     "name": "stderr",
     "output_type": "stream",
     "text": [
      "Some weights of the model checkpoint at SkolkovoInstitute/roberta_toxicity_classifier were not used when initializing RobertaForSequenceClassification: ['roberta.pooler.dense.bias', 'roberta.pooler.dense.weight']\n",
      "- This IS expected if you are initializing RobertaForSequenceClassification from the checkpoint of a model trained on another task or with another architecture (e.g. initializing a BertForSequenceClassification model from a BertForPreTraining model).\n",
      "- This IS NOT expected if you are initializing RobertaForSequenceClassification from the checkpoint of a model that you expect to be exactly identical (initializing a BertForSequenceClassification model from a BertForSequenceClassification model).\n"
     ]
    }
   ],
   "source": [
    "# Initialize model variables\n",
    "model_bleurt = None\n",
    "model_bertscore = None\n",
    "model_sacrebleu = None\n",
    "\n",
    "# Toxicity classifier\n",
    "tokenizer_toxicity = RobertaTokenizer.from_pretrained(\"SkolkovoInstitute/roberta_toxicity_classifier\")\n",
    "model_toxicity = RobertaForSequenceClassification.from_pretrained(\n",
    "    \"SkolkovoInstitute/roberta_toxicity_classifier\"\n",
    ")\n",
    "\n",
    "# Acceptability classifier\n",
    "tokenizer_acceptability = AutoTokenizer.from_pretrained(\"iproskurina/tda-bert-en-cola\")\n",
    "model_acceptability = AutoModelForSequenceClassification.from_pretrained(\"iproskurina/tda-bert-en-cola\")"
   ]
  },
  {
   "cell_type": "code",
   "execution_count": 7,
   "metadata": {},
   "outputs": [],
   "source": [
    "def calc_sacrebleu(y_test, y_pred):\n",
    "    \"\"\"\n",
    "    Calculates the SacreBLEU score.\n",
    "\n",
    "    Args:\n",
    "        y_test (list): list of strings\n",
    "        y_pred (list): list of strings\n",
    "    \n",
    "    Returns:\n",
    "        results (float): SacreBLEU score\n",
    "    \"\"\"\n",
    "    global model_sacrebleu\n",
    "\n",
    "    if model_sacrebleu is None:\n",
    "        model_sacrebleu = evaluate.load(\"sacrebleu\")\n",
    "\n",
    "    results = model_sacrebleu.compute(predictions=y_pred, references=y_test)[\"score\"]\n",
    "    results = results/100\n",
    "\n",
    "    return results"
   ]
  },
  {
   "cell_type": "code",
   "execution_count": 8,
   "metadata": {},
   "outputs": [],
   "source": [
    "def calc_bert_score(\n",
    "    y_test, y_pred, model_type=\"microsoft/deberta-large-mnli\", output_mean=True\n",
    "):\n",
    "    \"\"\"\n",
    "    Calculates BERT score per line. Note: https://docs.google.com/spreadsheets/d/1RKOVpselB98Nnh_EOC4A2BYn8_201tmPODpNWu4w7xI/edit#gid=0 lists the best performing models\n",
    "\n",
    "    Args:\n",
    "        y_test (list): List of reference sentences.\n",
    "        y_pred (list): List of predicted sentences.\n",
    "        model_type (str): Type of BERT model to use.\n",
    "        output_mean (bool): Whether to output the mean of the scores.\n",
    "\n",
    "    Returns:\n",
    "        list of precision, recall, f1 scores.\n",
    "\n",
    "    \"\"\"\n",
    "    global model_bertscore\n",
    "\n",
    "    if model_bertscore is None:\n",
    "        model_bertscore = evaluate.load(\"bertscore\")\n",
    "        \n",
    "    results = model_bertscore.compute(predictions=y_pred, references=y_test, model_type=model_type)\n",
    "\n",
    "    precision = np.array(results[\"precision\"])\n",
    "    recall = np.array(results[\"recall\"])\n",
    "    f1 = np.array(results[\"f1\"])\n",
    "    \n",
    "    if output_mean:\n",
    "        precision = precision.mean()\n",
    "        recall = recall.mean()\n",
    "        f1 = f1.mean()\n",
    "\n",
    "    return precision, recall, f1"
   ]
  },
  {
   "cell_type": "code",
   "execution_count": 9,
   "metadata": {},
   "outputs": [],
   "source": [
    "def calc_bleurt(y_test, y_pred, checkpoint=\"BLEURT-20_D12\", output_mean = True):\n",
    "    \"\"\"\n",
    "    Calculates BLEURT score per line.\n",
    "\n",
    "    Args:\n",
    "        y_test (list): List of reference sentences.\n",
    "        y_pred (list): List of predicted sentences.\n",
    "        output_type (str): Type of output to return. Either 'numpy' or 'list'.\n",
    "\n",
    "    Returns:\n",
    "        list/array of BLEURT scores.\n",
    "    \"\"\"\n",
    "    global model_bleurt\n",
    "\n",
    "    if model_bleurt is None:\n",
    "        model_bleurt = evaluate.load(\"bleurt\", module_type=\"metric\", checkpoint=checkpoint)\n",
    "\n",
    "    results = np.array(model_bleurt.compute(predictions=y_pred, references=y_test)[\"scores\"])\n",
    "\n",
    "    if output_mean:\n",
    "        results = results.mean()\n",
    "\n",
    "    return results"
   ]
  },
  {
   "cell_type": "code",
   "execution_count": 10,
   "metadata": {},
   "outputs": [],
   "source": [
    "def calc_tox_acceptability(\n",
    "    data,\n",
    "    tokenizer,\n",
    "    model,\n",
    "    output_score=True,\n",
    "    output_mean=True):\n",
    "    \"\"\"\n",
    "    Calculates toxicity and acceptability scores for a given dataset.\n",
    "\n",
    "    Args:\n",
    "        data = list of strings to be evaluated\n",
    "        tokenizer = tokenizer for the model\n",
    "        model = model to be used for evaluation\n",
    "        output_score = whether to output the score or the label\n",
    "        output_mean = whether to output the mean of the scores or the scores for each sentence\n",
    "    \n",
    "    Returns:\n",
    "        array of toxicity and acceptability scores.\n",
    "    \"\"\"\n",
    "    model = model.to(DEVICE)\n",
    "    \n",
    "    inputs = tokenizer(data, return_tensors=\"pt\", padding=True).to(DEVICE)\n",
    "    with torch.no_grad():\n",
    "        logits = model(**inputs)[\"logits\"]\n",
    "        if output_score:\n",
    "            result = torch.nn.functional.softmax(logits, dim=1)[:, 1]\n",
    "        else:\n",
    "            result = logits.argmax(1).data\n",
    "        result = result.cpu().numpy()\n",
    "\n",
    "    if output_mean:\n",
    "        result = result.mean()\n",
    "        \n",
    "    return result"
   ]
  },
  {
   "cell_type": "code",
   "execution_count": 11,
   "metadata": {},
   "outputs": [],
   "source": [
    "def evaluate_metrics(\n",
    "    refs,\n",
    "    preds,\n",
    "    tokenizer_toxicity=tokenizer_toxicity,\n",
    "    model_toxicity=model_toxicity,\n",
    "    tokenizer_acceptability=tokenizer_acceptability,\n",
    "    model_acceptability=model_acceptability,\n",
    "    to_neutral=True,\n",
    "    weights={\n",
    "        \"BLEU\": 0.2,\n",
    "        \"STA\": 0.4,\n",
    "        \"Acceptability\": 0.2,\n",
    "        \"BERT_Score\": 0.2\n",
    "    },\n",
    "    include_bleurt=False\n",
    "):\n",
    "    \"\"\"\n",
    "    Calculates and returns a dictionary of evaluation metrics\n",
    "\n",
    "    Args:\n",
    "        refs (list): list of strings (reference)\n",
    "        preds (list): list of strings (predictions)\n",
    "        tokenizer_toxicity (tokenizer): tokenizer for toxicity model\n",
    "        model_toxicity (model): toxicity model\n",
    "        tokenizer_acceptability (tokenizer): tokenizer for acceptability model\n",
    "        model_acceptability (model): acceptability model\n",
    "        to_neutral (bool): whether the goal is to transfer to neutral (True) or to toxic (False)\n",
    "        weights (dict): dictionary of weights for each metric\n",
    "        include_bleurt (bool): whether to include BLEURT score in the output\n",
    "\n",
    "    Returns:\n",
    "        results (dict): dictionary of evaluation metrics\n",
    "    \"\"\"\n",
    "\n",
    "    # Calculate BLEU score\n",
    "    bleu = calc_sacrebleu(refs, preds)\n",
    "\n",
    "    # Calculate toxicity classification\n",
    "    tox_ref = calc_tox_acceptability(refs, tokenizer_toxicity, model_toxicity, output_score=False, output_mean=False)\n",
    "    tox_pred = calc_tox_acceptability(preds, tokenizer_toxicity, model_toxicity, output_score=False, output_mean=False)\n",
    "\n",
    "    # Calculate style transfer accuracy as proportion of sentences that were correctly classified (as non-toxic)\n",
    "    if to_neutral:\n",
    "        sta_correct_label = 0\n",
    "    else:\n",
    "        sta_correct_label = 1\n",
    "\n",
    "    sta_ref = (tox_ref == sta_correct_label).sum() / len(tox_ref)\n",
    "    sta_pred = (tox_pred == sta_correct_label).sum() / len(tox_pred)\n",
    "    sta_pct = sta_pred / sta_ref\n",
    "\n",
    "    # Calculate acceptability scores\n",
    "    acc_ref = calc_tox_acceptability(refs, tokenizer_acceptability, model_acceptability)\n",
    "    acc_pred = calc_tox_acceptability(preds, tokenizer_acceptability, model_acceptability)\n",
    "    acc_pct = acc_pred / acc_ref\n",
    "\n",
    "    # Calculate similarity score\n",
    "    bert_score_precision, bert_score_recall, bert_score_f1 = calc_bert_score(refs, preds, model_type=\"distilbert-base-uncased\")\n",
    "\n",
    "    # Calculate BLEURT score if include_bleurt is True\n",
    "    bleurt = None\n",
    "    if include_bleurt:\n",
    "        bleurt = calc_bleurt(refs, preds)\n",
    "\n",
    "    # Calculate composite score\n",
    "    composite_score = weights[\"BLEU\"] * bleu + weights[\"STA\"] * sta_pct + weights[\"Acceptability\"] * acc_pct + weights[\"BERT_Score\"] * bert_score_f1\n",
    "\n",
    "    # Return a dictionary of metrics\n",
    "    results = {\n",
    "        \"BLEU\": bleu,\n",
    "        \"STA_preds\": sta_pred,\n",
    "        \"STA_pct\": sta_pct,\n",
    "        \"Acceptability_preds\": acc_pred,\n",
    "        \"Acceptability_pct\": acc_pct,\n",
    "        \"BERT_score_f1\": bert_score_f1,\n",
    "        \"Overall\": composite_score,\n",
    "    }\n",
    "    if include_bleurt:\n",
    "        results[\"BLEURT\"] = bleurt\n",
    "\n",
    "    return results"
   ]
  },
  {
   "cell_type": "markdown",
   "metadata": {},
   "source": [
    "# Baseline Model"
   ]
  },
  {
   "cell_type": "code",
   "execution_count": 12,
   "metadata": {},
   "outputs": [
    {
     "data": {
      "text/plain": [
       "{'BLEU': 0.5291006187073797,\n",
       " 'STA_preds': 0.6596814752724225,\n",
       " 'STA_pct': 0.6915641476274166,\n",
       " 'Acceptability_preds': 0.47865131,\n",
       " 'Acceptability_pct': 0.6684278,\n",
       " 'BERT_score_f1': 0.9118211827953623,\n",
       " 'Overall': 0.698495584346327}"
      ]
     },
     "execution_count": 12,
     "metadata": {},
     "output_type": "execute_result"
    }
   ],
   "source": [
    "# Load data\n",
    "def load_data(path):\n",
    "    with open(path, \"r\") as file:\n",
    "        reader = csv.reader(file)\n",
    "        out = list(reader)\n",
    "        out = [item for sublist in out for item in sublist]\n",
    "        return out\n",
    "\n",
    "X_train = load_data(X_TRAIN_PATH)\n",
    "y_train = load_data(Y_TRAIN_PATH)\n",
    "X_val = load_data(X_VAL_PATH)\n",
    "y_val = load_data(Y_VAL_PATH)\n",
    "X_test = load_data(X_TEST_PATH)\n",
    "y_test = load_data(Y_TEST_PATH)\n",
    "\n",
    "# print(f\"Length of X_train: {len(X_train)}\")\n",
    "# print(f\"Length of y_train: {len(y_train)}\")\n",
    "# print(f\"Length of X_val: {len(X_val)}\")\n",
    "# print(f\"Length of y_val: {len(y_val)}\")\n",
    "# print(f\"Length of X_test: {len(X_test)}\")\n",
    "# print(f\"Length of y_test: {len(y_test)}\")\n",
    "\n",
    "def baseline_detoxifier(text_list, profane_word_path=PROFANE_WORD_PATH):\n",
    "    \"\"\"\n",
    "    Returns a detoxified version of the text by replacing toxic terms with blanks\n",
    "\n",
    "    Args:\n",
    "        text_list (list): list of strings to be detoxified\n",
    "        toxic_list (list): list of toxic terms to be removed from text_list\n",
    "\n",
    "    Returns:\n",
    "        detoxified_text_list (list): list of detoxified strings\n",
    "    \"\"\"\n",
    "    # Load list of profane words\n",
    "    profane_words = []\n",
    "    with open(profane_word_path, \"r\") as f:\n",
    "        for line in f:\n",
    "            profane_words.append(line.strip())\n",
    "\n",
    "    # Detoxify text\n",
    "    detoxified_text_list = []\n",
    "    for text in text_list:\n",
    "        for term in profane_words:\n",
    "            text = text.replace(term, \"\")\n",
    "        detoxified_text_list.append(text)\n",
    "\n",
    "    return detoxified_text_list\n",
    "\n",
    "y_pred_baseline = baseline_detoxifier(X_val)\n",
    "evaluate_metrics(y_val, y_pred_baseline)"
   ]
  },
  {
   "cell_type": "markdown",
   "metadata": {},
   "source": [
    "# Fine-tune T5 Model (Unidirectional)"
   ]
  },
  {
   "cell_type": "markdown",
   "metadata": {},
   "source": [
    "## Data prep"
   ]
  },
  {
   "cell_type": "code",
   "execution_count": 13,
   "metadata": {},
   "outputs": [
    {
     "name": "stderr",
     "output_type": "stream",
     "text": [
      "You are using the default legacy behaviour of the <class 'transformers.models.t5.tokenization_t5.T5Tokenizer'>. This is expected, and simply means that the `legacy` (previous) behavior will be used so nothing changes for you. If you want to use the new behaviour, set `legacy=False`. This should only be set if you understand what it means, and thouroughly read the reason why this was added as explained in https://github.com/huggingface/transformers/pull/24565\n",
      "WARNING:datasets.arrow_dataset:Loading cached processed dataset at /home/garykong/w266_final_project/data/processed/raw_dataset.pkl/train/cache-ac03a1eae4857ca9.arrow\n",
      "WARNING:datasets.arrow_dataset:Loading cached processed dataset at /home/garykong/w266_final_project/data/processed/raw_dataset.pkl/validation/cache-1a3c402aca53efae.arrow\n",
      "WARNING:datasets.arrow_dataset:Loading cached processed dataset at /home/garykong/w266_final_project/data/processed/raw_dataset.pkl/test/cache-52371f98a42bda9e.arrow\n"
     ]
    }
   ],
   "source": [
    "# Based on these guides: https://huggingface.co/learn/nlp-course/chapter7/4?fw=pt\n",
    "model_name_t5 = \"t5-small\"\n",
    "model_t5 = T5ForConditionalGeneration.from_pretrained(model_name_t5)\n",
    "tokenizer_t5 = T5Tokenizer.from_pretrained(model_name_t5)\n",
    "\n",
    "raw_datasets = DatasetDict.load_from_disk(RAW_DATASET_PATH)\n",
    "raw_datasets\n",
    "\n",
    "# Add prefix to source\n",
    "def add_prefix(datasetdict, prefix=\"to_neutral: \"):\n",
    "    datasetdict[\"train\"] = datasetdict[\"train\"].map(lambda x: {\"source\": prefix + x[\"source\"]})\n",
    "    datasetdict[\"validation\"] = datasetdict[\"validation\"].map(lambda x: {\"source\": prefix + x[\"source\"]})\n",
    "    datasetdict[\"test\"] = datasetdict[\"test\"].map(lambda x: {\"source\": prefix + x[\"source\"]})\n",
    "    return datasetdict\n",
    "\n",
    "prefixed_datasets = add_prefix(raw_datasets)"
   ]
  },
  {
   "cell_type": "code",
   "execution_count": 14,
   "metadata": {},
   "outputs": [
    {
     "data": {
      "application/vnd.jupyter.widget-view+json": {
       "model_id": "b96e310407f34891b6967f50fc9fde44",
       "version_major": 2,
       "version_minor": 0
      },
      "text/plain": [
       "Map:   0%|          | 0/10733 [00:00<?, ? examples/s]"
      ]
     },
     "metadata": {},
     "output_type": "display_data"
    },
    {
     "data": {
      "application/vnd.jupyter.widget-view+json": {
       "model_id": "bf435cd733b443ae9fb35b03c618fc88",
       "version_major": 2,
       "version_minor": 0
      },
      "text/plain": [
       "Map:   0%|          | 0/1193 [00:00<?, ? examples/s]"
      ]
     },
     "metadata": {},
     "output_type": "display_data"
    },
    {
     "data": {
      "application/vnd.jupyter.widget-view+json": {
       "model_id": "29e109fcc2a444cf85368b7bb23588c9",
       "version_major": 2,
       "version_minor": 0
      },
      "text/plain": [
       "Map:   0%|          | 0/671 [00:00<?, ? examples/s]"
      ]
     },
     "metadata": {},
     "output_type": "display_data"
    }
   ],
   "source": [
    "MAX_LENGTH = 70\n",
    "\n",
    "# Define the function that will process the datasets\n",
    "def preprocess_function(examples):\n",
    "\n",
    "    model_inputs = tokenizer_t5(\n",
    "        examples[\"source\"],\n",
    "        text_target=examples[\"target\"],\n",
    "        max_length=MAX_LENGTH,\n",
    "        truncation=True,\n",
    "    )\n",
    "\n",
    "    return model_inputs\n",
    "\n",
    "# Apply the preprocessing function to the datasets\n",
    "tokenized_datasets = prefixed_datasets.map(\n",
    "    preprocess_function,\n",
    "    batched=True,\n",
    "    remove_columns=[\"source\", \"target\"],\n",
    ")\n",
    "\n",
    "data_collator = DataCollatorForSeq2Seq(tokenizer_t5, model_t5, return_tensors=\"pt\", padding=True)"
   ]
  },
  {
   "cell_type": "code",
   "execution_count": 15,
   "metadata": {},
   "outputs": [],
   "source": [
    "# # Get lengths of sequences in tokenized_datasets\n",
    "# lengths = []\n",
    "# for i in range(len(tokenized_datasets['train'])):\n",
    "#     lengths.append(len(tokenized_datasets['train'][i]['labels']))\n",
    "# for i in range(len(tokenized_datasets['validation'])):\n",
    "#     lengths.append(len(tokenized_datasets['validation'][i]['labels']))\n",
    "# lengths = np.array(lengths)\n",
    "\n",
    "# # Plot density plot of lengths\n",
    "# import matplotlib.pyplot as plt\n",
    "# import seaborn as sns\n",
    "# sns.set_theme(style=\"whitegrid\")\n",
    "# ax = sns.kdeplot(lengths)\n",
    "# ax.set(xlabel='Length of sequence', ylabel='Density')\n",
    "# plt.show()\n",
    "\n",
    "# import pandas as pd\n",
    "# # Show summary statistics of lengths\n",
    "# lengths = pd.DataFrame(lengths)\n",
    "# lengths.describe()"
   ]
  },
  {
   "cell_type": "markdown",
   "metadata": {},
   "source": [
    "## Training without hyperparameter search"
   ]
  },
  {
   "cell_type": "code",
   "execution_count": 16,
   "metadata": {},
   "outputs": [],
   "source": [
    "# Define metrics\n",
    "def compute_metrics(eval_preds):\n",
    "    \"\"\"\n",
    "    Function to calculate the metrics for trainer.evaluate().\n",
    "\n",
    "    Args:\n",
    "        eval_preds (tuple): Tuple containing the predictions and references\n",
    "\n",
    "    Returns:\n",
    "        dict: Dictionary containing the metrics\n",
    "    \"\"\"\n",
    "    preds, refs = eval_preds\n",
    "\n",
    "    # In case the model returns more than the prediction logits\n",
    "    if isinstance(preds, tuple):\n",
    "        preds = preds[0]\n",
    "\n",
    "    decoded_preds = tokenizer_t5.batch_decode(preds, skip_special_tokens=True)\n",
    "\n",
    "    # Replace -100s in the labels as we can't decode them\n",
    "    refs = np.where(refs != -100, refs, tokenizer_t5.pad_token_id)\n",
    "    decoded_refs = tokenizer_t5.batch_decode(refs, skip_special_tokens=True)\n",
    "\n",
    "    # Some simple post-processing\n",
    "    decoded_preds = [pred.strip() for pred in decoded_preds]\n",
    "    decoded_refs = [ref.strip() for ref in decoded_refs]\n",
    "\n",
    "    # Evaluate metrics\n",
    "    return evaluate_metrics(\n",
    "        decoded_refs,\n",
    "        decoded_preds,\n",
    "        tokenizer_toxicity=tokenizer_toxicity,\n",
    "        model_toxicity=model_toxicity,\n",
    "        tokenizer_acceptability=tokenizer_acceptability,\n",
    "        model_acceptability=model_acceptability,\n",
    "        include_bleurt=False\n",
    "    )"
   ]
  },
  {
   "cell_type": "code",
   "execution_count": 19,
   "metadata": {},
   "outputs": [],
   "source": [
    "def setup_trainer(output_dir_name=\"t5-small-detoxify\",\n",
    "                train_dataset=tokenized_datasets[\"train\"],\n",
    "                eval_dataset=tokenized_datasets[\"validation\"],\n",
    "                per_device_train_batch_size=64,\n",
    "                per_device_eval_batch_size=64,\n",
    "                learning_rate=3e-4,\n",
    "                weight_decay=0.01,\n",
    "                num_train_epochs=10,\n",
    "                max_length=50,\n",
    "                num_beams=4,\n",
    "                compute_metrics=compute_metrics,\n",
    "                callbacks=None):\n",
    "    \"\"\"\n",
    "    Set up a Seq2SeqTrainer object for training a T5 model.\n",
    "\n",
    "    Args:\n",
    "        output_dir_name (str): What to name the model in the output directory.\n",
    "        train_dataset (Dataset): Training dataset.\n",
    "        eval_dataset (Dataset): Validation/test dataset.\n",
    "        per_device_train_batch_size (int): Batch size for training.\n",
    "        per_device_eval_batch_size (int): Batch size for evaluation.\n",
    "        learning_rate (float): Learning rate for optimizer.\n",
    "        weight_decay (float): Weight decay for optimizer.\n",
    "        num_train_epochs (int): Number of training epochs.\n",
    "        max_length (int): Maximum length of generated sequences.\n",
    "        num_beams (int): Number of beams for beam search.\n",
    "        compute_metrics (function): Function to compute evaluation metrics.\n",
    "\n",
    "    Returns:\n",
    "        Seq2SeqTrainer: Trainer object for training the T5 model.\n",
    "    \"\"\"\n",
    "    \n",
    "    # Define generation config\n",
    "    generation_config = GenerationConfig(\n",
    "        max_length=max_length,\n",
    "        num_beams=num_beams,\n",
    "        early_stopping=True,\n",
    "        eos_token_id=tokenizer_t5.eos_token_id,\n",
    "        bos_token_id=tokenizer_t5.bos_token_id,\n",
    "        pad_token_id=tokenizer_t5.pad_token_id,\n",
    "        decoder_start_token_id=tokenizer_t5.pad_token_id)\n",
    "\n",
    "    # Save the generation config\n",
    "    GEN_CONFIG_PATH = f\"../models/{output_dir_name}/generation_config\"\n",
    "    generation_config.save_pretrained(GEN_CONFIG_PATH)\n",
    "\n",
    "    # Define the training arguments\n",
    "    args = Seq2SeqTrainingArguments(\n",
    "        output_dir=f'../models/{output_dir_name}',\n",
    "        evaluation_strategy=\"epoch\",\n",
    "        save_strategy=\"epoch\",\n",
    "        logging_strategy=\"epoch\",\n",
    "        # save_total_limit=2,\n",
    "        num_train_epochs=num_train_epochs,\n",
    "        per_device_train_batch_size=per_device_train_batch_size,\n",
    "        per_device_eval_batch_size=per_device_eval_batch_size,\n",
    "        learning_rate=learning_rate, \n",
    "        weight_decay=weight_decay,\n",
    "        predict_with_generate=True,\n",
    "        generation_config=GEN_CONFIG_PATH,\n",
    "        fp16=True,\n",
    "        report_to=\"wandb\",\n",
    "        logging_steps=100,\n",
    "        load_best_model_at_end=True,\n",
    "        metric_for_best_model=\"Overall\",\n",
    "        greater_is_better=True,\n",
    "    )\n",
    "\n",
    "    # Reinstantiate the model\n",
    "    model_t5 = T5ForConditionalGeneration.from_pretrained(model_name_t5)\n",
    "\n",
    "    # Instantiate the trainer\n",
    "    trainer = Seq2SeqTrainer(\n",
    "        model = model_t5,\n",
    "        args = args,\n",
    "        train_dataset=train_dataset,\n",
    "        eval_dataset=eval_dataset,\n",
    "        data_collator=data_collator,\n",
    "        tokenizer=tokenizer_t5,\n",
    "        compute_metrics=compute_metrics,\n",
    "        callbacks=callbacks\n",
    "    )\n",
    "\n",
    "    return trainer"
   ]
  },
  {
   "cell_type": "code",
   "execution_count": 20,
   "metadata": {},
   "outputs": [
    {
     "data": {
      "text/html": [
       "Changes to your `wandb` environment variables will be ignored because your `wandb` session has already started. For more information on how to modify your settings with `wandb.init()` arguments, please refer to <a href='https://wandb.me/wandb-init' target=\"_blank\">the W&B docs</a>."
      ],
      "text/plain": [
       "<IPython.core.display.HTML object>"
      ]
     },
     "metadata": {},
     "output_type": "display_data"
    },
    {
     "data": {
      "text/html": [
       "Finishing last run (ID:2nmv81p0) before initializing another..."
      ],
      "text/plain": [
       "<IPython.core.display.HTML object>"
      ]
     },
     "metadata": {},
     "output_type": "display_data"
    },
    {
     "data": {
      "text/html": [
       "Waiting for W&B process to finish... <strong style=\"color:green\">(success).</strong>"
      ],
      "text/plain": [
       "<IPython.core.display.HTML object>"
      ]
     },
     "metadata": {},
     "output_type": "display_data"
    },
    {
     "name": "stderr",
     "output_type": "stream",
     "text": [
      "wandb: WARNING Source type is set to 'repo' but some required information is missing from the environment. A job will not be created from this run. See https://docs.wandb.ai/guides/launch/create-job\n"
     ]
    },
    {
     "data": {
      "text/html": [
       " View run <strong style=\"color:#cdcd00\">t5-small-detoxify</strong> at: <a href='https://wandb.ai/garykong/w266_final_project/runs/2nmv81p0' target=\"_blank\">https://wandb.ai/garykong/w266_final_project/runs/2nmv81p0</a><br/>Synced 5 W&B file(s), 0 media file(s), 0 artifact file(s) and 0 other file(s)"
      ],
      "text/plain": [
       "<IPython.core.display.HTML object>"
      ]
     },
     "metadata": {},
     "output_type": "display_data"
    },
    {
     "data": {
      "text/html": [
       "Find logs at: <code>./wandb/run-20231024_200118-2nmv81p0/logs</code>"
      ],
      "text/plain": [
       "<IPython.core.display.HTML object>"
      ]
     },
     "metadata": {},
     "output_type": "display_data"
    },
    {
     "data": {
      "text/html": [
       "Successfully finished last run (ID:2nmv81p0). Initializing new run:<br/>"
      ],
      "text/plain": [
       "<IPython.core.display.HTML object>"
      ]
     },
     "metadata": {},
     "output_type": "display_data"
    },
    {
     "data": {
      "application/vnd.jupyter.widget-view+json": {
       "model_id": "b56b669ccf234cb9b389252b64811069",
       "version_major": 2,
       "version_minor": 0
      },
      "text/plain": [
       "VBox(children=(Label(value='Waiting for wandb.init()...\\r'), FloatProgress(value=0.01111242664444237, max=1.0)…"
      ]
     },
     "metadata": {},
     "output_type": "display_data"
    },
    {
     "data": {
      "text/html": [
       "Tracking run with wandb version 0.15.12"
      ],
      "text/plain": [
       "<IPython.core.display.HTML object>"
      ]
     },
     "metadata": {},
     "output_type": "display_data"
    },
    {
     "data": {
      "text/html": [
       "Run data is saved locally in <code>/home/garykong/w266_final_project/notebooks/wandb/run-20231024_203811-w4gk3fga</code>"
      ],
      "text/plain": [
       "<IPython.core.display.HTML object>"
      ]
     },
     "metadata": {},
     "output_type": "display_data"
    },
    {
     "data": {
      "text/html": [
       "Syncing run <strong><a href='https://wandb.ai/garykong/w266_final_project/runs/w4gk3fga' target=\"_blank\">t5-small-detoxify</a></strong> to <a href='https://wandb.ai/garykong/w266_final_project' target=\"_blank\">Weights & Biases</a> (<a href='https://wandb.me/run' target=\"_blank\">docs</a>)<br/>"
      ],
      "text/plain": [
       "<IPython.core.display.HTML object>"
      ]
     },
     "metadata": {},
     "output_type": "display_data"
    },
    {
     "data": {
      "text/html": [
       " View project at <a href='https://wandb.ai/garykong/w266_final_project' target=\"_blank\">https://wandb.ai/garykong/w266_final_project</a>"
      ],
      "text/plain": [
       "<IPython.core.display.HTML object>"
      ]
     },
     "metadata": {},
     "output_type": "display_data"
    },
    {
     "data": {
      "text/html": [
       " View run at <a href='https://wandb.ai/garykong/w266_final_project/runs/w4gk3fga' target=\"_blank\">https://wandb.ai/garykong/w266_final_project/runs/w4gk3fga</a>"
      ],
      "text/plain": [
       "<IPython.core.display.HTML object>"
      ]
     },
     "metadata": {},
     "output_type": "display_data"
    },
    {
     "data": {
      "text/html": [
       "\n",
       "    <div>\n",
       "      \n",
       "      <progress value='1176' max='3360' style='width:300px; height:20px; vertical-align: middle;'></progress>\n",
       "      [1176/3360 08:15 < 15:21, 2.37 it/s, Epoch 7/20]\n",
       "    </div>\n",
       "    <table border=\"1\" class=\"dataframe\">\n",
       "  <thead>\n",
       " <tr style=\"text-align: left;\">\n",
       "      <th>Epoch</th>\n",
       "      <th>Training Loss</th>\n",
       "      <th>Validation Loss</th>\n",
       "      <th>Bleu</th>\n",
       "      <th>Sta Preds</th>\n",
       "      <th>Sta Pct</th>\n",
       "      <th>Acceptability Preds</th>\n",
       "      <th>Acceptability Pct</th>\n",
       "      <th>Bert Score F1</th>\n",
       "      <th>Overall</th>\n",
       "    </tr>\n",
       "  </thead>\n",
       "  <tbody>\n",
       "    <tr>\n",
       "      <td>1</td>\n",
       "      <td>1.171400</td>\n",
       "      <td>0.959545</td>\n",
       "      <td>0.598171</td>\n",
       "      <td>0.837385</td>\n",
       "      <td>0.877856</td>\n",
       "      <td>0.680322</td>\n",
       "      <td>0.950066</td>\n",
       "      <td>0.923530</td>\n",
       "      <td>0.845496</td>\n",
       "    </tr>\n",
       "    <tr>\n",
       "      <td>2</td>\n",
       "      <td>0.988000</td>\n",
       "      <td>0.935413</td>\n",
       "      <td>0.599576</td>\n",
       "      <td>0.856664</td>\n",
       "      <td>0.898067</td>\n",
       "      <td>0.695094</td>\n",
       "      <td>0.970695</td>\n",
       "      <td>0.924531</td>\n",
       "      <td>0.858187</td>\n",
       "    </tr>\n",
       "    <tr>\n",
       "      <td>3</td>\n",
       "      <td>0.914200</td>\n",
       "      <td>0.927444</td>\n",
       "      <td>0.606512</td>\n",
       "      <td>0.880134</td>\n",
       "      <td>0.922671</td>\n",
       "      <td>0.694731</td>\n",
       "      <td>0.970188</td>\n",
       "      <td>0.926003</td>\n",
       "      <td>0.869609</td>\n",
       "    </tr>\n",
       "    <tr>\n",
       "      <td>4</td>\n",
       "      <td>0.855400</td>\n",
       "      <td>0.915338</td>\n",
       "      <td>0.602848</td>\n",
       "      <td>0.882649</td>\n",
       "      <td>0.925308</td>\n",
       "      <td>0.702244</td>\n",
       "      <td>0.980681</td>\n",
       "      <td>0.926740</td>\n",
       "      <td>0.872177</td>\n",
       "    </tr>\n",
       "    <tr>\n",
       "      <td>5</td>\n",
       "      <td>0.807200</td>\n",
       "      <td>0.917646</td>\n",
       "      <td>0.605354</td>\n",
       "      <td>0.891031</td>\n",
       "      <td>0.934095</td>\n",
       "      <td>0.711084</td>\n",
       "      <td>0.993025</td>\n",
       "      <td>0.925007</td>\n",
       "      <td>0.878315</td>\n",
       "    </tr>\n",
       "    <tr>\n",
       "      <td>6</td>\n",
       "      <td>0.765800</td>\n",
       "      <td>0.929461</td>\n",
       "      <td>0.601978</td>\n",
       "      <td>0.896899</td>\n",
       "      <td>0.940246</td>\n",
       "      <td>0.703594</td>\n",
       "      <td>0.982566</td>\n",
       "      <td>0.925205</td>\n",
       "      <td>0.878048</td>\n",
       "    </tr>\n",
       "    <tr>\n",
       "      <td>7</td>\n",
       "      <td>0.730200</td>\n",
       "      <td>0.941846</td>\n",
       "      <td>0.597391</td>\n",
       "      <td>0.897737</td>\n",
       "      <td>0.941125</td>\n",
       "      <td>0.704922</td>\n",
       "      <td>0.984421</td>\n",
       "      <td>0.926575</td>\n",
       "      <td>0.878127</td>\n",
       "    </tr>\n",
       "  </tbody>\n",
       "</table><p>"
      ],
      "text/plain": [
       "<IPython.core.display.HTML object>"
      ]
     },
     "metadata": {},
     "output_type": "display_data"
    },
    {
     "data": {
      "text/html": [
       "Waiting for W&B process to finish... <strong style=\"color:green\">(success).</strong>"
      ],
      "text/plain": [
       "<IPython.core.display.HTML object>"
      ]
     },
     "metadata": {},
     "output_type": "display_data"
    },
    {
     "name": "stderr",
     "output_type": "stream",
     "text": [
      "wandb: WARNING Source type is set to 'repo' but some required information is missing from the environment. A job will not be created from this run. See https://docs.wandb.ai/guides/launch/create-job\n"
     ]
    },
    {
     "data": {
      "application/vnd.jupyter.widget-view+json": {
       "model_id": "e893e1c6bab943f59688ac9500ecacf3",
       "version_major": 2,
       "version_minor": 0
      },
      "text/plain": [
       "VBox(children=(Label(value='0.002 MB of 0.027 MB uploaded (0.000 MB deduped)\\r'), FloatProgress(value=0.071812…"
      ]
     },
     "metadata": {},
     "output_type": "display_data"
    },
    {
     "data": {
      "text/html": [
       "<style>\n",
       "    table.wandb td:nth-child(1) { padding: 0 10px; text-align: left ; width: auto;} td:nth-child(2) {text-align: left ; width: 100%}\n",
       "    .wandb-row { display: flex; flex-direction: row; flex-wrap: wrap; justify-content: flex-start; width: 100% }\n",
       "    .wandb-col { display: flex; flex-direction: column; flex-basis: 100%; flex: 1; padding: 10px; }\n",
       "    </style>\n",
       "<div class=\"wandb-row\"><div class=\"wandb-col\"><h3>Run history:</h3><br/><table class=\"wandb\"><tr><td>eval/Acceptability_pct</td><td>▁▄▄▆█▆▇</td></tr><tr><td>eval/Acceptability_preds</td><td>▁▄▄▆█▆▇</td></tr><tr><td>eval/BERT_score_f1</td><td>▁▃▆█▄▅█</td></tr><tr><td>eval/BLEU</td><td>▂▃█▅▇▅▁</td></tr><tr><td>eval/Overall</td><td>▁▄▆▇███</td></tr><tr><td>eval/STA_pct</td><td>▁▃▆▆▇██</td></tr><tr><td>eval/STA_preds</td><td>▁▃▆▆▇██</td></tr><tr><td>eval/loss</td><td>█▄▃▁▁▃▅</td></tr><tr><td>eval/runtime</td><td>▁▂▅█▃█▆</td></tr><tr><td>eval/samples_per_second</td><td>█▇▄▁▆▁▃</td></tr><tr><td>eval/steps_per_second</td><td>█▇▄▁▅▁▃</td></tr><tr><td>train/epoch</td><td>▁▁▂▂▃▃▅▅▆▆▇▇███</td></tr><tr><td>train/global_step</td><td>▁▁▂▂▃▃▅▅▆▆▇▇███</td></tr><tr><td>train/learning_rate</td><td>█▇▆▅▃▂▁</td></tr><tr><td>train/loss</td><td>█▅▄▃▂▂▁</td></tr><tr><td>train/total_flos</td><td>▁</td></tr><tr><td>train/train_loss</td><td>▁</td></tr><tr><td>train/train_runtime</td><td>▁</td></tr><tr><td>train/train_samples_per_second</td><td>▁</td></tr><tr><td>train/train_steps_per_second</td><td>▁</td></tr></table><br/></div><div class=\"wandb-col\"><h3>Run summary:</h3><br/><table class=\"wandb\"><tr><td>eval/Acceptability_pct</td><td>0.98442</td></tr><tr><td>eval/Acceptability_preds</td><td>0.70492</td></tr><tr><td>eval/BERT_score_f1</td><td>0.92658</td></tr><tr><td>eval/BLEU</td><td>0.59739</td></tr><tr><td>eval/Overall</td><td>0.87813</td></tr><tr><td>eval/STA_pct</td><td>0.94112</td></tr><tr><td>eval/STA_preds</td><td>0.89774</td></tr><tr><td>eval/loss</td><td>0.94185</td></tr><tr><td>eval/runtime</td><td>48.1971</td></tr><tr><td>eval/samples_per_second</td><td>24.753</td></tr><tr><td>eval/steps_per_second</td><td>0.394</td></tr><tr><td>train/epoch</td><td>7.0</td></tr><tr><td>train/global_step</td><td>1176</td></tr><tr><td>train/learning_rate</td><td>0.00019</td></tr><tr><td>train/loss</td><td>0.7302</td></tr><tr><td>train/total_flos</td><td>758042557218816.0</td></tr><tr><td>train/train_loss</td><td>0.89032</td></tr><tr><td>train/train_runtime</td><td>495.6026</td></tr><tr><td>train/train_samples_per_second</td><td>433.129</td></tr><tr><td>train/train_steps_per_second</td><td>6.78</td></tr></table><br/></div></div>"
      ],
      "text/plain": [
       "<IPython.core.display.HTML object>"
      ]
     },
     "metadata": {},
     "output_type": "display_data"
    },
    {
     "data": {
      "text/html": [
       " View run <strong style=\"color:#cdcd00\">t5-small-detoxify</strong> at: <a href='https://wandb.ai/garykong/w266_final_project/runs/w4gk3fga' target=\"_blank\">https://wandb.ai/garykong/w266_final_project/runs/w4gk3fga</a><br/>Synced 5 W&B file(s), 0 media file(s), 0 artifact file(s) and 0 other file(s)"
      ],
      "text/plain": [
       "<IPython.core.display.HTML object>"
      ]
     },
     "metadata": {},
     "output_type": "display_data"
    },
    {
     "data": {
      "text/html": [
       "Find logs at: <code>./wandb/run-20231024_203811-w4gk3fga/logs</code>"
      ],
      "text/plain": [
       "<IPython.core.display.HTML object>"
      ]
     },
     "metadata": {},
     "output_type": "display_data"
    }
   ],
   "source": [
    "trainer_t5_small = setup_trainer(\n",
    "    num_train_epochs=20,\n",
    "    callbacks=[EarlyStoppingCallback(early_stopping_patience=2)] # Typically patience is 10% of number of epochs\n",
    ")\n",
    "\n",
    "wandb.init(project=\"w266_final_project\", name=\"t5-small-detoxify\")\n",
    "trainer_t5_small.train() # General rule is 10% number of epochs\n",
    "wandb.finish()"
   ]
  },
  {
   "cell_type": "code",
   "execution_count": 19,
   "metadata": {},
   "outputs": [
    {
     "ename": "NameError",
     "evalue": "name 'trainer_t5_small' is not defined",
     "output_type": "error",
     "traceback": [
      "\u001b[0;31m---------------------------------------------------------------------------\u001b[0m",
      "\u001b[0;31mNameError\u001b[0m                                 Traceback (most recent call last)",
      "\u001b[1;32m/home/garykong/w266_final_project/notebooks/2_Models.ipynb Cell 25\u001b[0m line \u001b[0;36m1\n\u001b[0;32m----> <a href='vscode-notebook-cell://ssh-remote%2Bdeeplearning-1-vm.europe-west4-b.w266-401709/home/garykong/w266_final_project/notebooks/2_Models.ipynb#X40sdnNjb2RlLXJlbW90ZQ%3D%3D?line=0'>1</a>\u001b[0m predictions_t5_small \u001b[39m=\u001b[39m trainer_t5_small\u001b[39m.\u001b[39mpredict(tokenized_datasets[\u001b[39m\"\u001b[39m\u001b[39mvalidation\u001b[39m\u001b[39m\"\u001b[39m])\n\u001b[1;32m      <a href='vscode-notebook-cell://ssh-remote%2Bdeeplearning-1-vm.europe-west4-b.w266-401709/home/garykong/w266_final_project/notebooks/2_Models.ipynb#X40sdnNjb2RlLXJlbW90ZQ%3D%3D?line=2'>3</a>\u001b[0m \u001b[39m# Batch decode predictions\u001b[39;00m\n\u001b[1;32m      <a href='vscode-notebook-cell://ssh-remote%2Bdeeplearning-1-vm.europe-west4-b.w266-401709/home/garykong/w266_final_project/notebooks/2_Models.ipynb#X40sdnNjb2RlLXJlbW90ZQ%3D%3D?line=3'>4</a>\u001b[0m decoded_preds \u001b[39m=\u001b[39m tokenizer_t5\u001b[39m.\u001b[39mbatch_decode(predictions_t5_small\u001b[39m.\u001b[39mpredictions, skip_special_tokens\u001b[39m=\u001b[39m\u001b[39mTrue\u001b[39;00m)\n",
      "\u001b[0;31mNameError\u001b[0m: name 'trainer_t5_small' is not defined"
     ]
    }
   ],
   "source": [
    "# predictions_t5_small = trainer_t5_small.predict(tokenized_datasets[\"validation\"])\n",
    "\n",
    "# # Batch decode predictions\n",
    "# decoded_preds = tokenizer_t5.batch_decode(predictions_t5_small.predictions, skip_special_tokens=True)\n",
    "\n",
    "# # Show examples of decoded_preds alongside the source and the target\n",
    "# for i in range(10):\n",
    "#     print(f\"Source: {raw_datasets['validation'][i]['source']}\")\n",
    "#     print(f\"Target: {raw_datasets['validation'][i]['target']}\")\n",
    "#     print(f\"Prediction: {decoded_preds[i]}\")\n",
    "#     print()"
   ]
  },
  {
   "cell_type": "markdown",
   "metadata": {},
   "source": [
    "While validation loss increases after 4 epochs, the overall score keeps increasing and toxicity declines as well. This suggests that the model is still improving along the lines of the metrics that we care about"
   ]
  },
  {
   "cell_type": "markdown",
   "metadata": {},
   "source": [
    "## Training with hyperparameter search"
   ]
  },
  {
   "cell_type": "code",
   "execution_count": null,
   "metadata": {},
   "outputs": [
    {
     "name": "stderr",
     "output_type": "stream",
     "text": [
      "WARNING:root:XRT configuration not detected. Defaulting to preview PJRT runtime. To silence this warning and continue using PJRT, explicitly set PJRT_DEVICE to a supported device or configure XRT. To disable default device selection, set PJRT_SELECT_DEFAULT_DEVICE=0\n",
      "WARNING:root:For more information about the status of PJRT, see https://github.com/pytorch/xla/blob/master/docs/pjrt.md\n",
      "WARNING:root:Defaulting to PJRT_DEVICE=CPU\n"
     ]
    }
   ],
   "source": [
    "# Define objective function for Optuna\n",
    "def compute_objective(metrics):\n",
    "    return metrics[\"eval_Overall\"]\n",
    "\n",
    "# Define the hyperparameter search space for Optuna\n",
    "def optuna_hp_space(trial):\n",
    "    return {\n",
    "        \"learning_rate\": trial.suggest_float(\"learning_rate\", 1e-4, 3e-4, step=1e-4),\n",
    "        \"per_device_train_batch_size\": trial.suggest_categorical(\"per_device_train_batch_size\", [16, 32, 64]),\n",
    "        \"weight_decay\": trial.suggest_categorical(\"weight_decay\", [0.001, 0.01, 0.1]),\n",
    "        \"num_train_epochs\": trial.suggest_int(\"num_train_epochs\", 4, 10),\n",
    "        \"max_length\": trial.suggest_int(\"max_length\", 43, 60), # Lower bound is the maximum of actual train and validation\n",
    "        \"num_beams\": trial.suggest_int(\"num_beams\", 2, 6),\n",
    "    }\n",
    "\n",
    "# Define the model initialization function\n",
    "def model_init(trial=None):\n",
    "    if trial is None:\n",
    "        # Use default values when trial is None (i.e. for the first run)\n",
    "        max_length = 50\n",
    "        num_beams = 4\n",
    "    else:\n",
    "        # Get generation hyperparameters from the trial\n",
    "        max_length = trial.params[\"max_length\"]\n",
    "        num_beams = trial.params[\"num_beams\"]\n",
    "\n",
    "    model = T5ForConditionalGeneration.from_pretrained(model_name_t5)\n",
    "\n",
    "    gen_config = GenerationConfig(\n",
    "        max_length=max_length,\n",
    "        num_beams=num_beams,\n",
    "        decoder_start_token_id=tokenizer_t5.pad_token_id,\n",
    "        pad_token_id=tokenizer_t5.pad_token_id,\n",
    "        eos_token_id=tokenizer_t5.eos_token_id,\n",
    "        bos_token_id=tokenizer_t5.bos_token_id,\n",
    "    )\n",
    "    \n",
    "    # Apply generation config to the model\n",
    "    model.config.update(gen_config.to_dict())\n",
    "\n",
    "    return model\n",
    "\n",
    "# Define the training arguments\n",
    "args_t5_small_ho = Seq2SeqTrainingArguments(\n",
    "    output_dir='../models/t5-small-detoxify-ho',\n",
    "    save_strategy=\"epoch\",\n",
    "    evaluation_strategy=\"epoch\",\n",
    "    logging_strategy=\"epoch\",\n",
    "    save_total_limit=1,\n",
    "    num_train_epochs=10,\n",
    "    per_device_train_batch_size=64,\n",
    "    per_device_eval_batch_size=64,\n",
    "    learning_rate=3e-4, # https://huggingface.co/docs/transformers/model_doc/t5#training suggests 1e-4 or 3e-4\n",
    "    weight_decay=0.01,\n",
    "    predict_with_generate=True,\n",
    "    fp16=True,\n",
    "    report_to=\"wandb\",\n",
    "    load_best_model_at_end=True,\n",
    "    metric_for_best_model=\"Overall\",\n",
    "    greater_is_better=True,\n",
    ")\n",
    "\n",
    "# Instantiate the trainer\n",
    "trainer_t5_small_ho = Seq2SeqTrainer(\n",
    "    model=None,  # model is None because it will be initialized in model_init\n",
    "    args=args_t5_small_ho,\n",
    "    train_dataset=tokenized_datasets[\"train\"],\n",
    "    eval_dataset=tokenized_datasets[\"validation\"],\n",
    "    data_collator=data_collator,\n",
    "    tokenizer=tokenizer_t5,\n",
    "    compute_metrics=compute_metrics,\n",
    "    model_init=model_init,\n",
    ")\n",
    "\n",
    "# # Call hyperparameter search\n",
    "# best_trial_t5_small_ho = trainer_t5_small_ho.hyperparameter_search(\n",
    "#     direction=\"maximize\",\n",
    "#     backend=\"optuna\",\n",
    "#     hp_space=optuna_hp_space,\n",
    "#     n_trials=20,\n",
    "#     study_name=\"optuna_t5_small_detoxify\",\n",
    "#     compute_objective=compute_objective,\n",
    "#     pruner=optuna.pruners.HyperbandPruner(), # Recommended here: https://optuna.readthedocs.io/en/stable/tutorial/10_key_features/003_efficient_optimization_algorithms.htm\n",
    "#     sampler=optuna.samplers.TPESampler(),\n",
    "# )\n",
    "# best_trial_t5_small_ho"
   ]
  },
  {
   "cell_type": "code",
   "execution_count": null,
   "metadata": {},
   "outputs": [
    {
     "data": {
      "text/plain": [
       "{'learning_rate': 0.0003,\n",
       " 'per_device_train_batch_size': 16,\n",
       " 'weight_decay': 0.001,\n",
       " 'num_train_epochs': 11,\n",
       " 'max_length': 58,\n",
       " 'num_beams': 3}"
      ]
     },
     "execution_count": 54,
     "metadata": {},
     "output_type": "execute_result"
    }
   ],
   "source": [
    "# best_trial_t5_small_ho.hyperparameters"
   ]
  },
  {
   "cell_type": "markdown",
   "metadata": {},
   "source": [
    "The details of the best run:"
   ]
  },
  {
   "cell_type": "markdown",
   "metadata": {},
   "source": [
    "- Run data is saved locally in /home/garykong/w266_final_project/notebooks/wandb/run-20231019_114519-aeb60aqb\n",
    "- Syncing run bright-waterfall-36 to Weights & Biases (docs)\n",
    "- View project at https://wandb.ai/garykong/w266_final_project\n",
    "- View run at https://wandb.ai/garykong/w266_final_project/runs/aeb60aqb\n",
    "- Hyperparameters: {'learning_rate': 0.0003,\n",
    " 'per_device_train_batch_size': 16,\n",
    " 'weight_decay': 0.001,\n",
    " 'num_train_epochs': 11,\n",
    " 'max_length': 58,\n",
    " 'num_beams': 3}\n",
    "- Path of checkpoint: '../models/t5-small-detoxify-ho/run-1/checkpoint-4697'"
   ]
  },
  {
   "cell_type": "markdown",
   "metadata": {},
   "source": [
    "Let's create a new trainer object with these hyperparameters"
   ]
  },
  {
   "cell_type": "code",
   "execution_count": null,
   "metadata": {},
   "outputs": [],
   "source": [
    "# trainer_t5_small_optimized = setup_trainer(\n",
    "#     model_name_t5='../models/t5-small-detoxify-ho/run-1/checkpoint-4697',\n",
    "#     per_device_train_batch_size=16,\n",
    "#     per_device_eval_batch_size=64,\n",
    "#     weight_decay=0.001,\n",
    "#     learning_rate=0.0003,\n",
    "#     num_train_epochs=11,\n",
    "#     max_length=58,\n",
    "#     num_beams=3\n",
    "# )"
   ]
  },
  {
   "cell_type": "code",
   "execution_count": null,
   "metadata": {},
   "outputs": [
    {
     "data": {
      "text/html": [],
      "text/plain": [
       "<IPython.core.display.HTML object>"
      ]
     },
     "metadata": {},
     "output_type": "display_data"
    },
    {
     "data": {
      "text/html": [
       "Changes to your `wandb` environment variables will be ignored because your `wandb` session has already started. For more information on how to modify your settings with `wandb.init()` arguments, please refer to <a href='https://wandb.me/wandb-init' target=\"_blank\">the W&B docs</a>."
      ],
      "text/plain": [
       "<IPython.core.display.HTML object>"
      ]
     },
     "metadata": {},
     "output_type": "display_data"
    },
    {
     "data": {
      "text/html": [
       "Tracking run with wandb version 0.15.12"
      ],
      "text/plain": [
       "<IPython.core.display.HTML object>"
      ]
     },
     "metadata": {},
     "output_type": "display_data"
    },
    {
     "data": {
      "text/html": [
       "Run data is saved locally in <code>/home/garykong/w266_final_project/notebooks/wandb/run-20231023_094044-vopizxox</code>"
      ],
      "text/plain": [
       "<IPython.core.display.HTML object>"
      ]
     },
     "metadata": {},
     "output_type": "display_data"
    },
    {
     "data": {
      "text/html": [
       "Syncing run <strong><a href='https://wandb.ai/garykong/w266_final_project/runs/vopizxox' target=\"_blank\">daily-sea-60</a></strong> to <a href='https://wandb.ai/garykong/w266_final_project' target=\"_blank\">Weights & Biases</a> (<a href='https://wandb.me/run' target=\"_blank\">docs</a>)<br/>"
      ],
      "text/plain": [
       "<IPython.core.display.HTML object>"
      ]
     },
     "metadata": {},
     "output_type": "display_data"
    },
    {
     "data": {
      "text/html": [
       " View project at <a href='https://wandb.ai/garykong/w266_final_project' target=\"_blank\">https://wandb.ai/garykong/w266_final_project</a>"
      ],
      "text/plain": [
       "<IPython.core.display.HTML object>"
      ]
     },
     "metadata": {},
     "output_type": "display_data"
    },
    {
     "data": {
      "text/html": [
       " View run at <a href='https://wandb.ai/garykong/w266_final_project/runs/vopizxox' target=\"_blank\">https://wandb.ai/garykong/w266_final_project/runs/vopizxox</a>"
      ],
      "text/plain": [
       "<IPython.core.display.HTML object>"
      ]
     },
     "metadata": {},
     "output_type": "display_data"
    },
    {
     "data": {
      "text/plain": [
       "{'eval_loss': 0.9815693497657776,\n",
       " 'eval_BLEU': 0.6017287231782619,\n",
       " 'eval_Toxicity_y_pred': 0.10830920934677124,\n",
       " 'eval_Toxicity_diff': 0.06116306781768799,\n",
       " 'eval_Acceptability_y_pred': 0.6965394616127014,\n",
       " 'eval_Acceptability_diff': -0.019538938999176025,\n",
       " 'eval_BERT_score_f1': 0.9269473198473404,\n",
       " 'eval_Overall': 0.6585037370665768,\n",
       " 'eval_runtime': 61.7161,\n",
       " 'eval_samples_per_second': 19.33,\n",
       " 'eval_steps_per_second': 0.308}"
      ]
     },
     "execution_count": 26,
     "metadata": {},
     "output_type": "execute_result"
    }
   ],
   "source": [
    "# trainer_t5_small_optimized.evaluate()"
   ]
  },
  {
   "cell_type": "markdown",
   "metadata": {},
   "source": [
    "### Evaluate outputs of optimized model"
   ]
  },
  {
   "cell_type": "markdown",
   "metadata": {},
   "source": [
    "Next we make a dataframe containing source, target and prediction sentences"
   ]
  },
  {
   "cell_type": "code",
   "execution_count": null,
   "metadata": {},
   "outputs": [],
   "source": [
    "# def get_preds_df (trainer_object=trainer_t5_small_optimized,\n",
    "#                   tokenized_data=tokenized_datasets[\"validation\"],\n",
    "#                   raw_data=raw_datasets[\"validation\"]):\n",
    "#     \"\"\"\n",
    "#     Gets the predictions from a trainer object and returns a dataframe containing the source, target, and prediction.\n",
    "\n",
    "#     Args:\n",
    "#         trainer_object (Seq2SeqTrainer): trainer object containing the model\n",
    "#         tokenized_data (Dataset): dataset to be evaluated\n",
    "#         raw_data (Dataset): dataset containing the raw data\n",
    "\n",
    "#     Returns:\n",
    "#         preds (Seq2SeqPrediction): Seq2SeqPrediction object containing the predictions\n",
    "#         decoded_preds (list): list of decoded predictions\n",
    "#         df (DataFrame): dataframe containing the source, target, and prediction\n",
    "#     \"\"\"\n",
    "    \n",
    "#     # Get predictions\n",
    "#     preds = trainer_object.predict(tokenized_data)\n",
    "#     decoded_preds = tokenizer_t5.batch_decode(preds.predictions, skip_special_tokens=True)\n",
    "\n",
    "#     # Create dataframe containing source, target, and prediction\n",
    "#     df = pd.DataFrame()\n",
    "#     df[\"source\"] = raw_data[\"source\"]\n",
    "#     df[\"target\"] = raw_data[\"target\"]\n",
    "#     df[\"prediction\"] = decoded_preds\n",
    "    \n",
    "#     return preds, decoded_preds, df\n",
    "\n",
    "# t5_small_optimized_preds, t5_small_optimized_decoded_preds, t5_small_optimized_df = get_preds_df()\n",
    "\n",
    "# Next we calculate new columns based on the predictions: BLEURT, toxicity, acceptability, and BERT score\n",
    "# t5_small_optimized_df[\"pred_BLEURT\"] = calc_bleurt(t5_small_optimized_df[\"target\"], t5_small_optimized_df[\"prediction\"], output_mean=False)\n",
    "# t5_small_optimized_df[\"target_toxicity\"] = calc_tox_acceptability(t5_small_optimized_df[\"target\"].tolist(), tokenizer_toxicity, model_toxicity, output_score=True, output_mean=False)\n",
    "# t5_small_optimized_df[\"pred_toxicity\"] = calc_tox_acceptability(t5_small_optimized_df[\"prediction\"].tolist(), tokenizer_toxicity, model_toxicity, output_score=True, output_mean=False)\n",
    "# t5_small_optimized_df[\"source_acceptability\"] = calc_tox_acceptability(t5_small_optimized_df[\"source\"].tolist(), tokenizer_acceptability, model_acceptability, output_score=True, output_mean=False)\n",
    "# t5_small_optimized_df[\"target_acceptability\"] = calc_tox_acceptability(t5_small_optimized_df[\"target\"].tolist(), tokenizer_acceptability, model_acceptability, output_score=True, output_mean=False)\n",
    "# t5_small_optimized_df[\"pred_acceptability\"] = calc_tox_acceptability(t5_small_optimized_df[\"prediction\"].tolist(), tokenizer_acceptability, model_acceptability, output_score=True, output_mean=False)\n",
    "# t5_small_optimized_df[\"pred_BERT_score\"] = calc_bert_score(t5_small_optimized_df[\"target\"], t5_small_optimized_df[\"prediction\"], model_type=\"distilbert-base-uncased\", output_mean=False)[2]"
   ]
  },
  {
   "cell_type": "markdown",
   "metadata": {},
   "source": [
    "#### BLEURT Evaluation"
   ]
  },
  {
   "cell_type": "code",
   "execution_count": null,
   "metadata": {},
   "outputs": [
    {
     "name": "stderr",
     "output_type": "stream",
     "text": [
      "/opt/conda/lib/python3.10/site-packages/seaborn/_oldcore.py:1498: FutureWarning: is_categorical_dtype is deprecated and will be removed in a future version. Use isinstance(dtype, CategoricalDtype) instead\n",
      "  if pd.api.types.is_categorical_dtype(vector):\n",
      "/opt/conda/lib/python3.10/site-packages/seaborn/_oldcore.py:1119: FutureWarning: use_inf_as_na option is deprecated and will be removed in a future version. Convert inf values to NaN before operating instead.\n",
      "  with pd.option_context('mode.use_inf_as_na', True):\n"
     ]
    },
    {
     "data": {
      "image/png": "[encoded data removed]",
      "text/plain": [
       "<Figure size 640x480 with 1 Axes>"
      ]
     },
     "metadata": {},
     "output_type": "display_data"
    },
    {
     "data": {
      "text/plain": [
       "0.20504141283242622"
      ]
     },
     "execution_count": 66,
     "metadata": {},
     "output_type": "execute_result"
    }
   ],
   "source": [
    "# # Get distribution of BLEURT scores\n",
    "# sns.set_theme(style=\"whitegrid\")\n",
    "# ax = sns.kdeplot(t5_small_optimized_df[\"pred_BLEURT\"]) \n",
    "# ax.set(xlabel='BLEURT score', ylabel='Density')\n",
    "# plt.show()\n",
    "\n",
    "# # Get mean of BLEURT scores\n",
    "# t5_small_optimized_df[\"pred_BLEURT\"].mean()"
   ]
  },
  {
   "cell_type": "code",
   "execution_count": null,
   "metadata": {},
   "outputs": [
    {
     "name": "stdout",
     "output_type": "stream",
     "text": [
      "Predictions where BLEURT is below the mean:\n"
     ]
    },
    {
     "data": {
      "text/html": [
       "<div>\n",
       "<style scoped>\n",
       "    .dataframe tbody tr th:only-of-type {\n",
       "        vertical-align: middle;\n",
       "    }\n",
       "\n",
       "    .dataframe tbody tr th {\n",
       "        vertical-align: top;\n",
       "    }\n",
       "\n",
       "    .dataframe thead th {\n",
       "        text-align: right;\n",
       "    }\n",
       "</style>\n",
       "<table border=\"1\" class=\"dataframe\">\n",
       "  <thead>\n",
       "    <tr style=\"text-align: right;\">\n",
       "      <th></th>\n",
       "      <th>source</th>\n",
       "      <th>target</th>\n",
       "      <th>prediction</th>\n",
       "      <th>pred_BLEURT</th>\n",
       "    </tr>\n",
       "  </thead>\n",
       "  <tbody>\n",
       "    <tr>\n",
       "      <th>2</th>\n",
       "      <td>Yup then i'll unfollow you, just to be a bitch</td>\n",
       "      <td>Yup then i'll unfollow you.</td>\n",
       "      <td>Yup then i'll unfollow you, just to be rude</td>\n",
       "      <td>-0.292924</td>\n",
       "    </tr>\n",
       "    <tr>\n",
       "      <th>5</th>\n",
       "      <td>What the fuck does that mean? - _ -</td>\n",
       "      <td>What does that mean? - _ -</td>\n",
       "      <td>What does that mean?</td>\n",
       "      <td>0.129286</td>\n",
       "    </tr>\n",
       "    <tr>\n",
       "      <th>7</th>\n",
       "      <td>Everyone in trumps orbit steps in shit.</td>\n",
       "      <td>Everyone in trumps orbit finds trouble</td>\n",
       "      <td>Everyone in trumps orbit steps in wrong way.</td>\n",
       "      <td>-0.370640</td>\n",
       "    </tr>\n",
       "    <tr>\n",
       "      <th>8</th>\n",
       "      <td>Run on a treadmill and do shit around the house for fucks sakes.</td>\n",
       "      <td>Run on a treadmill and do something around the house.</td>\n",
       "      <td>Run on a treadmill and do things around the house for sakes.</td>\n",
       "      <td>-0.012393</td>\n",
       "    </tr>\n",
       "    <tr>\n",
       "      <th>11</th>\n",
       "      <td>Seriously, who gives a shit about his move.</td>\n",
       "      <td>Seriously, nobody cares about his move.</td>\n",
       "      <td>Seriously, who cares about his move.</td>\n",
       "      <td>-0.099518</td>\n",
       "    </tr>\n",
       "  </tbody>\n",
       "</table>\n",
       "</div>"
      ],
      "text/plain": [
       "                                                              source  \\\n",
       "2                     Yup then i'll unfollow you, just to be a bitch   \n",
       "5                                What the fuck does that mean? - _ -   \n",
       "7                            Everyone in trumps orbit steps in shit.   \n",
       "8   Run on a treadmill and do shit around the house for fucks sakes.   \n",
       "11                       Seriously, who gives a shit about his move.   \n",
       "\n",
       "                                                   target  \\\n",
       "2                             Yup then i'll unfollow you.   \n",
       "5                              What does that mean? - _ -   \n",
       "7                  Everyone in trumps orbit finds trouble   \n",
       "8   Run on a treadmill and do something around the house.   \n",
       "11                Seriously, nobody cares about his move.   \n",
       "\n",
       "                                                      prediction  pred_BLEURT  \n",
       "2                    Yup then i'll unfollow you, just to be rude    -0.292924  \n",
       "5                                           What does that mean?     0.129286  \n",
       "7                   Everyone in trumps orbit steps in wrong way.    -0.370640  \n",
       "8   Run on a treadmill and do things around the house for sakes.    -0.012393  \n",
       "11                          Seriously, who cares about his move.    -0.099518  "
      ]
     },
     "execution_count": 77,
     "metadata": {},
     "output_type": "execute_result"
    }
   ],
   "source": [
    "# # Filter to predictions where BLEURT is below the mean and print out the source, target, prediction, and BLEURT\n",
    "# print(\"Predictions where BLEURT is below the mean:\")\n",
    "# pd.set_option('display.max_colwidth', None)\n",
    "# t5_small_optimized_df[t5_small_optimized_df[\"pred_BLEURT\"] < t5_small_optimized_df[\"pred_BLEURT\"].mean()].head(5).drop(columns=[\"pred_toxicity\", \"pred_acceptability\", \"pred_BERT_score\"])"
   ]
  },
  {
   "cell_type": "code",
   "execution_count": null,
   "metadata": {},
   "outputs": [
    {
     "name": "stdout",
     "output_type": "stream",
     "text": [
      "Predictions where BLEURT is above the mean:\n"
     ]
    },
    {
     "data": {
      "text/html": [
       "<div>\n",
       "<style scoped>\n",
       "    .dataframe tbody tr th:only-of-type {\n",
       "        vertical-align: middle;\n",
       "    }\n",
       "\n",
       "    .dataframe tbody tr th {\n",
       "        vertical-align: top;\n",
       "    }\n",
       "\n",
       "    .dataframe thead th {\n",
       "        text-align: right;\n",
       "    }\n",
       "</style>\n",
       "<table border=\"1\" class=\"dataframe\">\n",
       "  <thead>\n",
       "    <tr style=\"text-align: right;\">\n",
       "      <th></th>\n",
       "      <th>source</th>\n",
       "      <th>target</th>\n",
       "      <th>prediction</th>\n",
       "      <th>pred_BLEURT</th>\n",
       "    </tr>\n",
       "  </thead>\n",
       "  <tbody>\n",
       "    <tr>\n",
       "      <th>0</th>\n",
       "      <td>Rt my bitch got fans give em an autograph smh i love it tho</td>\n",
       "      <td>Rt my girl got fans give em an autograph smh i love it tho</td>\n",
       "      <td>Rt my girl got fans give em an autograph smh i love it tho</td>\n",
       "      <td>1.039630</td>\n",
       "    </tr>\n",
       "    <tr>\n",
       "      <th>1</th>\n",
       "      <td>\" redditor for 26 minutes \" fuck off</td>\n",
       "      <td>Redditor for 26 minutes</td>\n",
       "      <td>Redditor for 26 minutes</td>\n",
       "      <td>1.110446</td>\n",
       "    </tr>\n",
       "    <tr>\n",
       "      <th>3</th>\n",
       "      <td>And don't say he can't fucking do it.</td>\n",
       "      <td>Don't say he can't do it.</td>\n",
       "      <td>And don't say he can't do it.</td>\n",
       "      <td>0.687012</td>\n",
       "    </tr>\n",
       "    <tr>\n",
       "      <th>4</th>\n",
       "      <td>In the words of george carlin the planet is doing fine, it's the people that are fucked.</td>\n",
       "      <td>In the words of George Carlin “the planet is doing fine, it’s the people that are in trouble”.</td>\n",
       "      <td>In the words of george carlin the planet is doing fine, it's the people that are in trouble.</td>\n",
       "      <td>0.700633</td>\n",
       "    </tr>\n",
       "    <tr>\n",
       "      <th>6</th>\n",
       "      <td>Unfortunately he is a major backer of charlie christ, who is an absolute piece of shit.</td>\n",
       "      <td>Unfortunately he is a major backer of charlie christ, who is not a saint</td>\n",
       "      <td>Unfortunately he is a major backer of charlie christ, who is not good</td>\n",
       "      <td>0.245362</td>\n",
       "    </tr>\n",
       "  </tbody>\n",
       "</table>\n",
       "</div>"
      ],
      "text/plain": [
       "                                                                                     source  \\\n",
       "0                               Rt my bitch got fans give em an autograph smh i love it tho   \n",
       "1                                                      \" redditor for 26 minutes \" fuck off   \n",
       "3                                                     And don't say he can't fucking do it.   \n",
       "4  In the words of george carlin the planet is doing fine, it's the people that are fucked.   \n",
       "6   Unfortunately he is a major backer of charlie christ, who is an absolute piece of shit.   \n",
       "\n",
       "                                                                                           target  \\\n",
       "0                                      Rt my girl got fans give em an autograph smh i love it tho   \n",
       "1                                                                         Redditor for 26 minutes   \n",
       "3                                                                       Don't say he can't do it.   \n",
       "4  In the words of George Carlin “the planet is doing fine, it’s the people that are in trouble”.   \n",
       "6                        Unfortunately he is a major backer of charlie christ, who is not a saint   \n",
       "\n",
       "                                                                                     prediction  \\\n",
       "0                                    Rt my girl got fans give em an autograph smh i love it tho   \n",
       "1                                                                       Redditor for 26 minutes   \n",
       "3                                                                 And don't say he can't do it.   \n",
       "4  In the words of george carlin the planet is doing fine, it's the people that are in trouble.   \n",
       "6                         Unfortunately he is a major backer of charlie christ, who is not good   \n",
       "\n",
       "   pred_BLEURT  \n",
       "0     1.039630  \n",
       "1     1.110446  \n",
       "3     0.687012  \n",
       "4     0.700633  \n",
       "6     0.245362  "
      ]
     },
     "execution_count": 78,
     "metadata": {},
     "output_type": "execute_result"
    }
   ],
   "source": [
    "# # Filter to predictions where BLEURT is above the mean and print out the source, target, prediction, and BLEURT\n",
    "# print(\"Predictions where BLEURT is above the mean:\")\n",
    "# t5_small_optimized_df[t5_small_optimized_df[\"pred_BLEURT\"] > t5_small_optimized_df[\"pred_BLEURT\"].mean()].head(5).drop(columns=[\"pred_toxicity\", \"pred_acceptability\", \"pred_BERT_score\"])"
   ]
  },
  {
   "cell_type": "markdown",
   "metadata": {},
   "source": [
    "This shows some limitations of BLEURT: The predictions with low BLEURT scores often convey the same meaning to the source / target but are penalized due to differences in words"
   ]
  },
  {
   "cell_type": "markdown",
   "metadata": {},
   "source": [
    "#### Toxicity evaluation"
   ]
  },
  {
   "cell_type": "code",
   "execution_count": null,
   "metadata": {},
   "outputs": [
    {
     "name": "stderr",
     "output_type": "stream",
     "text": [
      "/opt/conda/lib/python3.10/site-packages/seaborn/_oldcore.py:1498: FutureWarning: is_categorical_dtype is deprecated and will be removed in a future version. Use isinstance(dtype, CategoricalDtype) instead\n",
      "  if pd.api.types.is_categorical_dtype(vector):\n",
      "/opt/conda/lib/python3.10/site-packages/seaborn/_oldcore.py:1119: FutureWarning: use_inf_as_na option is deprecated and will be removed in a future version. Convert inf values to NaN before operating instead.\n",
      "  with pd.option_context('mode.use_inf_as_na', True):\n"
     ]
    },
    {
     "data": {
      "image/png": "[encoded data removed]",
      "text/plain": [
       "<Figure size 640x480 with 1 Axes>"
      ]
     },
     "metadata": {},
     "output_type": "display_data"
    }
   ],
   "source": [
    "# # Plot histogram of toxicity scores\n",
    "# sns.set_theme(style=\"whitegrid\")\n",
    "# ax = sns.histplot(t5_small_optimized_df[\"pred_toxicity\"])\n",
    "# ax.set(xlabel='Toxicity score', ylabel='Frequency (log)')\n",
    "# ax.set_yscale('log')"
   ]
  },
  {
   "cell_type": "code",
   "execution_count": null,
   "metadata": {},
   "outputs": [
    {
     "data": {
      "text/plain": [
       "count    1193.000000\n",
       "mean        0.108309\n",
       "std         0.294016\n",
       "min         0.000033\n",
       "25%         0.000052\n",
       "50%         0.000179\n",
       "75%         0.003683\n",
       "max         0.999541\n",
       "Name: pred_toxicity, dtype: float64"
      ]
     },
     "execution_count": 80,
     "metadata": {},
     "output_type": "execute_result"
    }
   ],
   "source": [
    "# # Get summary statisticas of toxicity scores\n",
    "# t5_small_optimized_df[\"pred_toxicity\"].describe()"
   ]
  },
  {
   "cell_type": "markdown",
   "metadata": {},
   "source": [
    "So most have been detoxified. Next we filter to data where pred_toxicity > 0.8 (still toxic)"
   ]
  },
  {
   "cell_type": "code",
   "execution_count": null,
   "metadata": {},
   "outputs": [
    {
     "name": "stdout",
     "output_type": "stream",
     "text": [
      "Predictions where toxicity > 0.9\n"
     ]
    },
    {
     "data": {
      "text/html": [
       "<div>\n",
       "<style scoped>\n",
       "    .dataframe tbody tr th:only-of-type {\n",
       "        vertical-align: middle;\n",
       "    }\n",
       "\n",
       "    .dataframe tbody tr th {\n",
       "        vertical-align: top;\n",
       "    }\n",
       "\n",
       "    .dataframe thead th {\n",
       "        text-align: right;\n",
       "    }\n",
       "</style>\n",
       "<table border=\"1\" class=\"dataframe\">\n",
       "  <thead>\n",
       "    <tr style=\"text-align: right;\">\n",
       "      <th></th>\n",
       "      <th>source</th>\n",
       "      <th>target</th>\n",
       "      <th>prediction</th>\n",
       "      <th>pred_toxicity</th>\n",
       "      <th>target_toxicity</th>\n",
       "    </tr>\n",
       "  </thead>\n",
       "  <tbody>\n",
       "    <tr>\n",
       "      <th>21</th>\n",
       "      <td>You straighten out that chicago problem and then well tell our cops to stop killing unarmed blacks.</td>\n",
       "      <td>There are problems in Chicago that need to be dealt with as well as police brutality.</td>\n",
       "      <td>You straighten out that chicago problem and then well tell our cops to stop killing unarmed blacks.</td>\n",
       "      <td>0.990939</td>\n",
       "      <td>0.000759</td>\n",
       "    </tr>\n",
       "    <tr>\n",
       "      <th>26</th>\n",
       "      <td>You have cold dead hands.</td>\n",
       "      <td>You have cold hands.</td>\n",
       "      <td>You have cold dead hands.</td>\n",
       "      <td>0.994647</td>\n",
       "      <td>0.070162</td>\n",
       "    </tr>\n",
       "    <tr>\n",
       "      <th>27</th>\n",
       "      <td>This is ridiculous and looks terrible if true.</td>\n",
       "      <td>It's ridiculously terrible if true.</td>\n",
       "      <td>This is ridiculous and looks terrible if true.</td>\n",
       "      <td>0.987468</td>\n",
       "      <td>0.042199</td>\n",
       "    </tr>\n",
       "    <tr>\n",
       "      <th>33</th>\n",
       "      <td>Ctfu! cause your shxt is just flat like a piece of paper ma niggah</td>\n",
       "      <td>You are not interesting</td>\n",
       "      <td>Cause your shxt is just flat like a piece of paper ma niggah</td>\n",
       "      <td>0.968568</td>\n",
       "      <td>0.003499</td>\n",
       "    </tr>\n",
       "    <tr>\n",
       "      <th>37</th>\n",
       "      <td>Gads, i hate your cruelty.</td>\n",
       "      <td>I don't like your cruelty.</td>\n",
       "      <td>I hate your cruelty.</td>\n",
       "      <td>0.990789</td>\n",
       "      <td>0.021171</td>\n",
       "    </tr>\n",
       "    <tr>\n",
       "      <th>...</th>\n",
       "      <td>...</td>\n",
       "      <td>...</td>\n",
       "      <td>...</td>\n",
       "      <td>...</td>\n",
       "      <td>...</td>\n",
       "    </tr>\n",
       "    <tr>\n",
       "      <th>1162</th>\n",
       "      <td>Comey was proved to be a liar several times today in his testimony.</td>\n",
       "      <td>Comey was proved that he doesn't say the truth several times today in his testimony.</td>\n",
       "      <td>Comey was proved to be a liar several times today in his testimony.</td>\n",
       "      <td>0.937353</td>\n",
       "      <td>0.000063</td>\n",
       "    </tr>\n",
       "    <tr>\n",
       "      <th>1167</th>\n",
       "      <td>Surgeons are bastards but they are shit - hot at their jobs</td>\n",
       "      <td>Surgeons are bad but they are hot at their jobs</td>\n",
       "      <td>Surgeons are bad but they are bad at their jobs</td>\n",
       "      <td>0.977449</td>\n",
       "      <td>0.048145</td>\n",
       "    </tr>\n",
       "    <tr>\n",
       "      <th>1173</th>\n",
       "      <td>This law is absolutely asinine.</td>\n",
       "      <td>This law is bad</td>\n",
       "      <td>This law is absolutely asinine.</td>\n",
       "      <td>0.995536</td>\n",
       "      <td>0.000269</td>\n",
       "    </tr>\n",
       "    <tr>\n",
       "      <th>1183</th>\n",
       "      <td>You guys are fuckin idiots.</td>\n",
       "      <td>You guys aren't making any sense to me.</td>\n",
       "      <td>You guys are not smart.</td>\n",
       "      <td>0.997295</td>\n",
       "      <td>0.000198</td>\n",
       "    </tr>\n",
       "    <tr>\n",
       "      <th>1192</th>\n",
       "      <td>Ashley judd is a bitch, hoe and a stupid face.</td>\n",
       "      <td>Ashley isn't a nice person</td>\n",
       "      <td>Ashley judd is not smart</td>\n",
       "      <td>0.967514</td>\n",
       "      <td>0.011905</td>\n",
       "    </tr>\n",
       "  </tbody>\n",
       "</table>\n",
       "<p>105 rows × 5 columns</p>\n",
       "</div>"
      ],
      "text/plain": [
       "                                                                                                   source  \\\n",
       "21    You straighten out that chicago problem and then well tell our cops to stop killing unarmed blacks.   \n",
       "26                                                                              You have cold dead hands.   \n",
       "27                                                         This is ridiculous and looks terrible if true.   \n",
       "33                                     Ctfu! cause your shxt is just flat like a piece of paper ma niggah   \n",
       "37                                                                             Gads, i hate your cruelty.   \n",
       "...                                                                                                   ...   \n",
       "1162                                  Comey was proved to be a liar several times today in his testimony.   \n",
       "1167                                          Surgeons are bastards but they are shit - hot at their jobs   \n",
       "1173                                                                      This law is absolutely asinine.   \n",
       "1183                                                                          You guys are fuckin idiots.   \n",
       "1192                                                       Ashley judd is a bitch, hoe and a stupid face.   \n",
       "\n",
       "                                                                                     target  \\\n",
       "21    There are problems in Chicago that need to be dealt with as well as police brutality.   \n",
       "26                                                                     You have cold hands.   \n",
       "27                                                      It's ridiculously terrible if true.   \n",
       "33                                                                  You are not interesting   \n",
       "37                                                               I don't like your cruelty.   \n",
       "...                                                                                     ...   \n",
       "1162   Comey was proved that he doesn't say the truth several times today in his testimony.   \n",
       "1167                                        Surgeons are bad but they are hot at their jobs   \n",
       "1173                                                                        This law is bad   \n",
       "1183                                                You guys aren't making any sense to me.   \n",
       "1192                                                             Ashley isn't a nice person   \n",
       "\n",
       "                                                                                               prediction  \\\n",
       "21    You straighten out that chicago problem and then well tell our cops to stop killing unarmed blacks.   \n",
       "26                                                                              You have cold dead hands.   \n",
       "27                                                         This is ridiculous and looks terrible if true.   \n",
       "33                                           Cause your shxt is just flat like a piece of paper ma niggah   \n",
       "37                                                                                   I hate your cruelty.   \n",
       "...                                                                                                   ...   \n",
       "1162                                  Comey was proved to be a liar several times today in his testimony.   \n",
       "1167                                                      Surgeons are bad but they are bad at their jobs   \n",
       "1173                                                                      This law is absolutely asinine.   \n",
       "1183                                                                              You guys are not smart.   \n",
       "1192                                                                             Ashley judd is not smart   \n",
       "\n",
       "      pred_toxicity  target_toxicity  \n",
       "21         0.990939         0.000759  \n",
       "26         0.994647         0.070162  \n",
       "27         0.987468         0.042199  \n",
       "33         0.968568         0.003499  \n",
       "37         0.990789         0.021171  \n",
       "...             ...              ...  \n",
       "1162       0.937353         0.000063  \n",
       "1167       0.977449         0.048145  \n",
       "1173       0.995536         0.000269  \n",
       "1183       0.997295         0.000198  \n",
       "1192       0.967514         0.011905  \n",
       "\n",
       "[105 rows x 5 columns]"
      ]
     },
     "execution_count": 96,
     "metadata": {},
     "output_type": "execute_result"
    }
   ],
   "source": [
    "# # Filter to predictions where BLEURT is above the mean and print out the source, target, prediction, and BLEURT\n",
    "# print(\"Predictions where toxicity > 0.9\")\n",
    "# t5_small_optimized_df[t5_small_optimized_df[\"pred_toxicity\"] > 0.9].drop(columns=[\"pred_BLEURT\", \"pred_acceptability\", \"pred_BERT_score\"])"
   ]
  },
  {
   "cell_type": "markdown",
   "metadata": {},
   "source": [
    "In these examples the target's toxicity is close to 0, suggesting that there are aspects of the text that is still not being detoxified. Indeed there are sentences like \"I hate your cruelty\" which could have been less toxic had it been converted to something like \"I don't like your cruelty\""
   ]
  },
  {
   "cell_type": "markdown",
   "metadata": {},
   "source": [
    "#### Acceptability evaluation"
   ]
  },
  {
   "cell_type": "code",
   "execution_count": null,
   "metadata": {},
   "outputs": [
    {
     "name": "stderr",
     "output_type": "stream",
     "text": [
      "/opt/conda/lib/python3.10/site-packages/seaborn/_oldcore.py:1498: FutureWarning: is_categorical_dtype is deprecated and will be removed in a future version. Use isinstance(dtype, CategoricalDtype) instead\n",
      "  if pd.api.types.is_categorical_dtype(vector):\n",
      "/opt/conda/lib/python3.10/site-packages/seaborn/_oldcore.py:1119: FutureWarning: use_inf_as_na option is deprecated and will be removed in a future version. Convert inf values to NaN before operating instead.\n",
      "  with pd.option_context('mode.use_inf_as_na', True):\n"
     ]
    },
    {
     "data": {
      "image/png": "[encoded data removed]",
      "text/plain": [
       "<Figure size 640x480 with 1 Axes>"
      ]
     },
     "metadata": {},
     "output_type": "display_data"
    }
   ],
   "source": [
    "# # Plot histogram of acceptability scores\n",
    "# sns.set_theme(style=\"whitegrid\")\n",
    "# ax = sns.histplot(t5_small_optimized_df[\"pred_acceptability\"])"
   ]
  },
  {
   "cell_type": "markdown",
   "metadata": {},
   "source": [
    "Majority seems to be linguistically acceptable but there's a big chunk that isn't"
   ]
  },
  {
   "cell_type": "code",
   "execution_count": null,
   "metadata": {},
   "outputs": [
    {
     "name": "stdout",
     "output_type": "stream",
     "text": [
      "Predictions where acceptability < 0.5\n"
     ]
    },
    {
     "data": {
      "text/html": [
       "<div>\n",
       "<style scoped>\n",
       "    .dataframe tbody tr th:only-of-type {\n",
       "        vertical-align: middle;\n",
       "    }\n",
       "\n",
       "    .dataframe tbody tr th {\n",
       "        vertical-align: top;\n",
       "    }\n",
       "\n",
       "    .dataframe thead th {\n",
       "        text-align: right;\n",
       "    }\n",
       "</style>\n",
       "<table border=\"1\" class=\"dataframe\">\n",
       "  <thead>\n",
       "    <tr style=\"text-align: right;\">\n",
       "      <th></th>\n",
       "      <th>source</th>\n",
       "      <th>target</th>\n",
       "      <th>prediction</th>\n",
       "      <th>pred_acceptability</th>\n",
       "      <th>target_acceptability</th>\n",
       "      <th>source_acceptability</th>\n",
       "    </tr>\n",
       "  </thead>\n",
       "  <tbody>\n",
       "    <tr>\n",
       "      <th>4</th>\n",
       "      <td>In the words of george carlin the planet is doing fine, it's the people that are fucked.</td>\n",
       "      <td>In the words of George Carlin “the planet is doing fine, it’s the people that are in trouble”.</td>\n",
       "      <td>In the words of george carlin the planet is doing fine, it's the people that are in trouble.</td>\n",
       "      <td>0.245888</td>\n",
       "      <td>0.981231</td>\n",
       "      <td>0.317854</td>\n",
       "    </tr>\n",
       "    <tr>\n",
       "      <th>7</th>\n",
       "      <td>Everyone in trumps orbit steps in shit.</td>\n",
       "      <td>Everyone in trumps orbit finds trouble</td>\n",
       "      <td>Everyone in trumps orbit steps in wrong way.</td>\n",
       "      <td>0.201212</td>\n",
       "      <td>0.982073</td>\n",
       "      <td>0.943528</td>\n",
       "    </tr>\n",
       "    <tr>\n",
       "      <th>33</th>\n",
       "      <td>Ctfu! cause your shxt is just flat like a piece of paper ma niggah</td>\n",
       "      <td>You are not interesting</td>\n",
       "      <td>Cause your shxt is just flat like a piece of paper ma niggah</td>\n",
       "      <td>0.150514</td>\n",
       "      <td>0.964068</td>\n",
       "      <td>0.091120</td>\n",
       "    </tr>\n",
       "    <tr>\n",
       "      <th>36</th>\n",
       "      <td>Being first nations in canada is like winning the fucking lottery.</td>\n",
       "      <td>Being the first race in Canada is like winning the lottery.</td>\n",
       "      <td>Being first nations in canada is like winning the lottery.</td>\n",
       "      <td>0.114380</td>\n",
       "      <td>0.990508</td>\n",
       "      <td>0.135966</td>\n",
       "    </tr>\n",
       "    <tr>\n",
       "      <th>40</th>\n",
       "      <td>Yourmost stupid comment but i am sure you will do better.</td>\n",
       "      <td>You can do better</td>\n",
       "      <td>Your comment but i am sure you will do better.</td>\n",
       "      <td>0.416758</td>\n",
       "      <td>0.993480</td>\n",
       "      <td>0.320378</td>\n",
       "    </tr>\n",
       "    <tr>\n",
       "      <th>...</th>\n",
       "      <td>...</td>\n",
       "      <td>...</td>\n",
       "      <td>...</td>\n",
       "      <td>...</td>\n",
       "      <td>...</td>\n",
       "      <td>...</td>\n",
       "    </tr>\n",
       "    <tr>\n",
       "      <th>1157</th>\n",
       "      <td>But jesus fuck take a few seconds to consider others and idk, not drive while high.</td>\n",
       "      <td>You should take a few seconds to consider others and idk, don't drive while high</td>\n",
       "      <td>But jesus take a few seconds to consider others and idk, not drive while high.</td>\n",
       "      <td>0.069867</td>\n",
       "      <td>0.782699</td>\n",
       "      <td>0.039343</td>\n",
       "    </tr>\n",
       "    <tr>\n",
       "      <th>1170</th>\n",
       "      <td>As ive said before ban these drunken idiots from mass flotation.</td>\n",
       "      <td>As I've said before ban these people from mass flotation.</td>\n",
       "      <td>As ive said before ban these people from mass flotation.</td>\n",
       "      <td>0.148892</td>\n",
       "      <td>0.916453</td>\n",
       "      <td>0.456928</td>\n",
       "    </tr>\n",
       "    <tr>\n",
       "      <th>1171</th>\n",
       "      <td>Only the freedom caucus is stupid enought to want to do down that route.</td>\n",
       "      <td>Only the freedom caucus will want to go down that route.</td>\n",
       "      <td>Only the freedom caucus is not smart enough to want to do down that route.</td>\n",
       "      <td>0.125802</td>\n",
       "      <td>0.985911</td>\n",
       "      <td>0.084244</td>\n",
       "    </tr>\n",
       "    <tr>\n",
       "      <th>1178</th>\n",
       "      <td>\" &lt; - - - imma need ur ass to come back lol</td>\n",
       "      <td>I need you to come back.</td>\n",
       "      <td>I'm need to come back</td>\n",
       "      <td>0.031520</td>\n",
       "      <td>0.992052</td>\n",
       "      <td>0.115100</td>\n",
       "    </tr>\n",
       "    <tr>\n",
       "      <th>1192</th>\n",
       "      <td>Ashley judd is a bitch, hoe and a stupid face.</td>\n",
       "      <td>Ashley isn't a nice person</td>\n",
       "      <td>Ashley judd is not smart</td>\n",
       "      <td>0.472365</td>\n",
       "      <td>0.989822</td>\n",
       "      <td>0.071523</td>\n",
       "    </tr>\n",
       "  </tbody>\n",
       "</table>\n",
       "<p>141 rows × 6 columns</p>\n",
       "</div>"
      ],
      "text/plain": [
       "                                                                                        source  \\\n",
       "4     In the words of george carlin the planet is doing fine, it's the people that are fucked.   \n",
       "7                                                      Everyone in trumps orbit steps in shit.   \n",
       "33                          Ctfu! cause your shxt is just flat like a piece of paper ma niggah   \n",
       "36                          Being first nations in canada is like winning the fucking lottery.   \n",
       "40                                   Yourmost stupid comment but i am sure you will do better.   \n",
       "...                                                                                        ...   \n",
       "1157       But jesus fuck take a few seconds to consider others and idk, not drive while high.   \n",
       "1170                          As ive said before ban these drunken idiots from mass flotation.   \n",
       "1171                  Only the freedom caucus is stupid enought to want to do down that route.   \n",
       "1178                                               \" < - - - imma need ur ass to come back lol   \n",
       "1192                                            Ashley judd is a bitch, hoe and a stupid face.   \n",
       "\n",
       "                                                                                              target  \\\n",
       "4     In the words of George Carlin “the planet is doing fine, it’s the people that are in trouble”.   \n",
       "7                                                             Everyone in trumps orbit finds trouble   \n",
       "33                                                                           You are not interesting   \n",
       "36                                       Being the first race in Canada is like winning the lottery.   \n",
       "40                                                                                 You can do better   \n",
       "...                                                                                              ...   \n",
       "1157                You should take a few seconds to consider others and idk, don't drive while high   \n",
       "1170                                       As I've said before ban these people from mass flotation.   \n",
       "1171                                        Only the freedom caucus will want to go down that route.   \n",
       "1178                                                                        I need you to come back.   \n",
       "1192                                                                      Ashley isn't a nice person   \n",
       "\n",
       "                                                                                        prediction  \\\n",
       "4     In the words of george carlin the planet is doing fine, it's the people that are in trouble.   \n",
       "7                                                     Everyone in trumps orbit steps in wrong way.   \n",
       "33                                    Cause your shxt is just flat like a piece of paper ma niggah   \n",
       "36                                      Being first nations in canada is like winning the lottery.   \n",
       "40                                                  Your comment but i am sure you will do better.   \n",
       "...                                                                                            ...   \n",
       "1157                But jesus take a few seconds to consider others and idk, not drive while high.   \n",
       "1170                                      As ive said before ban these people from mass flotation.   \n",
       "1171                    Only the freedom caucus is not smart enough to want to do down that route.   \n",
       "1178                                                                         I'm need to come back   \n",
       "1192                                                                      Ashley judd is not smart   \n",
       "\n",
       "      pred_acceptability  target_acceptability  source_acceptability  \n",
       "4               0.245888              0.981231              0.317854  \n",
       "7               0.201212              0.982073              0.943528  \n",
       "33              0.150514              0.964068              0.091120  \n",
       "36              0.114380              0.990508              0.135966  \n",
       "40              0.416758              0.993480              0.320378  \n",
       "...                  ...                   ...                   ...  \n",
       "1157            0.069867              0.782699              0.039343  \n",
       "1170            0.148892              0.916453              0.456928  \n",
       "1171            0.125802              0.985911              0.084244  \n",
       "1178            0.031520              0.992052              0.115100  \n",
       "1192            0.472365              0.989822              0.071523  \n",
       "\n",
       "[141 rows x 6 columns]"
      ]
     },
     "execution_count": 105,
     "metadata": {},
     "output_type": "execute_result"
    }
   ],
   "source": [
    "# # Filter to predictions where acceptability is below 0.5 while target_acceptability > 0.5 and print out the source, target, prediction, and acceptability score\n",
    "# print(\"Predictions where acceptability < 0.5\")\n",
    "# t5_small_optimized_df[(t5_small_optimized_df[\"pred_acceptability\"] < 0.5) & (t5_small_optimized_df[\"target_acceptability\"] > 0.5)].drop(columns=[\"pred_BLEURT\", \"target_toxicity\", \"pred_toxicity\", \"pred_BERT_score\"])"
   ]
  },
  {
   "cell_type": "markdown",
   "metadata": {},
   "source": [
    "So it looks like in many cases where prediction is not linguistically acceptable, the source also scores low in terms of acceptability. In contrast, the target text in these cases seem to be fixing the grammar / fluency of the source text as well"
   ]
  },
  {
   "cell_type": "markdown",
   "metadata": {},
   "source": [
    "#### BERT evaluation"
   ]
  },
  {
   "cell_type": "code",
   "execution_count": null,
   "metadata": {},
   "outputs": [
    {
     "name": "stderr",
     "output_type": "stream",
     "text": [
      "/opt/conda/lib/python3.10/site-packages/seaborn/_oldcore.py:1498: FutureWarning: is_categorical_dtype is deprecated and will be removed in a future version. Use isinstance(dtype, CategoricalDtype) instead\n",
      "  if pd.api.types.is_categorical_dtype(vector):\n",
      "/opt/conda/lib/python3.10/site-packages/seaborn/_oldcore.py:1119: FutureWarning: use_inf_as_na option is deprecated and will be removed in a future version. Convert inf values to NaN before operating instead.\n",
      "  with pd.option_context('mode.use_inf_as_na', True):\n"
     ]
    },
    {
     "data": {
      "image/png": "[encoded data removed]",
      "text/plain": [
       "<Figure size 640x480 with 1 Axes>"
      ]
     },
     "metadata": {},
     "output_type": "display_data"
    }
   ],
   "source": [
    "# # Plot histogram of BERT scores\n",
    "# sns.set_theme(style=\"whitegrid\")\n",
    "# ax = sns.histplot(t5_small_optimized_df[\"pred_BERT_score\"])"
   ]
  },
  {
   "cell_type": "markdown",
   "metadata": {},
   "source": [
    "All the BERT F1 scores are above 0.5, suggesting they retain the semantic similarity of the targets. To confirm, we will just look at those with BERT score under 0.80"
   ]
  },
  {
   "cell_type": "code",
   "execution_count": null,
   "metadata": {
    "tags": [
     "parameters"
    ]
   },
   "outputs": [
    {
     "name": "stdout",
     "output_type": "stream",
     "text": [
      "Predictions where BERT score < 0.5\n"
     ]
    },
    {
     "data": {
      "text/html": [
       "<div>\n",
       "<style scoped>\n",
       "    .dataframe tbody tr th:only-of-type {\n",
       "        vertical-align: middle;\n",
       "    }\n",
       "\n",
       "    .dataframe tbody tr th {\n",
       "        vertical-align: top;\n",
       "    }\n",
       "\n",
       "    .dataframe thead th {\n",
       "        text-align: right;\n",
       "    }\n",
       "</style>\n",
       "<table border=\"1\" class=\"dataframe\">\n",
       "  <thead>\n",
       "    <tr style=\"text-align: right;\">\n",
       "      <th></th>\n",
       "      <th>source</th>\n",
       "      <th>target</th>\n",
       "      <th>prediction</th>\n",
       "      <th>pred_BERT_score</th>\n",
       "    </tr>\n",
       "  </thead>\n",
       "  <tbody>\n",
       "    <tr>\n",
       "      <th>16</th>\n",
       "      <td>Buychrisbrownfamealbum if u following him and he never tweetcho ass back</td>\n",
       "      <td>Buy Chris brown fame album if you are following him and he never tweet you back.</td>\n",
       "      <td>Buychrisbrownfamealbum if u following him and he never tweetcho back</td>\n",
       "      <td>0.797463</td>\n",
       "    </tr>\n",
       "    <tr>\n",
       "      <th>21</th>\n",
       "      <td>You straighten out that chicago problem and then well tell our cops to stop killing unarmed blacks.</td>\n",
       "      <td>There are problems in Chicago that need to be dealt with as well as police brutality.</td>\n",
       "      <td>You straighten out that chicago problem and then well tell our cops to stop killing unarmed blacks.</td>\n",
       "      <td>0.750688</td>\n",
       "    </tr>\n",
       "    <tr>\n",
       "      <th>33</th>\n",
       "      <td>Ctfu! cause your shxt is just flat like a piece of paper ma niggah</td>\n",
       "      <td>You are not interesting</td>\n",
       "      <td>Cause your shxt is just flat like a piece of paper ma niggah</td>\n",
       "      <td>0.722022</td>\n",
       "    </tr>\n",
       "    <tr>\n",
       "      <th>42</th>\n",
       "      <td>Bitch make me! i do what? i'm confused - _ -</td>\n",
       "      <td>Im sorry,I am confused.</td>\n",
       "      <td>Make me! i do what? i'm confused - _ -</td>\n",
       "      <td>0.738124</td>\n",
       "    </tr>\n",
       "    <tr>\n",
       "      <th>56</th>\n",
       "      <td>Naw the industy got em fucked up</td>\n",
       "      <td>The industry made me annoyed</td>\n",
       "      <td>Naw the industy got em messed up</td>\n",
       "      <td>0.741795</td>\n",
       "    </tr>\n",
       "    <tr>\n",
       "      <th>...</th>\n",
       "      <td>...</td>\n",
       "      <td>...</td>\n",
       "      <td>...</td>\n",
       "      <td>...</td>\n",
       "    </tr>\n",
       "    <tr>\n",
       "      <th>1115</th>\n",
       "      <td>Lmfaoo now she texted me saying \" i want your ginger pussy and my choclate pussy together</td>\n",
       "      <td>She's texting dirty things</td>\n",
       "      <td>Lmfaoo now she texted me saying \" i want your ginger and my choclate together</td>\n",
       "      <td>0.719809</td>\n",
       "    </tr>\n",
       "    <tr>\n",
       "      <th>1137</th>\n",
       "      <td>Oh fuck off, edgy kid.</td>\n",
       "      <td>Please leave me alone.</td>\n",
       "      <td>Oh go away, edgy kid.</td>\n",
       "      <td>0.726419</td>\n",
       "    </tr>\n",
       "    <tr>\n",
       "      <th>1147</th>\n",
       "      <td>Kuss that nigga lyingg, i was high as hell bhut i ain't do all 'lhat lol</td>\n",
       "      <td>Because that person is lying, I was high but I didn't do all that.</td>\n",
       "      <td>I was high and I ain't do all 'lhat lol</td>\n",
       "      <td>0.793282</td>\n",
       "    </tr>\n",
       "    <tr>\n",
       "      <th>1156</th>\n",
       "      <td>Niggas is crazy you can't trust em provenfact</td>\n",
       "      <td>They are unusual and you cannot trust them.</td>\n",
       "      <td>Niggas is crazy you can't trust em provenfact</td>\n",
       "      <td>0.791288</td>\n",
       "    </tr>\n",
       "    <tr>\n",
       "      <th>1188</th>\n",
       "      <td>I aaaaaaint havin that shit!</td>\n",
       "      <td>I am not having that!</td>\n",
       "      <td>I aaaaint havin that!</td>\n",
       "      <td>0.759976</td>\n",
       "    </tr>\n",
       "  </tbody>\n",
       "</table>\n",
       "<p>74 rows × 4 columns</p>\n",
       "</div>"
      ],
      "text/plain": [
       "                                                                                                   source  \\\n",
       "16                               Buychrisbrownfamealbum if u following him and he never tweetcho ass back   \n",
       "21    You straighten out that chicago problem and then well tell our cops to stop killing unarmed blacks.   \n",
       "33                                     Ctfu! cause your shxt is just flat like a piece of paper ma niggah   \n",
       "42                                                           Bitch make me! i do what? i'm confused - _ -   \n",
       "56                                                                       Naw the industy got em fucked up   \n",
       "...                                                                                                   ...   \n",
       "1115            Lmfaoo now she texted me saying \" i want your ginger pussy and my choclate pussy together   \n",
       "1137                                                                               Oh fuck off, edgy kid.   \n",
       "1147                             Kuss that nigga lyingg, i was high as hell bhut i ain't do all 'lhat lol   \n",
       "1156                                                        Niggas is crazy you can't trust em provenfact   \n",
       "1188                                                                         I aaaaaaint havin that shit!   \n",
       "\n",
       "                                                                                     target  \\\n",
       "16         Buy Chris brown fame album if you are following him and he never tweet you back.   \n",
       "21    There are problems in Chicago that need to be dealt with as well as police brutality.   \n",
       "33                                                                  You are not interesting   \n",
       "42                                                                  Im sorry,I am confused.   \n",
       "56                                                             The industry made me annoyed   \n",
       "...                                                                                     ...   \n",
       "1115                                                             She's texting dirty things   \n",
       "1137                                                                 Please leave me alone.   \n",
       "1147                     Because that person is lying, I was high but I didn't do all that.   \n",
       "1156                                            They are unusual and you cannot trust them.   \n",
       "1188                                                                  I am not having that!   \n",
       "\n",
       "                                                                                               prediction  \\\n",
       "16                                   Buychrisbrownfamealbum if u following him and he never tweetcho back   \n",
       "21    You straighten out that chicago problem and then well tell our cops to stop killing unarmed blacks.   \n",
       "33                                           Cause your shxt is just flat like a piece of paper ma niggah   \n",
       "42                                                                 Make me! i do what? i'm confused - _ -   \n",
       "56                                                                       Naw the industy got em messed up   \n",
       "...                                                                                                   ...   \n",
       "1115                        Lmfaoo now she texted me saying \" i want your ginger and my choclate together   \n",
       "1137                                                                                Oh go away, edgy kid.   \n",
       "1147                                                              I was high and I ain't do all 'lhat lol   \n",
       "1156                                                        Niggas is crazy you can't trust em provenfact   \n",
       "1188                                                                                I aaaaint havin that!   \n",
       "\n",
       "      pred_BERT_score  \n",
       "16           0.797463  \n",
       "21           0.750688  \n",
       "33           0.722022  \n",
       "42           0.738124  \n",
       "56           0.741795  \n",
       "...               ...  \n",
       "1115         0.719809  \n",
       "1137         0.726419  \n",
       "1147         0.793282  \n",
       "1156         0.791288  \n",
       "1188         0.759976  \n",
       "\n",
       "[74 rows x 4 columns]"
      ]
     },
     "execution_count": 108,
     "metadata": {},
     "output_type": "execute_result"
    }
   ],
   "source": [
    "# # Filter to predictions where BERT score is below 0.8 and print out the source, target, prediction, and BERT score\n",
    "# print(\"Predictions where BERT score < 0.5\")\n",
    "# t5_small_optimized_df[t5_small_optimized_df[\"pred_BERT_score\"] < 0.8].drop(columns=[\"pred_BLEURT\", \"target_toxicity\", \"target_acceptability\", \"source_acceptability\", \"pred_toxicity\", \"pred_acceptability\"])"
   ]
  },
  {
   "cell_type": "markdown",
   "metadata": {},
   "source": [
    "Those with BERT score under 0.8 appear to retain the meaning of the target material"
   ]
  },
  {
   "cell_type": "markdown",
   "metadata": {},
   "source": [
    "# Fine-tune T5 Model (Bi-directional, No custom loss)"
   ]
  },
  {
   "cell_type": "code",
   "execution_count": 21,
   "metadata": {},
   "outputs": [
    {
     "data": {
      "application/vnd.jupyter.widget-view+json": {
       "model_id": "ff026580f0734882b45b1cb34cf4e236",
       "version_major": 2,
       "version_minor": 0
      },
      "text/plain": [
       "Map:   0%|          | 0/21466 [00:00<?, ? examples/s]"
      ]
     },
     "metadata": {},
     "output_type": "display_data"
    },
    {
     "data": {
      "application/vnd.jupyter.widget-view+json": {
       "model_id": "21cc637553324d62adae59315ddd3cf6",
       "version_major": 2,
       "version_minor": 0
      },
      "text/plain": [
       "Map:   0%|          | 0/2386 [00:00<?, ? examples/s]"
      ]
     },
     "metadata": {},
     "output_type": "display_data"
    },
    {
     "data": {
      "application/vnd.jupyter.widget-view+json": {
       "model_id": "cd05ee2b8a0d499980931bb0db1e4d6e",
       "version_major": 2,
       "version_minor": 0
      },
      "text/plain": [
       "Map:   0%|          | 0/1342 [00:00<?, ? examples/s]"
      ]
     },
     "metadata": {},
     "output_type": "display_data"
    }
   ],
   "source": [
    "# Create dataset for bi-directional model\n",
    "raw_datasets = DatasetDict.load_from_disk(RAW_DATASET_PATH)\n",
    "raw_datasets\n",
    "\n",
    "def create_bidirectional_dataset(dataset):\n",
    "\n",
    "    def bidirectional_extension(dataset):\n",
    "        new_data = {\n",
    "            \"source\": [f\"to_neutral: {x}\" for x in dataset['source']] + [f\"to_toxic: {x}\" for x in dataset['target']],\n",
    "            \"target\": dataset['target'] + dataset['source']\n",
    "        }\n",
    "        return new_data\n",
    "\n",
    "    extended_train_data = bidirectional_extension(raw_datasets[\"train\"])\n",
    "    extended_validation_data = bidirectional_extension(raw_datasets[\"validation\"])\n",
    "    extended_test_data = bidirectional_extension(raw_datasets[\"test\"])\n",
    "\n",
    "    extended_datasets = DatasetDict({\n",
    "        \"train\": Dataset.from_dict(extended_train_data),\n",
    "        \"validation\": Dataset.from_dict(extended_validation_data),\n",
    "        \"test\": Dataset.from_dict(extended_test_data)\n",
    "    })\n",
    "\n",
    "    extended_datasets = extended_datasets.shuffle(seed=RANDOM_SEED)\n",
    "\n",
    "    return extended_datasets\n",
    "\n",
    "raw_datasets_bd = create_bidirectional_dataset(raw_datasets)\n",
    "\n",
    "# Save indices of neutral and toxic data\n",
    "def get_indices(dataset):\n",
    "    \"\"\"\n",
    "    Saves the indices of data that is to_neutral and to_toxic.\n",
    "    \"\"\"\n",
    "    to_neutral_idx = []\n",
    "    to_toxic_idx = []\n",
    "    for i in range(len(dataset)):\n",
    "        if dataset[i][\"source\"].startswith(\"to_neutral\"):\n",
    "            to_neutral_idx.append(i)\n",
    "        else:\n",
    "            to_toxic_idx.append(i)\n",
    "\n",
    "    return to_neutral_idx, to_toxic_idx\n",
    "\n",
    "# to_neutral_idx_train, to_toxic_idx_train = get_indices(raw_datasets_bd[\"train\"])\n",
    "# to_neutral_idx_val, to_toxic_idx_val = get_indices(raw_datasets_bd[\"validation\"])\n",
    "# to_neutral_idx_test, to_toxic_idx_test = get_indices(raw_datasets_bd[\"test\"])\n",
    "\n",
    "# # Check that the indices are correct\n",
    "# print(raw_datasets_bd[\"train\"][to_neutral_idx_train[:5]][\"source\"])\n",
    "# print(raw_datasets_bd[\"train\"][to_toxic_idx_train[:5]][\"source\"])\n",
    "\n",
    "# Apply the preprocessing function to the datasets\n",
    "tokenized_datasets_bd = raw_datasets_bd.map(\n",
    "    preprocess_function,\n",
    "    batched=True,\n",
    "    remove_columns=[\"source\", \"target\"],\n",
    ")\n",
    "\n",
    "data_collator = DataCollatorForSeq2Seq(tokenizer_t5, model_t5, return_tensors=\"pt\", padding=True)"
   ]
  },
  {
   "cell_type": "code",
   "execution_count": 22,
   "metadata": {},
   "outputs": [],
   "source": [
    "# Define compute metrics function\n",
    "def compute_metrics_bd(eval_preds, dataset_type):\n",
    "    \"\"\"\n",
    "    Function to calculate the metrics for trainer.evaluate().\n",
    "    This function is for the bi-directional model.\n",
    "    dataset_type has to be passed in using functools.\n",
    "\n",
    "    Args:\n",
    "        eval_preds (tuple): Tuple containing the predictions and labels\n",
    "        dataset_type (str): Type of dataset (train, validation, or test)\n",
    "\n",
    "    Returns:\n",
    "        dict: Dictionary containing the metrics\n",
    "    \"\"\"\n",
    "    preds, refs = eval_preds\n",
    "\n",
    "    # In case the model returns more than the prediction logits\n",
    "    if isinstance(preds, tuple):\n",
    "        preds = preds[0]\n",
    "\n",
    "    decoded_preds = tokenizer_t5.batch_decode(preds, skip_special_tokens=True)\n",
    "\n",
    "    # Replace -100s in the labels as we can't decode them\n",
    "    refs = np.where(refs != -100, refs, tokenizer_t5.pad_token_id)\n",
    "    decoded_refs = tokenizer_t5.batch_decode(refs, skip_special_tokens=True)\n",
    "\n",
    "    # Some simple post-processing\n",
    "    decoded_preds = [pred.strip() for pred in decoded_preds]\n",
    "    decoded_refs = [ref.strip() for ref in decoded_refs]\n",
    "    \n",
    "    # Get the indices to use when splitting predictions and refs to to_neutral and to_toxic\n",
    "    to_neutral_idx, to_toxic_idx = get_indices(raw_datasets_bd[dataset_type])\n",
    "\n",
    "    # # Split the predictions and test into to_neutral and to_toxic based on the indices (neutral_indices_validation and toxic_indices_validation)\n",
    "    to_neutral_preds = [decoded_preds[i] for i in to_neutral_idx]\n",
    "    # to_toxic_preds = [decoded_preds[i] for i in to_toxic_idx]\n",
    "    to_neutral_refs = [decoded_refs[i] for i in to_neutral_idx]\n",
    "    # to_toxic_refs = [decoded_refs[i] for i in to_toxic_idx]\n",
    "    \n",
    "    # Evaluate metrics for to_neutral\n",
    "    to_neutral_metrics = evaluate_metrics(\n",
    "        to_neutral_refs,\n",
    "        to_neutral_preds,\n",
    "        tokenizer_toxicity=tokenizer_toxicity,\n",
    "        model_toxicity=model_toxicity,\n",
    "        tokenizer_acceptability=tokenizer_acceptability,\n",
    "        model_acceptability=model_acceptability,\n",
    "        to_neutral=True,\n",
    "        include_bleurt=False\n",
    "    )\n",
    "\n",
    "    # Return dictionary of to_neutral metrics\n",
    "    return to_neutral_metrics"
   ]
  },
  {
   "cell_type": "code",
   "execution_count": 24,
   "metadata": {},
   "outputs": [
    {
     "data": {
      "text/html": [
       "Changes to your `wandb` environment variables will be ignored because your `wandb` session has already started. For more information on how to modify your settings with `wandb.init()` arguments, please refer to <a href='https://wandb.me/wandb-init' target=\"_blank\">the W&B docs</a>."
      ],
      "text/plain": [
       "<IPython.core.display.HTML object>"
      ]
     },
     "metadata": {},
     "output_type": "display_data"
    },
    {
     "data": {
      "text/html": [
       "Tracking run with wandb version 0.15.12"
      ],
      "text/plain": [
       "<IPython.core.display.HTML object>"
      ]
     },
     "metadata": {},
     "output_type": "display_data"
    },
    {
     "data": {
      "text/html": [
       "Run data is saved locally in <code>/home/garykong/w266_final_project/notebooks/wandb/run-20231024_205911-clk9sg1y</code>"
      ],
      "text/plain": [
       "<IPython.core.display.HTML object>"
      ]
     },
     "metadata": {},
     "output_type": "display_data"
    },
    {
     "data": {
      "text/html": [
       "Syncing run <strong><a href='https://wandb.ai/garykong/w266_final_project/runs/clk9sg1y' target=\"_blank\">t5-small-bd-detoxify</a></strong> to <a href='https://wandb.ai/garykong/w266_final_project' target=\"_blank\">Weights & Biases</a> (<a href='https://wandb.me/run' target=\"_blank\">docs</a>)<br/>"
      ],
      "text/plain": [
       "<IPython.core.display.HTML object>"
      ]
     },
     "metadata": {},
     "output_type": "display_data"
    },
    {
     "data": {
      "text/html": [
       " View project at <a href='https://wandb.ai/garykong/w266_final_project' target=\"_blank\">https://wandb.ai/garykong/w266_final_project</a>"
      ],
      "text/plain": [
       "<IPython.core.display.HTML object>"
      ]
     },
     "metadata": {},
     "output_type": "display_data"
    },
    {
     "data": {
      "text/html": [
       " View run at <a href='https://wandb.ai/garykong/w266_final_project/runs/clk9sg1y' target=\"_blank\">https://wandb.ai/garykong/w266_final_project/runs/clk9sg1y</a>"
      ],
      "text/plain": [
       "<IPython.core.display.HTML object>"
      ]
     },
     "metadata": {},
     "output_type": "display_data"
    },
    {
     "data": {
      "text/html": [
       "\n",
       "    <div>\n",
       "      \n",
       "      <progress value='920' max='6720' style='width:300px; height:20px; vertical-align: middle;'></progress>\n",
       "      [ 920/6720 05:07 < 32:20, 2.99 it/s, Epoch 2.74/20]\n",
       "    </div>\n",
       "    <table border=\"1\" class=\"dataframe\">\n",
       "  <thead>\n",
       " <tr style=\"text-align: left;\">\n",
       "      <th>Epoch</th>\n",
       "      <th>Training Loss</th>\n",
       "      <th>Validation Loss</th>\n",
       "      <th>Bleu</th>\n",
       "      <th>Sta Preds</th>\n",
       "      <th>Sta Pct</th>\n",
       "      <th>Acceptability Preds</th>\n",
       "      <th>Acceptability Pct</th>\n",
       "      <th>Bert Score F1</th>\n",
       "      <th>Overall</th>\n",
       "    </tr>\n",
       "  </thead>\n",
       "  <tbody>\n",
       "    <tr>\n",
       "      <td>1</td>\n",
       "      <td>1.490900</td>\n",
       "      <td>1.218165</td>\n",
       "      <td>0.596864</td>\n",
       "      <td>0.815591</td>\n",
       "      <td>0.855009</td>\n",
       "      <td>0.692316</td>\n",
       "      <td>0.966816</td>\n",
       "      <td>0.921328</td>\n",
       "      <td>0.839005</td>\n",
       "    </tr>\n",
       "    <tr>\n",
       "      <td>2</td>\n",
       "      <td>1.254400</td>\n",
       "      <td>1.165401</td>\n",
       "      <td>0.604312</td>\n",
       "      <td>0.875943</td>\n",
       "      <td>0.918278</td>\n",
       "      <td>0.696026</td>\n",
       "      <td>0.971997</td>\n",
       "      <td>0.924443</td>\n",
       "      <td>0.867462</td>\n",
       "    </tr>\n",
       "  </tbody>\n",
       "</table><p>"
      ],
      "text/plain": [
       "<IPython.core.display.HTML object>"
      ]
     },
     "metadata": {},
     "output_type": "display_data"
    }
   ],
   "source": [
    "trainer_t5_small_bd = setup_trainer(\n",
    "    num_train_epochs=20, # Previously tried 10 but it was still improving\n",
    "    output_dir_name=\"t5-small-detoxify-bd\",\n",
    "    train_dataset=tokenized_datasets_bd[\"train\"],\n",
    "    eval_dataset=tokenized_datasets_bd[\"validation\"],\n",
    "    compute_metrics=partial(compute_metrics_bd, dataset_type=\"validation\"),\n",
    "    callbacks=[EarlyStoppingCallback(early_stopping_patience=2)] # Typically patience is 10% of number of epochs\n",
    "    )\n",
    "\n",
    "wandb.init(project=\"w266_final_project\", name=\"t5-small-bd-detoxify\")\n",
    "trainer_t5_small_bd.train()\n",
    "wandb.finish()"
   ]
  },
  {
   "cell_type": "markdown",
   "metadata": {},
   "source": [
    "# Fine-tune T5 Model (Bi-directional, with Custom Loss)"
   ]
  },
  {
   "cell_type": "markdown",
   "metadata": {},
   "source": [
    "Documentation for original loss function:\n",
    "\n",
    "https://huggingface.co/transformers/v4.2.2/_modules/transformers/trainer.html#Trainer.compute_loss"
   ]
  },
  {
   "cell_type": "code",
   "execution_count": null,
   "metadata": {},
   "outputs": [],
   "source": [
    "# def compute_loss(self, model, inputs):\n",
    "#         \"\"\"\n",
    "#         How the loss is computed by Trainer. By default, all models return the loss in the first element.\n",
    "\n",
    "#         Subclass and override for custom behavior.\n",
    "#         \"\"\"\n",
    "#         outputs = model(**inputs)\n",
    "#         # Save past state if it exists\n",
    "#         # TODO: this needs to be fixed and made cleaner later.\n",
    "#         if self.args.past_index >= 0:\n",
    "#             self._past = outputs[self.args.past_index]\n",
    "\n",
    "#         if self.label_smoother is not None and \"labels\" in inputs:\n",
    "#             return self.label_smoother(outputs, inputs[\"labels\"])\n",
    "#         else:\n",
    "#             # We don't use .loss here since the model may return tuples instead of ModelOutput.\n",
    "#             return outputs[\"loss\"] if isinstance(outputs, dict) else outputs[0]"
   ]
  },
  {
   "cell_type": "code",
   "execution_count": null,
   "metadata": {},
   "outputs": [
    {
     "name": "stdout",
     "output_type": "stream",
     "text": [
      "tensor(0.7442, device='cuda:0', requires_grad=True)\n"
     ]
    },
    {
     "ename": "AssertionError",
     "evalue": "No inf checks were recorded for this optimizer.",
     "output_type": "error",
     "traceback": [
      "\u001b[0;31m---------------------------------------------------------------------------\u001b[0m",
      "\u001b[0;31mAssertionError\u001b[0m                            Traceback (most recent call last)",
      "\u001b[1;32m/home/garykong/w266_final_project/notebooks/2_Models.ipynb Cell 70\u001b[0m line \u001b[0;36m1\n\u001b[1;32m    <a href='vscode-notebook-cell://ssh-remote%2Bdeeplearning-1-vm.europe-west4-b.w266-401709/home/garykong/w266_final_project/notebooks/2_Models.ipynb#Y253sdnNjb2RlLXJlbW90ZQ%3D%3D?line=105'>106</a>\u001b[0m     \u001b[39mreturn\u001b[39;00m trainer\n\u001b[1;32m    <a href='vscode-notebook-cell://ssh-remote%2Bdeeplearning-1-vm.europe-west4-b.w266-401709/home/garykong/w266_final_project/notebooks/2_Models.ipynb#Y253sdnNjb2RlLXJlbW90ZQ%3D%3D?line=107'>108</a>\u001b[0m trainer_t5_small_cl\u001b[39m=\u001b[39m setup_trainer()\n\u001b[0;32m--> <a href='vscode-notebook-cell://ssh-remote%2Bdeeplearning-1-vm.europe-west4-b.w266-401709/home/garykong/w266_final_project/notebooks/2_Models.ipynb#Y253sdnNjb2RlLXJlbW90ZQ%3D%3D?line=108'>109</a>\u001b[0m trainer_t5_small_cl\u001b[39m.\u001b[39;49mtrain()\n",
      "File \u001b[0;32m/opt/conda/lib/python3.10/site-packages/transformers/trainer.py:1591\u001b[0m, in \u001b[0;36mTrainer.train\u001b[0;34m(self, resume_from_checkpoint, trial, ignore_keys_for_eval, **kwargs)\u001b[0m\n\u001b[1;32m   1589\u001b[0m         hf_hub_utils\u001b[39m.\u001b[39menable_progress_bars()\n\u001b[1;32m   1590\u001b[0m \u001b[39melse\u001b[39;00m:\n\u001b[0;32m-> 1591\u001b[0m     \u001b[39mreturn\u001b[39;00m inner_training_loop(\n\u001b[1;32m   1592\u001b[0m         args\u001b[39m=\u001b[39;49margs,\n\u001b[1;32m   1593\u001b[0m         resume_from_checkpoint\u001b[39m=\u001b[39;49mresume_from_checkpoint,\n\u001b[1;32m   1594\u001b[0m         trial\u001b[39m=\u001b[39;49mtrial,\n\u001b[1;32m   1595\u001b[0m         ignore_keys_for_eval\u001b[39m=\u001b[39;49mignore_keys_for_eval,\n\u001b[1;32m   1596\u001b[0m     )\n",
      "File \u001b[0;32m/opt/conda/lib/python3.10/site-packages/transformers/trainer.py:1963\u001b[0m, in \u001b[0;36mTrainer._inner_training_loop\u001b[0;34m(self, batch_size, args, resume_from_checkpoint, trial, ignore_keys_for_eval)\u001b[0m\n\u001b[1;32m   1960\u001b[0m         \u001b[39mself\u001b[39m\u001b[39m.\u001b[39mscaler\u001b[39m.\u001b[39mupdate()\n\u001b[1;32m   1961\u001b[0m     \u001b[39melse\u001b[39;00m:\n\u001b[1;32m   1962\u001b[0m         \u001b[39m# tpu-comment: accelerate wrapped optimizers call xm.optimizer_step\u001b[39;00m\n\u001b[0;32m-> 1963\u001b[0m         \u001b[39mself\u001b[39;49m\u001b[39m.\u001b[39;49moptimizer\u001b[39m.\u001b[39;49mstep()\n\u001b[1;32m   1964\u001b[0m \u001b[39melif\u001b[39;00m \u001b[39mself\u001b[39m\u001b[39m.\u001b[39mdo_grad_scaling:\n\u001b[1;32m   1965\u001b[0m     scale_before \u001b[39m=\u001b[39m \u001b[39mself\u001b[39m\u001b[39m.\u001b[39mscaler\u001b[39m.\u001b[39mget_scale()\n",
      "File \u001b[0;32m/opt/conda/lib/python3.10/site-packages/accelerate/optimizer.py:132\u001b[0m, in \u001b[0;36mAcceleratedOptimizer.step\u001b[0;34m(self, closure)\u001b[0m\n\u001b[1;32m    129\u001b[0m \u001b[39melif\u001b[39;00m \u001b[39mself\u001b[39m\u001b[39m.\u001b[39mscaler \u001b[39mis\u001b[39;00m \u001b[39mnot\u001b[39;00m \u001b[39mNone\u001b[39;00m:\n\u001b[1;32m    130\u001b[0m     \u001b[39mself\u001b[39m\u001b[39m.\u001b[39moptimizer\u001b[39m.\u001b[39mstep \u001b[39m=\u001b[39m \u001b[39mself\u001b[39m\u001b[39m.\u001b[39m_optimizer_patched_step_method\n\u001b[0;32m--> 132\u001b[0m     \u001b[39mself\u001b[39;49m\u001b[39m.\u001b[39;49mscaler\u001b[39m.\u001b[39;49mstep(\u001b[39mself\u001b[39;49m\u001b[39m.\u001b[39;49moptimizer, closure)\n\u001b[1;32m    133\u001b[0m     \u001b[39mself\u001b[39m\u001b[39m.\u001b[39mscaler\u001b[39m.\u001b[39mupdate()\n\u001b[1;32m    135\u001b[0m     \u001b[39mif\u001b[39;00m \u001b[39mnot\u001b[39;00m \u001b[39mself\u001b[39m\u001b[39m.\u001b[39m_accelerate_step_called:\n\u001b[1;32m    136\u001b[0m         \u001b[39m# If the optimizer step was skipped, gradient overflow was detected.\u001b[39;00m\n",
      "File \u001b[0;32m/opt/conda/lib/python3.10/site-packages/torch/cuda/amp/grad_scaler.py:368\u001b[0m, in \u001b[0;36mGradScaler.step\u001b[0;34m(self, optimizer, *args, **kwargs)\u001b[0m\n\u001b[1;32m    365\u001b[0m \u001b[39mif\u001b[39;00m optimizer_state[\u001b[39m\"\u001b[39m\u001b[39mstage\u001b[39m\u001b[39m\"\u001b[39m] \u001b[39mis\u001b[39;00m OptState\u001b[39m.\u001b[39mREADY:\n\u001b[1;32m    366\u001b[0m     \u001b[39mself\u001b[39m\u001b[39m.\u001b[39munscale_(optimizer)\n\u001b[0;32m--> 368\u001b[0m \u001b[39massert\u001b[39;00m \u001b[39mlen\u001b[39m(optimizer_state[\u001b[39m\"\u001b[39m\u001b[39mfound_inf_per_device\u001b[39m\u001b[39m\"\u001b[39m]) \u001b[39m>\u001b[39m \u001b[39m0\u001b[39m, \u001b[39m\"\u001b[39m\u001b[39mNo inf checks were recorded for this optimizer.\u001b[39m\u001b[39m\"\u001b[39m\n\u001b[1;32m    370\u001b[0m retval \u001b[39m=\u001b[39m \u001b[39mself\u001b[39m\u001b[39m.\u001b[39m_maybe_opt_step(optimizer, optimizer_state, \u001b[39m*\u001b[39margs, \u001b[39m*\u001b[39m\u001b[39m*\u001b[39mkwargs)\n\u001b[1;32m    372\u001b[0m optimizer_state[\u001b[39m\"\u001b[39m\u001b[39mstage\u001b[39m\u001b[39m\"\u001b[39m] \u001b[39m=\u001b[39m OptState\u001b[39m.\u001b[39mSTEPPED\n",
      "\u001b[0;31mAssertionError\u001b[0m: No inf checks were recorded for this optimizer."
     ]
    }
   ],
   "source": [
    "# class Seq2SeqTrainerCustomLoss(Seq2SeqTrainer):\n",
    "#     def compute_loss(self, model, inputs, return_outputs=False):\n",
    "#         \"\"\"\n",
    "#         Compute custom loss for the model.\n",
    "\n",
    "#         Args:\n",
    "#             model (torch.nn.Module): The model training or evaluating.\n",
    "#             inputs (dict): The inputs and targets of the model.\n",
    "#             return_outputs (bool): Whether to return model outputs.\n",
    "\n",
    "#         Returns:\n",
    "#             torch.FloatTensor: The loss value.\n",
    "#         \"\"\"\n",
    "#         # Call prediction_step\n",
    "#         loss, encoded_y_pred, encoded_y_test = self.prediction_step(model, inputs, prediction_loss_only=False)\n",
    "    \n",
    "#         # Decode the generated tokens\n",
    "#         if isinstance(encoded_y_pred, tuple):\n",
    "#             encoded_y_pred = encoded_y_pred[0]\n",
    "#         decoded_y_pred = self.tokenizer.batch_decode(encoded_y_pred, skip_special_tokens=True)\n",
    "\n",
    "#         # Decode the labels\n",
    "#         ## Replace -100s in the labels as we can't decode them\n",
    "#         encoded_y_test = torch.where(encoded_y_test != -100, encoded_y_test, torch.tensor(self.tokenizer.pad_token_id))\n",
    "#         decoded_y_test = self.tokenizer.batch_decode(encoded_y_test, skip_special_tokens=True)\n",
    "\n",
    "#         # Some simple post-processing\n",
    "#         decoded_y_pred = [pred.strip() for pred in decoded_y_pred]\n",
    "#         decoded_y_test = [label.strip() for label in decoded_y_test]\n",
    "        \n",
    "#         # Calculate metrics\n",
    "#         # TO DO: MAKE THIS WORK WITH PYTORCH LIGHTNING\n",
    "#         composite_score = evaluate_metrics(\n",
    "#             decoded_y_test,\n",
    "#             decoded_y_pred,\n",
    "#             tokenizer_toxicity=tokenizer_toxicity,\n",
    "#             model_toxicity=model_toxicity,\n",
    "#             tokenizer_acceptability=tokenizer_acceptability,\n",
    "#             model_acceptability=model_acceptability,\n",
    "#             include_bleurt=False\n",
    "#         )['Overall']\n",
    "\n",
    "#         # # Composite score will be on a scale of 0 - 1, so we can invert it to get the loss\n",
    "#         custom_loss = torch.tensor(1 - composite_score, dtype=torch.float, requires_grad=True, device=self.args.device)\n",
    "\n",
    "#         print(custom_loss)\n",
    "#         return custom_loss\n",
    "    \n",
    "# def setup_trainer(model_name_t5=\"t5-small\",\n",
    "#                 per_device_train_batch_size=64,\n",
    "#                 per_device_eval_batch_size=64,\n",
    "#                 learning_rate=3e-4,\n",
    "#                 weight_decay=0.01,\n",
    "#                 num_train_epochs=10,\n",
    "#                 max_length=50,\n",
    "#                 num_beams=4):\n",
    "    \n",
    "#     # Define generation config\n",
    "#     generation_config = GenerationConfig(\n",
    "#         max_length=max_length,\n",
    "#         num_beams=num_beams,\n",
    "#         eos_token_id=tokenizer_t5.eos_token_id,\n",
    "#         bos_token_id=tokenizer_t5.bos_token_id,\n",
    "#         pad_token_id=tokenizer_t5.pad_token_id,\n",
    "#         decoder_start_token_id=tokenizer_t5.pad_token_id)\n",
    "\n",
    "#     # Save the generation config\n",
    "#     GEN_CONFIG_PATH = \"../models/t5-small-detoxify-cl/generation_config\"\n",
    "#     generation_config.save_pretrained(GEN_CONFIG_PATH)\n",
    "\n",
    "#     # Define the training arguments\n",
    "#     args = Seq2SeqTrainingArguments(\n",
    "#         output_dir=f'../models/{model_name_t5}_detoxify_cl',\n",
    "#         evaluation_strategy=\"epoch\",\n",
    "#         save_strategy=\"epoch\",\n",
    "#         logging_strategy=\"epoch\",\n",
    "#         save_total_limit=1,\n",
    "#         num_train_epochs=num_train_epochs,\n",
    "#         per_device_train_batch_size=per_device_train_batch_size,\n",
    "#         per_device_eval_batch_size=per_device_eval_batch_size,\n",
    "#         learning_rate=learning_rate, \n",
    "#         weight_decay=weight_decay,\n",
    "#         predict_with_generate=True,\n",
    "#         generation_config=GEN_CONFIG_PATH,\n",
    "#         fp16=True,\n",
    "#         report_to=\"wandb\",\n",
    "#         logging_steps=100,\n",
    "#         load_best_model_at_end=True,\n",
    "#         metric_for_best_model=\"Overall\",\n",
    "#         greater_is_better=True,\n",
    "#     )\n",
    "\n",
    "#     # Reinstantiate the model\n",
    "#     model_t5 = T5ForConditionalGeneration.from_pretrained(model_name_t5)\n",
    "\n",
    "#     # Instantiate the trainer\n",
    "#     trainer = Seq2SeqTrainerCustomLoss(\n",
    "#         model = model_t5,\n",
    "#         args = args,\n",
    "#         train_dataset=tokenized_datasets[\"train\"],\n",
    "#         eval_dataset=tokenized_datasets[\"validation\"],\n",
    "#         data_collator=data_collator,\n",
    "#         tokenizer=tokenizer_t5,\n",
    "#         compute_metrics=compute_metrics,\n",
    "#     )\n",
    "\n",
    "#     return trainer\n",
    "\n",
    "# trainer_t5_small_cl= setup_trainer()\n",
    "# trainer_t5_small_cl.train()"
   ]
  },
  {
   "cell_type": "markdown",
   "metadata": {},
   "source": [
    "# Fine-Tune T5 Model (With Negative Word List)"
   ]
  },
  {
   "cell_type": "markdown",
   "metadata": {},
   "source": []
  }
 ],
 "metadata": {
  "kernelspec": {
   "display_name": "w266-Jvh1WXlz-py3.11",
   "language": "python",
   "name": "python3"
  },
  "language_info": {
   "codemirror_mode": {
    "name": "ipython",
    "version": 3
   },
   "file_extension": ".py",
   "mimetype": "text/x-python",
   "name": "python",
   "nbconvert_exporter": "python",
   "pygments_lexer": "ipython3",
   "version": "3.10.12"
  },
  "orig_nbformat": 4
 },
 "nbformat": 4,
 "nbformat_minor": 2
}
