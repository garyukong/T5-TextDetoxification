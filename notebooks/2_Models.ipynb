{
 "cells": [
  {
   "cell_type": "code",
   "execution_count": 15,
   "metadata": {},
   "outputs": [],
   "source": [
    "from datasets import DatasetDict, Dataset\n",
    "from transformers import (\n",
    "    RobertaTokenizer,\n",
    "    RobertaForSequenceClassification,\n",
    "    T5Tokenizer,\n",
    "    T5ForConditionalGeneration,\n",
    "    T5Config,\n",
    "    AutoTokenizer,\n",
    "    AutoModelForSequenceClassification,\n",
    "    Seq2SeqTrainer,\n",
    "    DataCollatorForSeq2Seq,\n",
    "    GenerationConfig,\n",
    "    Seq2SeqTrainer,\n",
    "    Seq2SeqTrainingArguments,\n",
    "    EarlyStoppingCallback,\n",
    "    pipeline,\n",
    ")\n",
    "from sentence_transformers import SentenceTransformer\n",
    "import torch\n",
    "from torch import nn\n",
    "import numpy as np\n",
    "import tqdm\n",
    "import nltk\n",
    "import csv\n",
    "import time\n",
    "import gc\n",
    "import GPUtil\n",
    "import evaluate\n",
    "import pprint\n",
    "from numba import cuda\n",
    "import optuna\n",
    "import wandb\n",
    "import pandas as pd\n",
    "import seaborn as sns\n",
    "import matplotlib.pyplot as plt\n",
    "from functools import partial\n",
    "import wandb\n",
    "import os\n",
    "import pickle\n",
    "from typing import Dict, Union, Optional, Tuple, List, Any"
   ]
  },
  {
   "cell_type": "code",
   "execution_count": 3,
   "metadata": {},
   "outputs": [
    {
     "name": "stderr",
     "output_type": "stream",
     "text": [
      "ERROR:wandb.jupyter:Failed to detect the name of this notebook, you can set it manually with the WANDB_NOTEBOOK_NAME environment variable to enable code saving.\n",
      "\u001b[34m\u001b[1mwandb\u001b[0m: Currently logged in as: \u001b[33mgarykong\u001b[0m. Use \u001b[1m`wandb login --relogin`\u001b[0m to force relogin\n"
     ]
    }
   ],
   "source": [
    "wandb.login()\n",
    "os.environ[\"WAND_NOTEBOOK_NAME\"] = \"w266_final_project_models\"\n",
    "os.environ[\"WANDB_DIR\"] = \"../models/wandb\"\n",
    "os.environ[\"WANDB_PROJECT\"] = \"w266_final_project\""
   ]
  },
  {
   "cell_type": "code",
   "execution_count": 4,
   "metadata": {},
   "outputs": [],
   "source": [
    "# Random seed for reproducibility\n",
    "RANDOM_SEED = 42\n",
    "\n",
    "# Parameters for classification\n",
    "BATCH_SIZE_EVAL = 32\n",
    "BATCH_SIZE_TRAIN = 32\n",
    "\n",
    "# Setting the DEVICE to cuda\n",
    "DEVICE = torch.device(\"cuda\" if torch.cuda.is_available() else \"cpu\")\n",
    "\n",
    "# Set path for profane word list\n",
    "PROFANE_WORD_PATH = \"../data/raw/en.txt\"\n",
    "\n",
    "# Set path for raw dataset dictionary\n",
    "RAW_DATASET_PATH = \"../data/processed/raw_dataset.pkl\"\n",
    "\n",
    "# Set maximum length for input and output\n",
    "MAX_INPUT_LENGTH = 64\n",
    "MAX_OUTPUT_LENGTH = 64"
   ]
  },
  {
   "cell_type": "markdown",
   "metadata": {},
   "source": [
    "## Load dataset and get lengths"
   ]
  },
  {
   "cell_type": "code",
   "execution_count": 5,
   "metadata": {},
   "outputs": [
    {
     "data": {
      "text/plain": [
       "DatasetDict({\n",
       "    train: Dataset({\n",
       "        features: ['source', 'target'],\n",
       "        num_rows: 10733\n",
       "    })\n",
       "    validation: Dataset({\n",
       "        features: ['source', 'target'],\n",
       "        num_rows: 1193\n",
       "    })\n",
       "    test: Dataset({\n",
       "        features: ['source', 'target'],\n",
       "        num_rows: 671\n",
       "    })\n",
       "})"
      ]
     },
     "execution_count": 5,
     "metadata": {},
     "output_type": "execute_result"
    }
   ],
   "source": [
    "# Load dataset\n",
    "raw_datasets = DatasetDict.load_from_disk(RAW_DATASET_PATH)\n",
    "raw_datasets"
   ]
  },
  {
   "cell_type": "code",
   "execution_count": 5,
   "metadata": {},
   "outputs": [
    {
     "name": "stderr",
     "output_type": "stream",
     "text": [
      "Special tokens have been added in the vocabulary, make sure the associated word embeddings are fine-tuned or trained.\n",
      "/opt/conda/lib/python3.10/site-packages/transformers/models/t5/tokenization_t5_fast.py:158: FutureWarning: This tokenizer was incorrectly instantiated with a model max length of 512 which will be corrected in Transformers v5.\n",
      "For now, this behavior is kept to avoid breaking backwards compatibility when padding/encoding with `truncation is True`.\n",
      "- Be aware that you SHOULD NOT rely on t5-base automatically truncating your input to 512 when padding/encoding.\n",
      "- If you want to encode/pad to sequences longer than 512 you can either instantiate this tokenizer with `model_max_length` or pass `max_length` when encoding/padding.\n",
      "- To avoid this warning, please instantiate this tokenizer with `model_max_length` set to your preferred value.\n",
      "  warnings.warn(\n"
     ]
    },
    {
     "name": "stdout",
     "output_type": "stream",
     "text": [
      "Maximum source length for BART: 38\n",
      "Maximum target length for BART: 36\n",
      "Maximum source length for T5: 47\n",
      "Maximum target length for T5: 43\n"
     ]
    }
   ],
   "source": [
    "import matplotlib.pyplot as plt\n",
    "import seaborn as sns\n",
    "\n",
    "def get_lengths(raw_datasets, tokenizer):\n",
    "    \"\"\"\n",
    "    Get the lengths of the source and target sequences in the dataset.\n",
    "\n",
    "    Args:\n",
    "        raw_datasets (DatasetDict): dictionary containing the raw dataset\n",
    "        tokenizer (PreTrainedTokenizer): tokenizer to use for encoding the sequences\n",
    "    \n",
    "    Returns:\n",
    "        source_lengths (list): list of lengths of source sequences\n",
    "        target_lengths (list): list of lengths of target sequences\n",
    "        max_source_length (int): maximum length of source sequence\n",
    "        max_target_length (int): maximum length of target sequence\n",
    "    \"\"\"\n",
    "    train_source_lengths = [len(tokenizer(x)[\"input_ids\"]) for x in raw_datasets[\"train\"][\"source\"]]\n",
    "    val_source_lengths = [len(tokenizer(x)[\"input_ids\"]) for x in raw_datasets[\"validation\"][\"source\"]]\n",
    "    test_source_lengths = [len(tokenizer(x)[\"input_ids\"]) for x in raw_datasets[\"test\"][\"source\"]]\n",
    "    source_lengths = train_source_lengths + val_source_lengths + test_source_lengths\n",
    "    max_source_length = max(source_lengths)\n",
    "\n",
    "    train_target_lengths = [len(tokenizer(x)[\"input_ids\"]) for x in raw_datasets[\"train\"][\"target\"]]\n",
    "    val_target_lengths = [len(tokenizer(x)[\"input_ids\"]) for x in raw_datasets[\"validation\"][\"target\"]]\n",
    "    test_target_lengths = [len(tokenizer(x)[\"input_ids\"]) for x in raw_datasets[\"test\"][\"target\"]]\n",
    "    target_lengths = train_target_lengths + val_target_lengths + test_target_lengths\n",
    "    max_target_length = max(target_lengths)\n",
    "    \n",
    "    return source_lengths, target_lengths, max_source_length, max_target_length\n",
    "\n",
    "def plot_lengths(source_lengths, target_lengths):\n",
    "    \"\"\"\n",
    "    Plot the distribution of lengths of source and target sequences.\n",
    "\n",
    "    Args:\n",
    "        source_lengths (list): list of lengths of source sequences\n",
    "        target_lengths (list): list of lengths of target sequences\n",
    "    \"\"\"\n",
    "    fig, axes = plt.subplots(1, 2, figsize=(12, 5))\n",
    "    sns.histplot(source_lengths, ax=axes[0])\n",
    "    sns.histplot(target_lengths, ax=axes[1])\n",
    "    axes[0].set_title(\"Source Lengths\")\n",
    "    axes[1].set_title(\"Target Lengths\")\n",
    "    axes[0].set_xlabel(\"Length\")\n",
    "    axes[1].set_xlabel(\"Length\")\n",
    "    axes[0].set_ylabel(\"Count\")\n",
    "    axes[1].set_ylabel(\"Count\")\n",
    "    axes[0].set_xlim(0, 100)\n",
    "    axes[1].set_xlim(0, 100)\n",
    "\n",
    "# Get distribution of lengths of source across train, val, and test\n",
    "bart_source_lengths, bart_target_lengths, bart_max_source_length, bart_max_target_length = get_lengths(raw_datasets, AutoTokenizer.from_pretrained(\"s-nlp/bart-base-detox\"))\n",
    "\n",
    "# Check what lengths would be after tokenization with t5\n",
    "t5_source_lengths, t5_target_lengths, t5_max_source_length, t5_max_target_length = get_lengths(raw_datasets, AutoTokenizer.from_pretrained(\"t5-base\"))\n",
    "\n",
    "# Print max lengths\n",
    "print(\"Maximum source length for BART:\", bart_max_source_length)\n",
    "print(\"Maximum target length for BART:\", bart_max_target_length)\n",
    "print(\"Maximum source length for T5:\", t5_max_source_length)\n",
    "print(\"Maximum target length for T5:\", t5_max_target_length)"
   ]
  },
  {
   "cell_type": "markdown",
   "metadata": {},
   "source": [
    "## Debugging Functions"
   ]
  },
  {
   "cell_type": "code",
   "execution_count": 6,
   "metadata": {},
   "outputs": [],
   "source": [
    "def measure_time(func, *args, **kwargs):\n",
    "    \"\"\"\n",
    "    Calculates the time it takes to run a function.\n",
    "    \"\"\"\n",
    "    start_time = time.time()\n",
    "    result = func(*args, **kwargs)\n",
    "    end_time = time.time()\n",
    "    elapsed_time = end_time - start_time\n",
    "    print(f\"Function {func.__name__} took {elapsed_time:.2f} seconds to run.\")\n",
    "    return result\n",
    "\n",
    "def get_gpu_memory():\n",
    "    \"\"\"\n",
    "    Gets the GPU memory information.\n",
    "    \"\"\"\n",
    "    gpus = GPUtil.getGPUs()\n",
    "    gpu = gpus[0]\n",
    "    print(f\"Total GPU memory: {gpu.memoryTotal}MB\")\n",
    "    print(f\"Free GPU memory: {gpu.memoryFree}MB\")\n",
    "    print(f\"Used GPU memory: {gpu.memoryUsed}MB\")\n",
    "\n",
    "def force_clear_GPU_memory():\n",
    "    \"\"\"\n",
    "    Force clears the GPU memory.\n",
    "    \"\"\"\n",
    "    cuda.select_device(0)\n",
    "    cuda.close()\n",
    "\n",
    "def cleanup():\n",
    "    \"\"\"\n",
    "    Cleans up the GPU memory.\n",
    "    \"\"\"\n",
    "    gc.collect()\n",
    "    torch.cuda.empty_cache()"
   ]
  },
  {
   "cell_type": "markdown",
   "metadata": {},
   "source": [
    "## Evaluation Metrics"
   ]
  },
  {
   "cell_type": "code",
   "execution_count": 7,
   "metadata": {},
   "outputs": [
    {
     "name": "stderr",
     "output_type": "stream",
     "text": [
      "Some weights of the model checkpoint at SkolkovoInstitute/roberta_toxicity_classifier were not used when initializing RobertaForSequenceClassification: ['roberta.pooler.dense.weight', 'roberta.pooler.dense.bias']\n",
      "- This IS expected if you are initializing RobertaForSequenceClassification from the checkpoint of a model trained on another task or with another architecture (e.g. initializing a BertForSequenceClassification model from a BertForPreTraining model).\n",
      "- This IS NOT expected if you are initializing RobertaForSequenceClassification from the checkpoint of a model that you expect to be exactly identical (initializing a BertForSequenceClassification model from a BertForSequenceClassification model).\n"
     ]
    }
   ],
   "source": [
    "# Initialize model variables\n",
    "model_bleurt = None\n",
    "model_bertscore = None\n",
    "model_sacrebleu = None\n",
    "\n",
    "# Toxicity classifier\n",
    "tokenizer_toxicity = RobertaTokenizer.from_pretrained(\"SkolkovoInstitute/roberta_toxicity_classifier\")\n",
    "model_toxicity = RobertaForSequenceClassification.from_pretrained(\n",
    "    \"SkolkovoInstitute/roberta_toxicity_classifier\"\n",
    ")\n",
    "\n",
    "# Acceptability classifier\n",
    "tokenizer_acceptability = AutoTokenizer.from_pretrained(\"iproskurina/tda-bert-en-cola\")\n",
    "model_acceptability = AutoModelForSequenceClassification.from_pretrained(\"iproskurina/tda-bert-en-cola\")\n",
    "\n",
    "def calc_sacrebleu(refs, preds):\n",
    "    \"\"\"\n",
    "    Calculates the SacreBLEU score.\n",
    "\n",
    "    Args:\n",
    "        refs (list): List of reference sentences\n",
    "        preds (list): List of predicted sentences\n",
    "    \n",
    "    Returns:\n",
    "        results (float): SacreBLEU score\n",
    "    \"\"\"\n",
    "    global model_sacrebleu\n",
    "\n",
    "    if model_sacrebleu is None:\n",
    "        model_sacrebleu = evaluate.load(\"sacrebleu\")\n",
    "\n",
    "    results = model_sacrebleu.compute(predictions=preds, references=refs)[\"score\"]\n",
    "    results = results/100\n",
    "\n",
    "    return results\n",
    "\n",
    "def calc_bert_score(\n",
    "    refs, preds, model_type=\"microsoft/deberta-large-mnli\", output_mean=True\n",
    "    ):\n",
    "    \"\"\"\n",
    "    Calculates BERT score per line. Note: https://docs.google.com/spreadsheets/d/1RKOVpselB98Nnh_EOC4A2BYn8_201tmPODpNWu4w7xI/edit#gid=0 lists the best performing models\n",
    "    Args:\n",
    "        refs (list): List of reference sentences.\n",
    "        y_pred (list): List of predicted sentences.\n",
    "        model_type (str): Type of BERT model to use.\n",
    "        output_mean (bool): Whether to output the mean of the scores.\n",
    "\n",
    "    Returns:\n",
    "        list of precision, recall, f1 scores.\n",
    "\n",
    "    \"\"\"\n",
    "    global model_bertscore\n",
    "\n",
    "    if model_bertscore is None:\n",
    "        model_bertscore = evaluate.load(\"bertscore\")\n",
    "        \n",
    "    results = model_bertscore.compute(predictions=preds, references=refs, model_type=model_type)\n",
    "    precision = np.array(results[\"precision\"])\n",
    "    recall = np.array(results[\"recall\"])\n",
    "    f1 = np.array(results[\"f1\"])\n",
    "    \n",
    "    if output_mean:\n",
    "        precision = precision.mean()\n",
    "        recall = recall.mean()\n",
    "        f1 = f1.mean()\n",
    "\n",
    "    return precision, recall, f1\n",
    "\n",
    "def calc_bleurt(refs, preds, checkpoint=\"BLEURT-20_D12\", output_mean = True):\n",
    "    \"\"\"\n",
    "    Calculates BLEURT score per line.\n",
    "\n",
    "    Args:\n",
    "        refs (list): List of reference sentences.\n",
    "        preds (list): List of predicted sentences.\n",
    "        output_type (str): Type of output to return. Either 'numpy' or 'list'.\n",
    "\n",
    "    Returns:\n",
    "        list/array of BLEURT scores.\n",
    "    \"\"\"\n",
    "    global model_bleurt\n",
    "\n",
    "    if model_bleurt is None:\n",
    "        model_bleurt = evaluate.load(\"bleurt\", module_type=\"metric\", checkpoint=checkpoint)\n",
    "\n",
    "    results = np.array(model_bleurt.compute(predictions=preds, references=refs)[\"scores\"])\n",
    "\n",
    "    if output_mean:\n",
    "        results = results.mean()\n",
    "\n",
    "    return results\n",
    "\n",
    "def calc_tox_acceptability(\n",
    "    data,\n",
    "    tokenizer,\n",
    "    model,\n",
    "    output_score=True,\n",
    "    output_mean=True):\n",
    "    \"\"\"\n",
    "    Calculates toxicity and acceptability scores for a given dataset.\n",
    "\n",
    "    Args:\n",
    "        data = list of strings to be evaluated\n",
    "        tokenizer = tokenizer for the model\n",
    "        model = model to be used for evaluation\n",
    "        output_score = whether to output the score or the label\n",
    "        output_mean = whether to output the mean of the scores or the scores for each sentence\n",
    "    \n",
    "    Returns:\n",
    "        array of toxicity and acceptability scores.\n",
    "    \"\"\"\n",
    "    model = model.to(DEVICE)\n",
    "    \n",
    "    inputs = tokenizer(data, return_tensors=\"pt\", padding=True).to(DEVICE)\n",
    "    with torch.no_grad():\n",
    "        logits = model(**inputs)[\"logits\"]\n",
    "        if output_score:\n",
    "            result = torch.nn.functional.softmax(logits, dim=1)[:, 1]\n",
    "        else:\n",
    "            result = logits.argmax(1).data\n",
    "        result = result.cpu().numpy()\n",
    "\n",
    "    if output_mean:\n",
    "        result = result.mean()\n",
    "        \n",
    "    return result\n",
    "\n",
    "def evaluate_metrics(\n",
    "    refs,\n",
    "    preds,\n",
    "    tokenizer_toxicity=tokenizer_toxicity,\n",
    "    model_toxicity=model_toxicity,\n",
    "    tokenizer_acceptability=tokenizer_acceptability,\n",
    "    model_acceptability=model_acceptability,\n",
    "    to_neutral=True,\n",
    "    weights={\n",
    "        \"BLEU\": 0.2,\n",
    "        \"STA\": 0.4,\n",
    "        \"Acceptability\": 0.2,\n",
    "        \"BERT_Score\": 0.2\n",
    "    },\n",
    "    include_bleurt=False\n",
    "):\n",
    "    \"\"\"\n",
    "    Calculates and returns a dictionary of evaluation metrics\n",
    "\n",
    "    Args:\n",
    "        refs (list): list of strings (reference)\n",
    "        preds (list): list of strings (predictions)\n",
    "        tokenizer_toxicity (tokenizer): tokenizer for toxicity model\n",
    "        model_toxicity (model): toxicity model\n",
    "        tokenizer_acceptability (tokenizer): tokenizer for acceptability model\n",
    "        model_acceptability (model): acceptability model\n",
    "        to_neutral (bool): whether the goal is to transfer to neutral (True) or to toxic (False)\n",
    "        weights (dict): dictionary of weights for each metric\n",
    "        include_bleurt (bool): whether to include BLEURT score in the output\n",
    "\n",
    "    Returns:\n",
    "        results (dict): dictionary of evaluation metrics\n",
    "    \"\"\"\n",
    "\n",
    "    # Calculate BLEU score\n",
    "    bleu = calc_sacrebleu(refs, preds)\n",
    "\n",
    "    # Calculate toxicity classification\n",
    "    # tox_ref = calc_tox_acceptability(refs, tokenizer_toxicity, model_toxicity, output_score=False, output_mean=False)\n",
    "    tox_pred = calc_tox_acceptability(preds, tokenizer_toxicity, model_toxicity, output_score=False, output_mean=False)\n",
    "\n",
    "    # Calculate style transfer accuracy as proportion of sentences that were correctly classified (as non-toxic / toxic)\n",
    "    if to_neutral:\n",
    "        sta_correct_label = 0\n",
    "    else:\n",
    "        sta_correct_label = 1\n",
    "\n",
    "    # sta_ref = (tox_ref == sta_correct_label).sum() / len(tox_ref)\n",
    "    sta_pred = (tox_pred == sta_correct_label).sum() / len(tox_pred)\n",
    "    # sta_pct = sta_pred / sta_ref\n",
    "\n",
    "    # Calculate acceptability scores\n",
    "    # acc_ref = calc_tox_acceptability(refs, tokenizer_acceptability, model_acceptability)\n",
    "    acc_pred = calc_tox_acceptability(preds, tokenizer_acceptability, model_acceptability)\n",
    "    # acc_pct = acc_pred / acc_ref\n",
    "\n",
    "    # Calculate similarity score\n",
    "    bert_score_f1 = calc_bert_score(refs, preds, model_type=\"distilbert-base-uncased\")[2]\n",
    "\n",
    "    # Calculate BLEURT score if include_bleurt is True\n",
    "    bleurt = None\n",
    "    if include_bleurt:\n",
    "        bleurt = calc_bleurt(refs, preds)\n",
    "\n",
    "    # Calculate composite score\n",
    "    composite_score = weights[\"BLEU\"] * bleu + weights[\"STA\"] * sta_pred + weights[\"Acceptability\"] * acc_pred + weights[\"BERT_Score\"] * bert_score_f1\n",
    "\n",
    "    # Return a dictionary of metrics\n",
    "    results = {\n",
    "        \"BLEU\": bleu,\n",
    "        \"STA_preds\": sta_pred,\n",
    "        # \"STA_pct\": sta_pct,\n",
    "        \"Acceptability_preds\": acc_pred,\n",
    "        # \"Acceptability_pct\": acc_pct,\n",
    "        \"BERT_score_f1\": bert_score_f1,\n",
    "        \"Overall\": composite_score,\n",
    "    }\n",
    "    if include_bleurt:\n",
    "        results[\"BLEURT\"] = bleurt\n",
    "        \n",
    "    return results\n"
   ]
  },
  {
   "cell_type": "markdown",
   "metadata": {},
   "source": [
    "# Baseline Model (DELETE)"
   ]
  },
  {
   "cell_type": "code",
   "execution_count": 9,
   "metadata": {},
   "outputs": [
    {
     "data": {
      "text/plain": [
       "{'BLEU': 0.5291006187073797,\n",
       " 'STA_preds': 0.6596814752724225,\n",
       " 'Acceptability_preds': 0.47865131,\n",
       " 'BERT_score_f1': 0.9118211825455524,\n",
       " 'Overall': 0.6477872133543217}"
      ]
     },
     "execution_count": 9,
     "metadata": {},
     "output_type": "execute_result"
    }
   ],
   "source": [
    "def baseline_detoxifier(text_list, profane_word_path=PROFANE_WORD_PATH):\n",
    "    \"\"\"\n",
    "    Returns a detoxified version of the text by replacing toxic terms with blanks\n",
    "\n",
    "    Args:\n",
    "        text_list (list): list of strings to be detoxified\n",
    "        toxic_list (list): list of toxic terms to be removed from text_list\n",
    "\n",
    "    Returns:\n",
    "        detoxified_text_list (list): list of detoxified strings\n",
    "    \"\"\"\n",
    "    # Load list of profane words\n",
    "    profane_words = []\n",
    "    with open(profane_word_path, \"r\") as f:\n",
    "        for line in f:\n",
    "            profane_words.append(line.strip())\n",
    "\n",
    "    # Detoxify text\n",
    "    detoxified_text_list = []\n",
    "    for text in text_list:\n",
    "        for term in profane_words:\n",
    "            text = text.replace(term, \"\")\n",
    "        detoxified_text_list.append(text)\n",
    "\n",
    "    return detoxified_text_list\n",
    "\n",
    "y_pred_delete = baseline_detoxifier(raw_datasets[\"validation\"]['source'])\n",
    "delete_eval_validation = evaluate_metrics(raw_datasets[\"validation\"]['target'], y_pred_delete)\n",
    "delete_eval_validation"
   ]
  },
  {
   "cell_type": "markdown",
   "metadata": {},
   "source": [
    "# Baseline Model (BART Base Detox)"
   ]
  },
  {
   "cell_type": "code",
   "execution_count": null,
   "metadata": {},
   "outputs": [],
   "source": [
    "Y_PRED_BART_PICKLE_FILE = \"../data/processed/y_pred_bart.pkl\"\n",
    "\n",
    "if os.path.isfile(Y_PRED_BART_PICKLE_FILE):\n",
    "    # Load predictions from pickle file\n",
    "    with open(Y_PRED_BART_PICKLE_FILE, \"rb\") as f:\n",
    "        y_pred_bart = pickle.load(f)\n",
    "else:\n",
    "    # Create predictions using BART\n",
    "    pipe_bart = pipeline(\"text2text-generation\", model=\"s-nlp/bart-base-detox\", device=DEVICE)\n",
    "\n",
    "    # Create predictions using BART and show progress using tqdm\n",
    "    y_pred_bart = pipe_bart(raw_datasets[\"validation\"]['source'], max_length=MAX_OUTPUT_LENGTH, truncation=True)\n",
    "\n",
    "    # Convert to list of strings\n",
    "    y_pred_bart = [x[\"generated_text\"] for x in y_pred_bart]\n",
    "    y_pred_bart[:5]\n",
    "\n",
    "    # Save predictions as a pickle file\n",
    "    with open(Y_PRED_BART_PICKLE_FILE, \"wb\") as f:\n",
    "        pickle.dump(y_pred_bart, f)"
   ]
  },
  {
   "cell_type": "code",
   "execution_count": null,
   "metadata": {},
   "outputs": [
    {
     "data": {
      "text/plain": [
       "{'BLEU': 0.7015951162845684,\n",
       " 'STA_preds': 0.9178541492036881,\n",
       " 'Acceptability_preds': 0.71802455,\n",
       " 'BERT_score_f1': 0.9451393306205379,\n",
       " 'Overall': 0.8400934594361843}"
      ]
     },
     "execution_count": 10,
     "metadata": {},
     "output_type": "execute_result"
    }
   ],
   "source": [
    "# Evaluate BART predictions\n",
    "bart_eval_validation = evaluate_metrics(raw_datasets[\"validation\"]['target'], y_pred_bart)\n",
    "bart_eval_validation"
   ]
  },
  {
   "cell_type": "markdown",
   "metadata": {},
   "source": [
    "# Helper Functions to Fine-tune T5 Models"
   ]
  },
  {
   "cell_type": "code",
   "execution_count": 8,
   "metadata": {},
   "outputs": [
    {
     "name": "stderr",
     "output_type": "stream",
     "text": [
      "/opt/conda/lib/python3.10/site-packages/transformers/models/t5/tokenization_t5.py:238: FutureWarning: This tokenizer was incorrectly instantiated with a model max length of 512 which will be corrected in Transformers v5.\n",
      "For now, this behavior is kept to avoid breaking backwards compatibility when padding/encoding with `truncation is True`.\n",
      "- Be aware that you SHOULD NOT rely on t5-base automatically truncating your input to 512 when padding/encoding.\n",
      "- If you want to encode/pad to sequences longer than 512 you can either instantiate this tokenizer with `model_max_length` or pass `max_length` when encoding/padding.\n",
      "- To avoid this warning, please instantiate this tokenizer with `model_max_length` set to your preferred value.\n",
      "  warnings.warn(\n",
      "You are using the default legacy behaviour of the <class 'transformers.models.t5.tokenization_t5.T5Tokenizer'>. This is expected, and simply means that the `legacy` (previous) behavior will be used so nothing changes for you. If you want to use the new behaviour, set `legacy=False`. This should only be set if you understand what it means, and thouroughly read the reason why this was added as explained in https://github.com/huggingface/transformers/pull/24565\n"
     ]
    }
   ],
   "source": [
    "model_t5_base = T5ForConditionalGeneration.from_pretrained(\"t5-base\")\n",
    "tokenizer_t5_base = T5Tokenizer.from_pretrained(\"t5-base\")\n",
    "model_t5_small = T5ForConditionalGeneration.from_pretrained(\"t5-small\")\n",
    "tokenizer_t5_small = T5Tokenizer.from_pretrained(\"t5-small\")"
   ]
  },
  {
   "cell_type": "code",
   "execution_count": 9,
   "metadata": {},
   "outputs": [],
   "source": [
    "def add_prefix(datasetdict, prefix=\"to_neutral: \"):\n",
    "    \"\"\"Adds a prefix to the source sequence in the dataset.\"\"\"\n",
    "    datasetdict_copy = datasetdict.copy()\n",
    "    datasetdict_copy[\"train\"] = datasetdict_copy[\"train\"].map(lambda x: {\"source\": prefix + x[\"source\"]})\n",
    "    datasetdict_copy[\"validation\"] = datasetdict_copy[\"validation\"].map(lambda x: {\"source\": prefix + x[\"source\"]})\n",
    "    datasetdict_copy[\"test\"] = datasetdict_copy[\"test\"].map(lambda x: {\"source\": prefix + x[\"source\"]})\n",
    "    datasetdict_copy = DatasetDict(datasetdict_copy)\n",
    "    return datasetdict_copy\n",
    "\n",
    "def preprocess_function(examples, tokenizer):\n",
    "    \"\"\"Preprocess function for T5.\"\"\"\n",
    "    model_inputs = tokenizer(\n",
    "        examples[\"source\"],\n",
    "        text_target=examples[\"target\"],\n",
    "        max_length=MAX_INPUT_LENGTH,\n",
    "        truncation=True,\n",
    "    )\n",
    "    return model_inputs\n",
    "\n",
    "def post_process(preds, refs, tokenizer):\n",
    "    \"\"\"\n",
    "    Post-process function for T5.\n",
    "\n",
    "    Args:\n",
    "        preds (list): list of predicted sequences\n",
    "        refs (list): list of reference sequences\n",
    "        tokenizer (PreTrainedTokenizer): tokenizer to use for decoding\n",
    "\n",
    "    Returns:\n",
    "        decoded_preds (list): list of decoded predicted sequences\n",
    "        decoded_refs (list): list of decoded reference sequences\n",
    "    \"\"\"\n",
    "    # In case the model returns more than the prediction logits\n",
    "    if isinstance(preds, tuple):\n",
    "        preds = preds[0]\n",
    "\n",
    "    decoded_preds = tokenizer.batch_decode(preds, skip_special_tokens=True)\n",
    "\n",
    "    # Replace -100s in the labels as we can't decode them\n",
    "    refs = np.where(refs != -100, refs, tokenizer.pad_token_id)\n",
    "    decoded_refs = tokenizer.batch_decode(refs, skip_special_tokens=True)\n",
    "\n",
    "    # Some simple post-processing\n",
    "    decoded_preds = [pred.strip() for pred in decoded_preds]\n",
    "    decoded_refs = [ref.strip() for ref in decoded_refs]\n",
    "\n",
    "    return decoded_preds, decoded_refs\n",
    "\n",
    "def compute_metrics(eval_preds, tokenizer):\n",
    "    \"\"\"\n",
    "    Function to calculate the metrics for trainer.evaluate().\n",
    "\n",
    "    Args:\n",
    "        tokenizer (PreTrainedTokenizer): tokenizer to use for decoding the predictions\n",
    "        eval_preds (tuple): Tuple containing the predictions and references\n",
    "\n",
    "    Returns:\n",
    "        dict: Dictionary containing the metrics\n",
    "    \"\"\"\n",
    "    preds, refs = eval_preds\n",
    "\n",
    "    # Post-process the predictions and references\n",
    "    decoded_preds, decoded_refs = post_process(preds, refs, tokenizer)\n",
    "    \n",
    "    # Evaluate metrics\n",
    "    return evaluate_metrics(\n",
    "        decoded_refs,\n",
    "        decoded_preds,\n",
    "        tokenizer_toxicity=tokenizer_toxicity,\n",
    "        model_toxicity=model_toxicity,\n",
    "        tokenizer_acceptability=tokenizer_acceptability,\n",
    "        model_acceptability=model_acceptability,\n",
    "        include_bleurt=False\n",
    "    )\n",
    "\n",
    "def setup_trainer(output_dir_name,\n",
    "                train_dataset,\n",
    "                eval_dataset,\n",
    "                model_checkpoint=\"t5-small\",\n",
    "                per_device_train_batch_size=32,\n",
    "                per_device_eval_batch_size=128,\n",
    "                learning_rate=1e-4,\n",
    "                num_train_epochs=30,\n",
    "                max_length=MAX_OUTPUT_LENGTH,\n",
    "                num_beams=4,\n",
    "                compute_metrics=compute_metrics,\n",
    "                callbacks=[EarlyStoppingCallback(early_stopping_patience=2)]):\n",
    "    \"\"\"\n",
    "    Set up a Seq2SeqTrainer object for training a T5 model.\n",
    "\n",
    "    Default parameters based on this: https://github.com/google-research/text-to-text-transfer-transformer/blob/main/t5/models/hf_model.py#L55\n",
    "\n",
    "    Args:\n",
    "        output_dir_name (str): What to name the model in the output directory.\n",
    "        model_checkpoint (str): Name of the pre-trained model to use.\n",
    "        train_dataset (Dataset): Training dataset.\n",
    "        eval_dataset (Dataset): Validation/test dataset.\n",
    "        per_device_train_batch_size (int): Batch size for training.\n",
    "        per_device_eval_batch_size (int): Batch size for evaluation.\n",
    "        learning_rate (float): Learning rate for optimizer.\n",
    "        weight_decay (float): Weight decay for optimizer.\n",
    "        num_train_epochs (int): Number of training epochs.\n",
    "        max_length (int): Maximum length of generated sequences.\n",
    "        num_beams (int): Number of beams for beam search.\n",
    "        compute_metrics (function): Function to compute evaluation metrics.\n",
    "\n",
    "    Returns:\n",
    "        Seq2SeqTrainer: Trainer object for training the T5 model.\n",
    "    \"\"\"\n",
    "    \n",
    "    # Instantiate model and tokenizer\n",
    "    model = T5ForConditionalGeneration.from_pretrained(model_checkpoint)\n",
    "    tokenizer = T5Tokenizer.from_pretrained(model_checkpoint)\n",
    "\n",
    "    # Define the data collator\n",
    "    data_collator = DataCollatorForSeq2Seq(tokenizer, model, return_tensors=\"pt\", padding=True)\n",
    "\n",
    "    # Define generation config\n",
    "    generation_config = GenerationConfig(\n",
    "        max_length=max_length,\n",
    "        num_beams=num_beams,\n",
    "        early_stopping=True,\n",
    "        eos_token_id=model.config.eos_token_id,\n",
    "        bos_token_id=model.config.bos_token_id,\n",
    "        pad_token_id=model.config.pad_token_id,\n",
    "        decoder_start_token_id=model.config.pad_token_id\n",
    "        )\n",
    "\n",
    "    # Save the generation config\n",
    "    GEN_CONFIG_PATH = f\"../models/{output_dir_name}/generation_config\"\n",
    "    generation_config.save_pretrained(GEN_CONFIG_PATH)\n",
    "\n",
    "    # Define the training arguments\n",
    "    args = Seq2SeqTrainingArguments(\n",
    "        output_dir=f'../models/{output_dir_name}',\n",
    "        evaluation_strategy=\"epoch\",\n",
    "        save_strategy=\"epoch\",\n",
    "        logging_strategy=\"epoch\",\n",
    "        num_train_epochs=num_train_epochs,\n",
    "        per_device_train_batch_size=per_device_train_batch_size,\n",
    "        per_device_eval_batch_size=per_device_eval_batch_size,\n",
    "        learning_rate=learning_rate, \n",
    "        predict_with_generate=True,\n",
    "        generation_config=GEN_CONFIG_PATH,\n",
    "        fp16=True,\n",
    "        report_to=\"wandb\",\n",
    "        logging_steps=100,\n",
    "        load_best_model_at_end=True,\n",
    "        metric_for_best_model=\"Overall\",\n",
    "        greater_is_better=True,\n",
    "        generation_max_length=max_length,\n",
    "    )\n",
    "\n",
    "    # Create a partial function with the tokenizer argument included\n",
    "    compute_metrics_with_tokenizer = partial(compute_metrics, tokenizer=tokenizer)\n",
    "    \n",
    "    # Instantiate the trainer\n",
    "    trainer = Seq2SeqTrainer(\n",
    "        model=model,\n",
    "        args=args,\n",
    "        train_dataset=train_dataset,\n",
    "        eval_dataset=eval_dataset,\n",
    "        data_collator=data_collator,\n",
    "        tokenizer=tokenizer,\n",
    "        compute_metrics=compute_metrics_with_tokenizer,\n",
    "        callbacks=callbacks\n",
    "    )\n",
    "\n",
    "    return trainer"
   ]
  },
  {
   "cell_type": "markdown",
   "metadata": {},
   "source": [
    "# Fine-tune T5 (Unidirectional)"
   ]
  },
  {
   "cell_type": "markdown",
   "metadata": {},
   "source": [
    "### T5-Small"
   ]
  },
  {
   "cell_type": "code",
   "execution_count": 15,
   "metadata": {},
   "outputs": [
    {
     "name": "stderr",
     "output_type": "stream",
     "text": [
      "WARNING:datasets.arrow_dataset:Loading cached processed dataset at /home/garykong/w266_final_project/data/processed/raw_dataset.pkl/train/cache-ac03a1eae4857ca9.arrow\n",
      "WARNING:datasets.arrow_dataset:Loading cached processed dataset at /home/garykong/w266_final_project/data/processed/raw_dataset.pkl/validation/cache-1a3c402aca53efae.arrow\n",
      "WARNING:datasets.arrow_dataset:Loading cached processed dataset at /home/garykong/w266_final_project/data/processed/raw_dataset.pkl/test/cache-52371f98a42bda9e.arrow\n"
     ]
    },
    {
     "data": {
      "application/vnd.jupyter.widget-view+json": {
       "model_id": "a795db7d01074532b2edc87d668b94da",
       "version_major": 2,
       "version_minor": 0
      },
      "text/plain": [
       "Map:   0%|          | 0/10733 [00:00<?, ? examples/s]"
      ]
     },
     "metadata": {},
     "output_type": "display_data"
    },
    {
     "data": {
      "application/vnd.jupyter.widget-view+json": {
       "model_id": "491cf3462d114614b1ec77505b2baba0",
       "version_major": 2,
       "version_minor": 0
      },
      "text/plain": [
       "Map:   0%|          | 0/1193 [00:00<?, ? examples/s]"
      ]
     },
     "metadata": {},
     "output_type": "display_data"
    },
    {
     "data": {
      "application/vnd.jupyter.widget-view+json": {
       "model_id": "cbde97b1ba854a3a90b06770757a38b1",
       "version_major": 2,
       "version_minor": 0
      },
      "text/plain": [
       "Map:   0%|          | 0/671 [00:00<?, ? examples/s]"
      ]
     },
     "metadata": {},
     "output_type": "display_data"
    },
    {
     "name": "stderr",
     "output_type": "stream",
     "text": [
      "WARNING:root:XRT configuration not detected. Defaulting to preview PJRT runtime. To silence this warning and continue using PJRT, explicitly set PJRT_DEVICE to a supported device or configure XRT. To disable default device selection, set PJRT_SELECT_DEFAULT_DEVICE=0\n",
      "WARNING:root:For more information about the status of PJRT, see https://github.com/pytorch/xla/blob/master/docs/pjrt.md\n",
      "WARNING:root:Defaulting to PJRT_DEVICE=CPU\n"
     ]
    }
   ],
   "source": [
    "prefixed_datasets = add_prefix(raw_datasets)\n",
    "\n",
    "tokenized_datasets_t5_small = prefixed_datasets.map(\n",
    "    preprocess_function,\n",
    "    fn_kwargs={'tokenizer': tokenizer_t5_small},\n",
    "    batched=True,\n",
    "    remove_columns=[\"source\", \"target\"],\n",
    ")\n",
    "\n",
    "trainer_t5_small = setup_trainer(\n",
    "    output_dir_name=\"t5-small-detoxify\",\n",
    "    model_checkpoint=\"t5-small\",\n",
    "    train_dataset=tokenized_datasets_t5_small[\"train\"],\n",
    "    eval_dataset=tokenized_datasets_t5_small[\"validation\"],\n",
    ")"
   ]
  },
  {
   "cell_type": "code",
   "execution_count": null,
   "metadata": {},
   "outputs": [
    {
     "name": "stderr",
     "output_type": "stream",
     "text": [
      "WARNING:datasets.arrow_dataset:Loading cached processed dataset at /home/garykong/w266_final_project/data/processed/raw_dataset.pkl/train/cache-ac03a1eae4857ca9.arrow\n",
      "WARNING:datasets.arrow_dataset:Loading cached processed dataset at /home/garykong/w266_final_project/data/processed/raw_dataset.pkl/validation/cache-1a3c402aca53efae.arrow\n",
      "WARNING:datasets.arrow_dataset:Loading cached processed dataset at /home/garykong/w266_final_project/data/processed/raw_dataset.pkl/test/cache-52371f98a42bda9e.arrow\n"
     ]
    },
    {
     "data": {
      "application/vnd.jupyter.widget-view+json": {
       "model_id": "78a1fbda7d4f489da18dd50b38397952",
       "version_major": 2,
       "version_minor": 0
      },
      "text/plain": [
       "Map:   0%|          | 0/10733 [00:00<?, ? examples/s]"
      ]
     },
     "metadata": {},
     "output_type": "display_data"
    },
    {
     "data": {
      "application/vnd.jupyter.widget-view+json": {
       "model_id": "c329bc0030b94a9985c49c21d250fe68",
       "version_major": 2,
       "version_minor": 0
      },
      "text/plain": [
       "Map:   0%|          | 0/1193 [00:00<?, ? examples/s]"
      ]
     },
     "metadata": {},
     "output_type": "display_data"
    },
    {
     "data": {
      "application/vnd.jupyter.widget-view+json": {
       "model_id": "ed57ecf3a3c54a79ae679f09db743c14",
       "version_major": 2,
       "version_minor": 0
      },
      "text/plain": [
       "Map:   0%|          | 0/671 [00:00<?, ? examples/s]"
      ]
     },
     "metadata": {},
     "output_type": "display_data"
    },
    {
     "name": "stderr",
     "output_type": "stream",
     "text": [
      "WARNING:root:XRT configuration not detected. Defaulting to preview PJRT runtime. To silence this warning and continue using PJRT, explicitly set PJRT_DEVICE to a supported device or configure XRT. To disable default device selection, set PJRT_SELECT_DEFAULT_DEVICE=0\n",
      "WARNING:root:For more information about the status of PJRT, see https://github.com/pytorch/xla/blob/master/docs/pjrt.md\n",
      "WARNING:root:Defaulting to PJRT_DEVICE=CPU\n"
     ]
    },
    {
     "data": {
      "text/html": [
       "Changes to your `wandb` environment variables will be ignored because your `wandb` session has already started. For more information on how to modify your settings with `wandb.init()` arguments, please refer to <a href='https://wandb.me/wandb-init' target=\"_blank\">the W&B docs</a>."
      ],
      "text/plain": [
       "<IPython.core.display.HTML object>"
      ]
     },
     "metadata": {},
     "output_type": "display_data"
    },
    {
     "data": {
      "text/html": [
       "Tracking run with wandb version 0.15.12"
      ],
      "text/plain": [
       "<IPython.core.display.HTML object>"
      ]
     },
     "metadata": {},
     "output_type": "display_data"
    },
    {
     "data": {
      "text/html": [
       "Run data is saved locally in <code>/home/garykong/w266_final_project/notebooks/wandb/run-20231031_141736-al18titv</code>"
      ],
      "text/plain": [
       "<IPython.core.display.HTML object>"
      ]
     },
     "metadata": {},
     "output_type": "display_data"
    },
    {
     "data": {
      "text/html": [
       "Syncing run <strong><a href='https://wandb.ai/garykong/w266_final_project/runs/al18titv' target=\"_blank\">t5-small-detoxify</a></strong> to <a href='https://wandb.ai/garykong/w266_final_project' target=\"_blank\">Weights & Biases</a> (<a href='https://wandb.me/run' target=\"_blank\">docs</a>)<br/>"
      ],
      "text/plain": [
       "<IPython.core.display.HTML object>"
      ]
     },
     "metadata": {},
     "output_type": "display_data"
    },
    {
     "data": {
      "text/html": [
       " View project at <a href='https://wandb.ai/garykong/w266_final_project' target=\"_blank\">https://wandb.ai/garykong/w266_final_project</a>"
      ],
      "text/plain": [
       "<IPython.core.display.HTML object>"
      ]
     },
     "metadata": {},
     "output_type": "display_data"
    },
    {
     "data": {
      "text/html": [
       " View run at <a href='https://wandb.ai/garykong/w266_final_project/runs/al18titv' target=\"_blank\">https://wandb.ai/garykong/w266_final_project/runs/al18titv</a>"
      ],
      "text/plain": [
       "<IPython.core.display.HTML object>"
      ]
     },
     "metadata": {},
     "output_type": "display_data"
    },
    {
     "data": {
      "text/html": [
       "\n",
       "    <div>\n",
       "      \n",
       "      <progress value='2688' max='10080' style='width:300px; height:20px; vertical-align: middle;'></progress>\n",
       "      [ 2688/10080 10:40 < 29:23, 4.19 it/s, Epoch 8/30]\n",
       "    </div>\n",
       "    <table border=\"1\" class=\"dataframe\">\n",
       "  <thead>\n",
       " <tr style=\"text-align: left;\">\n",
       "      <th>Epoch</th>\n",
       "      <th>Training Loss</th>\n",
       "      <th>Validation Loss</th>\n",
       "      <th>Bleu</th>\n",
       "      <th>Sta Preds</th>\n",
       "      <th>Acceptability Preds</th>\n",
       "      <th>Bert Score F1</th>\n",
       "      <th>Overall</th>\n",
       "    </tr>\n",
       "  </thead>\n",
       "  <tbody>\n",
       "    <tr>\n",
       "      <td>1</td>\n",
       "      <td>1.250000</td>\n",
       "      <td>1.002992</td>\n",
       "      <td>0.577241</td>\n",
       "      <td>0.743504</td>\n",
       "      <td>0.678014</td>\n",
       "      <td>0.921097</td>\n",
       "      <td>0.732672</td>\n",
       "    </tr>\n",
       "    <tr>\n",
       "      <td>2</td>\n",
       "      <td>1.062000</td>\n",
       "      <td>0.954667</td>\n",
       "      <td>0.592385</td>\n",
       "      <td>0.821459</td>\n",
       "      <td>0.688148</td>\n",
       "      <td>0.924167</td>\n",
       "      <td>0.769524</td>\n",
       "    </tr>\n",
       "    <tr>\n",
       "      <td>3</td>\n",
       "      <td>0.995800</td>\n",
       "      <td>0.939699</td>\n",
       "      <td>0.598228</td>\n",
       "      <td>0.842414</td>\n",
       "      <td>0.690134</td>\n",
       "      <td>0.925105</td>\n",
       "      <td>0.779659</td>\n",
       "    </tr>\n",
       "    <tr>\n",
       "      <td>4</td>\n",
       "      <td>0.948300</td>\n",
       "      <td>0.923069</td>\n",
       "      <td>0.597996</td>\n",
       "      <td>0.854987</td>\n",
       "      <td>0.694469</td>\n",
       "      <td>0.924770</td>\n",
       "      <td>0.785442</td>\n",
       "    </tr>\n",
       "    <tr>\n",
       "      <td>5</td>\n",
       "      <td>0.913600</td>\n",
       "      <td>0.915044</td>\n",
       "      <td>0.601244</td>\n",
       "      <td>0.865046</td>\n",
       "      <td>0.701344</td>\n",
       "      <td>0.925471</td>\n",
       "      <td>0.791630</td>\n",
       "    </tr>\n",
       "    <tr>\n",
       "      <td>6</td>\n",
       "      <td>0.882700</td>\n",
       "      <td>0.918080</td>\n",
       "      <td>0.606649</td>\n",
       "      <td>0.891031</td>\n",
       "      <td>0.699932</td>\n",
       "      <td>0.925584</td>\n",
       "      <td>0.802845</td>\n",
       "    </tr>\n",
       "    <tr>\n",
       "      <td>7</td>\n",
       "      <td>0.855500</td>\n",
       "      <td>0.922288</td>\n",
       "      <td>0.600217</td>\n",
       "      <td>0.873428</td>\n",
       "      <td>0.698467</td>\n",
       "      <td>0.926352</td>\n",
       "      <td>0.794379</td>\n",
       "    </tr>\n",
       "    <tr>\n",
       "      <td>8</td>\n",
       "      <td>0.829700</td>\n",
       "      <td>0.919788</td>\n",
       "      <td>0.601931</td>\n",
       "      <td>0.894384</td>\n",
       "      <td>0.696203</td>\n",
       "      <td>0.925716</td>\n",
       "      <td>0.802524</td>\n",
       "    </tr>\n",
       "  </tbody>\n",
       "</table><p>"
      ],
      "text/plain": [
       "<IPython.core.display.HTML object>"
      ]
     },
     "metadata": {},
     "output_type": "display_data"
    },
    {
     "data": {
      "text/html": [
       "Waiting for W&B process to finish... <strong style=\"color:green\">(success).</strong>"
      ],
      "text/plain": [
       "<IPython.core.display.HTML object>"
      ]
     },
     "metadata": {},
     "output_type": "display_data"
    },
    {
     "name": "stderr",
     "output_type": "stream",
     "text": [
      "wandb: WARNING Source type is set to 'repo' but some required information is missing from the environment. A job will not be created from this run. See https://docs.wandb.ai/guides/launch/create-job\n"
     ]
    },
    {
     "data": {
      "text/html": [
       "<style>\n",
       "    table.wandb td:nth-child(1) { padding: 0 10px; text-align: left ; width: auto;} td:nth-child(2) {text-align: left ; width: 100%}\n",
       "    .wandb-row { display: flex; flex-direction: row; flex-wrap: wrap; justify-content: flex-start; width: 100% }\n",
       "    .wandb-col { display: flex; flex-direction: column; flex-basis: 100%; flex: 1; padding: 10px; }\n",
       "    </style>\n",
       "<div class=\"wandb-row\"><div class=\"wandb-col\"><h3>Run history:</h3><br/><table class=\"wandb\"><tr><td>eval/Acceptability_preds</td><td>▁▄▅▆██▇▆</td></tr><tr><td>eval/BERT_score_f1</td><td>▁▅▆▆▇▇█▇</td></tr><tr><td>eval/BLEU</td><td>▁▅▆▆▇█▆▇</td></tr><tr><td>eval/Overall</td><td>▁▅▆▆▇█▇█</td></tr><tr><td>eval/STA_preds</td><td>▁▅▆▆▇█▇█</td></tr><tr><td>eval/loss</td><td>█▄▃▂▁▁▂▁</td></tr><tr><td>eval/runtime</td><td>▇▇▁▄▇▂▆█</td></tr><tr><td>eval/samples_per_second</td><td>▂▂█▄▂▇▃▁</td></tr><tr><td>eval/steps_per_second</td><td>▂▂█▅▂▇▃▁</td></tr><tr><td>train/epoch</td><td>▁▁▂▂▃▃▄▄▅▅▆▆▇▇███</td></tr><tr><td>train/global_step</td><td>▁▁▂▂▃▃▄▄▅▅▆▆▇▇███</td></tr><tr><td>train/learning_rate</td><td>█▇▆▅▄▃▂▁</td></tr><tr><td>train/loss</td><td>█▅▄▃▂▂▁▁</td></tr><tr><td>train/total_flos</td><td>▁</td></tr><tr><td>train/train_loss</td><td>▁</td></tr><tr><td>train/train_runtime</td><td>▁</td></tr><tr><td>train/train_samples_per_second</td><td>▁</td></tr><tr><td>train/train_steps_per_second</td><td>▁</td></tr></table><br/></div><div class=\"wandb-col\"><h3>Run summary:</h3><br/><table class=\"wandb\"><tr><td>eval/Acceptability_preds</td><td>0.6962</td></tr><tr><td>eval/BERT_score_f1</td><td>0.92572</td></tr><tr><td>eval/BLEU</td><td>0.60193</td></tr><tr><td>eval/Overall</td><td>0.80252</td></tr><tr><td>eval/STA_preds</td><td>0.89438</td></tr><tr><td>eval/loss</td><td>0.91979</td></tr><tr><td>eval/runtime</td><td>46.1381</td></tr><tr><td>eval/samples_per_second</td><td>25.857</td></tr><tr><td>eval/steps_per_second</td><td>0.217</td></tr><tr><td>train/epoch</td><td>8.0</td></tr><tr><td>train/global_step</td><td>2688</td></tr><tr><td>train/learning_rate</td><td>7e-05</td></tr><tr><td>train/loss</td><td>0.8297</td></tr><tr><td>train/total_flos</td><td>819807057149952.0</td></tr><tr><td>train/train_loss</td><td>0.96719</td></tr><tr><td>train/train_runtime</td><td>640.8923</td></tr><tr><td>train/train_samples_per_second</td><td>502.409</td></tr><tr><td>train/train_steps_per_second</td><td>15.728</td></tr></table><br/></div></div>"
      ],
      "text/plain": [
       "<IPython.core.display.HTML object>"
      ]
     },
     "metadata": {},
     "output_type": "display_data"
    },
    {
     "data": {
      "text/html": [
       " View run <strong style=\"color:#cdcd00\">t5-small-detoxify</strong> at: <a href='https://wandb.ai/garykong/w266_final_project/runs/al18titv' target=\"_blank\">https://wandb.ai/garykong/w266_final_project/runs/al18titv</a><br/>Synced 5 W&B file(s), 0 media file(s), 0 artifact file(s) and 0 other file(s)"
      ],
      "text/plain": [
       "<IPython.core.display.HTML object>"
      ]
     },
     "metadata": {},
     "output_type": "display_data"
    },
    {
     "data": {
      "text/html": [
       "Find logs at: <code>./wandb/run-20231031_141736-al18titv/logs</code>"
      ],
      "text/plain": [
       "<IPython.core.display.HTML object>"
      ]
     },
     "metadata": {},
     "output_type": "display_data"
    }
   ],
   "source": [
    "wandb.init(project=\"w266_final_project\", name=\"t5-small-detoxify\")\n",
    "trainer_t5_small.train() # General rule is 10% number of epochs\n",
    "wandb.finish()"
   ]
  },
  {
   "cell_type": "markdown",
   "metadata": {},
   "source": [
    "#### Investigate difference between checkpoints"
   ]
  },
  {
   "cell_type": "markdown",
   "metadata": {},
   "source": [
    "Interestingly, overall scores are maximized even as validation loss increases (see t5-small-detoxify). We can see that the main aspect that improves is style transfer accuracy (STA), but also acceptability. Next, we check samples of text generated at the checkpoint in which validation loss is minimized vs. the checkpoint where the overall score is maximized and compare them"
   ]
  },
  {
   "cell_type": "code",
   "execution_count": 10,
   "metadata": {},
   "outputs": [],
   "source": [
    "# Define checkpoint paths\n",
    "CHECKPOINT_T5_SMALL_MINLOSS = \"../models/t5-small-detoxify/checkpoint-1680\" # Epoch 5, min loss\n",
    "CHECKPOINT_T5_SMALL_BEST = \"../models/t5-small-detoxify/checkpoint-2016\" # Epoch 15, best overall"
   ]
  },
  {
   "cell_type": "code",
   "execution_count": 16,
   "metadata": {},
   "outputs": [
    {
     "name": "stderr",
     "output_type": "stream",
     "text": [
      "Special tokens have been added in the vocabulary, make sure the associated word embeddings are fine-tuned or trained.\n",
      "Special tokens have been added in the vocabulary, make sure the associated word embeddings are fine-tuned or trained.\n"
     ]
    }
   ],
   "source": [
    "# The trainer object for t5-small-detoxify is already the best model, so we can just load it\n",
    "trainer_t5_small_best = setup_trainer(\n",
    "    output_dir_name=\"t5-small-detoxify\",\n",
    "    model_checkpoint=CHECKPOINT_T5_SMALL_BEST,\n",
    "    train_dataset=tokenized_datasets_t5_small[\"train\"],\n",
    "    eval_dataset=tokenized_datasets_t5_small[\"validation\"],\n",
    ")\n",
    "\n",
    "# Load the trainer object for t5-small-detoxify with the minimum loss\n",
    "trainer_t5_small_minloss = setup_trainer(\n",
    "    output_dir_name=\"t5-small-detoxify\",\n",
    "    model_checkpoint=CHECKPOINT_T5_SMALL_MINLOSS,\n",
    "    train_dataset=tokenized_datasets_t5_small[\"train\"],\n",
    "    eval_dataset=tokenized_datasets_t5_small[\"validation\"],\n",
    ")"
   ]
  },
  {
   "cell_type": "code",
   "execution_count": 17,
   "metadata": {},
   "outputs": [
    {
     "data": {
      "text/html": [],
      "text/plain": [
       "<IPython.core.display.HTML object>"
      ]
     },
     "metadata": {},
     "output_type": "display_data"
    },
    {
     "data": {
      "text/html": [],
      "text/plain": [
       "<IPython.core.display.HTML object>"
      ]
     },
     "metadata": {},
     "output_type": "display_data"
    }
   ],
   "source": [
    "# Get predictions from trainer objects\n",
    "def get_preds_df (trainer_1=trainer_t5_small_best,\n",
    "                  trainer_2=trainer_t5_small_minloss,\n",
    "                  tokenizer=tokenizer_t5_small,\n",
    "                  tokenized_data=tokenized_datasets_t5_small[\"validation\"],\n",
    "                  raw_data=raw_datasets[\"validation\"]):\n",
    "    \"\"\"\n",
    "    Gets the predictions from a trainer object and returns a dataframe containing the source, target, and prediction.\n",
    "\n",
    "    Args:\n",
    "        trainer_object (Seq2SeqTrainer): trainer object containing the model\n",
    "        tokenized_data (Dataset): dataset to be evaluated\n",
    "        raw_data (Dataset): dataset containing the raw data\n",
    "\n",
    "    Returns:\n",
    "        preds (Seq2SeqPrediction): Seq2SeqPrediction object containing the predictions\n",
    "        decoded_preds (list): list of decoded predictions\n",
    "        df (DataFrame): dataframe containing the source, target, and prediction\n",
    "    \"\"\"\n",
    "    \n",
    "    # Get predictions\n",
    "    preds_1 = trainer_1.predict(tokenized_data)\n",
    "    decoded_preds_1 = tokenizer.batch_decode(preds_1.predictions, skip_special_tokens=True)\n",
    "    preds_2 = trainer_2.predict(tokenized_data)\n",
    "    decoded_preds_2 = tokenizer.batch_decode(preds_2.predictions, skip_special_tokens=True)\n",
    "\n",
    "    # Create dataframe containing source, target, and prediction\n",
    "    df = pd.DataFrame()\n",
    "    df[\"source\"] = raw_data[\"source\"]\n",
    "    df[\"target\"] = raw_data[\"target\"]\n",
    "    df[\"pred_1\"] = decoded_preds_1\n",
    "    df[\"pred_2\"] = decoded_preds_2\n",
    "    \n",
    "    return df\n",
    "\n",
    "# Get predictions for t5-small-detoxify\n",
    "t5_small_df = get_preds_df(trainer_1=trainer_t5_small_best,\n",
    "                                trainer_2=trainer_t5_small_minloss,\n",
    "                                tokenizer=tokenizer_t5_small,\n",
    "                                tokenized_data=tokenized_datasets_t5_small[\"validation\"],\n",
    "                                raw_data=raw_datasets[\"validation\"])"
   ]
  },
  {
   "cell_type": "code",
   "execution_count": 18,
   "metadata": {},
   "outputs": [
    {
     "name": "stdout",
     "output_type": "stream",
     "text": [
      "Index: 62\n",
      "Source: Spank them and send them back to california.\n",
      "Target: Scold them and send them back to california\n",
      "Prediction (Best model): Send them back to california\n",
      "Prediction (Min val error): Spank them and send them back to California.\n",
      "Diff in toxicity: -0.994\n",
      "Diff in acceptability: -0.006\n",
      "Diff in BERT: -0.002\n",
      "\n",
      "Index: 84\n",
      "Source: Its the adults who are screaming and carrying on like idiots.\n",
      "Target: Its the adults who are screaming and carrying on\n",
      "Prediction (Best model): It's the adults who are screaming and carrying on.\n",
      "Prediction (Min val error): Its the adults who are screaming and carrying on like idiots.\n",
      "Diff in toxicity: -0.999\n",
      "Diff in acceptability: 0.699\n",
      "Diff in BERT: -0.013\n",
      "\n",
      "Index: 132\n",
      "Source: All canadians are paying for what the left wing voted in, many canadians were not so stupid.\n",
      "Target: All canadians are paying for what the left wing voted in, many canadians had common sense.\n",
      "Prediction (Best model): All canadians are paying for what the left wing voted in, many canadians were not so smart.\n",
      "Prediction (Min val error): All canadians are paying for what the left wing voted in, many canadians were not so stupid.\n",
      "Diff in toxicity: -0.928\n",
      "Diff in acceptability: -0.195\n",
      "Diff in BERT: -0.001\n",
      "\n",
      "Index: 142\n",
      "Source: To be fair obama is just doing what any corrupt republican piece of shit would do.\n",
      "Target: To be fair obama is just doing what any corrupt republican would do\n",
      "Prediction (Best model): To be fair Obama is just doing what any corrupt republican would do.\n",
      "Prediction (Min val error): To be fair obama is just doing what any corrupt republican would do.\n",
      "Diff in toxicity: -0.544\n",
      "Diff in acceptability: 0.1\n",
      "Diff in BERT: 0.0\n",
      "\n",
      "Index: 144\n",
      "Source: Never take any responsibility and then post silly comments blaming liberals.\n",
      "Target: Never take any responsibility and then post bad comments blaming liberals\n",
      "Prediction (Best model): Never take any responsibility and then post comments blaming liberals.\n",
      "Prediction (Min val error): Never take any responsibility and then post silly comments blaming liberals.\n",
      "Diff in toxicity: -0.951\n",
      "Diff in acceptability: 0.001\n",
      "Diff in BERT: -0.002\n",
      "\n",
      "Index: 237\n",
      "Source: Yes yung n i feel stupid ova here tryin keep up wiff yuh know i juss made dis shit\n",
      "Target: Yes yung and i feel naive ova here tryin keep up yuh know i just made this\n",
      "Prediction (Best model): Yes yung n i feel bad ova here tryin keep up wiff yuh know i juss made dis\n",
      "Prediction (Min val error): Yes yung n i feel bad ova here tryin keep up wiff yuh know i juss made dis shit\n",
      "Diff in toxicity: -0.994\n",
      "Diff in acceptability: 0.035\n",
      "Diff in BERT: -0.004\n",
      "\n",
      "Index: 251\n",
      "Source: Are you suggesting that denver is as corrupt as brazil and greece?\n",
      "Target: Are you implying that Denver, like Brazil and Greece, is corrupt?\n",
      "Prediction (Best model): Are you suggesting that denver is corrupt as brazil and greece?\n",
      "Prediction (Min val error): Are you suggesting that denver is as corrupt as Brazil and greece?\n",
      "Diff in toxicity: -0.574\n",
      "Diff in acceptability: -0.395\n",
      "Diff in BERT: 0.004\n",
      "\n",
      "Index: 253\n",
      "Source: Would u want a nigga to act like a bitch lol?\n",
      "Target: Would you want a person to act like that lol?\n",
      "Prediction (Best model): Would you want a man to act like a bad person lol?\n",
      "Prediction (Min val error): Would you want a nigga to act like a bad person lol?\n",
      "Diff in toxicity: -0.991\n",
      "Diff in acceptability: 0.014\n",
      "Diff in BERT: 0.02\n",
      "\n",
      "Index: 285\n",
      "Source: President obama was a fool, or a liar.\n",
      "Target: President Obama was not suitable\n",
      "Prediction (Best model): President Obama was not good.\n",
      "Prediction (Min val error): President Obama was a liar\n",
      "Diff in toxicity: -0.991\n",
      "Diff in acceptability: -0.006\n",
      "Diff in BERT: 0.032\n",
      "\n",
      "Index: 291\n",
      "Source: Since you are taught from a book that was written by a moron you become one.\n",
      "Target: You are what you learn from.\n",
      "Prediction (Best model): Since you are taught from a book that was written by a writer you become one.\n",
      "Prediction (Min val error): Since you are taught from a book that was written by a moron you become one.\n",
      "Diff in toxicity: -0.999\n",
      "Diff in acceptability: -0.413\n",
      "Diff in BERT: 0.004\n",
      "\n"
     ]
    }
   ],
   "source": [
    "# # Calculate relevant metric columns for t5_small_df\n",
    "# t5_small_df[\"pred_1_BLEURT\"] = calc_bleurt(t5_small_df[\"target\"], t5_small_df[\"pred_1\"], output_mean=False)\n",
    "# t5_small_df[\"pred_2_BLEURT\"] = calc_bleurt(t5_small_df[\"target\"], t5_small_df[\"pred_2\"], output_mean=False)\n",
    "t5_small_df[\"pred_1_toxic_class\"] = calc_tox_acceptability(t5_small_df[\"pred_1\"].tolist(), tokenizer_toxicity, model_toxicity, output_score=False, output_mean=False)\n",
    "t5_small_df[\"pred_2_toxic_class\"] = calc_tox_acceptability(t5_small_df[\"pred_2\"].tolist(), tokenizer_toxicity, model_toxicity, output_score=False, output_mean=False)\n",
    "t5_small_df[\"pred_1_toxic_score\"] = calc_tox_acceptability(t5_small_df[\"pred_1\"].tolist(), tokenizer_toxicity, model_toxicity, output_score=True, output_mean=False)\n",
    "t5_small_df[\"pred_2_toxic_score\"] = calc_tox_acceptability(t5_small_df[\"pred_2\"].tolist(), tokenizer_toxicity, model_toxicity, output_score=True, output_mean=False)\n",
    "t5_small_df[\"source_acceptability\"] = calc_tox_acceptability(t5_small_df[\"source\"].tolist(), tokenizer_acceptability, model_acceptability, output_score=True, output_mean=False)\n",
    "t5_small_df[\"target_acceptability\"] = calc_tox_acceptability(t5_small_df[\"target\"].tolist(), tokenizer_acceptability, model_acceptability, output_score=True, output_mean=False)\n",
    "t5_small_df[\"pred_1_acceptability\"] = calc_tox_acceptability(t5_small_df[\"pred_1\"].tolist(), tokenizer_acceptability, model_acceptability, output_score=True, output_mean=False)\n",
    "t5_small_df[\"pred_2_acceptability\"] = calc_tox_acceptability(t5_small_df[\"pred_2\"].tolist(), tokenizer_acceptability, model_acceptability, output_score=True, output_mean=False)\n",
    "t5_small_df[\"pred_1_BERT_score\"] = calc_bert_score(t5_small_df[\"target\"], t5_small_df[\"pred_1\"], model_type=\"distilbert-base-uncased\", output_mean=False)[2]\n",
    "t5_small_df[\"pred_2_BERT_score\"] = calc_bert_score(t5_small_df[\"target\"], t5_small_df[\"pred_2\"], model_type=\"distilbert-base-uncased\", output_mean=False)[2]\n",
    "\n",
    "# Calculate differences in BLEURT, toxicity, acceptability, and BERT score\n",
    "t5_small_df[\"diff_toxic_score\"] = t5_small_df[\"pred_1_toxic_score\"] - t5_small_df[\"pred_2_toxic_score\"]\n",
    "# t5_small_df[\"diff_BLEURT\"] = t5_small_df[\"pred_1_BLEURT\"] - t5_small_df[\"pred_2_BLEURT\"]\n",
    "t5_small_df[\"diff_acceptability\"] = t5_small_df[\"pred_1_acceptability\"] - t5_small_df[\"pred_2_acceptability\"]\n",
    "t5_small_df[\"diff_BERT_score\"] = t5_small_df[\"pred_1_BERT_score\"] - t5_small_df[\"pred_2_BERT_score\"]\n",
    "\n",
    "# Filter to rows where pred_1_toxicity is less than pred_2_toxicity\n",
    "t5_small_df_filtered = t5_small_df[t5_small_df[\"pred_1_toxic_class\"] < t5_small_df[\"pred_2_toxic_class\"]]\n",
    "\n",
    "# Print as individual lines\n",
    "for index, row in t5_small_df_filtered.head(10).iterrows():\n",
    "    print(\"Index:\", index)\n",
    "    print(\"Source:\", row[\"source\"])\n",
    "    print(\"Target:\", row[\"target\"])\n",
    "    print(\"Prediction (Best model):\", row[\"pred_1\"])\n",
    "    print(\"Prediction (Min val error):\", row[\"pred_2\"])\n",
    "    print(\"Diff in toxicity:\", round(row[\"diff_toxic_score\"], 3))\n",
    "    # print(\"Diff in BLEURT:\", round(row[\"diff_BLEURT\"], 3))\n",
    "    print(\"Diff in acceptability:\", round(row[\"diff_acceptability\"], 3))\n",
    "    print(\"Diff in BERT:\", round(row[\"diff_BERT_score\"], 3))\n",
    "    print()"
   ]
  },
  {
   "cell_type": "markdown",
   "metadata": {},
   "source": [
    "Based on this sample, it looks like the predictions from the best model are indeed better at detoxifying text (exmple 108, 211) and is sufficiently different from the target text that there is no indication of overfitting per se. So going forward we prioritize selecting best models based on the overall score as opposed to minimizing validation loss."
   ]
  },
  {
   "cell_type": "markdown",
   "metadata": {},
   "source": [
    "## T5-Base"
   ]
  },
  {
   "cell_type": "code",
   "execution_count": 20,
   "metadata": {},
   "outputs": [
    {
     "name": "stderr",
     "output_type": "stream",
     "text": [
      "WARNING:datasets.arrow_dataset:Loading cached processed dataset at /home/garykong/w266_final_project/data/processed/raw_dataset.pkl/train/cache-ac03a1eae4857ca9.arrow\n",
      "WARNING:datasets.arrow_dataset:Loading cached processed dataset at /home/garykong/w266_final_project/data/processed/raw_dataset.pkl/validation/cache-1a3c402aca53efae.arrow\n",
      "WARNING:datasets.arrow_dataset:Loading cached processed dataset at /home/garykong/w266_final_project/data/processed/raw_dataset.pkl/test/cache-52371f98a42bda9e.arrow\n"
     ]
    },
    {
     "data": {
      "application/vnd.jupyter.widget-view+json": {
       "model_id": "2409057f5b16466181c47cb64a3790f3",
       "version_major": 2,
       "version_minor": 0
      },
      "text/plain": [
       "Map:   0%|          | 0/10733 [00:00<?, ? examples/s]"
      ]
     },
     "metadata": {},
     "output_type": "display_data"
    },
    {
     "data": {
      "application/vnd.jupyter.widget-view+json": {
       "model_id": "aa9c3c2de3c24afb839d0aeee8c0fc1d",
       "version_major": 2,
       "version_minor": 0
      },
      "text/plain": [
       "Map:   0%|          | 0/1193 [00:00<?, ? examples/s]"
      ]
     },
     "metadata": {},
     "output_type": "display_data"
    },
    {
     "data": {
      "application/vnd.jupyter.widget-view+json": {
       "model_id": "e1b313b9ccb347b29ae09a387adbd396",
       "version_major": 2,
       "version_minor": 0
      },
      "text/plain": [
       "Map:   0%|          | 0/671 [00:00<?, ? examples/s]"
      ]
     },
     "metadata": {},
     "output_type": "display_data"
    },
    {
     "name": "stderr",
     "output_type": "stream",
     "text": [
      "/opt/conda/lib/python3.10/site-packages/transformers/models/t5/tokenization_t5.py:238: FutureWarning: This tokenizer was incorrectly instantiated with a model max length of 512 which will be corrected in Transformers v5.\n",
      "For now, this behavior is kept to avoid breaking backwards compatibility when padding/encoding with `truncation is True`.\n",
      "- Be aware that you SHOULD NOT rely on t5-base automatically truncating your input to 512 when padding/encoding.\n",
      "- If you want to encode/pad to sequences longer than 512 you can either instantiate this tokenizer with `model_max_length` or pass `max_length` when encoding/padding.\n",
      "- To avoid this warning, please instantiate this tokenizer with `model_max_length` set to your preferred value.\n",
      "  warnings.warn(\n",
      "WARNING:root:XRT configuration not detected. Defaulting to preview PJRT runtime. To silence this warning and continue using PJRT, explicitly set PJRT_DEVICE to a supported device or configure XRT. To disable default device selection, set PJRT_SELECT_DEFAULT_DEVICE=0\n",
      "WARNING:root:For more information about the status of PJRT, see https://github.com/pytorch/xla/blob/master/docs/pjrt.md\n",
      "WARNING:root:Defaulting to PJRT_DEVICE=CPU\n"
     ]
    },
    {
     "data": {
      "text/html": [
       "Changes to your `wandb` environment variables will be ignored because your `wandb` session has already started. For more information on how to modify your settings with `wandb.init()` arguments, please refer to <a href='https://wandb.me/wandb-init' target=\"_blank\">the W&B docs</a>."
      ],
      "text/plain": [
       "<IPython.core.display.HTML object>"
      ]
     },
     "metadata": {},
     "output_type": "display_data"
    },
    {
     "data": {
      "text/html": [
       "Tracking run with wandb version 0.15.12"
      ],
      "text/plain": [
       "<IPython.core.display.HTML object>"
      ]
     },
     "metadata": {},
     "output_type": "display_data"
    },
    {
     "data": {
      "text/html": [
       "Run data is saved locally in <code>/home/garykong/w266_final_project/notebooks/wandb/run-20231101_095746-efydim4r</code>"
      ],
      "text/plain": [
       "<IPython.core.display.HTML object>"
      ]
     },
     "metadata": {},
     "output_type": "display_data"
    },
    {
     "data": {
      "text/html": [
       "Syncing run <strong><a href='https://wandb.ai/garykong/w266_final_project/runs/efydim4r' target=\"_blank\">t5-base-detoxify</a></strong> to <a href='https://wandb.ai/garykong/w266_final_project' target=\"_blank\">Weights & Biases</a> (<a href='https://wandb.me/run' target=\"_blank\">docs</a>)<br/>"
      ],
      "text/plain": [
       "<IPython.core.display.HTML object>"
      ]
     },
     "metadata": {},
     "output_type": "display_data"
    },
    {
     "data": {
      "text/html": [
       " View project at <a href='https://wandb.ai/garykong/w266_final_project' target=\"_blank\">https://wandb.ai/garykong/w266_final_project</a>"
      ],
      "text/plain": [
       "<IPython.core.display.HTML object>"
      ]
     },
     "metadata": {},
     "output_type": "display_data"
    },
    {
     "data": {
      "text/html": [
       " View run at <a href='https://wandb.ai/garykong/w266_final_project/runs/efydim4r' target=\"_blank\">https://wandb.ai/garykong/w266_final_project/runs/efydim4r</a>"
      ],
      "text/plain": [
       "<IPython.core.display.HTML object>"
      ]
     },
     "metadata": {},
     "output_type": "display_data"
    },
    {
     "data": {
      "text/html": [
       "\n",
       "    <div>\n",
       "      \n",
       "      <progress value='2352' max='10080' style='width:300px; height:20px; vertical-align: middle;'></progress>\n",
       "      [ 2352/10080 14:46 < 48:34, 2.65 it/s, Epoch 7/30]\n",
       "    </div>\n",
       "    <table border=\"1\" class=\"dataframe\">\n",
       "  <thead>\n",
       " <tr style=\"text-align: left;\">\n",
       "      <th>Epoch</th>\n",
       "      <th>Training Loss</th>\n",
       "      <th>Validation Loss</th>\n",
       "      <th>Bleu</th>\n",
       "      <th>Sta Preds</th>\n",
       "      <th>Acceptability Preds</th>\n",
       "      <th>Bert Score F1</th>\n",
       "      <th>Overall</th>\n",
       "    </tr>\n",
       "  </thead>\n",
       "  <tbody>\n",
       "    <tr>\n",
       "      <td>1</td>\n",
       "      <td>nan</td>\n",
       "      <td>0.812222</td>\n",
       "      <td>0.608180</td>\n",
       "      <td>0.890193</td>\n",
       "      <td>0.723307</td>\n",
       "      <td>0.925496</td>\n",
       "      <td>0.807474</td>\n",
       "    </tr>\n",
       "    <tr>\n",
       "      <td>2</td>\n",
       "      <td>nan</td>\n",
       "      <td>0.798929</td>\n",
       "      <td>0.601930</td>\n",
       "      <td>0.883487</td>\n",
       "      <td>0.709482</td>\n",
       "      <td>0.926611</td>\n",
       "      <td>0.800999</td>\n",
       "    </tr>\n",
       "    <tr>\n",
       "      <td>3</td>\n",
       "      <td>nan</td>\n",
       "      <td>0.798679</td>\n",
       "      <td>0.608734</td>\n",
       "      <td>0.906119</td>\n",
       "      <td>0.720927</td>\n",
       "      <td>0.926683</td>\n",
       "      <td>0.813716</td>\n",
       "    </tr>\n",
       "    <tr>\n",
       "      <td>4</td>\n",
       "      <td>nan</td>\n",
       "      <td>0.807012</td>\n",
       "      <td>0.605299</td>\n",
       "      <td>0.899413</td>\n",
       "      <td>0.716527</td>\n",
       "      <td>0.927316</td>\n",
       "      <td>0.809594</td>\n",
       "    </tr>\n",
       "    <tr>\n",
       "      <td>5</td>\n",
       "      <td>nan</td>\n",
       "      <td>0.830957</td>\n",
       "      <td>0.609381</td>\n",
       "      <td>0.911148</td>\n",
       "      <td>0.716312</td>\n",
       "      <td>0.927588</td>\n",
       "      <td>0.815116</td>\n",
       "    </tr>\n",
       "    <tr>\n",
       "      <td>6</td>\n",
       "      <td>nan</td>\n",
       "      <td>0.846663</td>\n",
       "      <td>0.604496</td>\n",
       "      <td>0.909472</td>\n",
       "      <td>0.720942</td>\n",
       "      <td>0.926022</td>\n",
       "      <td>0.814081</td>\n",
       "    </tr>\n",
       "    <tr>\n",
       "      <td>7</td>\n",
       "      <td>nan</td>\n",
       "      <td>0.883831</td>\n",
       "      <td>0.602264</td>\n",
       "      <td>0.907795</td>\n",
       "      <td>0.720766</td>\n",
       "      <td>0.926995</td>\n",
       "      <td>0.813123</td>\n",
       "    </tr>\n",
       "  </tbody>\n",
       "</table><p>"
      ],
      "text/plain": [
       "<IPython.core.display.HTML object>"
      ]
     },
     "metadata": {},
     "output_type": "display_data"
    },
    {
     "data": {
      "text/html": [
       "Waiting for W&B process to finish... <strong style=\"color:green\">(success).</strong>"
      ],
      "text/plain": [
       "<IPython.core.display.HTML object>"
      ]
     },
     "metadata": {},
     "output_type": "display_data"
    },
    {
     "name": "stderr",
     "output_type": "stream",
     "text": [
      "wandb: WARNING Source type is set to 'repo' but some required information is missing from the environment. A job will not be created from this run. See https://docs.wandb.ai/guides/launch/create-job\n"
     ]
    },
    {
     "data": {
      "application/vnd.jupyter.widget-view+json": {
       "model_id": "191cff2e146e4f95905f66831ebcfb7c",
       "version_major": 2,
       "version_minor": 0
      },
      "text/plain": [
       "VBox(children=(Label(value='0.002 MB of 0.002 MB uploaded (0.000 MB deduped)\\r'), FloatProgress(value=1.0, max…"
      ]
     },
     "metadata": {},
     "output_type": "display_data"
    },
    {
     "data": {
      "text/html": [
       "<style>\n",
       "    table.wandb td:nth-child(1) { padding: 0 10px; text-align: left ; width: auto;} td:nth-child(2) {text-align: left ; width: 100%}\n",
       "    .wandb-row { display: flex; flex-direction: row; flex-wrap: wrap; justify-content: flex-start; width: 100% }\n",
       "    .wandb-col { display: flex; flex-direction: column; flex-basis: 100%; flex: 1; padding: 10px; }\n",
       "    </style>\n",
       "<div class=\"wandb-row\"><div class=\"wandb-col\"><h3>Run history:</h3><br/><table class=\"wandb\"><tr><td>eval/Acceptability_preds</td><td>█▁▇▅▄▇▇</td></tr><tr><td>eval/BERT_score_f1</td><td>▁▅▅▇█▃▆</td></tr><tr><td>eval/BLEU</td><td>▇▁▇▄█▃▁</td></tr><tr><td>eval/Overall</td><td>▄▁▇▅█▇▇</td></tr><tr><td>eval/STA_preds</td><td>▃▁▇▅██▇</td></tr><tr><td>eval/loss</td><td>▂▁▁▂▄▅█</td></tr><tr><td>eval/runtime</td><td>▇▆█▁▆▁▆</td></tr><tr><td>eval/samples_per_second</td><td>▂▃▁█▃█▃</td></tr><tr><td>eval/steps_per_second</td><td>▂▃▁█▃█▃</td></tr><tr><td>train/epoch</td><td>▁▁▂▂▃▃▅▅▆▆▇▇███</td></tr><tr><td>train/global_step</td><td>▁▁▂▂▃▃▅▅▆▆▇▇███</td></tr><tr><td>train/learning_rate</td><td>█▇▆▅▃▂▁</td></tr><tr><td>train/total_flos</td><td>▁</td></tr><tr><td>train/train_runtime</td><td>▁</td></tr><tr><td>train/train_samples_per_second</td><td>▁</td></tr><tr><td>train/train_steps_per_second</td><td>▁</td></tr></table><br/></div><div class=\"wandb-col\"><h3>Run summary:</h3><br/><table class=\"wandb\"><tr><td>eval/Acceptability_preds</td><td>0.72077</td></tr><tr><td>eval/BERT_score_f1</td><td>0.92699</td></tr><tr><td>eval/BLEU</td><td>0.60226</td></tr><tr><td>eval/Overall</td><td>0.81312</td></tr><tr><td>eval/STA_preds</td><td>0.9078</td></tr><tr><td>eval/loss</td><td>0.88383</td></tr><tr><td>eval/runtime</td><td>53.7492</td></tr><tr><td>eval/samples_per_second</td><td>22.196</td></tr><tr><td>eval/steps_per_second</td><td>0.186</td></tr><tr><td>train/epoch</td><td>7.0</td></tr><tr><td>train/global_step</td><td>2352</td></tr><tr><td>train/learning_rate</td><td>8e-05</td></tr><tr><td>train/loss</td><td>nan</td></tr><tr><td>train/total_flos</td><td>3225777208980480.0</td></tr><tr><td>train/train_loss</td><td>nan</td></tr><tr><td>train/train_runtime</td><td>887.324</td></tr><tr><td>train/train_samples_per_second</td><td>362.878</td></tr><tr><td>train/train_steps_per_second</td><td>11.36</td></tr></table><br/></div></div>"
      ],
      "text/plain": [
       "<IPython.core.display.HTML object>"
      ]
     },
     "metadata": {},
     "output_type": "display_data"
    },
    {
     "data": {
      "text/html": [
       " View run <strong style=\"color:#cdcd00\">t5-base-detoxify</strong> at: <a href='https://wandb.ai/garykong/w266_final_project/runs/efydim4r' target=\"_blank\">https://wandb.ai/garykong/w266_final_project/runs/efydim4r</a><br/>Synced 5 W&B file(s), 0 media file(s), 0 artifact file(s) and 0 other file(s)"
      ],
      "text/plain": [
       "<IPython.core.display.HTML object>"
      ]
     },
     "metadata": {},
     "output_type": "display_data"
    },
    {
     "data": {
      "text/html": [
       "Find logs at: <code>./wandb/run-20231101_095746-efydim4r/logs</code>"
      ],
      "text/plain": [
       "<IPython.core.display.HTML object>"
      ]
     },
     "metadata": {},
     "output_type": "display_data"
    }
   ],
   "source": [
    "prefixed_datasets = add_prefix(raw_datasets)\n",
    "\n",
    "tokenized_datasets_t5_base = prefixed_datasets.map(\n",
    "    preprocess_function,\n",
    "    fn_kwargs={'tokenizer': tokenizer_t5_base},\n",
    "    batched=True,\n",
    "    remove_columns=[\"source\", \"target\"],\n",
    ")\n",
    "\n",
    "trainer_t5_base = setup_trainer(\n",
    "    output_dir_name=\"t5-base-detoxify\",\n",
    "    model_checkpoint=\"t5-base\",\n",
    "    train_dataset=tokenized_datasets_t5_base[\"train\"],\n",
    "    eval_dataset=tokenized_datasets_t5_base[\"validation\"],\n",
    ")\n",
    "\n",
    "wandb.init(project=\"w266_final_project\", name=\"t5-base-detoxify\")\n",
    "trainer_t5_base.train()\n",
    "wandb.finish()"
   ]
  },
  {
   "cell_type": "markdown",
   "metadata": {},
   "source": [
    "It seems like t5-small and t5-base performs similarly, but t5-base reaches convergence much earlier. There's also indication of overfitting occurring much earlier (e.g., by epoch 5 validation loss jumps up significantly) without overall performance improving. We will use t5-small going forward given computational constraints. Similar performance may indicate that the task at hand is not too complex and the extra complexity of t5-base is not needed."
   ]
  },
  {
   "cell_type": "markdown",
   "metadata": {},
   "source": [
    "# Fine-tune T5 Model (Bi-directional, No custom loss)"
   ]
  },
  {
   "cell_type": "markdown",
   "metadata": {},
   "source": [
    "### Helper Functions"
   ]
  },
  {
   "cell_type": "code",
   "execution_count": 20,
   "metadata": {},
   "outputs": [],
   "source": [
    "def create_bidirectional_dataset(datasets):\n",
    "    \"\"\"\n",
    "    Creates a bi-directional dataset from the original dataset.\n",
    "\n",
    "    Args:\n",
    "        datasets (DatasetDict): DatasetDict object containing the original dataset.\n",
    "    \n",
    "    Returns:\n",
    "        extended_datasets (DatasetDict): DatasetDict object containing the bi-directional dataset.\n",
    "    \"\"\"\n",
    "\n",
    "    def bidirectional_extension(dataset):\n",
    "        new_data = {\n",
    "            \"source\": [],\n",
    "            \"target\": []\n",
    "        }\n",
    "        for src, tgt in zip(dataset['source'], dataset['target']):\n",
    "            new_data['source'].extend([f'to_neutral: {src}', f'to_toxic: {tgt}'])\n",
    "            new_data['target'].extend([tgt, src])\n",
    "        return new_data\n",
    "\n",
    "    extended_train_data = bidirectional_extension(datasets[\"train\"])\n",
    "    extended_validation_data = bidirectional_extension(datasets[\"validation\"])\n",
    "    extended_test_data = bidirectional_extension(datasets[\"test\"])\n",
    "\n",
    "    extended_datasets = DatasetDict({\n",
    "        \"train\": Dataset.from_dict(extended_train_data),\n",
    "        \"validation\": Dataset.from_dict(extended_validation_data),\n",
    "        \"test\": Dataset.from_dict(extended_test_data)\n",
    "    })\n",
    "\n",
    "    return extended_datasets\n",
    "\n",
    "def get_indices(dataset):\n",
    "    \"\"\"\n",
    "    Saves the indices of data that is to_neutral and to_toxic.\n",
    "    \"\"\"\n",
    "    to_neutral_idx = []\n",
    "    to_toxic_idx = []\n",
    "    for i in range(len(dataset)):\n",
    "        if dataset[i][\"source\"].startswith(\"to_neutral\"):\n",
    "            to_neutral_idx.append(i)\n",
    "        else:\n",
    "            to_toxic_idx.append(i)\n",
    "\n",
    "    return to_neutral_idx, to_toxic_idx\n",
    "\n",
    "def compute_metrics_bd(eval_preds, tokenizer, bd_dataset, shuffled_data=False):\n",
    "    \"\"\"\n",
    "    Function to calculate the metrics for trainer.evaluate().\n",
    "    This function is for the bi-directional model.\n",
    "    \n",
    "    Args:\n",
    "        eval_preds (tuple): Tuple containing the predictions and references\n",
    "        tokenizer (PreTrainedTokenizer): tokenizer to use for decoding the predictions\n",
    "        shuffled_data (bool): Whether the data is shuffled or not\n",
    "        bd_dataset (DatasetDict): Bidirectional dataset created using create_bidirectional_datasets e.g., raw_datasets_bd[\"validation\"]\n",
    "\n",
    "    Returns:\n",
    "        dict: Dictionary containing the metrics\n",
    "    \"\"\"\n",
    "    preds, refs = eval_preds\n",
    "\n",
    "    # In case the model returns more than the prediction logits\n",
    "    if isinstance(preds, tuple):\n",
    "        preds = preds[0]\n",
    "\n",
    "    decoded_preds = tokenizer.batch_decode(preds, skip_special_tokens=True)\n",
    "\n",
    "    # Replace -100s in the labels as we can't decode them\n",
    "    refs = np.where(refs != -100, refs, tokenizer.pad_token_id)\n",
    "    decoded_refs = tokenizer.batch_decode(refs, skip_special_tokens=True)\n",
    "\n",
    "    # Some simple post-processing\n",
    "    decoded_preds = [pred.strip() for pred in decoded_preds]\n",
    "    decoded_refs = [ref.strip() for ref in decoded_refs]\n",
    "    \n",
    "    # If shuffled data is false, have to_neutral_preds and to_neutral_refs just be predictions and refs with even indices\n",
    "    if not shuffled_data:\n",
    "        to_neutral_preds = decoded_preds[::2]\n",
    "        to_neutral_refs = decoded_refs[::2]\n",
    "    # Otherwise, get the indices to use when splitting predictions and refs to to_neutral and to_toxic\n",
    "    else:\n",
    "        # Get the indices to use when splitting predictions and refs to to_neutral and to_toxic\n",
    "        to_neutral_idx = get_indices(bd_dataset)[0]\n",
    "\n",
    "        # Retrieve based on the indices\n",
    "        to_neutral_preds = [decoded_preds[i] for i in to_neutral_idx]\n",
    "        to_neutral_refs = [decoded_refs[i] for i in to_neutral_idx]\n",
    "    \n",
    "    # Evaluate metrics for to_neutral\n",
    "    to_neutral_metrics = evaluate_metrics(\n",
    "        to_neutral_refs,\n",
    "        to_neutral_preds,\n",
    "        to_neutral=True\n",
    "    )\n",
    "\n",
    "    # Return dictionary of to_neutral metrics\n",
    "    return to_neutral_metrics"
   ]
  },
  {
   "cell_type": "markdown",
   "metadata": {},
   "source": [
    "### Trial without shuffled data"
   ]
  },
  {
   "cell_type": "code",
   "execution_count": 21,
   "metadata": {},
   "outputs": [
    {
     "data": {
      "application/vnd.jupyter.widget-view+json": {
       "model_id": "b8fef4d83793441eb871e9601ef19f3a",
       "version_major": 2,
       "version_minor": 0
      },
      "text/plain": [
       "Map:   0%|          | 0/21466 [00:00<?, ? examples/s]"
      ]
     },
     "metadata": {},
     "output_type": "display_data"
    },
    {
     "data": {
      "application/vnd.jupyter.widget-view+json": {
       "model_id": "da10ea62684d4886a9fbda8f79670e95",
       "version_major": 2,
       "version_minor": 0
      },
      "text/plain": [
       "Map:   0%|          | 0/2386 [00:00<?, ? examples/s]"
      ]
     },
     "metadata": {},
     "output_type": "display_data"
    },
    {
     "data": {
      "application/vnd.jupyter.widget-view+json": {
       "model_id": "75ebc2b2b7064bcea1570a2f8ef85ee1",
       "version_major": 2,
       "version_minor": 0
      },
      "text/plain": [
       "Map:   0%|          | 0/1342 [00:00<?, ? examples/s]"
      ]
     },
     "metadata": {},
     "output_type": "display_data"
    },
    {
     "data": {
      "text/html": [
       "Changes to your `wandb` environment variables will be ignored because your `wandb` session has already started. For more information on how to modify your settings with `wandb.init()` arguments, please refer to <a href='https://wandb.me/wandb-init' target=\"_blank\">the W&B docs</a>."
      ],
      "text/plain": [
       "<IPython.core.display.HTML object>"
      ]
     },
     "metadata": {},
     "output_type": "display_data"
    },
    {
     "data": {
      "text/html": [
       "Tracking run with wandb version 0.15.12"
      ],
      "text/plain": [
       "<IPython.core.display.HTML object>"
      ]
     },
     "metadata": {},
     "output_type": "display_data"
    },
    {
     "data": {
      "text/html": [
       "Run data is saved locally in <code>/home/garykong/w266_final_project/notebooks/wandb/run-20231031_150013-363z1wxk</code>"
      ],
      "text/plain": [
       "<IPython.core.display.HTML object>"
      ]
     },
     "metadata": {},
     "output_type": "display_data"
    },
    {
     "data": {
      "text/html": [
       "Syncing run <strong><a href='https://wandb.ai/garykong/w266_final_project/runs/363z1wxk' target=\"_blank\">t5-small-bd-noshuffle-detoxify</a></strong> to <a href='https://wandb.ai/garykong/w266_final_project' target=\"_blank\">Weights & Biases</a> (<a href='https://wandb.me/run' target=\"_blank\">docs</a>)<br/>"
      ],
      "text/plain": [
       "<IPython.core.display.HTML object>"
      ]
     },
     "metadata": {},
     "output_type": "display_data"
    },
    {
     "data": {
      "text/html": [
       " View project at <a href='https://wandb.ai/garykong/w266_final_project' target=\"_blank\">https://wandb.ai/garykong/w266_final_project</a>"
      ],
      "text/plain": [
       "<IPython.core.display.HTML object>"
      ]
     },
     "metadata": {},
     "output_type": "display_data"
    },
    {
     "data": {
      "text/html": [
       " View run at <a href='https://wandb.ai/garykong/w266_final_project/runs/363z1wxk' target=\"_blank\">https://wandb.ai/garykong/w266_final_project/runs/363z1wxk</a>"
      ],
      "text/plain": [
       "<IPython.core.display.HTML object>"
      ]
     },
     "metadata": {},
     "output_type": "display_data"
    },
    {
     "data": {
      "text/html": [
       "\n",
       "    <div>\n",
       "      \n",
       "      <progress value='5368' max='20130' style='width:300px; height:20px; vertical-align: middle;'></progress>\n",
       "      [ 5368/20130 20:05 < 55:17, 4.45 it/s, Epoch 8/30]\n",
       "    </div>\n",
       "    <table border=\"1\" class=\"dataframe\">\n",
       "  <thead>\n",
       " <tr style=\"text-align: left;\">\n",
       "      <th>Epoch</th>\n",
       "      <th>Training Loss</th>\n",
       "      <th>Validation Loss</th>\n",
       "      <th>Bleu</th>\n",
       "      <th>Sta Preds</th>\n",
       "      <th>Acceptability Preds</th>\n",
       "      <th>Bert Score F1</th>\n",
       "      <th>Overall</th>\n",
       "    </tr>\n",
       "  </thead>\n",
       "  <tbody>\n",
       "    <tr>\n",
       "      <td>1</td>\n",
       "      <td>1.581200</td>\n",
       "      <td>1.297624</td>\n",
       "      <td>0.582431</td>\n",
       "      <td>0.710813</td>\n",
       "      <td>0.678005</td>\n",
       "      <td>0.919003</td>\n",
       "      <td>0.720213</td>\n",
       "    </tr>\n",
       "    <tr>\n",
       "      <td>2</td>\n",
       "      <td>1.343000</td>\n",
       "      <td>1.220252</td>\n",
       "      <td>0.595135</td>\n",
       "      <td>0.795474</td>\n",
       "      <td>0.682763</td>\n",
       "      <td>0.922740</td>\n",
       "      <td>0.758317</td>\n",
       "    </tr>\n",
       "    <tr>\n",
       "      <td>3</td>\n",
       "      <td>1.257800</td>\n",
       "      <td>1.186172</td>\n",
       "      <td>0.601159</td>\n",
       "      <td>0.863370</td>\n",
       "      <td>0.692295</td>\n",
       "      <td>0.924668</td>\n",
       "      <td>0.788972</td>\n",
       "    </tr>\n",
       "    <tr>\n",
       "      <td>4</td>\n",
       "      <td>1.203900</td>\n",
       "      <td>1.174466</td>\n",
       "      <td>0.602681</td>\n",
       "      <td>0.865884</td>\n",
       "      <td>0.687537</td>\n",
       "      <td>0.924235</td>\n",
       "      <td>0.789244</td>\n",
       "    </tr>\n",
       "    <tr>\n",
       "      <td>5</td>\n",
       "      <td>1.166600</td>\n",
       "      <td>1.154176</td>\n",
       "      <td>0.601517</td>\n",
       "      <td>0.883487</td>\n",
       "      <td>0.702484</td>\n",
       "      <td>0.925840</td>\n",
       "      <td>0.799363</td>\n",
       "    </tr>\n",
       "    <tr>\n",
       "      <td>6</td>\n",
       "      <td>1.131100</td>\n",
       "      <td>1.153290</td>\n",
       "      <td>0.607493</td>\n",
       "      <td>0.900251</td>\n",
       "      <td>0.701396</td>\n",
       "      <td>0.925796</td>\n",
       "      <td>0.807038</td>\n",
       "    </tr>\n",
       "    <tr>\n",
       "      <td>7</td>\n",
       "      <td>1.104700</td>\n",
       "      <td>1.140285</td>\n",
       "      <td>0.607121</td>\n",
       "      <td>0.891869</td>\n",
       "      <td>0.704214</td>\n",
       "      <td>0.926410</td>\n",
       "      <td>0.804297</td>\n",
       "    </tr>\n",
       "    <tr>\n",
       "      <td>8</td>\n",
       "      <td>1.079200</td>\n",
       "      <td>1.136118</td>\n",
       "      <td>0.606703</td>\n",
       "      <td>0.893546</td>\n",
       "      <td>0.697141</td>\n",
       "      <td>0.927136</td>\n",
       "      <td>0.803614</td>\n",
       "    </tr>\n",
       "  </tbody>\n",
       "</table><p>"
      ],
      "text/plain": [
       "<IPython.core.display.HTML object>"
      ]
     },
     "metadata": {},
     "output_type": "display_data"
    },
    {
     "data": {
      "text/html": [
       "Waiting for W&B process to finish... <strong style=\"color:green\">(success).</strong>"
      ],
      "text/plain": [
       "<IPython.core.display.HTML object>"
      ]
     },
     "metadata": {},
     "output_type": "display_data"
    },
    {
     "name": "stderr",
     "output_type": "stream",
     "text": [
      "wandb: WARNING Source type is set to 'repo' but some required information is missing from the environment. A job will not be created from this run. See https://docs.wandb.ai/guides/launch/create-job\n"
     ]
    },
    {
     "data": {
      "application/vnd.jupyter.widget-view+json": {
       "model_id": "5ca1d741358c4296bcdd98b260d89db0",
       "version_major": 2,
       "version_minor": 0
      },
      "text/plain": [
       "VBox(children=(Label(value='0.002 MB of 0.015 MB uploaded (0.000 MB deduped)\\r'), FloatProgress(value=0.124705…"
      ]
     },
     "metadata": {},
     "output_type": "display_data"
    },
    {
     "data": {
      "text/html": [
       "<style>\n",
       "    table.wandb td:nth-child(1) { padding: 0 10px; text-align: left ; width: auto;} td:nth-child(2) {text-align: left ; width: 100%}\n",
       "    .wandb-row { display: flex; flex-direction: row; flex-wrap: wrap; justify-content: flex-start; width: 100% }\n",
       "    .wandb-col { display: flex; flex-direction: column; flex-basis: 100%; flex: 1; padding: 10px; }\n",
       "    </style>\n",
       "<div class=\"wandb-row\"><div class=\"wandb-col\"><h3>Run history:</h3><br/><table class=\"wandb\"><tr><td>eval/Acceptability_preds</td><td>▁▂▅▄█▇█▆</td></tr><tr><td>eval/BERT_score_f1</td><td>▁▄▆▆▇▇▇█</td></tr><tr><td>eval/BLEU</td><td>▁▅▆▇▆███</td></tr><tr><td>eval/Overall</td><td>▁▄▇▇▇███</td></tr><tr><td>eval/STA_preds</td><td>▁▄▇▇▇███</td></tr><tr><td>eval/loss</td><td>█▅▃▃▂▂▁▁</td></tr><tr><td>eval/runtime</td><td>▁▂▅▄█▆▅▇</td></tr><tr><td>eval/samples_per_second</td><td>█▇▄▅▁▃▄▂</td></tr><tr><td>eval/steps_per_second</td><td>█▇▄▅▁▃▄▂</td></tr><tr><td>train/epoch</td><td>▁▁▂▂▃▃▄▄▅▅▆▆▇▇███</td></tr><tr><td>train/global_step</td><td>▁▁▂▂▃▃▄▄▅▅▆▆▇▇███</td></tr><tr><td>train/learning_rate</td><td>█▇▆▅▄▃▂▁</td></tr><tr><td>train/loss</td><td>█▅▃▃▂▂▁▁</td></tr><tr><td>train/total_flos</td><td>▁</td></tr><tr><td>train/train_loss</td><td>▁</td></tr><tr><td>train/train_runtime</td><td>▁</td></tr><tr><td>train/train_samples_per_second</td><td>▁</td></tr><tr><td>train/train_steps_per_second</td><td>▁</td></tr></table><br/></div><div class=\"wandb-col\"><h3>Run summary:</h3><br/><table class=\"wandb\"><tr><td>eval/Acceptability_preds</td><td>0.69714</td></tr><tr><td>eval/BERT_score_f1</td><td>0.92714</td></tr><tr><td>eval/BLEU</td><td>0.6067</td></tr><tr><td>eval/Overall</td><td>0.80361</td></tr><tr><td>eval/STA_preds</td><td>0.89355</td></tr><tr><td>eval/loss</td><td>1.13612</td></tr><tr><td>eval/runtime</td><td>91.2959</td></tr><tr><td>eval/samples_per_second</td><td>26.135</td></tr><tr><td>eval/steps_per_second</td><td>0.208</td></tr><tr><td>train/epoch</td><td>8.0</td></tr><tr><td>train/global_step</td><td>5368</td></tr><tr><td>train/learning_rate</td><td>7e-05</td></tr><tr><td>train/loss</td><td>1.0792</td></tr><tr><td>train/total_flos</td><td>1560059568979968.0</td></tr><tr><td>train/train_loss</td><td>1.23342</td></tr><tr><td>train/train_runtime</td><td>1205.9476</td></tr><tr><td>train/train_samples_per_second</td><td>534.003</td></tr><tr><td>train/train_steps_per_second</td><td>16.692</td></tr></table><br/></div></div>"
      ],
      "text/plain": [
       "<IPython.core.display.HTML object>"
      ]
     },
     "metadata": {},
     "output_type": "display_data"
    },
    {
     "data": {
      "text/html": [
       " View run <strong style=\"color:#cdcd00\">t5-small-bd-noshuffle-detoxify</strong> at: <a href='https://wandb.ai/garykong/w266_final_project/runs/363z1wxk' target=\"_blank\">https://wandb.ai/garykong/w266_final_project/runs/363z1wxk</a><br/>Synced 5 W&B file(s), 0 media file(s), 0 artifact file(s) and 0 other file(s)"
      ],
      "text/plain": [
       "<IPython.core.display.HTML object>"
      ]
     },
     "metadata": {},
     "output_type": "display_data"
    },
    {
     "data": {
      "text/html": [
       "Find logs at: <code>./wandb/run-20231031_150013-363z1wxk/logs</code>"
      ],
      "text/plain": [
       "<IPython.core.display.HTML object>"
      ]
     },
     "metadata": {},
     "output_type": "display_data"
    }
   ],
   "source": [
    "raw_datasets_bd = create_bidirectional_dataset(raw_datasets)\n",
    "\n",
    "tokenized_datasets_bd_t5_small = raw_datasets_bd.map(\n",
    "    preprocess_function,\n",
    "    fn_kwargs={'tokenizer': tokenizer_t5_small},\n",
    "    batched=True,\n",
    "    remove_columns=[\"source\", \"target\"],\n",
    ")\n",
    "\n",
    "trainer_t5_small_bd = setup_trainer(\n",
    "    output_dir_name=\"t5-small-detoxify-bd-noshuffle\",\n",
    "    model_checkpoint=\"t5-small\",\n",
    "    train_dataset=tokenized_datasets_bd_t5_small[\"train\"],\n",
    "    eval_dataset=tokenized_datasets_bd_t5_small[\"validation\"],\n",
    "    compute_metrics=partial(compute_metrics_bd, bd_dataset=raw_datasets_bd[\"validation\"], shuffled_data=False)\n",
    "    )\n",
    "\n",
    "wandb.init(project=\"w266_final_project\", name=\"t5-small-bd-noshuffle-detoxify\")\n",
    "trainer_t5_small_bd.train()\n",
    "wandb.finish()"
   ]
  },
  {
   "cell_type": "markdown",
   "metadata": {},
   "source": [
    "### Trial with shuffled data"
   ]
  },
  {
   "cell_type": "code",
   "execution_count": 23,
   "metadata": {},
   "outputs": [
    {
     "data": {
      "application/vnd.jupyter.widget-view+json": {
       "model_id": "7522a4a520314d499f8f2a78d2bac53a",
       "version_major": 2,
       "version_minor": 0
      },
      "text/plain": [
       "Map:   0%|          | 0/21466 [00:00<?, ? examples/s]"
      ]
     },
     "metadata": {},
     "output_type": "display_data"
    },
    {
     "data": {
      "application/vnd.jupyter.widget-view+json": {
       "model_id": "2e71fb22f2c94a2c9e0b49d5363044ce",
       "version_major": 2,
       "version_minor": 0
      },
      "text/plain": [
       "Map:   0%|          | 0/2386 [00:00<?, ? examples/s]"
      ]
     },
     "metadata": {},
     "output_type": "display_data"
    },
    {
     "data": {
      "application/vnd.jupyter.widget-view+json": {
       "model_id": "ebf5d14488af45d291105879a741bfca",
       "version_major": 2,
       "version_minor": 0
      },
      "text/plain": [
       "Map:   0%|          | 0/1342 [00:00<?, ? examples/s]"
      ]
     },
     "metadata": {},
     "output_type": "display_data"
    },
    {
     "data": {
      "text/html": [
       "Changes to your `wandb` environment variables will be ignored because your `wandb` session has already started. For more information on how to modify your settings with `wandb.init()` arguments, please refer to <a href='https://wandb.me/wandb-init' target=\"_blank\">the W&B docs</a>."
      ],
      "text/plain": [
       "<IPython.core.display.HTML object>"
      ]
     },
     "metadata": {},
     "output_type": "display_data"
    },
    {
     "data": {
      "text/html": [
       "Tracking run with wandb version 0.15.12"
      ],
      "text/plain": [
       "<IPython.core.display.HTML object>"
      ]
     },
     "metadata": {},
     "output_type": "display_data"
    },
    {
     "data": {
      "text/html": [
       "Run data is saved locally in <code>/home/garykong/w266_final_project/notebooks/wandb/run-20231031_161940-gyjcydqs</code>"
      ],
      "text/plain": [
       "<IPython.core.display.HTML object>"
      ]
     },
     "metadata": {},
     "output_type": "display_data"
    },
    {
     "data": {
      "text/html": [
       "Syncing run <strong><a href='https://wandb.ai/garykong/w266_final_project/runs/gyjcydqs' target=\"_blank\">t5-small-bd-shuffle-detoxify</a></strong> to <a href='https://wandb.ai/garykong/w266_final_project' target=\"_blank\">Weights & Biases</a> (<a href='https://wandb.me/run' target=\"_blank\">docs</a>)<br/>"
      ],
      "text/plain": [
       "<IPython.core.display.HTML object>"
      ]
     },
     "metadata": {},
     "output_type": "display_data"
    },
    {
     "data": {
      "text/html": [
       " View project at <a href='https://wandb.ai/garykong/w266_final_project' target=\"_blank\">https://wandb.ai/garykong/w266_final_project</a>"
      ],
      "text/plain": [
       "<IPython.core.display.HTML object>"
      ]
     },
     "metadata": {},
     "output_type": "display_data"
    },
    {
     "data": {
      "text/html": [
       " View run at <a href='https://wandb.ai/garykong/w266_final_project/runs/gyjcydqs' target=\"_blank\">https://wandb.ai/garykong/w266_final_project/runs/gyjcydqs</a>"
      ],
      "text/plain": [
       "<IPython.core.display.HTML object>"
      ]
     },
     "metadata": {},
     "output_type": "display_data"
    },
    {
     "data": {
      "text/html": [
       "\n",
       "    <div>\n",
       "      \n",
       "      <progress value='6039' max='20130' style='width:300px; height:20px; vertical-align: middle;'></progress>\n",
       "      [ 6039/20130 22:04 < 51:32, 4.56 it/s, Epoch 9/30]\n",
       "    </div>\n",
       "    <table border=\"1\" class=\"dataframe\">\n",
       "  <thead>\n",
       " <tr style=\"text-align: left;\">\n",
       "      <th>Epoch</th>\n",
       "      <th>Training Loss</th>\n",
       "      <th>Validation Loss</th>\n",
       "      <th>Bleu</th>\n",
       "      <th>Sta Preds</th>\n",
       "      <th>Acceptability Preds</th>\n",
       "      <th>Bert Score F1</th>\n",
       "      <th>Overall</th>\n",
       "    </tr>\n",
       "  </thead>\n",
       "  <tbody>\n",
       "    <tr>\n",
       "      <td>1</td>\n",
       "      <td>1.582300</td>\n",
       "      <td>1.291271</td>\n",
       "      <td>0.582313</td>\n",
       "      <td>0.698240</td>\n",
       "      <td>0.689065</td>\n",
       "      <td>0.918604</td>\n",
       "      <td>0.717292</td>\n",
       "    </tr>\n",
       "    <tr>\n",
       "      <td>2</td>\n",
       "      <td>1.340700</td>\n",
       "      <td>1.219955</td>\n",
       "      <td>0.596120</td>\n",
       "      <td>0.811400</td>\n",
       "      <td>0.687961</td>\n",
       "      <td>0.922587</td>\n",
       "      <td>0.765893</td>\n",
       "    </tr>\n",
       "    <tr>\n",
       "      <td>3</td>\n",
       "      <td>1.256100</td>\n",
       "      <td>1.183220</td>\n",
       "      <td>0.604068</td>\n",
       "      <td>0.852473</td>\n",
       "      <td>0.694322</td>\n",
       "      <td>0.924519</td>\n",
       "      <td>0.785571</td>\n",
       "    </tr>\n",
       "    <tr>\n",
       "      <td>4</td>\n",
       "      <td>1.204600</td>\n",
       "      <td>1.167809</td>\n",
       "      <td>0.602693</td>\n",
       "      <td>0.865884</td>\n",
       "      <td>0.698694</td>\n",
       "      <td>0.924281</td>\n",
       "      <td>0.791487</td>\n",
       "    </tr>\n",
       "    <tr>\n",
       "      <td>5</td>\n",
       "      <td>1.161100</td>\n",
       "      <td>1.155576</td>\n",
       "      <td>0.602983</td>\n",
       "      <td>0.865046</td>\n",
       "      <td>0.691605</td>\n",
       "      <td>0.925625</td>\n",
       "      <td>0.790061</td>\n",
       "    </tr>\n",
       "    <tr>\n",
       "      <td>6</td>\n",
       "      <td>1.128800</td>\n",
       "      <td>1.152056</td>\n",
       "      <td>0.603047</td>\n",
       "      <td>0.885163</td>\n",
       "      <td>0.707908</td>\n",
       "      <td>0.925451</td>\n",
       "      <td>0.801347</td>\n",
       "    </tr>\n",
       "    <tr>\n",
       "      <td>7</td>\n",
       "      <td>1.099900</td>\n",
       "      <td>1.140844</td>\n",
       "      <td>0.606081</td>\n",
       "      <td>0.906957</td>\n",
       "      <td>0.707975</td>\n",
       "      <td>0.925890</td>\n",
       "      <td>0.810772</td>\n",
       "    </tr>\n",
       "    <tr>\n",
       "      <td>8</td>\n",
       "      <td>1.075200</td>\n",
       "      <td>1.137721</td>\n",
       "      <td>0.605489</td>\n",
       "      <td>0.901090</td>\n",
       "      <td>0.701951</td>\n",
       "      <td>0.926568</td>\n",
       "      <td>0.807237</td>\n",
       "    </tr>\n",
       "    <tr>\n",
       "      <td>9</td>\n",
       "      <td>1.053600</td>\n",
       "      <td>1.131585</td>\n",
       "      <td>0.607370</td>\n",
       "      <td>0.904443</td>\n",
       "      <td>0.704556</td>\n",
       "      <td>0.926540</td>\n",
       "      <td>0.809470</td>\n",
       "    </tr>\n",
       "  </tbody>\n",
       "</table><p>"
      ],
      "text/plain": [
       "<IPython.core.display.HTML object>"
      ]
     },
     "metadata": {},
     "output_type": "display_data"
    },
    {
     "data": {
      "text/html": [
       "Waiting for W&B process to finish... <strong style=\"color:green\">(success).</strong>"
      ],
      "text/plain": [
       "<IPython.core.display.HTML object>"
      ]
     },
     "metadata": {},
     "output_type": "display_data"
    },
    {
     "name": "stderr",
     "output_type": "stream",
     "text": [
      "wandb: WARNING Source type is set to 'repo' but some required information is missing from the environment. A job will not be created from this run. See https://docs.wandb.ai/guides/launch/create-job\n"
     ]
    },
    {
     "data": {
      "application/vnd.jupyter.widget-view+json": {
       "model_id": "9eee3cba215745f18ed2420ab8845757",
       "version_major": 2,
       "version_minor": 0
      },
      "text/plain": [
       "VBox(children=(Label(value='0.033 MB of 0.033 MB uploaded (0.000 MB deduped)\\r'), FloatProgress(value=1.0, max…"
      ]
     },
     "metadata": {},
     "output_type": "display_data"
    },
    {
     "data": {
      "text/html": [
       "<style>\n",
       "    table.wandb td:nth-child(1) { padding: 0 10px; text-align: left ; width: auto;} td:nth-child(2) {text-align: left ; width: 100%}\n",
       "    .wandb-row { display: flex; flex-direction: row; flex-wrap: wrap; justify-content: flex-start; width: 100% }\n",
       "    .wandb-col { display: flex; flex-direction: column; flex-basis: 100%; flex: 1; padding: 10px; }\n",
       "    </style>\n",
       "<div class=\"wandb-row\"><div class=\"wandb-col\"><h3>Run history:</h3><br/><table class=\"wandb\"><tr><td>eval/Acceptability_preds</td><td>▁▁▃▅▂██▆▇</td></tr><tr><td>eval/BERT_score_f1</td><td>▁▅▆▆▇▇▇██</td></tr><tr><td>eval/BLEU</td><td>▁▅▇▇▇▇█▇█</td></tr><tr><td>eval/Overall</td><td>▁▅▆▇▆▇███</td></tr><tr><td>eval/STA_preds</td><td>▁▅▆▇▇▇███</td></tr><tr><td>eval/loss</td><td>█▅▃▃▂▂▁▁▁</td></tr><tr><td>eval/runtime</td><td>▁▂▂▇██▇▆▆</td></tr><tr><td>eval/samples_per_second</td><td>█▇▇▂▁▁▂▃▃</td></tr><tr><td>eval/steps_per_second</td><td>█▇▇▂▂▁▂▂▃</td></tr><tr><td>train/epoch</td><td>▁▁▂▂▃▃▄▄▅▅▅▅▆▆▇▇███</td></tr><tr><td>train/global_step</td><td>▁▁▂▂▃▃▄▄▅▅▅▅▆▆▇▇███</td></tr><tr><td>train/learning_rate</td><td>█▇▆▅▄▄▃▂▁</td></tr><tr><td>train/loss</td><td>█▅▄▃▂▂▂▁▁</td></tr><tr><td>train/total_flos</td><td>▁</td></tr><tr><td>train/train_loss</td><td>▁</td></tr><tr><td>train/train_runtime</td><td>▁</td></tr><tr><td>train/train_samples_per_second</td><td>▁</td></tr><tr><td>train/train_steps_per_second</td><td>▁</td></tr></table><br/></div><div class=\"wandb-col\"><h3>Run summary:</h3><br/><table class=\"wandb\"><tr><td>eval/Acceptability_preds</td><td>0.70456</td></tr><tr><td>eval/BERT_score_f1</td><td>0.92654</td></tr><tr><td>eval/BLEU</td><td>0.60737</td></tr><tr><td>eval/Overall</td><td>0.80947</td></tr><tr><td>eval/STA_preds</td><td>0.90444</td></tr><tr><td>eval/loss</td><td>1.13158</td></tr><tr><td>eval/runtime</td><td>89.1448</td></tr><tr><td>eval/samples_per_second</td><td>26.765</td></tr><tr><td>eval/steps_per_second</td><td>0.213</td></tr><tr><td>train/epoch</td><td>9.0</td></tr><tr><td>train/global_step</td><td>6039</td></tr><tr><td>train/learning_rate</td><td>7e-05</td></tr><tr><td>train/loss</td><td>1.0536</td></tr><tr><td>train/total_flos</td><td>1753284838490112.0</td></tr><tr><td>train/train_loss</td><td>1.21135</td></tr><tr><td>train/train_runtime</td><td>1325.0712</td></tr><tr><td>train/train_samples_per_second</td><td>485.997</td></tr><tr><td>train/train_steps_per_second</td><td>15.192</td></tr></table><br/></div></div>"
      ],
      "text/plain": [
       "<IPython.core.display.HTML object>"
      ]
     },
     "metadata": {},
     "output_type": "display_data"
    },
    {
     "data": {
      "text/html": [
       " View run <strong style=\"color:#cdcd00\">t5-small-bd-shuffle-detoxify</strong> at: <a href='https://wandb.ai/garykong/w266_final_project/runs/gyjcydqs' target=\"_blank\">https://wandb.ai/garykong/w266_final_project/runs/gyjcydqs</a><br/>Synced 5 W&B file(s), 0 media file(s), 0 artifact file(s) and 0 other file(s)"
      ],
      "text/plain": [
       "<IPython.core.display.HTML object>"
      ]
     },
     "metadata": {},
     "output_type": "display_data"
    },
    {
     "data": {
      "text/html": [
       "Find logs at: <code>./wandb/run-20231031_161940-gyjcydqs/logs</code>"
      ],
      "text/plain": [
       "<IPython.core.display.HTML object>"
      ]
     },
     "metadata": {},
     "output_type": "display_data"
    }
   ],
   "source": [
    "raw_datasets_bd_shuffle = raw_datasets_bd.copy()\n",
    "raw_datasets_bd_shuffle[\"train\"] = raw_datasets_bd_shuffle[\"train\"].shuffle(seed=RANDOM_SEED)\n",
    "raw_datasets_bd_shuffle = DatasetDict(raw_datasets_bd_shuffle)\n",
    "\n",
    "tokenized_datasets_bd_shuffle_t5_small = raw_datasets_bd_shuffle.map(\n",
    "    preprocess_function,\n",
    "    fn_kwargs={'tokenizer': tokenizer_t5_small},\n",
    "    batched=True,\n",
    "    remove_columns=[\"source\", \"target\"],\n",
    ")\n",
    "\n",
    "trainer_t5_small_bd_shuffle = setup_trainer(\n",
    "    output_dir_name=\"t5-small-detoxify-bd-shuffle\",\n",
    "    model_checkpoint=\"t5-small\",\n",
    "    train_dataset=tokenized_datasets_bd_shuffle_t5_small[\"train\"],\n",
    "    eval_dataset=tokenized_datasets_bd_shuffle_t5_small[\"validation\"],\n",
    "    compute_metrics=partial(compute_metrics_bd, bd_dataset=raw_datasets_bd[\"validation\"], shuffled_data=True)\n",
    "    )\n",
    "\n",
    "wandb.init(project=\"w266_final_project\", name=\"t5-small-bd-shuffle-detoxify\")\n",
    "trainer_t5_small_bd_shuffle.train()\n",
    "wandb.finish()"
   ]
  },
  {
   "cell_type": "code",
   "execution_count": null,
   "metadata": {},
   "outputs": [],
   "source": [
    "# Need to check that there isn't a bug in sta_pct (seems odd that it's so high)"
   ]
  },
  {
   "cell_type": "markdown",
   "metadata": {},
   "source": [
    "# Fine-tune T5 Model (Uni-directional, with Custom Loss)"
   ]
  },
  {
   "cell_type": "markdown",
   "metadata": {},
   "source": [
    "Documentation for original loss function:\n",
    "\n",
    "https://huggingface.co/transformers/v4.2.2/_modules/transformers/trainer.html#Trainer.compute_loss"
   ]
  },
  {
   "cell_type": "code",
   "execution_count": null,
   "metadata": {},
   "outputs": [],
   "source": [
    "# def compute_loss(self, model, inputs):\n",
    "#         \"\"\"\n",
    "#         How the loss is computed by Trainer. By default, all models return the loss in the first element.\n",
    "\n",
    "#         Subclass and override for custom behavior.\n",
    "#         \"\"\"\n",
    "#         outputs = model(**inputs)\n",
    "#         # Save past state if it exists\n",
    "#         # TODO: this needs to be fixed and made cleaner later.\n",
    "#         if self.args.past_index >= 0:\n",
    "#             self._past = outputs[self.args.past_index]\n",
    "\n",
    "#         if self.label_smoother is not None and \"labels\" in inputs:\n",
    "#             return self.label_smoother(outputs, inputs[\"labels\"])\n",
    "#         else:\n",
    "#             # We don't use .loss here since the model may return tuples instead of ModelOutput.\n",
    "#             return outputs[\"loss\"] if isinstance(outputs, dict) else outputs[0]"
   ]
  },
  {
   "cell_type": "markdown",
   "metadata": {},
   "source": [
    "## Classifier-guided loss"
   ]
  },
  {
   "cell_type": "markdown",
   "metadata": {},
   "source": [
    "First we test the classifier-guided loss"
   ]
  },
  {
   "cell_type": "code",
   "execution_count": 38,
   "metadata": {},
   "outputs": [
    {
     "name": "stderr",
     "output_type": "stream",
     "text": [
      "Some weights of the model checkpoint at SkolkovoInstitute/roberta_toxicity_classifier were not used when initializing RobertaForSequenceClassification: ['roberta.pooler.dense.weight', 'roberta.pooler.dense.bias']\n",
      "- This IS expected if you are initializing RobertaForSequenceClassification from the checkpoint of a model trained on another task or with another architecture (e.g. initializing a BertForSequenceClassification model from a BertForPreTraining model).\n",
      "- This IS NOT expected if you are initializing RobertaForSequenceClassification from the checkpoint of a model that you expect to be exactly identical (initializing a BertForSequenceClassification model from a BertForSequenceClassification model).\n"
     ]
    },
    {
     "name": "stdout",
     "output_type": "stream",
     "text": [
      "Test Case 1: All Toxic Texts\n",
      "Calculating classifier-guided loss...\n",
      "Logits: tensor([[-3.9838,  3.9090],\n",
      "        [-3.5358,  3.3512],\n",
      "        [-3.9934,  3.9302]], device='cuda:0')\n",
      "Classifier-guided loss: 7.5684027671813965\n",
      "Loss for all toxic texts: 7.5684027671813965\n",
      "\n",
      "Test Case 2: All Neutral Texts\n",
      "Calculating classifier-guided loss...\n",
      "Logits: tensor([[ 4.1200, -4.0838],\n",
      "        [ 4.8206, -5.1404],\n",
      "        [ 4.3735, -4.3328]], device='cuda:0')\n",
      "Classifier-guided loss: 0.00016210721514653414\n",
      "Loss for all neutral texts: 0.00016210721514653414\n",
      "\n",
      "Test Case 3: Mixed Texts\n",
      "Calculating classifier-guided loss...\n",
      "Logits: tensor([[-3.9838,  3.9090],\n",
      "        [ 4.8206, -5.1404],\n",
      "        [ 4.9345, -5.1655],\n",
      "        [-3.9934,  3.9302]], device='cuda:0')\n",
      "Classifier-guided loss: 3.954313278198242\n",
      "Loss for mixed texts: 3.954313278198242\n",
      "\n"
     ]
    }
   ],
   "source": [
    "# Constants\n",
    "DEVICE = \"cuda\" if torch.cuda.is_available() else \"cpu\"\n",
    "\n",
    "# Load tokenizer and model for toxicity classification\n",
    "tokenizer_toxicity = RobertaTokenizer.from_pretrained(\"SkolkovoInstitute/roberta_toxicity_classifier\")\n",
    "model_toxicity = RobertaForSequenceClassification.from_pretrained(\n",
    "    \"SkolkovoInstitute/roberta_toxicity_classifier\"\n",
    ").to(DEVICE)\n",
    "\n",
    "# Mock class\n",
    "class MockClass:\n",
    "    def __init__(self):\n",
    "        self.tokenizer_toxicity = tokenizer_toxicity\n",
    "        self.model_toxicity = model_toxicity\n",
    "\n",
    "    def classifier_guided_loss(self, generated_text, target_label):\n",
    "        print(\"Calculating classifier-guided loss...\")\n",
    "        inputs = self.tokenizer_toxicity(generated_text, return_tensors=\"pt\", padding=True).to(DEVICE)\n",
    "        batch_size = inputs[\"input_ids\"].shape[0]\n",
    "        target_label = torch.tensor([target_label]*batch_size, dtype=torch.long).to(DEVICE)   \n",
    "        with torch.no_grad():\n",
    "            logits = self.model_toxicity(**inputs)[\"logits\"]\n",
    "        print(f\"Logits: {logits}\")\n",
    "        loss_fct = torch.nn.CrossEntropyLoss()\n",
    "        loss = loss_fct(logits, target_label)\n",
    "        print(f\"Classifier-guided loss: {loss}\")\n",
    "        return loss\n",
    "\n",
    "# Test the classifier_guided_loss method with a list of generated text\n",
    "target_label_neutral = 0\n",
    "\n",
    "# Test Case 1: All Toxic Texts\n",
    "generated_texts_toxic = [\"You are stupid.\", \"Go to hell.\", \"You're an idiot.\"]\n",
    "print(\"Test Case 1: All Toxic Texts\")\n",
    "loss_toxic = mock_instance.classifier_guided_loss(generated_texts_toxic, target_label_neutral)\n",
    "print(f\"Loss for all toxic texts: {loss_toxic}\\n\")\n",
    "\n",
    "# Test Case 2: All Neutral Texts\n",
    "generated_texts_neutral = [\"You are smart.\", \"Have a nice day.\", \"You're intelligent.\"]\n",
    "print(\"Test Case 2: All Neutral Texts\")\n",
    "loss_neutral = mock_instance.classifier_guided_loss(generated_texts_neutral, target_label_neutral)\n",
    "print(f\"Loss for all neutral texts: {loss_neutral}\\n\")\n",
    "\n",
    "# Test Case 3: Mixed Texts\n",
    "generated_texts_mixed = [\"You are stupid.\", \"Have a nice day.\", \"You are so nice\", \"You're an idiot.\"]\n",
    "print(\"Test Case 3: Mixed Texts\")\n",
    "loss_mixed = mock_instance.classifier_guided_loss(generated_texts_mixed, target_label_neutral)\n",
    "print(f\"Loss for mixed texts: {loss_mixed}\\n\")"
   ]
  },
  {
   "cell_type": "code",
   "execution_count": 25,
   "metadata": {},
   "outputs": [],
   "source": [
    "class Seq2SeqTrainerCustomLoss(Seq2SeqTrainer):\n",
    "    def __init__(self, tokenizer_toxicity, model_toxicity, *args, **kwargs):\n",
    "        super(Seq2SeqTrainerCustomLoss, self).__init__(*args, **kwargs)\n",
    "        self.tokenizer_toxicity = tokenizer_toxicity\n",
    "        self.model_toxicity = model_toxicity\n",
    "\n",
    "    def prediction_step_custom(\n",
    "        self,\n",
    "        model: nn.Module,\n",
    "        inputs: Dict[str, Union[torch.Tensor, Any]],\n",
    "        prediction_loss_only: bool,\n",
    "        ignore_keys: Optional[List[str]] = None,\n",
    "        **gen_kwargs,\n",
    "    ) -> Tuple[Optional[float], Optional[torch.Tensor], Optional[torch.Tensor]]:\n",
    "        \"\"\"\n",
    "        Perform an evaluation step on `model` using `inputs`.\n",
    "\n",
    "        Subclass and override to inject custom behavior.\n",
    "\n",
    "        Args:\n",
    "            model (`nn.Module`):\n",
    "                The model to evaluate.\n",
    "            inputs (`Dict[str, Union[torch.Tensor, Any]]`):\n",
    "                The inputs and targets of the model.\n",
    "\n",
    "                The dictionary will be unpacked before being fed to the model. Most models expect the targets under the\n",
    "                argument `labels`. Check your model's documentation for all accepted arguments.\n",
    "            prediction_loss_only (`bool`):\n",
    "                Whether or not to return the loss only.\n",
    "            gen_kwargs:\n",
    "                Additional `generate` specific kwargs.\n",
    "\n",
    "        Return:\n",
    "            Tuple[Optional[float], Optional[torch.Tensor], Optional[torch.Tensor]]: A tuple with the loss, logits and\n",
    "            labels (each being optional).\n",
    "        \"\"\"\n",
    "\n",
    "        if not self.args.predict_with_generate or prediction_loss_only:\n",
    "            return super().prediction_step(\n",
    "                model, inputs, prediction_loss_only=prediction_loss_only, ignore_keys=ignore_keys\n",
    "            )\n",
    "\n",
    "        has_labels = \"labels\" in inputs\n",
    "        inputs = self._prepare_inputs(inputs)\n",
    "\n",
    "        # XXX: adapt synced_gpus for fairscale as well\n",
    "        # Priority (handled in generate):\n",
    "        # non-`None` gen_kwargs > model.generation_config > default GenerationConfig()\n",
    "        if len(gen_kwargs) == 0 and hasattr(self, \"_gen_kwargs\"):\n",
    "            gen_kwargs = self._gen_kwargs.copy()\n",
    "        if \"num_beams\" in gen_kwargs and gen_kwargs[\"num_beams\"] is None:\n",
    "            gen_kwargs.pop(\"num_beams\")\n",
    "        if \"max_length\" in gen_kwargs and gen_kwargs[\"max_length\"] is None:\n",
    "            gen_kwargs.pop(\"max_length\")\n",
    "\n",
    "        gen_kwargs[\"synced_gpus\"] = (\n",
    "            gen_kwargs[\"synced_gpus\"] if gen_kwargs.get(\"synced_gpus\") is not None else False\n",
    "        )\n",
    "\n",
    "        generation_inputs = inputs.copy()\n",
    "        # If the `decoder_input_ids` was created from `labels`, evict the former, so that the model can freely generate\n",
    "        # (otherwise, it would continue generating from the padded `decoder_input_ids`)\n",
    "        if (\n",
    "            \"labels\" in generation_inputs\n",
    "            and \"decoder_input_ids\" in generation_inputs\n",
    "            and generation_inputs[\"labels\"].shape == generation_inputs[\"decoder_input_ids\"].shape\n",
    "        ):\n",
    "            generation_inputs = {k: v for k, v in inputs.items() if k != \"decoder_input_ids\"}\n",
    "        generated_tokens = self.model.generate(**generation_inputs, **gen_kwargs)\n",
    "\n",
    "        # Temporary hack to ensure the generation config is not initialized for each iteration of the evaluation loop\n",
    "        # TODO: remove this hack when the legacy code that initializes generation_config from a model config is\n",
    "        # removed in https://github.com/huggingface/transformers/blob/98d88b23f54e5a23e741833f1e973fdf600cc2c5/src/transformers/generation/utils.py#L1183\n",
    "        if self.model.generation_config._from_model_config:\n",
    "            self.model.generation_config._from_model_config = False\n",
    "\n",
    "        # Retrieves GenerationConfig from model.generation_config\n",
    "        gen_config = self.model.generation_config\n",
    "        # in case the batch is shorter than max length, the output should be padded\n",
    "        if generated_tokens.shape[-1] < gen_config.max_length:\n",
    "            generated_tokens = self._pad_tensors_to_max_len(generated_tokens, gen_config.max_length)\n",
    "        elif gen_config.max_new_tokens is not None and generated_tokens.shape[-1] < gen_config.max_new_tokens + 1:\n",
    "            generated_tokens = self._pad_tensors_to_max_len(generated_tokens, gen_config.max_new_tokens + 1)\n",
    "\n",
    "        if has_labels:\n",
    "            with self.compute_loss_context_manager():\n",
    "                outputs = model(**inputs)\n",
    "            if self.label_smoother is not None:\n",
    "                loss = self.label_smoother(outputs, inputs[\"labels\"]).mean().detach()\n",
    "            else:\n",
    "                loss = (outputs[\"loss\"] if isinstance(outputs, dict) else outputs[0]).mean().detach()\n",
    "        else:\n",
    "            loss = None\n",
    "\n",
    "        if self.args.prediction_loss_only:\n",
    "            return loss, None, None\n",
    "\n",
    "        if has_labels:\n",
    "            labels = inputs[\"labels\"]\n",
    "            if labels.shape[-1] < gen_config.max_length:\n",
    "                labels = self._pad_tensors_to_max_len(labels, gen_config.max_length)\n",
    "            elif gen_config.max_new_tokens is not None and labels.shape[-1] < gen_config.max_new_tokens + 1:\n",
    "                labels = self._pad_tensors_to_max_len(labels, gen_config.max_new_tokens + 1)\n",
    "        else:\n",
    "            labels = None\n",
    "\n",
    "        return loss, generated_tokens, labels\n",
    "\n",
    "    def classifier_guided_loss(self, generated_text, target_label):\n",
    "        # Tokenize the generated text\n",
    "        inputs = self.tokenizer_toxicity(generated_text, return_tensors=\"pt\", padding=True)\n",
    "        \n",
    "        # Move inputs to the same device as the model\n",
    "        inputs = {key: tensor.to(DEVICE) for key, tensor in inputs.items()}\n",
    "        \n",
    "        # Get the batch size\n",
    "        batch_size = inputs[\"input_ids\"].shape[0]\n",
    "\n",
    "        # Ensure target label is a tensor and on the correct device and shape\n",
    "        target_label = torch.tensor([target_label]*batch_size, dtype=torch.long).to(DEVICE)\n",
    "\n",
    "        # Get the classifier's output logits\n",
    "        logits = self.model_toxicity(**inputs)[\"logits\"]\n",
    "        \n",
    "        # Calculate the cross-entropy loss\n",
    "        loss_fct = torch.nn.CrossEntropyLoss().to(DEVICE)\n",
    "        loss = loss_fct(logits, target_label)\n",
    "        \n",
    "        return loss\n",
    "    \n",
    "    def compute_loss(self, model, inputs):\n",
    "        \"\"\"\n",
    "        Compute custom loss for the model.\n",
    "\n",
    "        Args:\n",
    "            model (torch.nn.Module): The model training or evaluating.\n",
    "            inputs (dict): The inputs and targets of the model.\n",
    "\n",
    "        Returns:\n",
    "            torch.FloatTensor: The loss value.\n",
    "        \"\"\"\n",
    "        # # Get outputs, predictions and prediction loss\n",
    "        # outputs = model(**inputs)\n",
    "        # pred_loss = outputs.loss if isinstance(outputs, dict) else outputs[0]\n",
    "\n",
    "        # Call prediction_step\n",
    "        pred_loss, preds, refs = self.prediction_step_custom(model, inputs, prediction_loss_only=False)\n",
    "        \n",
    "        # Post-process the predictions and references\n",
    "        ## In case the model returns more than the prediction logits\n",
    "        if isinstance(preds, tuple):\n",
    "            preds = preds[0]\n",
    "\n",
    "        decoded_preds = self.tokenizer.batch_decode(preds, skip_special_tokens=True)\n",
    "\n",
    "        ## Replace -100s in the labels as we can't decode them\n",
    "        refs = torch.where(refs != -100, refs, torch.tensor(self.tokenizer.pad_token_id).to(DEVICE))\n",
    "        decoded_refs = self.tokenizer.batch_decode(refs, skip_special_tokens=True)\n",
    "\n",
    "        ## Some simple post-processing\n",
    "        decoded_preds = [pred.strip() for pred in decoded_preds]\n",
    "        decoded_refs = [ref.strip() for ref in decoded_refs]\n",
    "\n",
    "        # Calculate the classifier-guided loss\n",
    "        classifier_loss = self.classifier_guided_loss(decoded_preds, 0)\n",
    "\n",
    "        # Calculate total loss as a weighted sum of the classifier loss and the prediction loss\n",
    "        total_loss = 0.5 * classifier_loss + 0.5 * pred_loss\n",
    "\n",
    "        # Return total loss\n",
    "        return total_loss"
   ]
  },
  {
   "cell_type": "code",
   "execution_count": 26,
   "metadata": {},
   "outputs": [],
   "source": [
    "\n",
    "def setup_trainer_cl(output_dir_name,\n",
    "                train_dataset,\n",
    "                eval_dataset,\n",
    "                model_checkpoint=\"t5-small\",\n",
    "                per_device_train_batch_size=32,\n",
    "                per_device_eval_batch_size=128,\n",
    "                learning_rate=1e-4,\n",
    "                num_train_epochs=30,\n",
    "                max_length=MAX_OUTPUT_LENGTH,\n",
    "                num_beams=4,\n",
    "                compute_metrics=compute_metrics,\n",
    "                callbacks=[EarlyStoppingCallback(early_stopping_patience=2)],\n",
    "                tokenizer_toxicity=tokenizer_toxicity,\n",
    "                model_toxicity=model_toxicity):\n",
    "    \"\"\"\n",
    "    Set up a Seq2SeqTrainer object for training a T5 model with custom loss function\n",
    "\n",
    "    Default parameters based on this: https://github.com/google-research/text-to-text-transfer-transformer/blob/main/t5/models/hf_model.py#L55\n",
    "\n",
    "    Args:\n",
    "        output_dir_name (str): What to name the model in the output directory.\n",
    "        model_checkpoint (str): Name of the pre-trained model to use.\n",
    "        train_dataset (Dataset): Training dataset.\n",
    "        eval_dataset (Dataset): Validation/test dataset.\n",
    "        per_device_train_batch_size (int): Batch size for training.\n",
    "        per_device_eval_batch_size (int): Batch size for evaluation.\n",
    "        learning_rate (float): Learning rate for optimizer.\n",
    "        weight_decay (float): Weight decay for optimizer.\n",
    "        num_train_epochs (int): Number of training epochs.\n",
    "        max_length (int): Maximum length of generated sequences.\n",
    "        num_beams (int): Number of beams for beam search.\n",
    "        compute_metrics (function): Function to compute evaluation metrics.\n",
    "\n",
    "    Returns:\n",
    "        Seq2SeqTrainer: Trainer object for training the T5 model.\n",
    "    \"\"\"\n",
    "    \n",
    "    # Instantiate model and tokenizer\n",
    "    model = T5ForConditionalGeneration.from_pretrained(model_checkpoint)\n",
    "    tokenizer = T5Tokenizer.from_pretrained(model_checkpoint)\n",
    "\n",
    "    # Define the data collator\n",
    "    data_collator = DataCollatorForSeq2Seq(tokenizer, model, return_tensors=\"pt\", padding=True)\n",
    "\n",
    "    # Define generation config\n",
    "    generation_config = GenerationConfig(\n",
    "        max_length=max_length,\n",
    "        num_beams=num_beams,\n",
    "        early_stopping=True,\n",
    "        eos_token_id=model.config.eos_token_id,\n",
    "        bos_token_id=model.config.bos_token_id,\n",
    "        pad_token_id=model.config.pad_token_id,\n",
    "        decoder_start_token_id=model.config.pad_token_id\n",
    "        )\n",
    "\n",
    "    # Save the generation config\n",
    "    GEN_CONFIG_PATH = f\"../models/{output_dir_name}/generation_config\"\n",
    "    generation_config.save_pretrained(GEN_CONFIG_PATH)\n",
    "\n",
    "    # Define the training arguments\n",
    "    args = Seq2SeqTrainingArguments(\n",
    "        output_dir=f'../models/{output_dir_name}',\n",
    "        evaluation_strategy=\"epoch\",\n",
    "        save_strategy=\"epoch\",\n",
    "        logging_strategy=\"epoch\",\n",
    "        num_train_epochs=num_train_epochs,\n",
    "        per_device_train_batch_size=per_device_train_batch_size,\n",
    "        per_device_eval_batch_size=per_device_eval_batch_size,\n",
    "        learning_rate=learning_rate, \n",
    "        predict_with_generate=True,\n",
    "        generation_config=GEN_CONFIG_PATH,\n",
    "        fp16=True,\n",
    "        report_to=\"wandb\",\n",
    "        logging_steps=100,\n",
    "        load_best_model_at_end=True,\n",
    "        metric_for_best_model=\"Overall\",\n",
    "        greater_is_better=True,\n",
    "        generation_max_length=max_length,\n",
    "    )\n",
    "\n",
    "    # Create a partial function with the tokenizer argument included\n",
    "    compute_metrics_with_tokenizer = partial(compute_metrics, tokenizer=tokenizer)\n",
    "    \n",
    "    # Instantiate the trainer\n",
    "    trainer = Seq2SeqTrainerCustomLoss(\n",
    "        tokenizer_toxicity=tokenizer_toxicity,\n",
    "        model_toxicity=model_toxicity,\n",
    "        model=model,\n",
    "        args=args,\n",
    "        train_dataset=train_dataset,\n",
    "        eval_dataset=eval_dataset,\n",
    "        data_collator=data_collator,\n",
    "        tokenizer=tokenizer,\n",
    "        compute_metrics=compute_metrics_with_tokenizer,\n",
    "        callbacks=callbacks\n",
    "    )\n",
    "\n",
    "    return trainer"
   ]
  },
  {
   "cell_type": "code",
   "execution_count": 27,
   "metadata": {},
   "outputs": [
    {
     "name": "stderr",
     "output_type": "stream",
     "text": [
      "WARNING:datasets.arrow_dataset:Loading cached processed dataset at /home/garykong/w266_final_project/data/processed/raw_dataset.pkl/train/cache-ac03a1eae4857ca9.arrow\n",
      "WARNING:datasets.arrow_dataset:Loading cached processed dataset at /home/garykong/w266_final_project/data/processed/raw_dataset.pkl/validation/cache-1a3c402aca53efae.arrow\n",
      "WARNING:datasets.arrow_dataset:Loading cached processed dataset at /home/garykong/w266_final_project/data/processed/raw_dataset.pkl/test/cache-52371f98a42bda9e.arrow\n",
      "WARNING:datasets.arrow_dataset:Loading cached processed dataset at /home/garykong/w266_final_project/data/processed/raw_dataset.pkl/train/cache-f74d2afa75d3274d.arrow\n",
      "WARNING:datasets.arrow_dataset:Loading cached processed dataset at /home/garykong/w266_final_project/data/processed/raw_dataset.pkl/validation/cache-27dbd004d46789ef.arrow\n",
      "WARNING:datasets.arrow_dataset:Loading cached processed dataset at /home/garykong/w266_final_project/data/processed/raw_dataset.pkl/test/cache-567680ac24c347c7.arrow\n"
     ]
    },
    {
     "ename": "RuntimeError",
     "evalue": "Expected all tensors to be on the same device, but found at least two devices, cpu and cuda:0! (when checking argument for argument index in method wrapper_CUDA__index_select)",
     "output_type": "error",
     "traceback": [
      "\u001b[0;31m---------------------------------------------------------------------------\u001b[0m",
      "\u001b[0;31mRuntimeError\u001b[0m                              Traceback (most recent call last)",
      "\u001b[1;32m/home/garykong/w266_final_project/notebooks/2_Models.ipynb Cell 49\u001b[0m line \u001b[0;36m1\n\u001b[1;32m     <a href='vscode-notebook-cell://ssh-remote%2Bdeeplearning6-vm.europe-west4-b.w266-401709/home/garykong/w266_final_project/notebooks/2_Models.ipynb#Y106sdnNjb2RlLXJlbW90ZQ%3D%3D?line=9'>10</a>\u001b[0m trainer_t5_small \u001b[39m=\u001b[39m setup_trainer_cl(\n\u001b[1;32m     <a href='vscode-notebook-cell://ssh-remote%2Bdeeplearning6-vm.europe-west4-b.w266-401709/home/garykong/w266_final_project/notebooks/2_Models.ipynb#Y106sdnNjb2RlLXJlbW90ZQ%3D%3D?line=10'>11</a>\u001b[0m     output_dir_name\u001b[39m=\u001b[39m\u001b[39m\"\u001b[39m\u001b[39mt5-small-detoxify-cl\u001b[39m\u001b[39m\"\u001b[39m,\n\u001b[1;32m     <a href='vscode-notebook-cell://ssh-remote%2Bdeeplearning6-vm.europe-west4-b.w266-401709/home/garykong/w266_final_project/notebooks/2_Models.ipynb#Y106sdnNjb2RlLXJlbW90ZQ%3D%3D?line=11'>12</a>\u001b[0m     model_checkpoint\u001b[39m=\u001b[39m\u001b[39m\"\u001b[39m\u001b[39mt5-small\u001b[39m\u001b[39m\"\u001b[39m,\n\u001b[1;32m     <a href='vscode-notebook-cell://ssh-remote%2Bdeeplearning6-vm.europe-west4-b.w266-401709/home/garykong/w266_final_project/notebooks/2_Models.ipynb#Y106sdnNjb2RlLXJlbW90ZQ%3D%3D?line=12'>13</a>\u001b[0m     train_dataset\u001b[39m=\u001b[39mtokenized_datasets_t5_small[\u001b[39m\"\u001b[39m\u001b[39mtrain\u001b[39m\u001b[39m\"\u001b[39m],\n\u001b[1;32m     <a href='vscode-notebook-cell://ssh-remote%2Bdeeplearning6-vm.europe-west4-b.w266-401709/home/garykong/w266_final_project/notebooks/2_Models.ipynb#Y106sdnNjb2RlLXJlbW90ZQ%3D%3D?line=13'>14</a>\u001b[0m     eval_dataset\u001b[39m=\u001b[39mtokenized_datasets_t5_small[\u001b[39m\"\u001b[39m\u001b[39mvalidation\u001b[39m\u001b[39m\"\u001b[39m],\n\u001b[1;32m     <a href='vscode-notebook-cell://ssh-remote%2Bdeeplearning6-vm.europe-west4-b.w266-401709/home/garykong/w266_final_project/notebooks/2_Models.ipynb#Y106sdnNjb2RlLXJlbW90ZQ%3D%3D?line=14'>15</a>\u001b[0m )\n\u001b[1;32m     <a href='vscode-notebook-cell://ssh-remote%2Bdeeplearning6-vm.europe-west4-b.w266-401709/home/garykong/w266_final_project/notebooks/2_Models.ipynb#Y106sdnNjb2RlLXJlbW90ZQ%3D%3D?line=16'>17</a>\u001b[0m \u001b[39m# wandb.init(project=\"w266_final_project\", name=\"t5-small-detoxify-cl\")\u001b[39;00m\n\u001b[0;32m---> <a href='vscode-notebook-cell://ssh-remote%2Bdeeplearning6-vm.europe-west4-b.w266-401709/home/garykong/w266_final_project/notebooks/2_Models.ipynb#Y106sdnNjb2RlLXJlbW90ZQ%3D%3D?line=17'>18</a>\u001b[0m trainer_t5_small\u001b[39m.\u001b[39;49mtrain()\n\u001b[1;32m     <a href='vscode-notebook-cell://ssh-remote%2Bdeeplearning6-vm.europe-west4-b.w266-401709/home/garykong/w266_final_project/notebooks/2_Models.ipynb#Y106sdnNjb2RlLXJlbW90ZQ%3D%3D?line=18'>19</a>\u001b[0m \u001b[39m# wandb.finish()\u001b[39;00m\n",
      "File \u001b[0;32m/opt/conda/lib/python3.10/site-packages/transformers/trainer.py:1591\u001b[0m, in \u001b[0;36mTrainer.train\u001b[0;34m(self, resume_from_checkpoint, trial, ignore_keys_for_eval, **kwargs)\u001b[0m\n\u001b[1;32m   1589\u001b[0m         hf_hub_utils\u001b[39m.\u001b[39menable_progress_bars()\n\u001b[1;32m   1590\u001b[0m \u001b[39melse\u001b[39;00m:\n\u001b[0;32m-> 1591\u001b[0m     \u001b[39mreturn\u001b[39;00m inner_training_loop(\n\u001b[1;32m   1592\u001b[0m         args\u001b[39m=\u001b[39;49margs,\n\u001b[1;32m   1593\u001b[0m         resume_from_checkpoint\u001b[39m=\u001b[39;49mresume_from_checkpoint,\n\u001b[1;32m   1594\u001b[0m         trial\u001b[39m=\u001b[39;49mtrial,\n\u001b[1;32m   1595\u001b[0m         ignore_keys_for_eval\u001b[39m=\u001b[39;49mignore_keys_for_eval,\n\u001b[1;32m   1596\u001b[0m     )\n",
      "File \u001b[0;32m/opt/conda/lib/python3.10/site-packages/transformers/trainer.py:1892\u001b[0m, in \u001b[0;36mTrainer._inner_training_loop\u001b[0;34m(self, batch_size, args, resume_from_checkpoint, trial, ignore_keys_for_eval)\u001b[0m\n\u001b[1;32m   1889\u001b[0m     \u001b[39mself\u001b[39m\u001b[39m.\u001b[39mcontrol \u001b[39m=\u001b[39m \u001b[39mself\u001b[39m\u001b[39m.\u001b[39mcallback_handler\u001b[39m.\u001b[39mon_step_begin(args, \u001b[39mself\u001b[39m\u001b[39m.\u001b[39mstate, \u001b[39mself\u001b[39m\u001b[39m.\u001b[39mcontrol)\n\u001b[1;32m   1891\u001b[0m \u001b[39mwith\u001b[39;00m \u001b[39mself\u001b[39m\u001b[39m.\u001b[39maccelerator\u001b[39m.\u001b[39maccumulate(model):\n\u001b[0;32m-> 1892\u001b[0m     tr_loss_step \u001b[39m=\u001b[39m \u001b[39mself\u001b[39;49m\u001b[39m.\u001b[39;49mtraining_step(model, inputs)\n\u001b[1;32m   1894\u001b[0m \u001b[39mif\u001b[39;00m (\n\u001b[1;32m   1895\u001b[0m     args\u001b[39m.\u001b[39mlogging_nan_inf_filter\n\u001b[1;32m   1896\u001b[0m     \u001b[39mand\u001b[39;00m \u001b[39mnot\u001b[39;00m is_torch_tpu_available()\n\u001b[1;32m   1897\u001b[0m     \u001b[39mand\u001b[39;00m (torch\u001b[39m.\u001b[39misnan(tr_loss_step) \u001b[39mor\u001b[39;00m torch\u001b[39m.\u001b[39misinf(tr_loss_step))\n\u001b[1;32m   1898\u001b[0m ):\n\u001b[1;32m   1899\u001b[0m     \u001b[39m# if loss is nan or inf simply add the average of previous logged losses\u001b[39;00m\n\u001b[1;32m   1900\u001b[0m     tr_loss \u001b[39m+\u001b[39m\u001b[39m=\u001b[39m tr_loss \u001b[39m/\u001b[39m (\u001b[39m1\u001b[39m \u001b[39m+\u001b[39m \u001b[39mself\u001b[39m\u001b[39m.\u001b[39mstate\u001b[39m.\u001b[39mglobal_step \u001b[39m-\u001b[39m \u001b[39mself\u001b[39m\u001b[39m.\u001b[39m_globalstep_last_logged)\n",
      "File \u001b[0;32m/opt/conda/lib/python3.10/site-packages/transformers/trainer.py:2776\u001b[0m, in \u001b[0;36mTrainer.training_step\u001b[0;34m(self, model, inputs)\u001b[0m\n\u001b[1;32m   2773\u001b[0m     \u001b[39mreturn\u001b[39;00m loss_mb\u001b[39m.\u001b[39mreduce_mean()\u001b[39m.\u001b[39mdetach()\u001b[39m.\u001b[39mto(\u001b[39mself\u001b[39m\u001b[39m.\u001b[39margs\u001b[39m.\u001b[39mdevice)\n\u001b[1;32m   2775\u001b[0m \u001b[39mwith\u001b[39;00m \u001b[39mself\u001b[39m\u001b[39m.\u001b[39mcompute_loss_context_manager():\n\u001b[0;32m-> 2776\u001b[0m     loss \u001b[39m=\u001b[39m \u001b[39mself\u001b[39;49m\u001b[39m.\u001b[39;49mcompute_loss(model, inputs)\n\u001b[1;32m   2778\u001b[0m \u001b[39mif\u001b[39;00m \u001b[39mself\u001b[39m\u001b[39m.\u001b[39margs\u001b[39m.\u001b[39mn_gpu \u001b[39m>\u001b[39m \u001b[39m1\u001b[39m:\n\u001b[1;32m   2779\u001b[0m     loss \u001b[39m=\u001b[39m loss\u001b[39m.\u001b[39mmean()  \u001b[39m# mean() to average on multi-gpu parallel training\u001b[39;00m\n",
      "\u001b[1;32m/home/garykong/w266_final_project/notebooks/2_Models.ipynb Cell 49\u001b[0m line \u001b[0;36m1\n\u001b[1;32m    <a href='vscode-notebook-cell://ssh-remote%2Bdeeplearning6-vm.europe-west4-b.w266-401709/home/garykong/w266_final_project/notebooks/2_Models.ipynb#Y106sdnNjb2RlLXJlbW90ZQ%3D%3D?line=161'>162</a>\u001b[0m decoded_refs \u001b[39m=\u001b[39m [ref\u001b[39m.\u001b[39mstrip() \u001b[39mfor\u001b[39;00m ref \u001b[39min\u001b[39;00m decoded_refs]\n\u001b[1;32m    <a href='vscode-notebook-cell://ssh-remote%2Bdeeplearning6-vm.europe-west4-b.w266-401709/home/garykong/w266_final_project/notebooks/2_Models.ipynb#Y106sdnNjb2RlLXJlbW90ZQ%3D%3D?line=163'>164</a>\u001b[0m \u001b[39m# Calculate the classifier-guided loss\u001b[39;00m\n\u001b[0;32m--> <a href='vscode-notebook-cell://ssh-remote%2Bdeeplearning6-vm.europe-west4-b.w266-401709/home/garykong/w266_final_project/notebooks/2_Models.ipynb#Y106sdnNjb2RlLXJlbW90ZQ%3D%3D?line=164'>165</a>\u001b[0m classifier_loss \u001b[39m=\u001b[39m \u001b[39mself\u001b[39;49m\u001b[39m.\u001b[39;49mclassifier_guided_loss(decoded_preds, \u001b[39m0\u001b[39;49m)\n\u001b[1;32m    <a href='vscode-notebook-cell://ssh-remote%2Bdeeplearning6-vm.europe-west4-b.w266-401709/home/garykong/w266_final_project/notebooks/2_Models.ipynb#Y106sdnNjb2RlLXJlbW90ZQ%3D%3D?line=166'>167</a>\u001b[0m \u001b[39m# Calculate total loss as a weighted sum of the classifier loss and the prediction loss\u001b[39;00m\n\u001b[1;32m    <a href='vscode-notebook-cell://ssh-remote%2Bdeeplearning6-vm.europe-west4-b.w266-401709/home/garykong/w266_final_project/notebooks/2_Models.ipynb#Y106sdnNjb2RlLXJlbW90ZQ%3D%3D?line=167'>168</a>\u001b[0m total_loss \u001b[39m=\u001b[39m \u001b[39m0.5\u001b[39m \u001b[39m*\u001b[39m classifier_loss \u001b[39m+\u001b[39m \u001b[39m0.5\u001b[39m \u001b[39m*\u001b[39m pred_loss\n",
      "\u001b[1;32m/home/garykong/w266_final_project/notebooks/2_Models.ipynb Cell 49\u001b[0m line \u001b[0;36m2\n\u001b[1;32m     <a href='vscode-notebook-cell://ssh-remote%2Bdeeplearning6-vm.europe-west4-b.w266-401709/home/garykong/w266_final_project/notebooks/2_Models.ipynb#Y106sdnNjb2RlLXJlbW90ZQ%3D%3D?line=17'>18</a>\u001b[0m target_label \u001b[39m=\u001b[39m torch\u001b[39m.\u001b[39mtensor([target_label]\u001b[39m*\u001b[39mbatch_size, dtype\u001b[39m=\u001b[39mtorch\u001b[39m.\u001b[39mlong)\u001b[39m.\u001b[39mto(DEVICE)\n\u001b[1;32m     <a href='vscode-notebook-cell://ssh-remote%2Bdeeplearning6-vm.europe-west4-b.w266-401709/home/garykong/w266_final_project/notebooks/2_Models.ipynb#Y106sdnNjb2RlLXJlbW90ZQ%3D%3D?line=19'>20</a>\u001b[0m \u001b[39m# Get the classifier's output logits\u001b[39;00m\n\u001b[0;32m---> <a href='vscode-notebook-cell://ssh-remote%2Bdeeplearning6-vm.europe-west4-b.w266-401709/home/garykong/w266_final_project/notebooks/2_Models.ipynb#Y106sdnNjb2RlLXJlbW90ZQ%3D%3D?line=20'>21</a>\u001b[0m logits \u001b[39m=\u001b[39m \u001b[39mself\u001b[39;49m\u001b[39m.\u001b[39;49mmodel_toxicity(\u001b[39m*\u001b[39;49m\u001b[39m*\u001b[39;49minputs)[\u001b[39m\"\u001b[39m\u001b[39mlogits\u001b[39m\u001b[39m\"\u001b[39m]\n\u001b[1;32m     <a href='vscode-notebook-cell://ssh-remote%2Bdeeplearning6-vm.europe-west4-b.w266-401709/home/garykong/w266_final_project/notebooks/2_Models.ipynb#Y106sdnNjb2RlLXJlbW90ZQ%3D%3D?line=22'>23</a>\u001b[0m \u001b[39m# Calculate the cross-entropy loss\u001b[39;00m\n\u001b[1;32m     <a href='vscode-notebook-cell://ssh-remote%2Bdeeplearning6-vm.europe-west4-b.w266-401709/home/garykong/w266_final_project/notebooks/2_Models.ipynb#Y106sdnNjb2RlLXJlbW90ZQ%3D%3D?line=23'>24</a>\u001b[0m loss_fct \u001b[39m=\u001b[39m torch\u001b[39m.\u001b[39mnn\u001b[39m.\u001b[39mCrossEntropyLoss()\u001b[39m.\u001b[39mto(DEVICE)\n",
      "File \u001b[0;32m/opt/conda/lib/python3.10/site-packages/torch/nn/modules/module.py:1501\u001b[0m, in \u001b[0;36mModule._call_impl\u001b[0;34m(self, *args, **kwargs)\u001b[0m\n\u001b[1;32m   1496\u001b[0m \u001b[39m# If we don't have any hooks, we want to skip the rest of the logic in\u001b[39;00m\n\u001b[1;32m   1497\u001b[0m \u001b[39m# this function, and just call forward.\u001b[39;00m\n\u001b[1;32m   1498\u001b[0m \u001b[39mif\u001b[39;00m \u001b[39mnot\u001b[39;00m (\u001b[39mself\u001b[39m\u001b[39m.\u001b[39m_backward_hooks \u001b[39mor\u001b[39;00m \u001b[39mself\u001b[39m\u001b[39m.\u001b[39m_backward_pre_hooks \u001b[39mor\u001b[39;00m \u001b[39mself\u001b[39m\u001b[39m.\u001b[39m_forward_hooks \u001b[39mor\u001b[39;00m \u001b[39mself\u001b[39m\u001b[39m.\u001b[39m_forward_pre_hooks\n\u001b[1;32m   1499\u001b[0m         \u001b[39mor\u001b[39;00m _global_backward_pre_hooks \u001b[39mor\u001b[39;00m _global_backward_hooks\n\u001b[1;32m   1500\u001b[0m         \u001b[39mor\u001b[39;00m _global_forward_hooks \u001b[39mor\u001b[39;00m _global_forward_pre_hooks):\n\u001b[0;32m-> 1501\u001b[0m     \u001b[39mreturn\u001b[39;00m forward_call(\u001b[39m*\u001b[39;49margs, \u001b[39m*\u001b[39;49m\u001b[39m*\u001b[39;49mkwargs)\n\u001b[1;32m   1502\u001b[0m \u001b[39m# Do not call functions when jit is used\u001b[39;00m\n\u001b[1;32m   1503\u001b[0m full_backward_hooks, non_full_backward_hooks \u001b[39m=\u001b[39m [], []\n",
      "File \u001b[0;32m/opt/conda/lib/python3.10/site-packages/transformers/models/roberta/modeling_roberta.py:1198\u001b[0m, in \u001b[0;36mRobertaForSequenceClassification.forward\u001b[0;34m(self, input_ids, attention_mask, token_type_ids, position_ids, head_mask, inputs_embeds, labels, output_attentions, output_hidden_states, return_dict)\u001b[0m\n\u001b[1;32m   1190\u001b[0m \u001b[39m\u001b[39m\u001b[39mr\u001b[39m\u001b[39m\"\"\"\u001b[39;00m\n\u001b[1;32m   1191\u001b[0m \u001b[39mlabels (`torch.LongTensor` of shape `(batch_size,)`, *optional*):\u001b[39;00m\n\u001b[1;32m   1192\u001b[0m \u001b[39m    Labels for computing the sequence classification/regression loss. Indices should be in `[0, ...,\u001b[39;00m\n\u001b[1;32m   1193\u001b[0m \u001b[39m    config.num_labels - 1]`. If `config.num_labels == 1` a regression loss is computed (Mean-Square loss), If\u001b[39;00m\n\u001b[1;32m   1194\u001b[0m \u001b[39m    `config.num_labels > 1` a classification loss is computed (Cross-Entropy).\u001b[39;00m\n\u001b[1;32m   1195\u001b[0m \u001b[39m\"\"\"\u001b[39;00m\n\u001b[1;32m   1196\u001b[0m return_dict \u001b[39m=\u001b[39m return_dict \u001b[39mif\u001b[39;00m return_dict \u001b[39mis\u001b[39;00m \u001b[39mnot\u001b[39;00m \u001b[39mNone\u001b[39;00m \u001b[39melse\u001b[39;00m \u001b[39mself\u001b[39m\u001b[39m.\u001b[39mconfig\u001b[39m.\u001b[39muse_return_dict\n\u001b[0;32m-> 1198\u001b[0m outputs \u001b[39m=\u001b[39m \u001b[39mself\u001b[39;49m\u001b[39m.\u001b[39;49mroberta(\n\u001b[1;32m   1199\u001b[0m     input_ids,\n\u001b[1;32m   1200\u001b[0m     attention_mask\u001b[39m=\u001b[39;49mattention_mask,\n\u001b[1;32m   1201\u001b[0m     token_type_ids\u001b[39m=\u001b[39;49mtoken_type_ids,\n\u001b[1;32m   1202\u001b[0m     position_ids\u001b[39m=\u001b[39;49mposition_ids,\n\u001b[1;32m   1203\u001b[0m     head_mask\u001b[39m=\u001b[39;49mhead_mask,\n\u001b[1;32m   1204\u001b[0m     inputs_embeds\u001b[39m=\u001b[39;49minputs_embeds,\n\u001b[1;32m   1205\u001b[0m     output_attentions\u001b[39m=\u001b[39;49moutput_attentions,\n\u001b[1;32m   1206\u001b[0m     output_hidden_states\u001b[39m=\u001b[39;49moutput_hidden_states,\n\u001b[1;32m   1207\u001b[0m     return_dict\u001b[39m=\u001b[39;49mreturn_dict,\n\u001b[1;32m   1208\u001b[0m )\n\u001b[1;32m   1209\u001b[0m sequence_output \u001b[39m=\u001b[39m outputs[\u001b[39m0\u001b[39m]\n\u001b[1;32m   1210\u001b[0m logits \u001b[39m=\u001b[39m \u001b[39mself\u001b[39m\u001b[39m.\u001b[39mclassifier(sequence_output)\n",
      "File \u001b[0;32m/opt/conda/lib/python3.10/site-packages/torch/nn/modules/module.py:1501\u001b[0m, in \u001b[0;36mModule._call_impl\u001b[0;34m(self, *args, **kwargs)\u001b[0m\n\u001b[1;32m   1496\u001b[0m \u001b[39m# If we don't have any hooks, we want to skip the rest of the logic in\u001b[39;00m\n\u001b[1;32m   1497\u001b[0m \u001b[39m# this function, and just call forward.\u001b[39;00m\n\u001b[1;32m   1498\u001b[0m \u001b[39mif\u001b[39;00m \u001b[39mnot\u001b[39;00m (\u001b[39mself\u001b[39m\u001b[39m.\u001b[39m_backward_hooks \u001b[39mor\u001b[39;00m \u001b[39mself\u001b[39m\u001b[39m.\u001b[39m_backward_pre_hooks \u001b[39mor\u001b[39;00m \u001b[39mself\u001b[39m\u001b[39m.\u001b[39m_forward_hooks \u001b[39mor\u001b[39;00m \u001b[39mself\u001b[39m\u001b[39m.\u001b[39m_forward_pre_hooks\n\u001b[1;32m   1499\u001b[0m         \u001b[39mor\u001b[39;00m _global_backward_pre_hooks \u001b[39mor\u001b[39;00m _global_backward_hooks\n\u001b[1;32m   1500\u001b[0m         \u001b[39mor\u001b[39;00m _global_forward_hooks \u001b[39mor\u001b[39;00m _global_forward_pre_hooks):\n\u001b[0;32m-> 1501\u001b[0m     \u001b[39mreturn\u001b[39;00m forward_call(\u001b[39m*\u001b[39;49margs, \u001b[39m*\u001b[39;49m\u001b[39m*\u001b[39;49mkwargs)\n\u001b[1;32m   1502\u001b[0m \u001b[39m# Do not call functions when jit is used\u001b[39;00m\n\u001b[1;32m   1503\u001b[0m full_backward_hooks, non_full_backward_hooks \u001b[39m=\u001b[39m [], []\n",
      "File \u001b[0;32m/opt/conda/lib/python3.10/site-packages/transformers/models/roberta/modeling_roberta.py:837\u001b[0m, in \u001b[0;36mRobertaModel.forward\u001b[0;34m(self, input_ids, attention_mask, token_type_ids, position_ids, head_mask, inputs_embeds, encoder_hidden_states, encoder_attention_mask, past_key_values, use_cache, output_attentions, output_hidden_states, return_dict)\u001b[0m\n\u001b[1;32m    830\u001b[0m \u001b[39m# Prepare head mask if needed\u001b[39;00m\n\u001b[1;32m    831\u001b[0m \u001b[39m# 1.0 in head_mask indicate we keep the head\u001b[39;00m\n\u001b[1;32m    832\u001b[0m \u001b[39m# attention_probs has shape bsz x n_heads x N x N\u001b[39;00m\n\u001b[1;32m    833\u001b[0m \u001b[39m# input head_mask has shape [num_heads] or [num_hidden_layers x num_heads]\u001b[39;00m\n\u001b[1;32m    834\u001b[0m \u001b[39m# and head_mask is converted to shape [num_hidden_layers x batch x num_heads x seq_length x seq_length]\u001b[39;00m\n\u001b[1;32m    835\u001b[0m head_mask \u001b[39m=\u001b[39m \u001b[39mself\u001b[39m\u001b[39m.\u001b[39mget_head_mask(head_mask, \u001b[39mself\u001b[39m\u001b[39m.\u001b[39mconfig\u001b[39m.\u001b[39mnum_hidden_layers)\n\u001b[0;32m--> 837\u001b[0m embedding_output \u001b[39m=\u001b[39m \u001b[39mself\u001b[39;49m\u001b[39m.\u001b[39;49membeddings(\n\u001b[1;32m    838\u001b[0m     input_ids\u001b[39m=\u001b[39;49minput_ids,\n\u001b[1;32m    839\u001b[0m     position_ids\u001b[39m=\u001b[39;49mposition_ids,\n\u001b[1;32m    840\u001b[0m     token_type_ids\u001b[39m=\u001b[39;49mtoken_type_ids,\n\u001b[1;32m    841\u001b[0m     inputs_embeds\u001b[39m=\u001b[39;49minputs_embeds,\n\u001b[1;32m    842\u001b[0m     past_key_values_length\u001b[39m=\u001b[39;49mpast_key_values_length,\n\u001b[1;32m    843\u001b[0m )\n\u001b[1;32m    844\u001b[0m encoder_outputs \u001b[39m=\u001b[39m \u001b[39mself\u001b[39m\u001b[39m.\u001b[39mencoder(\n\u001b[1;32m    845\u001b[0m     embedding_output,\n\u001b[1;32m    846\u001b[0m     attention_mask\u001b[39m=\u001b[39mextended_attention_mask,\n\u001b[0;32m   (...)\u001b[0m\n\u001b[1;32m    854\u001b[0m     return_dict\u001b[39m=\u001b[39mreturn_dict,\n\u001b[1;32m    855\u001b[0m )\n\u001b[1;32m    856\u001b[0m sequence_output \u001b[39m=\u001b[39m encoder_outputs[\u001b[39m0\u001b[39m]\n",
      "File \u001b[0;32m/opt/conda/lib/python3.10/site-packages/torch/nn/modules/module.py:1501\u001b[0m, in \u001b[0;36mModule._call_impl\u001b[0;34m(self, *args, **kwargs)\u001b[0m\n\u001b[1;32m   1496\u001b[0m \u001b[39m# If we don't have any hooks, we want to skip the rest of the logic in\u001b[39;00m\n\u001b[1;32m   1497\u001b[0m \u001b[39m# this function, and just call forward.\u001b[39;00m\n\u001b[1;32m   1498\u001b[0m \u001b[39mif\u001b[39;00m \u001b[39mnot\u001b[39;00m (\u001b[39mself\u001b[39m\u001b[39m.\u001b[39m_backward_hooks \u001b[39mor\u001b[39;00m \u001b[39mself\u001b[39m\u001b[39m.\u001b[39m_backward_pre_hooks \u001b[39mor\u001b[39;00m \u001b[39mself\u001b[39m\u001b[39m.\u001b[39m_forward_hooks \u001b[39mor\u001b[39;00m \u001b[39mself\u001b[39m\u001b[39m.\u001b[39m_forward_pre_hooks\n\u001b[1;32m   1499\u001b[0m         \u001b[39mor\u001b[39;00m _global_backward_pre_hooks \u001b[39mor\u001b[39;00m _global_backward_hooks\n\u001b[1;32m   1500\u001b[0m         \u001b[39mor\u001b[39;00m _global_forward_hooks \u001b[39mor\u001b[39;00m _global_forward_pre_hooks):\n\u001b[0;32m-> 1501\u001b[0m     \u001b[39mreturn\u001b[39;00m forward_call(\u001b[39m*\u001b[39;49margs, \u001b[39m*\u001b[39;49m\u001b[39m*\u001b[39;49mkwargs)\n\u001b[1;32m   1502\u001b[0m \u001b[39m# Do not call functions when jit is used\u001b[39;00m\n\u001b[1;32m   1503\u001b[0m full_backward_hooks, non_full_backward_hooks \u001b[39m=\u001b[39m [], []\n",
      "File \u001b[0;32m/opt/conda/lib/python3.10/site-packages/transformers/models/roberta/modeling_roberta.py:125\u001b[0m, in \u001b[0;36mRobertaEmbeddings.forward\u001b[0;34m(self, input_ids, token_type_ids, position_ids, inputs_embeds, past_key_values_length)\u001b[0m\n\u001b[1;32m    122\u001b[0m         token_type_ids \u001b[39m=\u001b[39m torch\u001b[39m.\u001b[39mzeros(input_shape, dtype\u001b[39m=\u001b[39mtorch\u001b[39m.\u001b[39mlong, device\u001b[39m=\u001b[39m\u001b[39mself\u001b[39m\u001b[39m.\u001b[39mposition_ids\u001b[39m.\u001b[39mdevice)\n\u001b[1;32m    124\u001b[0m \u001b[39mif\u001b[39;00m inputs_embeds \u001b[39mis\u001b[39;00m \u001b[39mNone\u001b[39;00m:\n\u001b[0;32m--> 125\u001b[0m     inputs_embeds \u001b[39m=\u001b[39m \u001b[39mself\u001b[39;49m\u001b[39m.\u001b[39;49mword_embeddings(input_ids)\n\u001b[1;32m    126\u001b[0m token_type_embeddings \u001b[39m=\u001b[39m \u001b[39mself\u001b[39m\u001b[39m.\u001b[39mtoken_type_embeddings(token_type_ids)\n\u001b[1;32m    128\u001b[0m embeddings \u001b[39m=\u001b[39m inputs_embeds \u001b[39m+\u001b[39m token_type_embeddings\n",
      "File \u001b[0;32m/opt/conda/lib/python3.10/site-packages/torch/nn/modules/module.py:1501\u001b[0m, in \u001b[0;36mModule._call_impl\u001b[0;34m(self, *args, **kwargs)\u001b[0m\n\u001b[1;32m   1496\u001b[0m \u001b[39m# If we don't have any hooks, we want to skip the rest of the logic in\u001b[39;00m\n\u001b[1;32m   1497\u001b[0m \u001b[39m# this function, and just call forward.\u001b[39;00m\n\u001b[1;32m   1498\u001b[0m \u001b[39mif\u001b[39;00m \u001b[39mnot\u001b[39;00m (\u001b[39mself\u001b[39m\u001b[39m.\u001b[39m_backward_hooks \u001b[39mor\u001b[39;00m \u001b[39mself\u001b[39m\u001b[39m.\u001b[39m_backward_pre_hooks \u001b[39mor\u001b[39;00m \u001b[39mself\u001b[39m\u001b[39m.\u001b[39m_forward_hooks \u001b[39mor\u001b[39;00m \u001b[39mself\u001b[39m\u001b[39m.\u001b[39m_forward_pre_hooks\n\u001b[1;32m   1499\u001b[0m         \u001b[39mor\u001b[39;00m _global_backward_pre_hooks \u001b[39mor\u001b[39;00m _global_backward_hooks\n\u001b[1;32m   1500\u001b[0m         \u001b[39mor\u001b[39;00m _global_forward_hooks \u001b[39mor\u001b[39;00m _global_forward_pre_hooks):\n\u001b[0;32m-> 1501\u001b[0m     \u001b[39mreturn\u001b[39;00m forward_call(\u001b[39m*\u001b[39;49margs, \u001b[39m*\u001b[39;49m\u001b[39m*\u001b[39;49mkwargs)\n\u001b[1;32m   1502\u001b[0m \u001b[39m# Do not call functions when jit is used\u001b[39;00m\n\u001b[1;32m   1503\u001b[0m full_backward_hooks, non_full_backward_hooks \u001b[39m=\u001b[39m [], []\n",
      "File \u001b[0;32m/opt/conda/lib/python3.10/site-packages/torch/nn/modules/sparse.py:162\u001b[0m, in \u001b[0;36mEmbedding.forward\u001b[0;34m(self, input)\u001b[0m\n\u001b[1;32m    161\u001b[0m \u001b[39mdef\u001b[39;00m \u001b[39mforward\u001b[39m(\u001b[39mself\u001b[39m, \u001b[39minput\u001b[39m: Tensor) \u001b[39m-\u001b[39m\u001b[39m>\u001b[39m Tensor:\n\u001b[0;32m--> 162\u001b[0m     \u001b[39mreturn\u001b[39;00m F\u001b[39m.\u001b[39;49membedding(\n\u001b[1;32m    163\u001b[0m         \u001b[39minput\u001b[39;49m, \u001b[39mself\u001b[39;49m\u001b[39m.\u001b[39;49mweight, \u001b[39mself\u001b[39;49m\u001b[39m.\u001b[39;49mpadding_idx, \u001b[39mself\u001b[39;49m\u001b[39m.\u001b[39;49mmax_norm,\n\u001b[1;32m    164\u001b[0m         \u001b[39mself\u001b[39;49m\u001b[39m.\u001b[39;49mnorm_type, \u001b[39mself\u001b[39;49m\u001b[39m.\u001b[39;49mscale_grad_by_freq, \u001b[39mself\u001b[39;49m\u001b[39m.\u001b[39;49msparse)\n",
      "File \u001b[0;32m/opt/conda/lib/python3.10/site-packages/torch/nn/functional.py:2210\u001b[0m, in \u001b[0;36membedding\u001b[0;34m(input, weight, padding_idx, max_norm, norm_type, scale_grad_by_freq, sparse)\u001b[0m\n\u001b[1;32m   2204\u001b[0m     \u001b[39m# Note [embedding_renorm set_grad_enabled]\u001b[39;00m\n\u001b[1;32m   2205\u001b[0m     \u001b[39m# XXX: equivalent to\u001b[39;00m\n\u001b[1;32m   2206\u001b[0m     \u001b[39m# with torch.no_grad():\u001b[39;00m\n\u001b[1;32m   2207\u001b[0m     \u001b[39m#   torch.embedding_renorm_\u001b[39;00m\n\u001b[1;32m   2208\u001b[0m     \u001b[39m# remove once script supports set_grad_enabled\u001b[39;00m\n\u001b[1;32m   2209\u001b[0m     _no_grad_embedding_renorm_(weight, \u001b[39minput\u001b[39m, max_norm, norm_type)\n\u001b[0;32m-> 2210\u001b[0m \u001b[39mreturn\u001b[39;00m torch\u001b[39m.\u001b[39;49membedding(weight, \u001b[39minput\u001b[39;49m, padding_idx, scale_grad_by_freq, sparse)\n",
      "\u001b[0;31mRuntimeError\u001b[0m: Expected all tensors to be on the same device, but found at least two devices, cpu and cuda:0! (when checking argument for argument index in method wrapper_CUDA__index_select)"
     ]
    }
   ],
   "source": [
    "prefixed_datasets = add_prefix(raw_datasets)\n",
    "\n",
    "tokenized_datasets_t5_small = prefixed_datasets.map(\n",
    "    preprocess_function,\n",
    "    fn_kwargs={'tokenizer': tokenizer_t5_small},\n",
    "    batched=True,\n",
    "    remove_columns=[\"source\", \"target\"],\n",
    ")\n",
    "\n",
    "trainer_t5_small = setup_trainer_cl(\n",
    "    output_dir_name=\"t5-small-detoxify-cl\",\n",
    "    model_checkpoint=\"t5-small\",\n",
    "    train_dataset=tokenized_datasets_t5_small[\"train\"],\n",
    "    eval_dataset=tokenized_datasets_t5_small[\"validation\"],\n",
    ")\n",
    "\n",
    "# wandb.init(project=\"w266_final_project\", name=\"t5-small-detoxify-cl\")\n",
    "trainer_t5_small.train()\n",
    "# wandb.finish()"
   ]
  },
  {
   "cell_type": "markdown",
   "metadata": {},
   "source": [
    "# Fine-Tune T5 Model (With Negative Word List)"
   ]
  },
  {
   "cell_type": "markdown",
   "metadata": {},
   "source": []
  }
 ],
 "metadata": {
  "kernelspec": {
   "display_name": "w266-Jvh1WXlz-py3.11",
   "language": "python",
   "name": "python3"
  },
  "language_info": {
   "codemirror_mode": {
    "name": "ipython",
    "version": 3
   },
   "file_extension": ".py",
   "mimetype": "text/x-python",
   "name": "python",
   "nbconvert_exporter": "python",
   "pygments_lexer": "ipython3",
   "version": "3.10.12"
  },
  "orig_nbformat": 4
 },
 "nbformat": 4,
 "nbformat_minor": 2
}
